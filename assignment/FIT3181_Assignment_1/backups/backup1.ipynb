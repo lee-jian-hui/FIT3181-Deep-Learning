{
 "cells": [
  {
   "cell_type": "markdown",
   "metadata": {},
   "source": [
    "# <span style=\"color:#0b486b\">  FIT3181: Deep Learning (2022)</span>\n",
    "***\n",
    "*CE/Lecturer:* Dr **Trung Le** | trunglm@monash.edu <br/>\n",
    "*Head Tutor:* Mr **Thanh Nguyen** | thanh.nguyen4@monash.edu  <br/>\n",
    "<br/>\n",
    "Department of Data Science and AI, Faculty of Information Technology, Monash University, Australia\n",
    "***"
   ]
  },
  {
   "cell_type": "markdown",
   "metadata": {},
   "source": [
    "# <span style=\"color:#0b486b\">  Student Information</span>\n",
    "***\n",
    "Surname: **Lee**  <br/>\n",
    "Firstname: **Jian Hui**    <br/>\n",
    "Student ID: **32116314**    <br/>\n",
    "Email: **jlee0235@student.monash.edu**    <br/>\n",
    "Your tutorial time: **Friday 2 to 4 pm**    <br/>\n",
    "***\n"
   ]
  },
  {
   "cell_type": "markdown",
   "metadata": {},
   "source": [
    "$$\n",
    "    \\theta\n",
    "$$"
   ]
  },
  {
   "cell_type": "markdown",
   "metadata": {},
   "source": [
    "# <span style=\"color:#0b486b\">Deep Neural Networks</span>\n",
    "### Due: <span style=\"color:red\">11:59pm Sunday, 18 September 2022</span>  (Sunday)\n",
    "\n",
    "#### <span style=\"color:red\">Important note:</span> This is an **individual** assignment. It contributes **20%** to your final mark. Read the assignment instruction carefully."
   ]
  },
  {
   "cell_type": "markdown",
   "metadata": {},
   "source": [
    "## <span style=\"color:#0b486b\">Instruction</span>\n",
    "\n",
    "This notebook has been prepared for your to complete Assignment 1. The theme of this assignment is about practical machine learning knowledge and skills in deep neural networks, including feedforward and convolutional neural networks. Some sections have been partially completed to help you get\n",
    "started. **The total marks for this notebook is 100**.\n",
    "\n",
    "* Before you start, read the entire notebook carefully once to understand what you need to do. <br/>\n",
    "\n",
    "* For each cell marked with **#YOU ARE REQUIRED TO INSERT YOUR CODES IN THIS CELL**, there will be places where you **must** supply your own codes when instructed. <br>\n",
    "\n",
    "This assignment contains **three** parts:\n",
    "\n",
    "* Part 1: Questions on theory and knowledge on machine learning and deep learning **[30 points], 30%**\n",
    "* Part 2: Coding assessment on TensorFlow for Deep Neural Networks (DNN) **[30 points], 30%**\n",
    "* Part 3: Coding assessment on TensorFlow for Convolution Neural Networks (CNN) **[40 points], 40%**\n",
    "\n",
    "**Hint**: This assignment was essentially designed based on the lectures and tutorials sessions covered from Week 1 to Week 6. You are strongly recommended to go through these contents thoroughly which might help you to complete this assignment."
   ]
  },
  {
   "cell_type": "markdown",
   "metadata": {},
   "source": [
    "## <span style=\"color:#0b486b\">What to submit</span>\n",
    "\n",
    "This assignment is to be completed individually and submitted to Moodle unit site. **By the due date, you are required to submit one  <span style=\"color:red; font-weight:bold\">single zip file, named xxx_assignment01_solution.zip</span> where `xxx` is your student ID, to the corresponding Assignment (Dropbox) in Moodle**. "
   ]
  },
  {
   "cell_type": "markdown",
   "metadata": {},
   "source": [
    "***For example, if your student ID is <span style=\"color:red; font-weight:bold\">12356</span>, then gather all of your assignment solution to folder, create a zip file named <span style=\"color:red; font-weight:bold\">123456_assignment01_solution.zip</span> and submit this file.***"
   ]
  },
  {
   "cell_type": "markdown",
   "metadata": {},
   "source": [
    "Within this zip folder, you **must** submit the following files:\n",
    "1.\t**Assignment01_solution.ipynb**:  this is your Python notebook solution source file.\n",
    "1.\t**Assignment01_output.html**: this is the output of your Python notebook solution *exported* in html format.\n",
    "1.\tAny **extra files or folder** needed to complete your assignment (e.g., images used in your answers)."
   ]
  },
  {
   "cell_type": "markdown",
   "metadata": {},
   "source": [
    "Since the notebook is quite big to load and work together, one recommended option is to split solution into three parts and work on them seperately. In that case, replace **Assignment01_solution.ipynb** by three notebooks: **Assignment01_Part1_solution.ipynb**, **Assignment01_Part2_solution.ipynb** and **Assignment01_Part3_solution.ipynb**"
   ]
  },
  {
   "cell_type": "markdown",
   "metadata": {},
   "source": [
    "**You can run your codes on Google Colab. In this case, you need to capture the screenshots of your Google Colab model training and put in corresponding places in your Jupyter notebook. You also need to store your trained models to folder <span style=\"color:red; font-weight:bold\">*./models*</span> with recognizable file names (e.g., Part3_Sec3_2_model.h5).** "
   ]
  },
  {
   "cell_type": "markdown",
   "metadata": {},
   "source": [
    "### LIBRARY IMPORTS & CONSTANTS\n"
   ]
  },
  {
   "cell_type": "code",
   "execution_count": 3,
   "metadata": {},
   "outputs": [],
   "source": [
    "import numpy as np\n",
    "import pandas as pd\n",
    "\n",
    "import tensorflow as tf\n",
    "from tensorflow import keras\n",
    "from tensorflow.keras import datasets, models, layers\n",
    "from tensorflow.keras.callbacks import ModelCheckpoint\n",
    "\n",
    "import matplotlib.pyplot as plt\n",
    "import math\n",
    "%matplotlib inline\n",
    "\n",
    "MY_SEED = 1234\n"
   ]
  },
  {
   "cell_type": "markdown",
   "metadata": {},
   "source": [
    "## <span style=\"color:#0b486b\">Part 1: Theory and Knowledge Questions</span>\n",
    "<div style=\"text-align: right\"><span style=\"color:red; font-weight:bold\">[Total marks for this part: 30 points]<span></div>"
   ]
  },
  {
   "cell_type": "markdown",
   "metadata": {},
   "source": [
    "The first part of this assignment is for you to demonstrate your knowledge in deep learning that you have acquired from the lectures and tutorials materials. Most of the contents in this assignment are drawn from **the lectures and tutorials from weeks 1 to 3**. Going through these materials before attempting this part is highly recommended."
   ]
  },
  {
   "cell_type": "markdown",
   "metadata": {},
   "source": [
    "####  <span style=\"color:red\">**Question 1.1**</span> **Activation function plays an important role in modern Deep NNs. For each of the activation function below, state its output range, find its derivative (show your steps), and plot the activation fuction and its derivative**\n",
    "\n",
    "<span style=\"color:red\">**(a)**</span> Leaky ReLU: \n",
    "$\n",
    "\\text{LeakyReLU}\\left( x \\right)=\n",
    "\\begin{cases}\n",
    "    0.01x & \\text{if}\\,x<0\\\\\n",
    "    x & \\text{otherwise}\n",
    "\\end{cases}\\\n",
    "$ \n",
    "<div style=\"text-align: right\"><span style=\"color:red\">[1.5 points]</span></div> \n",
    "\n",
    "<span style=\"color:red\">**(b)**</span> Softplus: $\\text{Softplus}\\left(x\\right)=\\text{ln}\\left(1+e^{x}\\right)$\n",
    "<div style=\"text-align: right\"><span style=\"color:red\">[1.5 points]</span></div> "
   ]
  },
  {
   "cell_type": "markdown",
   "metadata": {},
   "source": [
    "#### ANSWER\n",
    "##### leaky ReLu:\n",
    "- output range: $ - \\infty \\leq x \\leq + \\infty$\n",
    "- derivative:\n",
    "\n",
    "$$\n",
    "x = \\begin{cases}\n",
    "   0.01 &\\text{if } x < 0 \\\\\n",
    "   1 &\\text{otherwise } x \\geq 0\n",
    "\\end{cases}\n",
    "$$\n",
    "\n",
    "##### Softplus: \n",
    "- output range: $ - \\infty \\leq x \\leq + \\infty $\n",
    "- derivative:\n",
    "\n",
    "$$\n",
    "\\begin{align*}\n",
    "softplus'(x) & = \\dfrac {1}{1 + e^x} (\\dfrac {\\partial}{\\partial x} (1 + e^x)) \\\\\n",
    "& = \\dfrac {e^x}{1 + e^x} \n",
    "\\end{align*}\n",
    "$$\n"
   ]
  },
  {
   "cell_type": "markdown",
   "metadata": {},
   "source": [
    "### Plots for LeakyReLU and Softplus\n"
   ]
  },
  {
   "cell_type": "code",
   "execution_count": 4,
   "metadata": {},
   "outputs": [
    {
     "data": {
      "image/png": "[encoded data removed]",
      "text/plain": [
       "<Figure size 432x288 with 1 Axes>"
      ]
     },
     "metadata": {
      "needs_background": "light"
     },
     "output_type": "display_data"
    }
   ],
   "source": [
    "def leakyrelu(x):\n",
    "    if x < 0:\n",
    "        return 0.01*x\n",
    "    else:\n",
    "        return x\n",
    "\n",
    "\n",
    "x = np.linspace(-5, 5, 200)\n",
    "\n",
    "y = []\n",
    "for i in range(len(x)):\n",
    "    y.append(leakyrelu(x[i]))\n",
    "\n",
    "plt.plot(x, y, \"b-\", linewidth=2)\n",
    "plt.plot([-5, 5], [0, 0], 'k--')\n",
    "plt.plot([-5, 5], [1, 1], 'k--')\n",
    "plt.plot([0, 0], [-5, 5], 'k-')\n",
    "plt.grid(True)\n",
    "plt.title(r\"leakyrelu\", fontsize=14)\n",
    "plt.axis([-5, 5, -0.1, 1.1])\n",
    "plt.show()\n"
   ]
  },
  {
   "cell_type": "code",
   "execution_count": 5,
   "metadata": {},
   "outputs": [
    {
     "data": {
      "image/png": "[encoded data removed]",
      "text/plain": [
       "<Figure size 432x288 with 1 Axes>"
      ]
     },
     "metadata": {
      "needs_background": "light"
     },
     "output_type": "display_data"
    }
   ],
   "source": [
    "def leakyrelu_deriv(x):\n",
    "    return 0.01 if x < 0 else 1\n",
    "\n",
    "x = np.linspace(-5, 5, 200)\n",
    "\n",
    "y = []\n",
    "for i in range(len(x)):\n",
    "    y.append(leakyrelu_deriv(x[i]))\n",
    "\n",
    "plt.plot(x, y, \"b-\", linewidth=2)\n",
    "plt.plot([-5, 5], [0, 0], 'k--')\n",
    "plt.plot([-5, 5], [1, 1], 'k--')\n",
    "plt.plot([0, 0], [-5, 5], 'k-')\n",
    "plt.grid(True)\n",
    "plt.title(r\"leakyrelu_deriv\", fontsize=14)\n",
    "plt.axis([-5, 5, -0.1, 1.1])\n",
    "plt.show()"
   ]
  },
  {
   "cell_type": "code",
   "execution_count": 6,
   "metadata": {},
   "outputs": [
    {
     "data": {
      "image/png": "[encoded data removed]",
      "text/plain": [
       "<Figure size 432x288 with 1 Axes>"
      ]
     },
     "metadata": {
      "needs_background": "light"
     },
     "output_type": "display_data"
    }
   ],
   "source": [
    "def softplus(x):\n",
    "    # ln(1 + e^x)\n",
    "    return math.log(1 + math.e ** x)\n",
    "\n",
    "x = np.linspace(-5, 5, 200)\n",
    "\n",
    "y = []\n",
    "for i in range(len(x)):\n",
    "    y.append(softplus(x[i]))\n",
    "\n",
    "plt.plot(x, y, \"b-\", linewidth=2)\n",
    "plt.plot([-5, 5], [0, 0], 'k--')\n",
    "plt.plot([-5, 5], [1, 1], 'k--')\n",
    "plt.plot([0, 0], [-5, 5], 'k-')\n",
    "plt.grid(True)\n",
    "plt.title(r\"softplus\", fontsize=14)\n",
    "plt.axis([-5, 5, -0.1, 1.1])\n",
    "plt.show()"
   ]
  },
  {
   "cell_type": "code",
   "execution_count": 7,
   "metadata": {},
   "outputs": [
    {
     "data": {
      "image/png": "[encoded data removed]",
      "text/plain": [
       "<Figure size 432x288 with 1 Axes>"
      ]
     },
     "metadata": {
      "needs_background": "light"
     },
     "output_type": "display_data"
    }
   ],
   "source": [
    "def softplus_deriv(x):\n",
    "    # e^x / (1 + e^x)\n",
    "    return (math.e ** x) / ( 1 + math.e ** x)\n",
    "\n",
    "\n",
    "x = np.linspace(-5, 5, 200)\n",
    "\n",
    "\n",
    "y = []\n",
    "for i in range(len(x)):\n",
    "    y.append(softplus_deriv(x[i]))\n",
    "\n",
    "\n",
    "\n",
    "plt.plot(x, y, \"b-\", linewidth=2)\n",
    "plt.plot([-5, 5], [0, 0], 'k--')\n",
    "plt.plot([-5, 5], [1, 1], 'k--')\n",
    "plt.plot([0, 0], [-5, 5], 'k-')\n",
    "plt.grid(True)\n",
    "plt.title(r\"softplus_deriv\", fontsize=14)\n",
    "plt.axis([-5, 5, -0.1, 1.1])\n",
    "plt.show()"
   ]
  },
  {
   "cell_type": "markdown",
   "metadata": {},
   "source": [
    "<span style=\"color:#0b486b\"> **Numpy is possibly being used in the following questions. You need to import numpy here.** </span>"
   ]
  },
  {
   "cell_type": "markdown",
   "metadata": {},
   "source": [
    "####  <span style=\"color:red\">**Question 1.2**</span> **Assume that we feed a data point $x$ with a ground-truth label $y=2$ to the feed-forward neural network with the ReLU activation function as shown in the following figure**|\n",
    "<img src=\"Figures/Q2_P1.png\" width=\"500\" align=\"center\"/>\n",
    "<br></br>\n",
    "<img src=\"images/neuron_maths.png\" height = \"300\" width=\"300\" align=\"center\"/>\n",
    "\n",
    "**You need to show both formulas and numerical results for earning full mark. Although it is optional, it is great if you show your numpy code for your computation.**"
   ]
  },
  {
   "cell_type": "code",
   "execution_count": 8,
   "metadata": {},
   "outputs": [],
   "source": [
    "def relu(x): return max(0,x)\n",
    "\n",
    "def softmax(lst): \n",
    "     return np.exp(lst)/sum(np.exp(lst))\n",
    "\n",
    "def ce_loss(lst): pass\n",
    "     \n",
    "\n",
    "x = [1,\n",
    "     -1,\n",
    "     1]"
   ]
  },
  {
   "cell_type": "markdown",
   "metadata": {},
   "source": [
    "<span style=\"color:red\">**(a)**</span>  What is the numerical value of the latent presentation $h^1(x)$?\n",
    "<div style=\"text-align: right\"><span style=\"color:red\">[1 point]</span></div> "
   ]
  },
  {
   "cell_type": "code",
   "execution_count": 9,
   "metadata": {},
   "outputs": [
    {
     "name": "stdout",
     "output_type": "stream",
     "text": [
      "\n",
      "(4,)\n",
      "[3 1 5 2]\n",
      "(4,)\n",
      "(4,)\n",
      "[4 1 6 2]\n",
      "[4 1 6 2]\n"
     ]
    }
   ],
   "source": [
    "\n",
    "\"\"\"\n",
    "1. (h1)' = w1 * x + b1     [this is the first layer, but this includes all neurons at the first layer]\n",
    "    - have to multiply\n",
    "    - order matters\n",
    "2. h1 = activation_func(h1')\n",
    "\"\"\"\n",
    "\n",
    "\n",
    "w1 = np.array([[1, -1, 1],\n",
    "               [1, -1, -1],\n",
    "               [2, -1, 2],\n",
    "               [-1, -2, 1]])\n",
    "\n",
    "b1 = np.array([1, 0, 1, 0])  # keep in mind that we should treat this as a transposed vector, so 1x4 should be 4x1\n",
    "print()\n",
    "\n",
    "h1_bar = np.matmul(w1, x)\n",
    "print(h1_bar.shape)\n",
    "print(h1_bar)\n",
    "\n",
    "h1_bar = np.add(h1_bar, b1)\n",
    "print(h1_bar.shape)\n",
    "print(b1.shape)\n",
    "\n",
    "f = np.vectorize(relu)\n",
    "h1 = f(h1_bar)\n",
    "\n",
    "print(h1_bar)\n",
    "print(h1)\n"
   ]
  },
  {
   "cell_type": "markdown",
   "metadata": {},
   "source": [
    "\n",
    "<span style=\"color:red\">**(b)**</span>  What is the numerical value of the latent presentation $h^2(x)$?\n",
    "<div style=\"text-align: right\"><span style=\"color:red\">[1 point]</span></div> \n"
   ]
  },
  {
   "cell_type": "code",
   "execution_count": 10,
   "metadata": {},
   "outputs": [
    {
     "name": "stdout",
     "output_type": "stream",
     "text": [
      "[ 2  8 -4]\n",
      "[2 8 0]\n"
     ]
    }
   ],
   "source": [
    "\"\"\"\n",
    "h2_bar = w2 * h1 + b2\n",
    "h2 = activation(h2_bar)\n",
    "\"\"\"\n",
    "w2 = np.array([[1, -1, -1, 2],\n",
    "               [1, -1, 1, -1],\n",
    "               [-1, 2, -1, 2]])\n",
    "b2 = np.array([1, 1, 0])\n",
    "\n",
    "h2_bar = np.matmul(w2, h1)\n",
    "h2_bar = np.add(h2_bar, b2)\n",
    "\n",
    "f = np.vectorize(relu)\n",
    "h2 = f(h2_bar)\n",
    "\n",
    "print(h2_bar)\n",
    "print(h2)\n",
    "\n",
    "\n",
    "\n",
    "\n"
   ]
  },
  {
   "cell_type": "markdown",
   "metadata": {},
   "source": [
    "<span style=\"color:red\">**(c)**</span>  What is the numerical value of the logit $h^3(x)$?\n",
    "<div style=\"text-align: right\"><span style=\"color:red\">[1 point]</span></div> \n"
   ]
  },
  {
   "cell_type": "code",
   "execution_count": 11,
   "metadata": {},
   "outputs": [
    {
     "name": "stdout",
     "output_type": "stream",
     "text": [
      "[-14  18   6]\n"
     ]
    }
   ],
   "source": [
    "\"\"\"\n",
    "h3_bar = w3 * h2 + b3\n",
    "h3 = activation(h3_bar)\n",
    "\"\"\"\n",
    "w3 = np.array([[1, -2, 1],\n",
    "               [1, 2, -1],\n",
    "               [-1, 1, -1]])\n",
    "b3 = np.array([0, 0, 0])\n",
    "\n",
    "h3 = np.matmul(w3, h2)\n",
    "print(h3)\n",
    "\n",
    "\n"
   ]
  },
  {
   "cell_type": "markdown",
   "metadata": {},
   "source": [
    "<span style=\"color:red\">**(d)**</span>  What is the corresonding prediction probabilities $p(x)$?\n",
    "<div style=\"text-align: right\"><span style=\"color:red\">[1 point]</span></div> \n"
   ]
  },
  {
   "cell_type": "code",
   "execution_count": 12,
   "metadata": {},
   "outputs": [
    {
     "name": "stdout",
     "output_type": "stream",
     "text": [
      "tf.Tensor([1.2664087e-14 9.9999380e-01 6.1441742e-06], shape=(3,), dtype=float32)\n",
      "(3,)\n"
     ]
    }
   ],
   "source": [
    "# probabilities, p(x) = softmax(h3(x))\n",
    "h3 = [float(x) for x in h3]\n",
    "h3_tensor = tf.constant(name=\"h3\", value=h3, dtype= tf.float32)\n",
    "\n",
    "probs = tf.nn.softmax(h3_tensor)\n",
    "probs  # correct, cross checked with desmos calc\n",
    "print(probs)\n",
    "print(probs.get_shape())\n"
   ]
  },
  {
   "cell_type": "markdown",
   "metadata": {},
   "source": [
    "<span style=\"color:red\">**(e)**</span>  What is the cross-entropy loss caused by the feed-forward neural network at $(x,y)$? Remind that $y=2$.\n",
    "<div style=\"text-align: right\"><span style=\"color:red\">[1 point]</span></div> \n",
    "\n",
    " \n",
    "In the second version of the formula, the p and q in this case are y labels AND the prediction probabilities respectively.\n",
    "\n",
    "$𝑝_𝑚𝑥=𝑝(𝑦=𝑚|𝑥)$ is the probability to classify 𝑥 to the class 𝑚 for $1 \\leq 𝑚 \\leq 𝑀$.\n",
    "\n",
    "this relies on the fact the the label is a one-hot-vector (either only 0 or 1).\n",
    "\n",
    "\n",
    "\n",
    "when given the ground-truth label y = 2, that would mean that the corresponding grouth truth one-hot-vector for the label is y = [0,1,0].\n",
    "\n",
    "---\n",
    "the formula of CE loss (2 versions but are interchangable):\n",
    "\n",
    "### FIRST\n",
    "$$\n",
    "\\begin{align*}\n",
    "    CE(p,q) & = - \\sum_{m=1}^{M} log p_{y_i}(x_i) \n",
    "\\end{align*}\n",
    "$$\n",
    "----\n",
    "### SECOND: a generalized version of CE loss.\n",
    "\n",
    "$$\n",
    "\\begin{align*}\n",
    "    CE(p,q) & = - \\sum_{m=1}^{M} p_m log(q_m) \\\\\n",
    "    & = - [ 0 * log(p^1x) + 1 * log(p^2x) + 0 * log(p^3x) ]\n",
    "\\end{align*}\n",
    "$$\n",
    "\n",
    "\n",
    "\n",
    "\n"
   ]
  },
  {
   "cell_type": "code",
   "execution_count": 13,
   "metadata": {},
   "outputs": [
    {
     "name": "stdout",
     "output_type": "stream",
     "text": [
      "[-0.00000000e+00 -6.19890216e-06 -0.00000000e+00]\n",
      "6.198902156029362e-06\n"
     ]
    }
   ],
   "source": [
    "labels = [0,1,0]\n",
    "first_part = labels * np.log(probs)\n",
    "print(first_part)\n",
    "ce = -np.sum(labels * np.log(probs))   # sum of the negative logs\n",
    "print(ce)"
   ]
  },
  {
   "cell_type": "markdown",
   "metadata": {},
   "source": [
    "\n",
    "<span style=\"color:red\">**(f)**</span>  Assume that we are applying the label smoothing technique (i.e.,  [link for main paper](https://papers.nips.cc/paper/2019/file/f1748d6b0fd9d439f71450117eba2725-Paper.pdf) from Goeff Hinton) with $\\alpha = 0.1$. What is the relevant loss caused by the feed-forward neural network at $(x,y)$?\n",
    "<div style=\"text-align: right\"><span style=\"color:red\">[1 point]</span></div> "
   ]
  },
  {
   "cell_type": "code",
   "execution_count": 14,
   "metadata": {},
   "outputs": [
    {
     "name": "stdout",
     "output_type": "stream",
     "text": [
      "smoothed_labels: [0.03333333333333333, 0.9333333333333333, 0.03333333333333333]\n",
      "smooth_ce: 1.4666729291458371\n"
     ]
    }
   ],
   "source": [
    "# TODO: \n",
    "\n",
    "# 1: define label smoothing function\n",
    "from telnetlib import KERMIT\n",
    "\n",
    "\n",
    "def label_smooth(y_k, alpha, K):\n",
    "    \"\"\"\n",
    "    The label smoothing function\n",
    "\n",
    "    Args:\n",
    "        y_k: the original y label\n",
    "        alpha: the label smoothing parameter\n",
    "        K: the number of classes there are\n",
    "    \"\"\"\n",
    "    y_k, K = float(y_k), float(K)\n",
    "    \n",
    "    # based on the formula propseod by the research paper in 1.1 preliminaries\n",
    "    modified = y_k * (1 - alpha) + alpha/K\n",
    "    \n",
    "    return modified \n",
    "\n",
    "# 2: calc the CE loss using smoothed labels\n",
    "smoothed_labels = [label_smooth(y_k=label, alpha=0.1, K=len(labels)) for label in labels]\n",
    "print(f\"smoothed_labels: {smoothed_labels}\")\n",
    "smooth_ce = -np.sum( smoothed_labels * np.log(probs))\n",
    "print(f\"smooth_ce: {smooth_ce}\")\n",
    "\n",
    "\n",
    "\n",
    "\n",
    "\n"
   ]
  },
  {
   "cell_type": "markdown",
   "metadata": {},
   "source": [
    "####  <span style=\"color:red\">**Question 1.3**</span> **Assume that we are constructing a multilayered feed-forward neural network for a classification problem with three classes where the model parameters will be generated randomly using your student ID. The architecture of this network is ($3 (Input)\\rightarrow4(LeakyReLU)\\rightarrow 3(Output)$) as shown in the following figure. Note that the LeakyReLU has the same formula as the one in Q1.1.**\n",
    "\n",
    "\n",
    "<img src=\"Figures/Q3_P1.png\" width=\"500\" align=\"center\"/>\n",
    "\n",
    "We feed a feature vector $x=\\left[\\begin{array}{ccc}\n",
    "1 & -1 & 1.5\\end{array}\\right]^{T}$ with ground-truth label $y=3$ to the above network. \n"
   ]
  },
  {
   "cell_type": "markdown",
   "metadata": {},
   "source": [
    "**You need to show both formulas, numerical results, and your numpy code for your computation for earning full marks.**"
   ]
  },
  {
   "cell_type": "code",
   "execution_count": 15,
   "metadata": {},
   "outputs": [
    {
     "name": "stdout",
     "output_type": "stream",
     "text": [
      "[[0.55743135 0.36949385 0.56827969]\n",
      " [0.82003266 0.85314316 0.51837443]\n",
      " [0.20115403 0.53609295 0.46779608]\n",
      " [0.83119858 0.12899386 0.91942002]]\n",
      "[0.6621174  0.99488478 0.43373089 0.0377466 ]\n",
      "[[0.33346435 0.04532525 0.86090495 0.9573627 ]\n",
      " [0.26253249 0.23428983 0.65721148 0.20425296]\n",
      " [0.13590971 0.5057504  0.9932175  0.96747954]]\n",
      "[0.55020448 0.06553801 0.84051767]\n"
     ]
    }
   ],
   "source": [
    "#Code to generate random matrices and biases for W1, b1, W2, b2\n",
    "import numpy as np\n",
    "student_id = 32116314           #insert your student id here for example 1234    \n",
    "np.random.seed(student_id)\n",
    "W1 = np.random.rand(4,3)\n",
    "print(W1)\n",
    "b1 = np.random.rand(4,)  # changed from (4,1) to (4,) to make things easier in a vector form \n",
    "print(b1)\n",
    "W2 = np.random.rand(3,4)\n",
    "print(W2)\n",
    "b2 = np.random.rand(3,)\n",
    "print(b2)\n",
    "\n",
    "x = np.array([1, -1, 1.5])"
   ]
  },
  {
   "cell_type": "markdown",
   "metadata": {},
   "source": [
    "**Forward propagation**\n",
    "\n",
    "<span style=\"color:red\">**(a)**</span>  What is the value of $\\bar{h}^{1}(x)$?\n",
    "<div style=\"text-align: right\"><span style=\"color:red\">[1 point]</span></div>\n",
    "\n",
    "$\n",
    "\\bar{h}^{1}(x) = W1 * X + b1\n",
    "$"
   ]
  },
  {
   "cell_type": "code",
   "execution_count": 16,
   "metadata": {},
   "outputs": [
    {
     "name": "stdout",
     "output_type": "stream",
     "text": [
      "[1.04035704 0.74445115 0.3667552  2.08133475]\n",
      "(4,)\n",
      "(4,)\n",
      "[1.70247443 1.73933593 0.80048609 2.11908135]\n"
     ]
    }
   ],
   "source": [
    "h1_bar = np.matmul(W1, x)\n",
    "print(h1_bar)\n",
    "print(h1_bar.shape)\n",
    "print(b1.shape)\n",
    "h1_bar = np.add(h1_bar, b1)\n",
    "print(h1_bar)"
   ]
  },
  {
   "cell_type": "markdown",
   "metadata": {},
   "source": [
    "<span style=\"color:red\">**(b)**</span>  What is the value of $h^{1}(x)$?\n",
    "<div style=\"text-align: right\"><span style=\"color:red\">[1 point]</span></div>\n",
    "\n",
    "$\n",
    "h^1(x)= leakyReLU(\\bar{h}^{1}(x))\n",
    "$"
   ]
  },
  {
   "cell_type": "code",
   "execution_count": 17,
   "metadata": {},
   "outputs": [
    {
     "name": "stdout",
     "output_type": "stream",
     "text": [
      "[1.70247443 1.73933593 0.80048609 2.11908135]\n"
     ]
    }
   ],
   "source": [
    "f = np.vectorize(leakyrelu)\n",
    "\n",
    "h1 = f(h1_bar) # tested with neg values with leakyrelu ; works fine\n",
    "print(h1)"
   ]
  },
  {
   "cell_type": "markdown",
   "metadata": {},
   "source": [
    "<span style=\"color:red\">**(c)**</span>  What is the predicted value $\\hat{y}$?\n",
    "<div style=\"text-align: right\"><span style=\"color:red\">[1 point]</span></div>\n",
    "\n",
    "$\n",
    "logits: \\space h^2(x) = W2 * h^1(x) + b2 \\\\ \\\\\n",
    "$\n",
    "\n",
    "$\n",
    "p(x) = softmax(h^2(x)) \\\\\n",
    "$\n",
    "\n",
    "$\n",
    "\\hat{y} =  argmax(p_m) \\space \\space ; 1 \\leq m \\leq M ; \\text{where M is how many categorical classes there are} \\\\\n",
    "= max(p^1(x), p^2(x), ... \\space, p^m(x)) \\\\\n",
    "$\n"
   ]
  },
  {
   "cell_type": "code",
   "execution_count": 18,
   "metadata": {},
   "outputs": [
    {
     "name": "stdout",
     "output_type": "stream",
     "text": [
      "h2: [3.36442227 1.81338085 3.95627729]\n",
      "h2: [3.91462674 1.87891886 4.79679496]\n",
      "pred_probs: [0.28195059 0.03681937 0.68123005]\n",
      "y_hat: 0.6812300462658298\n"
     ]
    }
   ],
   "source": [
    "\n",
    "h2 = np.matmul(W2, h1)\n",
    "print(f'h2: {h2}')\n",
    "\n",
    "h2 = np.add(h2, b2)\n",
    "print(f'h2: {h2}')\n",
    "\n",
    "# f = np.vectorize(softmax)\n",
    "pred_probs = tf.nn.softmax(h2)\n",
    "print(f'pred_probs: {pred_probs}')\n",
    "\n",
    "# y_hat is the index of the class which corresponds to the LARGEST prob value (after softmax)\n",
    "y_hat = np.amax(pred_probs)\n",
    "print(f'y_hat: {y_hat}')\n",
    "\n"
   ]
  },
  {
   "cell_type": "markdown",
   "metadata": {},
   "source": [
    "<span style=\"color:red\">**(d)**</span>  Suppose that we use the cross-entropy (CE) loss. What is the value of the CE loss $l$?\n",
    "<div style=\"text-align: right\"><span style=\"color:red\">[1 point]</span></div>\n",
    "\n",
    "we know the ground truth label, y = 3 ; so the one hot vector for labels = [0,0,1]\n",
    "\n",
    "$$\n",
    "\\begin{align*}\n",
    "    \\text{CE loss, }l\\text{ : }CE(p,q) & = - \\sum_{m=1}^{M} p_m log(q_m) \\\\\n",
    "    & = 0 * log(p^1x) + 0 * log(p^2x) + 1 * log(p^3x)\n",
    "\\end{align*}\n",
    "$$"
   ]
  },
  {
   "cell_type": "code",
   "execution_count": 19,
   "metadata": {},
   "outputs": [
    {
     "name": "stdout",
     "output_type": "stream",
     "text": [
      "0.3838552233186607\n"
     ]
    }
   ],
   "source": [
    "labels = np.array([0,0,1])\n",
    "ce = -np.sum(labels * np.log(pred_probs))   # sum of the negative logs\n",
    "print(ce)\n",
    "\n"
   ]
  },
  {
   "cell_type": "markdown",
   "metadata": {},
   "source": [
    "**Backward propagation**\n",
    "\n",
    "<span style=\"color:red\">**(e)**</span> What are the derivatives $\\frac{\\partial l}{\\partial h^{2}},\\frac{\\partial l}{\\partial W^{2}}$, and $\\frac{\\partial l}{\\partial b^{2}}$? \n",
    "<div style=\"text-align: right\"><span style=\"color:red\">[6 points]</span></div>\n",
    "\n",
    "#### From the 3rd layer, the output layer:\n",
    "we will know the CE loss, hence we will know:\n",
    "$$\n",
    "\\tag 1\n",
    "g^2 = \\frac {\\partial l} {\\partial h^2} = p^T - 1_y \n",
    "$$ \n",
    "\n",
    "\n",
    "From the above, and knowing that $h^2 = W^2h^1 + b^2$, we can also obtain partial derivatives $\\frac {\\partial l}{\\partial W^2}$ and $\\frac {\\partial l}{\\partial b^2}$ \n",
    "\n",
    "#### NOTE: there are tags attached below to each equation\n",
    "\n",
    "---\n",
    "\n",
    "$$\n",
    "\\tag 2\n",
    "\\frac{\\partial l}{\\partial W^{2}} \n",
    "= \\frac {\\partial l} {\\partial h^2} * \\frac {\\partial h^2} {\\partial W^2} \n",
    "= (g^2)^T(h^1)^T\n",
    "$$\n",
    "\n",
    "---\n",
    "\n",
    "$$\n",
    "\\tag 3\n",
    "\\frac{\\partial l}{\\partial b^{2}} \n",
    "= \\frac {\\partial l}{\\partial h^2} * \\frac {\\partial h^2}{\\partial b^2} \n",
    "= g^2\n",
    "$$\n"
   ]
  },
  {
   "cell_type": "code",
   "execution_count": 20,
   "metadata": {},
   "outputs": [
    {
     "name": "stdout",
     "output_type": "stream",
     "text": [
      "(3,)\n",
      "(3,)\n",
      "(1, 3)\n",
      "g^2: [[ 0.28195059  0.03681937 -0.31876995]] \n",
      "\n",
      " (1, 3) (4, 1)\n",
      "partial_l_w2 [[ 0.48001367  0.49040679  0.22569752  0.59747623]\n",
      " [ 0.06268403  0.06404125  0.02947339  0.07802323]\n",
      " [-0.5426977  -0.55444803 -0.25517091 -0.67549946]] \n",
      "\n",
      "partial_l_b2 [[ 0.28195059  0.03681937 -0.31876995]] \n",
      "\n"
     ]
    }
   ],
   "source": [
    "\n",
    "# equation 1\n",
    "print(pred_probs.shape)\n",
    "print(labels.shape)\n",
    "\n",
    "g2 = np.subtract(pred_probs, labels)  # equation 1\n",
    "g2 =  np.expand_dims(g2, axis=0)\n",
    "print(g2.shape)\n",
    "print(f'g^2: {g2} \\n')\n",
    "\n",
    "# equation 2\n",
    "h1 =  np.expand_dims(h1, axis=1)\n",
    "print(f' {g2.shape} {h1.shape}' )  \n",
    "partial_l_w2 = np.matmul(np.transpose(g2), np.transpose(h1))\n",
    "print(f'partial_l_w2 {partial_l_w2} \\n' )  \n",
    "\n",
    "# equation 3\n",
    "partial_l_b2 = g2\n",
    "print(f'partial_l_b2 {partial_l_b2} \\n' )  \n",
    "\n",
    "\n",
    "\n",
    "\n"
   ]
  },
  {
   "cell_type": "markdown",
   "metadata": {},
   "source": [
    "<span style=\"color:red\">**(f)**</span> What are the derivatives $\\frac{\\partial l}{\\partial h^{1}}, \\frac{\\partial l}{\\partial \\bar{h}^{1}},\\frac{\\partial l}{\\partial W^{1}}$, and $\\frac{\\partial l}{\\partial b^{1}}$? \n",
    "<div style=\"text-align: right\"><span style=\"color:red\">[6 points]</span></div>\n",
    "\n",
    "---\n",
    "#### pre-requisite information:\n",
    "\n",
    "\n",
    "$\n",
    "\\frac {\\partial h^1} {\\partial \\bar{h}^1} = diag(\\sigma'(\\bar{h}^1))  \\text{ ; } h^1 = \\sigma(\\bar{h}^1)\n",
    "$\n",
    "\n",
    "---\n",
    "\n",
    "\n",
    "\n",
    "---\n",
    "#### we shall use the above information from (e) to obtain the needed derivatives below:\n",
    "\n",
    "$$\n",
    "\\tag 4\n",
    "\\begin{align*}\n",
    "g^1 \n",
    "&= \\frac {\\partial l}{\\partial h^1} \\\\\n",
    "&= \\frac {\\partial l}{\\partial h^2} * \\frac {\\partial h^2}{\\partial h^1} \\\\\n",
    "&= g^2W^2 \\\\\n",
    "\\end{align*}\n",
    "$$\n",
    "\n",
    "---\n",
    "$$\n",
    "\\tag 5\n",
    "\\begin{align*}\n",
    "\\bar{g}^1\n",
    "&= \\frac {\\partial l}{\\partial \\bar{h}^1} \\\\\n",
    "&= \\frac {\\partial l}{\\partial h^1} * \\frac {\\partial h^1}{\\partial \\bar{h}^1} \\\\\n",
    "&= g^1diag(\\sigma'(\\bar{h}^1)) \\text{ ; $\\sigma'$ is the derivative of leaky ReLU}\\\\   \n",
    "\\end{align*}\n",
    "$$\n",
    "\n",
    "---\n",
    "$$\n",
    "\\tag 6\n",
    "\\begin{align*}\n",
    "\\frac{\\partial l}{\\partial W^{1}}\n",
    "&= \\frac {\\partial l}{\\partial \\bar{h}^1} * \\frac {\\partial \\bar{h}^1}{\\partial W^1} \\\\\n",
    "&= (\\bar{g}^1)^T(h^0)^T \\\\\n",
    "\\end{align*}\n",
    "$$\n",
    "\n",
    "---\n",
    "$$\n",
    "\\tag 7\n",
    "\\frac{\\partial l}{\\partial b^{1}} = \\bar{g} ^ 1\n",
    "$$\n",
    "\n",
    "\n"
   ]
  },
  {
   "cell_type": "code",
   "execution_count": 21,
   "metadata": {},
   "outputs": [
    {
     "name": "stdout",
     "output_type": "stream",
     "text": [
      "--------equation 4---------\n",
      "[[ 0.06036282 -0.13981215 -0.04967713 -0.03095397]]\n",
      "--------equation 5---------\n",
      "[1.70247443 1.73933593 0.80048609 2.11908135]\n",
      "(1, 4)\n",
      "(4,)\n",
      "diag shape: (4, 4)\n",
      "diag: \n",
      " [[1 0 0 0]\n",
      " [0 1 0 0]\n",
      " [0 0 1 0]\n",
      " [0 0 0 1]]\n",
      "partial_1_hbar1: [[ 0.06036282 -0.13981215 -0.04967713 -0.03095397]]\n",
      "--------equation 6---------\n",
      "partial_1_hbar1: [[ 0.06036282 -0.13981215 -0.04967713 -0.03095397]] MULT x : [[ 1. ]\n",
      " [-1. ]\n",
      " [ 1.5]]\n",
      "(3, 1)\n",
      "[[ 0.06036282 -0.06036282  0.09054423]\n",
      " [-0.13981215  0.13981215 -0.20971822]\n",
      " [-0.04967713  0.04967713 -0.07451569]\n",
      " [-0.03095397  0.03095397 -0.04643095]]\n",
      "--------equation 7---------\n"
     ]
    }
   ],
   "source": [
    "# equation 4\n",
    "print(f'--------equation 4---------')\n",
    "# print(g2.shape)\n",
    "# print(W2.shape)\n",
    "partial_l_h1 = np.matmul(g2, W2)\n",
    "print(partial_l_h1)\n",
    "\n",
    "# equation 5: [1xn1] x [n1xn1] → [1×𝑛1]\n",
    "print(f'--------equation 5---------')\n",
    "print(h1_bar)\n",
    "print(partial_l_h1.shape)\n",
    "print(h1_bar.shape)\n",
    "\n",
    "# the diag matrix of size [n1 x n1]\n",
    "diag = np.array([leakyrelu_deriv(x) for x in h1_bar])\n",
    "diag = np.diag(diag)\n",
    "print(f'diag shape: {diag.shape}')\n",
    "print(f'diag: \\n {diag}')\n",
    "\n",
    "partial_1_hbar1 = np.matmul(partial_l_h1, diag)\n",
    "print(f'partial_1_hbar1: {partial_1_hbar1}')\n",
    "\n",
    "# equation 6\n",
    "print(f'--------equation 6---------')\n",
    "expand_x = np.expand_dims(x,axis=1)\n",
    "print(f'partial_1_hbar1: {partial_1_hbar1} MULT x : {expand_x}')\n",
    "print(expand_x.shape)\n",
    "partial_l_w1 = np.matmul(np.transpose(partial_1_hbar1), np.transpose(expand_x))\n",
    "print(partial_l_w1)\n",
    "\n",
    "# equation 7\n",
    "print(f'--------equation 7---------')\n",
    "partial_l_b1 = partial_1_hbar1\n",
    "\n",
    "\n"
   ]
  },
  {
   "cell_type": "markdown",
   "metadata": {},
   "source": [
    "**SGD update**\n",
    "\n",
    "<span style=\"color:red\">**(g)**</span> Assume that we use SGD with learning rate $\\eta=0.01$ to update the model parameters. What are the values of $W^2, b^2$ and $W^1, b^1$ after updating?\n",
    "<div style=\"text-align: right\"><span style=\"color:red\">[5 points]</span></div>\n",
    "\n"
   ]
  },
  {
   "cell_type": "markdown",
   "metadata": {},
   "source": [
    "1. we have the loss function over the training set, \n",
    "$ \n",
    " J(\\theta_t) = L(D,h) = \\frac{1}{N} \\sum_{i=1}^N CE(1_{y_i}, p(x_i)) = - \\frac{1}{N} \\sum_{i=1}^N log p_{y_i} (x_i) \\\\\n",
    "$\n",
    "D is the data set, h are the linear functions of each layer\n",
    "\n",
    "2. use this loss function, calculate the first order derivative of loss function w.r.t $\\theta$  :  \n",
    "$\n",
    "\\nabla_\\theta J(\\theta_t) = \\frac {\\partial J}{\\partial \\theta} (\\theta_t)\n",
    "$\n",
    "\n",
    "3. finally update the model parameters\n",
    "$\n",
    "\\theta_{t+1} = \\theta_t - \\eta \\nabla_\\theta J(\\theta_t)\n",
    "$\n",
    "- $ \\text{new } W^2 = W^2 - \\eta \\frac{\\partial l}{\\partial W^2}$\n",
    "- $ \\text{new } b^2 = b^2 - \\eta \\frac{\\partial l}{\\partial b^2}$\n",
    "- $ \\text{new } W^1 = W^1 - \\eta \\frac{\\partial l}{\\partial W^1}$\n",
    "- $ \\text{new } b^1 = b^1 - \\eta \\frac{\\partial l}{\\partial b^1}$\n",
    "\n",
    "\n"
   ]
  },
  {
   "cell_type": "code",
   "execution_count": 22,
   "metadata": {},
   "outputs": [
    {
     "name": "stdout",
     "output_type": "stream",
     "text": [
      "old W2: [[0.33346435 0.04532525 0.86090495 0.9573627 ]\n",
      " [0.26253249 0.23428983 0.65721148 0.20425296]\n",
      " [0.13590971 0.5057504  0.9932175  0.96747954]] ; new W2: [[0.32866422 0.04042119 0.85864797 0.95138794]\n",
      " [0.26190565 0.23364942 0.65691675 0.20347273]\n",
      " [0.14133669 0.51129488 0.99576921 0.97423453]]\n",
      "old b2: [0.55020448 0.06553801 0.84051767] ; new b2: [[0.54738497 0.06516982 0.84370537]]\n",
      "old W1: [[0.55743135 0.36949385 0.56827969]\n",
      " [0.82003266 0.85314316 0.51837443]\n",
      " [0.20115403 0.53609295 0.46779608]\n",
      " [0.83119858 0.12899386 0.91942002]] ; new W1: [[0.55682773 0.37009748 0.56737424]\n",
      " [0.82143078 0.85174504 0.52047161]\n",
      " [0.2016508  0.53559617 0.46854124]\n",
      " [0.83150812 0.12868432 0.91988432]]\n",
      "old b1: [0.6621174  0.99488478 0.43373089 0.0377466 ] ; new b1: [[0.66151377 0.9962829  0.43422766 0.03805614]]\n"
     ]
    }
   ],
   "source": [
    "# TODO: need to ask during consultation\n",
    "\n",
    "# for one iteration\n",
    "lr = 0.01\n",
    "\n",
    "newW2 = W2 - lr * partial_l_w2\n",
    "newb2 = b2 - lr * partial_l_b2\n",
    "newW1 = W1 - lr * partial_l_w1\n",
    "newb1 = b1 - lr * partial_l_b1\n",
    "\n",
    "print(f'old W2: {W2} ; new W2: {newW2}')\n",
    "print(f'old b2: {b2} ; new b2: {newb2}')\n",
    "print(f'old W1: {W1} ; new W1: {newW1}')\n",
    "print(f'old b1: {b1} ; new b1: {newb1}')\n",
    "\n"
   ]
  },
  {
   "cell_type": "markdown",
   "metadata": {},
   "source": [
    "## <span style=\"color:#0b486b\">Part 2: Deep Neural Networks (DNN) </span>\n",
    "<div style=\"text-align: right\"><span style=\"color:red; font-weight:bold\">[Total marks for this part: 30 points]<span></div>\n",
    "\n",
    "The first part of this assignment is for you to demonstrate your basis knowledge in deep learning that you have acquired from the lectures and tutorials materials. Most of the contents in this assignment are drawn from **the tutorials covered from weeks 1 to 4**. Going through these materials before attempting this assignment is highly recommended."
   ]
  },
  {
   "cell_type": "markdown",
   "metadata": {},
   "source": [
    "In the first part of this assignment, you are going to work with the **FashionMNIST** dataset for *image recognition task*. It has the exact same format as MNIST (70,000 grayscale images of 28 × 28 pixels each with 10 classes), but the images represent fashion items rather than handwritten digits, so each class is more diverse, and the problem is significantly more challenging than MNIST."
   ]
  },
  {
   "cell_type": "markdown",
   "metadata": {},
   "source": [
    "####  <span style=\"color:red\">**Question 2.1**</span>. Load the Fashion MNIST using Keras datasets\n",
    "\n",
    "<div style=\"text-align: right\"> <span style=\"color:red\">[5 points]</span> </div>\n",
    "\n",
    "We first use keras incoporated in TensorFlow 2.x for loading the training and testing sets."
   ]
  },
  {
   "cell_type": "code",
   "execution_count": 23,
   "metadata": {},
   "outputs": [],
   "source": [
    "import tensorflow as tf\n",
    "from tensorflow import keras\n",
    "from sklearn.model_selection import train_test_split\n",
    "from sklearn import preprocessing\n",
    "\n",
    "tf.random.set_seed(MY_SEED)"
   ]
  },
  {
   "cell_type": "markdown",
   "metadata": {},
   "source": [
    "We first use keras datasets in TF 2.x to load Fashion MNIST dataset."
   ]
  },
  {
   "cell_type": "code",
   "execution_count": 24,
   "metadata": {},
   "outputs": [],
   "source": [
    "fashion_mnist = keras.datasets.fashion_mnist\n",
    "\n",
    "#Insert your code here\n",
    "\n",
    "(X_train_full_img, y_train_full), (X_test_img, y_test) =  fashion_mnist.load_data()"
   ]
  },
  {
   "cell_type": "markdown",
   "metadata": {},
   "source": [
    "The shape of X_train_full_img is $(60000, 28, 28 )$ and that of X_test_img is $(10000, 28, 28)$. We next convert them to matrices of vectors and store in X_train_full and X_test."
   ]
  },
  {
   "cell_type": "code",
   "execution_count": 25,
   "metadata": {},
   "outputs": [
    {
     "name": "stdout",
     "output_type": "stream",
     "text": [
      "(60000, 28, 28)\n",
      "60000\n",
      "[[0 0 0 ... 0 0 0]\n",
      " [0 0 0 ... 0 0 0]\n",
      " [0 0 0 ... 0 0 0]\n",
      " ...\n",
      " [0 0 0 ... 0 0 0]\n",
      " [0 0 0 ... 0 0 0]\n",
      " [0 0 0 ... 0 0 0]]\n",
      "(60000, 784) (60000,)\n",
      "(10000, 784) (10000,)\n"
     ]
    }
   ],
   "source": [
    "num_train = X_train_full_img.shape[0]\n",
    "print(X_train_full_img.shape)\n",
    "print(num_train)\n",
    "num_test = X_test_img.shape[0]\n",
    "\n",
    "# insert your code here \n",
    "X_train_full = X_train_full_img.reshape(num_train,-1)  # NOTE: what does /255.0 do??\n",
    "print(X_train_full)\n",
    "X_test = X_test_img.reshape(num_test, -1)\n",
    "#Insert your code above\n",
    "\n",
    "print(X_train_full.shape, y_train_full.shape)\n",
    "print(X_test.shape, y_test.shape)"
   ]
  },
  {
   "cell_type": "markdown",
   "metadata": {},
   "source": [
    "####  <span style=\"color:red\">**Question 2.2**</span>. Preprocess the dataset and split into training, validation, and testing datasets\n",
    "\n",
    "<div style=\"text-align: right\"> <span style=\"color:red\">[5 points]</span> </div>\n",
    "\n",
    "You need to write the code to address the following requirements:\n",
    "- Print out the dimensions of X_train_full and X_test\n",
    "- Use $10 \\%$ of X_train_full for validation and the rest of X_train_full for training. This splits X_train_full and y_train_full into X_train, y_train ($90 \\%$) and X_valid, y_valid ($10 \\%$).\n",
    "- Finally, scale the pixels of X_train, X_valid, and X_test to $[0,1]$) (i.e., $X = X/255.0$).\n",
    "\n",
    "You have now the separate training, validation, and testing sets for training your model.\n",
    "\n"
   ]
  },
  {
   "cell_type": "code",
   "execution_count": 26,
   "metadata": {},
   "outputs": [
    {
     "name": "stdout",
     "output_type": "stream",
     "text": [
      "X_train_full.shape: (60000, 784)\n",
      "X_test.shape: (10000, 784)\n",
      "X_train.shape: (54599, 784), y_train.shape: (54599,), X_valid.shape: (5401, 784), y_valid.shape: (5401,)\n",
      "X_train: [[0. 0. 0. ... 0. 0. 0.]\n",
      " [0. 0. 0. ... 0. 0. 0.]\n",
      " [0. 0. 0. ... 0. 0. 0.]\n",
      " ...\n",
      " [0. 0. 0. ... 0. 0. 0.]\n",
      " [0. 0. 0. ... 0. 0. 0.]\n",
      " [0. 0. 0. ... 0. 0. 0.]]\n",
      " , X_valid: [[0. 0. 0. ... 0. 0. 0.]\n",
      " [0. 0. 0. ... 0. 0. 0.]\n",
      " [0. 0. 0. ... 0. 0. 0.]\n",
      " ...\n",
      " [0. 0. 0. ... 0. 0. 0.]\n",
      " [0. 0. 0. ... 0. 0. 0.]\n",
      " [0. 0. 0. ... 0. 0. 0.]]\n",
      ", X_test: [[0. 0. 0. ... 0. 0. 0.]\n",
      " [0. 0. 0. ... 0. 0. 0.]\n",
      " [0. 0. 0. ... 0. 0. 0.]\n",
      " ...\n",
      " [0. 0. 0. ... 0. 0. 0.]\n",
      " [0. 0. 0. ... 0. 0. 0.]\n",
      " [0. 0. 0. ... 0. 0. 0.]]\n"
     ]
    }
   ],
   "source": [
    "import math\n",
    "N = X_train_full.shape[0]\n",
    "i = math.floor(0.9*N)\n",
    "\n",
    "# TODO: insert your code below\n",
    "\n",
    "# 1: Print out the dimensions of X_train_full and X_test\n",
    "print(f'X_train_full.shape: {X_train_full.shape}')\n",
    "print(f'X_test.shape: {X_test.shape}')\n",
    "\n",
    "# 2: splitting datasets\n",
    "def train_valid_test_split(train_full_x, train_full_y, train_size, valid_size):\n",
    "    \"\"\" valid size is depedent on train_size \"\"\"\n",
    "    valid_size = 0.1 * train_size    \n",
    "    X_train, X_valid, y_train, y_valid = train_test_split(train_full_x, train_full_y, test_size = valid_size)\n",
    "    return X_train, X_valid, y_train, y_valid\n",
    "\n",
    "partitions = train_valid_test_split(X_train_full, y_train_full, 0.9, 0.1)\n",
    "\n",
    "X_train, y_train = partitions[0], partitions[2]\n",
    "X_valid, y_valid = partitions[1], partitions[3]\n",
    "\n",
    "print(f'X_train.shape: {X_train.shape}, y_train.shape: {y_train.shape}, X_valid.shape: {X_valid.shape}, y_valid.shape: {y_valid.shape}')\n",
    "\n",
    "# 3: Finally, scale the pixels of X_train, X_valid, and X_test to $[0,1]$) (i.e., $X = X/255.0$).\n",
    "X_train, X_valid, X_test = X_train/255.0, X_valid/255.0, X_test/255.0\n",
    "print(f'X_train: {X_train}\\n , X_valid: {X_valid}\\n, X_test: {X_test}')\n",
    "\n"
   ]
  },
  {
   "cell_type": "code",
   "execution_count": 27,
   "metadata": {},
   "outputs": [
    {
     "name": "stdout",
     "output_type": "stream",
     "text": [
      "[9 9 8 9 4 3 9 8 1 0 8 9 7 8 9 9 7 1 2 6 0 8 5 0 6 4 5 1 1 8 6 3 0 9 1 7 2\n",
      " 2 1 9 4 7 4 7 0 5 3 6 6 4]\n"
     ]
    },
    {
     "data": {
      "text/plain": [
       "[8.102,\n",
       " 8.102,\n",
       " 7.202,\n",
       " 8.102,\n",
       " 3.602,\n",
       " 2.702,\n",
       " 8.102,\n",
       " 7.202,\n",
       " 0.902,\n",
       " 0.002,\n",
       " 7.202,\n",
       " 8.102,\n",
       " 6.302,\n",
       " 7.202,\n",
       " 8.102,\n",
       " 8.102,\n",
       " 6.302,\n",
       " 0.902,\n",
       " 1.802,\n",
       " 5.402,\n",
       " 0.002,\n",
       " 7.202,\n",
       " 4.502,\n",
       " 0.002,\n",
       " 5.402,\n",
       " 3.602,\n",
       " 4.502,\n",
       " 0.902,\n",
       " 0.902,\n",
       " 7.202,\n",
       " 5.402,\n",
       " 2.702,\n",
       " 0.002,\n",
       " 8.102,\n",
       " 0.902,\n",
       " 6.302,\n",
       " 1.802,\n",
       " 1.802,\n",
       " 0.902,\n",
       " 8.102,\n",
       " 3.602,\n",
       " 6.302,\n",
       " 3.602,\n",
       " 6.302,\n",
       " 0.002,\n",
       " 4.502,\n",
       " 2.702,\n",
       " 5.402,\n",
       " 5.402,\n",
       " 3.602]"
      ]
     },
     "execution_count": 27,
     "metadata": {},
     "output_type": "execute_result"
    }
   ],
   "source": [
    "print(y_train[:50])\n",
    "subset = y_train[:50]\n",
    "smooth_subset = [label_smooth(label, 0.1, len(subset)) for label in subset]\n",
    "smooth_subset"
   ]
  },
  {
   "cell_type": "markdown",
   "metadata": {},
   "source": [
    "####  <span style=\"color:red\">**Question 2.3**</span>. Visualize some images in the training set with labels\n",
    "\n",
    "<div style=\"text-align: right\"> <span style=\"color:red\">[5 points]</span> </div>\n",
    "\n",
    "You are required to write the code to show **random** $36$ images in X_train_full_img (which is an array of images) with labels as in the following figure. Note that the class names of Fashion MNIST are as follows \n",
    "- \"1:T-shirt/top\", \"2:Trouser\", \"3:Pullover\", \"4:Dress\", \"5:Coat\", \"6:Sandal\", \"7:Shirt\", \"8:Sneaker\", \"9:Bag\", \"10:Ankle boot\"\n",
    "\n",
    "<img src=\"Figures/Fashion_MNIST.png\" width=\"450\" align=\"center\"/>"
   ]
  },
  {
   "cell_type": "code",
   "execution_count": 28,
   "metadata": {},
   "outputs": [],
   "source": [
    "import matplotlib.pyplot as plt\n",
    "%matplotlib inline"
   ]
  },
  {
   "cell_type": "code",
   "execution_count": 29,
   "metadata": {},
   "outputs": [
    {
     "data": {
      "image/png": "[encoded data removed]",
      "text/plain": [
       "<Figure size 864x540 with 36 Axes>"
      ]
     },
     "metadata": {},
     "output_type": "display_data"
    }
   ],
   "source": [
    "# YOU ARE REQUIRED TO INSERT YOUR CODES IN THIS CELL\n",
    "\n",
    "\n",
    "def visualize_data(images, categories, images_per_row = 8):\n",
    "    \n",
    "    class_names = [\"1:T-shirt/top\", \"2:Trouser\", \"3:Pullover\", \"4:Dress\", \"5:Coat\", \"6:Sandal\", \"7:Shirt\", \"8:Sneaker\", \"9:Bag\", \"10:Ankle boot\"]\n",
    "    \n",
    "    n_images = len(images)\n",
    "    n_rows = math.ceil(float(n_images)/images_per_row)\n",
    "    fig = plt.figure(figsize=(1.5*images_per_row, 1.5*n_rows))\n",
    "    fig.patch.set_facecolor('white')\n",
    "    \n",
    "    # plotting the images onto the plot space\n",
    "    for i in range(n_images):\n",
    "        plt.subplot(n_rows, images_per_row, i+1)\n",
    "        plt.xticks([])\n",
    "        plt.yticks([])\n",
    "        plt.imshow(images[i], cmap=\"gray\")\n",
    "        class_index = categories[i]\n",
    "        plt.xlabel(class_names[class_index])\n",
    "    plt.show()\n",
    "    \n",
    "\n",
    "visualize_data(X_train_full_img[:36], y_train_full[:36])\n"
   ]
  },
  {
   "cell_type": "markdown",
   "metadata": {},
   "source": [
    "####  <span style=\"color:red\">**Question 2.4**</span>. Write code for the feed-forward neural net using TF 2.x\n",
    "\n",
    "<div style=\"text-align: right\"> <span style=\"color:red\">[5 points]</span> </div>"
   ]
  },
  {
   "cell_type": "markdown",
   "metadata": {},
   "source": [
    "We now develop a feed-forward neural network with the architecture $784 \\rightarrow 20(ReLU) \\rightarrow 40(ReLU) \\rightarrow 10(softmax)$. You can choose your own way to implement your network and an optimizer of interest. You should train model in $20$ epochs and evaluate the trained model on the test set."
   ]
  },
  {
   "cell_type": "code",
   "execution_count": 30,
   "metadata": {},
   "outputs": [],
   "source": [
    "import tensorflow as tf\n",
    "from tensorflow.keras.layers import Dense, Flatten\n",
    "from tensorflow.keras.models import Sequential\n"
   ]
  },
  {
   "cell_type": "code",
   "execution_count": 31,
   "metadata": {},
   "outputs": [
    {
     "name": "stdout",
     "output_type": "stream",
     "text": [
      "train_size: 54599 | n_features: 784 | n_classes: 10\n",
      "Epoch 1/20\n",
      "1707/1707 [==============================] - 9s 5ms/step - loss: 0.5972 - accuracy: 0.7906 - val_loss: 0.4398 - val_accuracy: 0.8517\n",
      "Epoch 2/20\n",
      "1707/1707 [==============================] - 9s 6ms/step - loss: 0.4265 - accuracy: 0.8511 - val_loss: 0.3985 - val_accuracy: 0.8613\n",
      "Epoch 3/20\n",
      "1707/1707 [==============================] - 6s 3ms/step - loss: 0.3953 - accuracy: 0.8593 - val_loss: 0.3952 - val_accuracy: 0.8626\n",
      "Epoch 4/20\n",
      "1707/1707 [==============================] - 8s 5ms/step - loss: 0.3757 - accuracy: 0.8672 - val_loss: 0.4054 - val_accuracy: 0.8597\n",
      "Epoch 5/20\n",
      "1707/1707 [==============================] - 11s 6ms/step - loss: 0.3611 - accuracy: 0.8700 - val_loss: 0.3717 - val_accuracy: 0.8700\n",
      "Epoch 6/20\n",
      "1707/1707 [==============================] - 8s 5ms/step - loss: 0.3468 - accuracy: 0.8751 - val_loss: 0.3689 - val_accuracy: 0.8719\n",
      "Epoch 7/20\n",
      "1707/1707 [==============================] - 11s 6ms/step - loss: 0.3417 - accuracy: 0.8767 - val_loss: 0.3627 - val_accuracy: 0.8711\n",
      "Epoch 8/20\n",
      "1707/1707 [==============================] - 2s 1ms/step - loss: 0.3308 - accuracy: 0.8804 - val_loss: 0.3486 - val_accuracy: 0.8772\n",
      "Epoch 9/20\n",
      "1707/1707 [==============================] - 6s 4ms/step - loss: 0.3256 - accuracy: 0.8831 - val_loss: 0.3418 - val_accuracy: 0.8826\n",
      "Epoch 10/20\n",
      "1707/1707 [==============================] - 1s 823us/step - loss: 0.3166 - accuracy: 0.8857 - val_loss: 0.3494 - val_accuracy: 0.8809\n",
      "Epoch 11/20\n",
      "1707/1707 [==============================] - 4s 2ms/step - loss: 0.3121 - accuracy: 0.8866 - val_loss: 0.3504 - val_accuracy: 0.8732\n",
      "Epoch 12/20\n",
      "1707/1707 [==============================] - 7s 4ms/step - loss: 0.3073 - accuracy: 0.8885 - val_loss: 0.3609 - val_accuracy: 0.8776\n",
      "Epoch 13/20\n",
      "1707/1707 [==============================] - 7s 4ms/step - loss: 0.3045 - accuracy: 0.8886 - val_loss: 0.3516 - val_accuracy: 0.8789\n",
      "Epoch 14/20\n",
      "1707/1707 [==============================] - 7s 4ms/step - loss: 0.3000 - accuracy: 0.8905 - val_loss: 0.3495 - val_accuracy: 0.8774\n",
      "Epoch 15/20\n",
      "1707/1707 [==============================] - 7s 4ms/step - loss: 0.2946 - accuracy: 0.8910 - val_loss: 0.3510 - val_accuracy: 0.8784\n",
      "Epoch 16/20\n",
      "1707/1707 [==============================] - 8s 5ms/step - loss: 0.2928 - accuracy: 0.8926 - val_loss: 0.3702 - val_accuracy: 0.8697\n",
      "Epoch 17/20\n",
      "1707/1707 [==============================] - 1s 869us/step - loss: 0.2885 - accuracy: 0.8949 - val_loss: 0.3323 - val_accuracy: 0.8843\n",
      "Epoch 18/20\n",
      "1707/1707 [==============================] - 7s 4ms/step - loss: 0.2872 - accuracy: 0.8941 - val_loss: 0.3388 - val_accuracy: 0.8822\n",
      "Epoch 19/20\n",
      "1707/1707 [==============================] - 10s 6ms/step - loss: 0.2822 - accuracy: 0.8957 - val_loss: 0.3627 - val_accuracy: 0.8752\n",
      "Epoch 20/20\n",
      "1707/1707 [==============================] - 14s 8ms/step - loss: 0.2811 - accuracy: 0.8968 - val_loss: 0.3366 - val_accuracy: 0.8809\n"
     ]
    }
   ],
   "source": [
    "#Insert your code here and you can add more cells if necessary\n",
    "EPOCHS = 20\n",
    "\n",
    "class DNN(tf.keras.Model):\n",
    "    def __init__(self, num_classes= 10, hiddenAct=keras.activations.relu, neuronCount = (20,40)):\n",
    "        super(DNN, self).__init__()\n",
    "        self.num_classes = num_classes\n",
    "        self.dense1 = Dense(units=neuronCount[0],  input_shape=(n_features,), activation=hiddenAct)\n",
    "        self.dense2 = Dense(units=neuronCount[1], activation=hiddenAct)\n",
    "        self.dense3 = Dense(self.num_classes, activation= 'softmax')\n",
    "    \n",
    "    def call(self, inputs):\n",
    "        # ME: forward propagation\n",
    "        h = self.dense1(inputs)\n",
    "        h = self.dense2(h)\n",
    "        h = self.dense3(h)\n",
    "        return h\n",
    "\n",
    "# 1: pre-processing (splitting is done earlier)\n",
    "train_size= int(X_train.shape[0])\n",
    "n_features= int(X_train.shape[1])\n",
    "n_classes= len(np.unique(y_train))\n",
    "print(f'train_size: {train_size} | n_features: {n_features} | n_classes: {n_classes}')\n",
    "\n",
    "# 2: Build the feed forward network 784 -> 20(ReLU) -> 40(ReLU) -> 10(softmax)\n",
    "# dnn_model = Sequential()\n",
    "# dnn_model.add(Dense(units=20,  input_shape=(n_features,), activation='relu'))\n",
    "# dnn_model.add(Dense(units=40, activation='relu'))\n",
    "# dnn_model.add(Dense(units=n_classes, activation='softmax'))\n",
    "model = DNN(n_classes)\n",
    "\n",
    "# 3: compile the model with optimizer of choice\n",
    "\n",
    "model.compile(optimizer='adam', \n",
    "                  loss='sparse_categorical_crossentropy', \n",
    "                  metrics=['accuracy'])\n",
    "\n",
    "\n",
    "# 4: training the model (20 epochs)\n",
    "\n",
    "# Initialize a tensorboard_callback \n",
    "logDirectory = \"tf_logs/\"\n",
    "tensorboard_callback = keras.callbacks.TensorBoard(log_dir=logDirectory)\n",
    "\n",
    "# Call the fit method, passing the tensorboard_callback \n",
    "history = model.fit(    x=X_train, y=y_train, \n",
    "                        batch_size=32, \n",
    "                        epochs=EPOCHS, \n",
    "                        validation_data=(X_valid, y_valid), \n",
    "                        callbacks=[tensorboard_callback])\n",
    "\n",
    "\n"
   ]
  },
  {
   "cell_type": "code",
   "execution_count": 32,
   "metadata": {},
   "outputs": [
    {
     "name": "stdout",
     "output_type": "stream",
     "text": [
      "313/313 [==============================] - 1s 3ms/step - loss: 0.3809 - accuracy: 0.8689\n"
     ]
    },
    {
     "data": {
      "text/plain": [
       "[0.380939245223999, 0.8689000010490417]"
      ]
     },
     "execution_count": 32,
     "metadata": {},
     "output_type": "execute_result"
    }
   ],
   "source": [
    "\n",
    "# 5: peformance evaluation of trained model\n",
    "model.evaluate(X_test, y_test)  #return loss and accuracy\n"
   ]
  },
  {
   "cell_type": "code",
   "execution_count": 33,
   "metadata": {},
   "outputs": [],
   "source": [
    "# 6: save the model\n",
    "# dnn_model.save('q2-4_model', save_format='tf')\n"
   ]
  },
  {
   "cell_type": "markdown",
   "metadata": {},
   "source": [
    "####  <span style=\"color:red\">**Question 2.5**</span>. Tuning hyper-parameters with grid search\n",
    "<div style=\"text-align: right\"> <span style=\"color:red\">[5 points]</span> </div>\n",
    "\n",
    "Assume that you need to tune the number of neurons on the first and second hidden layers $n_1 \\in \\{20, 40\\}$, $n_2 \\in \\{20, 40\\}$  and the used activation function  $act \\in \\{sigmoid, tanh, relu\\}$. The network has the architecture pattern $784 \\rightarrow n_1 (act) \\rightarrow n_2(act) \\rightarrow 10(softmax)$ where $n_1, n_2$, and $act$ are in their grides. Write the code to tune the hyper-parameters $n_1, n_2$, and $act$. Note that you can freely choose the optimizer and learning rate of interest for this task."
   ]
  },
  {
   "cell_type": "markdown",
   "metadata": {},
   "source": [
    "---\n",
    "#### **we want to optimize:**\n",
    "\n",
    "1. number of neurons $n1, n2$ (range is between 20 to 40 neurons)\n",
    "2. activation functions used, $act \\in \\{ sigmoid, tanh, relu\\}$ \n",
    "\n",
    "optional: can use ANY optimizer and learning rate "
   ]
  },
  {
   "cell_type": "code",
   "execution_count": 34,
   "metadata": {},
   "outputs": [
    {
     "name": "stdout",
     "output_type": "stream",
     "text": [
      "Training with activation = <function sigmoid at 0x000001F0F40719D0>,  20 neurons on 1st hidden layer, 20 on 2nd hidden layer\n"
     ]
    },
    {
     "ename": "KeyboardInterrupt",
     "evalue": "",
     "output_type": "error",
     "traceback": [
      "\u001b[1;31m---------------------------------------------------------------------------\u001b[0m",
      "\u001b[1;31mKeyboardInterrupt\u001b[0m                         Traceback (most recent call last)",
      "\u001b[1;32md:\\monash stuff\\education stuff\\3rd yr\\FIT3181 Deep Learning\\assignment\\FIT3181_Assignment_1\\backups\\backup1.ipynb Cell 77\u001b[0m in \u001b[0;36m<cell line: 11>\u001b[1;34m()\u001b[0m\n\u001b[0;32m     <a href='vscode-notebook-cell:/d%3A/monash%20stuff/education%20stuff/3rd%20yr/FIT3181%20Deep%20Learning/assignment/FIT3181_Assignment_1/backups/backup1.ipynb#Y136sZmlsZQ%3D%3D?line=18'>19</a>\u001b[0m \u001b[39m# model fitting\u001b[39;00m\n\u001b[0;32m     <a href='vscode-notebook-cell:/d%3A/monash%20stuff/education%20stuff/3rd%20yr/FIT3181%20Deep%20Learning/assignment/FIT3181_Assignment_1/backups/backup1.ipynb#Y136sZmlsZQ%3D%3D?line=19'>20</a>\u001b[0m \u001b[39mprint\u001b[39m(\u001b[39mf\u001b[39m\u001b[39m\"\u001b[39m\u001b[39mTraining with activation = \u001b[39m\u001b[39m{\u001b[39;00m\u001b[39mstr\u001b[39m(act)\u001b[39m}\u001b[39;00m\u001b[39m,  \u001b[39m\u001b[39m{\u001b[39;00mnc1\u001b[39m}\u001b[39;00m\u001b[39m neurons on 1st hidden layer, \u001b[39m\u001b[39m{\u001b[39;00mnc2\u001b[39m}\u001b[39;00m\u001b[39m on 2nd hidden layer\u001b[39m\u001b[39m\"\u001b[39m)\n\u001b[1;32m---> <a href='vscode-notebook-cell:/d%3A/monash%20stuff/education%20stuff/3rd%20yr/FIT3181%20Deep%20Learning/assignment/FIT3181_Assignment_1/backups/backup1.ipynb#Y136sZmlsZQ%3D%3D?line=20'>21</a>\u001b[0m history \u001b[39m=\u001b[39m dnn\u001b[39m.\u001b[39;49mfit(X_train, y_train, batch_size\u001b[39m=\u001b[39;49m\u001b[39m32\u001b[39;49m, epochs\u001b[39m=\u001b[39;49m\u001b[39m10\u001b[39;49m, verbose\u001b[39m=\u001b[39;49m\u001b[39m0\u001b[39;49m)\n\u001b[0;32m     <a href='vscode-notebook-cell:/d%3A/monash%20stuff/education%20stuff/3rd%20yr/FIT3181%20Deep%20Learning/assignment/FIT3181_Assignment_1/backups/backup1.ipynb#Y136sZmlsZQ%3D%3D?line=22'>23</a>\u001b[0m \u001b[39m# performance evaluation\u001b[39;00m\n\u001b[0;32m     <a href='vscode-notebook-cell:/d%3A/monash%20stuff/education%20stuff/3rd%20yr/FIT3181%20Deep%20Learning/assignment/FIT3181_Assignment_1/backups/backup1.ipynb#Y136sZmlsZQ%3D%3D?line=23'>24</a>\u001b[0m valid_loss, valid_acc \u001b[39m=\u001b[39m dnn\u001b[39m.\u001b[39mevaluate(X_valid, y_valid)\n",
      "File \u001b[1;32mc:\\Users\\PC\\anaconda3\\envs\\tf2_cpu\\lib\\site-packages\\keras\\engine\\training.py:1184\u001b[0m, in \u001b[0;36mModel.fit\u001b[1;34m(self, x, y, batch_size, epochs, verbose, callbacks, validation_split, validation_data, shuffle, class_weight, sample_weight, initial_epoch, steps_per_epoch, validation_steps, validation_batch_size, validation_freq, max_queue_size, workers, use_multiprocessing)\u001b[0m\n\u001b[0;32m   1177\u001b[0m \u001b[39mwith\u001b[39;00m tf\u001b[39m.\u001b[39mprofiler\u001b[39m.\u001b[39mexperimental\u001b[39m.\u001b[39mTrace(\n\u001b[0;32m   1178\u001b[0m     \u001b[39m'\u001b[39m\u001b[39mtrain\u001b[39m\u001b[39m'\u001b[39m,\n\u001b[0;32m   1179\u001b[0m     epoch_num\u001b[39m=\u001b[39mepoch,\n\u001b[0;32m   1180\u001b[0m     step_num\u001b[39m=\u001b[39mstep,\n\u001b[0;32m   1181\u001b[0m     batch_size\u001b[39m=\u001b[39mbatch_size,\n\u001b[0;32m   1182\u001b[0m     _r\u001b[39m=\u001b[39m\u001b[39m1\u001b[39m):\n\u001b[0;32m   1183\u001b[0m   callbacks\u001b[39m.\u001b[39mon_train_batch_begin(step)\n\u001b[1;32m-> 1184\u001b[0m   tmp_logs \u001b[39m=\u001b[39m \u001b[39mself\u001b[39;49m\u001b[39m.\u001b[39;49mtrain_function(iterator)\n\u001b[0;32m   1185\u001b[0m   \u001b[39mif\u001b[39;00m data_handler\u001b[39m.\u001b[39mshould_sync:\n\u001b[0;32m   1186\u001b[0m     context\u001b[39m.\u001b[39masync_wait()\n",
      "File \u001b[1;32mc:\\Users\\PC\\anaconda3\\envs\\tf2_cpu\\lib\\site-packages\\tensorflow\\python\\eager\\def_function.py:885\u001b[0m, in \u001b[0;36mFunction.__call__\u001b[1;34m(self, *args, **kwds)\u001b[0m\n\u001b[0;32m    882\u001b[0m compiler \u001b[39m=\u001b[39m \u001b[39m\"\u001b[39m\u001b[39mxla\u001b[39m\u001b[39m\"\u001b[39m \u001b[39mif\u001b[39;00m \u001b[39mself\u001b[39m\u001b[39m.\u001b[39m_jit_compile \u001b[39melse\u001b[39;00m \u001b[39m\"\u001b[39m\u001b[39mnonXla\u001b[39m\u001b[39m\"\u001b[39m\n\u001b[0;32m    884\u001b[0m \u001b[39mwith\u001b[39;00m OptionalXlaContext(\u001b[39mself\u001b[39m\u001b[39m.\u001b[39m_jit_compile):\n\u001b[1;32m--> 885\u001b[0m   result \u001b[39m=\u001b[39m \u001b[39mself\u001b[39m\u001b[39m.\u001b[39m_call(\u001b[39m*\u001b[39margs, \u001b[39m*\u001b[39m\u001b[39m*\u001b[39mkwds)\n\u001b[0;32m    887\u001b[0m new_tracing_count \u001b[39m=\u001b[39m \u001b[39mself\u001b[39m\u001b[39m.\u001b[39mexperimental_get_tracing_count()\n\u001b[0;32m    888\u001b[0m without_tracing \u001b[39m=\u001b[39m (tracing_count \u001b[39m==\u001b[39m new_tracing_count)\n",
      "File \u001b[1;32mc:\\Users\\PC\\anaconda3\\envs\\tf2_cpu\\lib\\site-packages\\tensorflow\\python\\eager\\def_function.py:917\u001b[0m, in \u001b[0;36mFunction._call\u001b[1;34m(self, *args, **kwds)\u001b[0m\n\u001b[0;32m    914\u001b[0m   \u001b[39mself\u001b[39m\u001b[39m.\u001b[39m_lock\u001b[39m.\u001b[39mrelease()\n\u001b[0;32m    915\u001b[0m   \u001b[39m# In this case we have created variables on the first call, so we run the\u001b[39;00m\n\u001b[0;32m    916\u001b[0m   \u001b[39m# defunned version which is guaranteed to never create variables.\u001b[39;00m\n\u001b[1;32m--> 917\u001b[0m   \u001b[39mreturn\u001b[39;00m \u001b[39mself\u001b[39m\u001b[39m.\u001b[39m_stateless_fn(\u001b[39m*\u001b[39margs, \u001b[39m*\u001b[39m\u001b[39m*\u001b[39mkwds)  \u001b[39m# pylint: disable=not-callable\u001b[39;00m\n\u001b[0;32m    918\u001b[0m \u001b[39melif\u001b[39;00m \u001b[39mself\u001b[39m\u001b[39m.\u001b[39m_stateful_fn \u001b[39mis\u001b[39;00m \u001b[39mnot\u001b[39;00m \u001b[39mNone\u001b[39;00m:\n\u001b[0;32m    919\u001b[0m   \u001b[39m# Release the lock early so that multiple threads can perform the call\u001b[39;00m\n\u001b[0;32m    920\u001b[0m   \u001b[39m# in parallel.\u001b[39;00m\n\u001b[0;32m    921\u001b[0m   \u001b[39mself\u001b[39m\u001b[39m.\u001b[39m_lock\u001b[39m.\u001b[39mrelease()\n",
      "File \u001b[1;32mc:\\Users\\PC\\anaconda3\\envs\\tf2_cpu\\lib\\site-packages\\tensorflow\\python\\eager\\function.py:3039\u001b[0m, in \u001b[0;36mFunction.__call__\u001b[1;34m(self, *args, **kwargs)\u001b[0m\n\u001b[0;32m   3036\u001b[0m \u001b[39mwith\u001b[39;00m \u001b[39mself\u001b[39m\u001b[39m.\u001b[39m_lock:\n\u001b[0;32m   3037\u001b[0m   (graph_function,\n\u001b[0;32m   3038\u001b[0m    filtered_flat_args) \u001b[39m=\u001b[39m \u001b[39mself\u001b[39m\u001b[39m.\u001b[39m_maybe_define_function(args, kwargs)\n\u001b[1;32m-> 3039\u001b[0m \u001b[39mreturn\u001b[39;00m graph_function\u001b[39m.\u001b[39;49m_call_flat(\n\u001b[0;32m   3040\u001b[0m     filtered_flat_args, captured_inputs\u001b[39m=\u001b[39;49mgraph_function\u001b[39m.\u001b[39;49mcaptured_inputs)\n",
      "File \u001b[1;32mc:\\Users\\PC\\anaconda3\\envs\\tf2_cpu\\lib\\site-packages\\tensorflow\\python\\eager\\function.py:1963\u001b[0m, in \u001b[0;36mConcreteFunction._call_flat\u001b[1;34m(self, args, captured_inputs, cancellation_manager)\u001b[0m\n\u001b[0;32m   1959\u001b[0m possible_gradient_type \u001b[39m=\u001b[39m gradients_util\u001b[39m.\u001b[39mPossibleTapeGradientTypes(args)\n\u001b[0;32m   1960\u001b[0m \u001b[39mif\u001b[39;00m (possible_gradient_type \u001b[39m==\u001b[39m gradients_util\u001b[39m.\u001b[39mPOSSIBLE_GRADIENT_TYPES_NONE\n\u001b[0;32m   1961\u001b[0m     \u001b[39mand\u001b[39;00m executing_eagerly):\n\u001b[0;32m   1962\u001b[0m   \u001b[39m# No tape is watching; skip to running the function.\u001b[39;00m\n\u001b[1;32m-> 1963\u001b[0m   \u001b[39mreturn\u001b[39;00m \u001b[39mself\u001b[39m\u001b[39m.\u001b[39m_build_call_outputs(\u001b[39mself\u001b[39;49m\u001b[39m.\u001b[39;49m_inference_function\u001b[39m.\u001b[39;49mcall(\n\u001b[0;32m   1964\u001b[0m       ctx, args, cancellation_manager\u001b[39m=\u001b[39;49mcancellation_manager))\n\u001b[0;32m   1965\u001b[0m forward_backward \u001b[39m=\u001b[39m \u001b[39mself\u001b[39m\u001b[39m.\u001b[39m_select_forward_and_backward_functions(\n\u001b[0;32m   1966\u001b[0m     args,\n\u001b[0;32m   1967\u001b[0m     possible_gradient_type,\n\u001b[0;32m   1968\u001b[0m     executing_eagerly)\n\u001b[0;32m   1969\u001b[0m forward_function, args_with_tangents \u001b[39m=\u001b[39m forward_backward\u001b[39m.\u001b[39mforward()\n",
      "File \u001b[1;32mc:\\Users\\PC\\anaconda3\\envs\\tf2_cpu\\lib\\site-packages\\tensorflow\\python\\eager\\function.py:591\u001b[0m, in \u001b[0;36m_EagerDefinedFunction.call\u001b[1;34m(self, ctx, args, cancellation_manager)\u001b[0m\n\u001b[0;32m    589\u001b[0m \u001b[39mwith\u001b[39;00m _InterpolateFunctionError(\u001b[39mself\u001b[39m):\n\u001b[0;32m    590\u001b[0m   \u001b[39mif\u001b[39;00m cancellation_manager \u001b[39mis\u001b[39;00m \u001b[39mNone\u001b[39;00m:\n\u001b[1;32m--> 591\u001b[0m     outputs \u001b[39m=\u001b[39m execute\u001b[39m.\u001b[39;49mexecute(\n\u001b[0;32m    592\u001b[0m         \u001b[39mstr\u001b[39;49m(\u001b[39mself\u001b[39;49m\u001b[39m.\u001b[39;49msignature\u001b[39m.\u001b[39;49mname),\n\u001b[0;32m    593\u001b[0m         num_outputs\u001b[39m=\u001b[39;49m\u001b[39mself\u001b[39;49m\u001b[39m.\u001b[39;49m_num_outputs,\n\u001b[0;32m    594\u001b[0m         inputs\u001b[39m=\u001b[39;49margs,\n\u001b[0;32m    595\u001b[0m         attrs\u001b[39m=\u001b[39;49mattrs,\n\u001b[0;32m    596\u001b[0m         ctx\u001b[39m=\u001b[39;49mctx)\n\u001b[0;32m    597\u001b[0m   \u001b[39melse\u001b[39;00m:\n\u001b[0;32m    598\u001b[0m     outputs \u001b[39m=\u001b[39m execute\u001b[39m.\u001b[39mexecute_with_cancellation(\n\u001b[0;32m    599\u001b[0m         \u001b[39mstr\u001b[39m(\u001b[39mself\u001b[39m\u001b[39m.\u001b[39msignature\u001b[39m.\u001b[39mname),\n\u001b[0;32m    600\u001b[0m         num_outputs\u001b[39m=\u001b[39m\u001b[39mself\u001b[39m\u001b[39m.\u001b[39m_num_outputs,\n\u001b[1;32m   (...)\u001b[0m\n\u001b[0;32m    603\u001b[0m         ctx\u001b[39m=\u001b[39mctx,\n\u001b[0;32m    604\u001b[0m         cancellation_manager\u001b[39m=\u001b[39mcancellation_manager)\n",
      "File \u001b[1;32mc:\\Users\\PC\\anaconda3\\envs\\tf2_cpu\\lib\\site-packages\\tensorflow\\python\\eager\\execute.py:59\u001b[0m, in \u001b[0;36mquick_execute\u001b[1;34m(op_name, num_outputs, inputs, attrs, ctx, name)\u001b[0m\n\u001b[0;32m     57\u001b[0m \u001b[39mtry\u001b[39;00m:\n\u001b[0;32m     58\u001b[0m   ctx\u001b[39m.\u001b[39mensure_initialized()\n\u001b[1;32m---> 59\u001b[0m   tensors \u001b[39m=\u001b[39m pywrap_tfe\u001b[39m.\u001b[39;49mTFE_Py_Execute(ctx\u001b[39m.\u001b[39;49m_handle, device_name, op_name,\n\u001b[0;32m     60\u001b[0m                                       inputs, attrs, num_outputs)\n\u001b[0;32m     61\u001b[0m \u001b[39mexcept\u001b[39;00m core\u001b[39m.\u001b[39m_NotOkStatusException \u001b[39mas\u001b[39;00m e:\n\u001b[0;32m     62\u001b[0m   \u001b[39mif\u001b[39;00m name \u001b[39mis\u001b[39;00m \u001b[39mnot\u001b[39;00m \u001b[39mNone\u001b[39;00m:\n",
      "\u001b[1;31mKeyboardInterrupt\u001b[0m: "
     ]
    }
   ],
   "source": [
    "#Insert your code here. You can add more cells if necessary\n",
    "\n",
    "\n",
    "lst_neurons_count = [20,40] # generate integers from 20 to 40 for simplicity's sake\n",
    "lst_acts = [keras.activations.sigmoid, keras.activations.tanh, keras.activations.relu]\n",
    "\n",
    "best_acc= - np.inf\n",
    "best_history = None\n",
    "\n",
    "best_neurons_combo = [None, None]\n",
    "for act in lst_acts:\n",
    "    for nc1 in lst_neurons_count:  # for the 1st hidden layer\n",
    "        for nc2 in lst_neurons_count:  # for the 2nd hidden layer\n",
    "            # build the model\n",
    "            dnn = DNN(num_classes=10, hiddenAct=act, neuronCount=(nc1, nc2)) # specifies the activation func to use for hidden layers \n",
    "            dnn.build(input_shape = (None, 784))\n",
    "            dnn.compile(loss='sparse_categorical_crossentropy', metrics=['accuracy']) # optimzer is deaulted to RMSProp\n",
    "            \n",
    "            # model fitting\n",
    "            print(f\"Training with activation = {str(act)},  {nc1} neurons on 1st hidden layer, {nc2} on 2nd hidden layer\")\n",
    "            history = dnn.fit(X_train, y_train, batch_size=32, epochs=10, verbose=0)\n",
    "            \n",
    "            # performance evaluation\n",
    "            valid_loss, valid_acc = dnn.evaluate(X_valid, y_valid)\n",
    "            print('\\tvalid acc = {}, valid loss = {}'.format(valid_acc, valid_loss))\n",
    "            \n",
    "            # check for better model\n",
    "            if(valid_acc > best_acc):\n",
    "                best_acc = valid_acc\n",
    "                best_model = dnn\n",
    "                best_act = act\n",
    "                best_neurons_combo[0], best_neurons_combo[1] = nc1, nc2\n",
    "                best_history = history\n",
    "\n",
    "print(f'The best model is with activation function = {best_act}, {best_neurons_combo[0]} neurons on 1st hidden layer, {best_neurons_combo[1]} on 2nd hidden layer')\n",
    "best_model.save('2-5_tuned_model', save_format='tf')\n",
    "print('Saved the best model to hard disk')\n",
    "\n"
   ]
  },
  {
   "cell_type": "markdown",
   "metadata": {},
   "source": [
    "####  <span style=\"color:red\">**Question 2.6**</span>. Experimenting with **the label smoothing** technique\n",
    "<div style=\"text-align: right\"> <span style=\"color:red\">[5 points]</span> </div>\n",
    "\n",
    "Implement the label smoothing technique (i.e., [link for main paper](https://papers.nips.cc/paper/2019/file/f1748d6b0fd9d439f71450117eba2725-Paper.pdf) from Goeff Hinton) by yourself. Note that you cannot use the built-in label-smoothing loss function in TF2.x. Try the label smoothing technique with $\\alpha =0.1, 0.15, 0.2$ and report the performances. You need to examine the label smoothing technique with the best architecture obtained in **Question 2.5**."
   ]
  },
  {
   "cell_type": "code",
   "execution_count": 37,
   "metadata": {},
   "outputs": [
    {
     "data": {
      "text/plain": [
       "[8.100001831535376,\n",
       " 8.100001831535376,\n",
       " 7.200001831535376,\n",
       " 8.100001831535376,\n",
       " 3.6000018315353763,\n",
       " 2.7000018315353764,\n",
       " 8.100001831535376,\n",
       " 7.200001831535376,\n",
       " 0.9000018315353762,\n",
       " 1.8315353761057895e-06,\n",
       " 7.200001831535376,\n",
       " 8.100001831535376,\n",
       " 6.300001831535376,\n",
       " 7.200001831535376,\n",
       " 8.100001831535376,\n",
       " 8.100001831535376,\n",
       " 6.300001831535376,\n",
       " 0.9000018315353762,\n",
       " 1.800001831535376,\n",
       " 5.400001831535376,\n",
       " 1.8315353761057895e-06,\n",
       " 7.200001831535376,\n",
       " 4.500001831535376,\n",
       " 1.8315353761057895e-06,\n",
       " 5.400001831535376,\n",
       " 3.6000018315353763,\n",
       " 4.500001831535376,\n",
       " 0.9000018315353762,\n",
       " 0.9000018315353762,\n",
       " 7.200001831535376,\n",
       " 5.400001831535376,\n",
       " 2.7000018315353764,\n",
       " 1.8315353761057895e-06,\n",
       " 8.100001831535376,\n",
       " 0.9000018315353762,\n",
       " 6.300001831535376,\n",
       " 1.800001831535376,\n",
       " 1.800001831535376,\n",
       " 0.9000018315353762,\n",
       " 8.100001831535376,\n",
       " 3.6000018315353763,\n",
       " 6.300001831535376,\n",
       " 3.6000018315353763,\n",
       " 6.300001831535376,\n",
       " 1.8315353761057895e-06,\n",
       " 4.500001831535376,\n",
       " 2.7000018315353764,\n",
       " 5.400001831535376,\n",
       " 5.400001831535376,\n",
       " 3.6000018315353763,\n",
       " 0.9000018315353762,\n",
       " 3.6000018315353763,\n",
       " 1.800001831535376,\n",
       " 1.8315353761057895e-06,\n",
       " 2.7000018315353764,\n",
       " 8.100001831535376,\n",
       " 5.400001831535376,\n",
       " 7.200001831535376,\n",
       " 3.6000018315353763,\n",
       " 6.300001831535376,\n",
       " 7.200001831535376,\n",
       " 3.6000018315353763,\n",
       " 1.800001831535376,\n",
       " 0.9000018315353762,\n",
       " 0.9000018315353762,\n",
       " 8.100001831535376,\n",
       " 1.800001831535376,\n",
       " 4.500001831535376,\n",
       " 0.9000018315353762,\n",
       " 4.500001831535376,\n",
       " 0.9000018315353762,\n",
       " 1.8315353761057895e-06,\n",
       " 5.400001831535376,\n",
       " 7.200001831535376,\n",
       " 8.100001831535376,\n",
       " 4.500001831535376,\n",
       " 6.300001831535376,\n",
       " 8.100001831535376,\n",
       " 5.400001831535376,\n",
       " 7.200001831535376,\n",
       " 1.8315353761057895e-06,\n",
       " 2.7000018315353764,\n",
       " 3.6000018315353763,\n",
       " 8.100001831535376,\n",
       " 8.100001831535376,\n",
       " 5.400001831535376,\n",
       " 2.7000018315353764,\n",
       " 4.500001831535376,\n",
       " 6.300001831535376,\n",
       " 8.100001831535376,\n",
       " 3.6000018315353763,\n",
       " 0.9000018315353762,\n",
       " 6.300001831535376,\n",
       " 4.500001831535376,\n",
       " 0.9000018315353762,\n",
       " 2.7000018315353764,\n",
       " 8.100001831535376,\n",
       " 6.300001831535376,\n",
       " 5.400001831535376,\n",
       " 2.7000018315353764,\n",
       " 2.7000018315353764,\n",
       " 5.400001831535376,\n",
       " 7.200001831535376,\n",
       " 1.8315353761057895e-06,\n",
       " 5.400001831535376,\n",
       " 2.7000018315353764,\n",
       " 1.800001831535376,\n",
       " 3.6000018315353763,\n",
       " 7.200001831535376,\n",
       " 3.6000018315353763,\n",
       " 1.8315353761057895e-06,\n",
       " 5.400001831535376,\n",
       " 6.300001831535376,\n",
       " 1.800001831535376,\n",
       " 8.100001831535376,\n",
       " 3.6000018315353763,\n",
       " 4.500001831535376,\n",
       " 4.500001831535376,\n",
       " 7.200001831535376,\n",
       " 1.8315353761057895e-06,\n",
       " 8.100001831535376,\n",
       " 1.800001831535376,\n",
       " 7.200001831535376,\n",
       " 2.7000018315353764,\n",
       " 3.6000018315353763,\n",
       " 7.200001831535376,\n",
       " 6.300001831535376,\n",
       " 2.7000018315353764,\n",
       " 2.7000018315353764,\n",
       " 1.800001831535376,\n",
       " 1.8315353761057895e-06,\n",
       " 5.400001831535376,\n",
       " 1.8315353761057895e-06,\n",
       " 5.400001831535376,\n",
       " 2.7000018315353764,\n",
       " 5.400001831535376,\n",
       " 7.200001831535376,\n",
       " 0.9000018315353762,\n",
       " 1.800001831535376,\n",
       " 1.800001831535376,\n",
       " 4.500001831535376,\n",
       " 4.500001831535376,\n",
       " 4.500001831535376,\n",
       " 3.6000018315353763,\n",
       " 8.100001831535376,\n",
       " 2.7000018315353764,\n",
       " 1.8315353761057895e-06,\n",
       " 1.800001831535376,\n",
       " 2.7000018315353764,\n",
       " 3.6000018315353763,\n",
       " 2.7000018315353764,\n",
       " 0.9000018315353762,\n",
       " 3.6000018315353763,\n",
       " 3.6000018315353763,\n",
       " 6.300001831535376,\n",
       " 7.200001831535376,\n",
       " 0.9000018315353762,\n",
       " 3.6000018315353763,\n",
       " 1.800001831535376,\n",
       " 1.8315353761057895e-06,\n",
       " 5.400001831535376,\n",
       " 1.800001831535376,\n",
       " 0.9000018315353762,\n",
       " 3.6000018315353763,\n",
       " 6.300001831535376,\n",
       " 0.9000018315353762,\n",
       " 8.100001831535376,\n",
       " 5.400001831535376,\n",
       " 4.500001831535376,\n",
       " 2.7000018315353764,\n",
       " 0.9000018315353762,\n",
       " 1.8315353761057895e-06,\n",
       " 1.8315353761057895e-06,\n",
       " 1.8315353761057895e-06,\n",
       " 1.8315353761057895e-06,\n",
       " 1.8315353761057895e-06,\n",
       " 4.500001831535376,\n",
       " 7.200001831535376,\n",
       " 2.7000018315353764,\n",
       " 0.9000018315353762,\n",
       " 5.400001831535376,\n",
       " 2.7000018315353764,\n",
       " 1.800001831535376,\n",
       " 5.400001831535376,\n",
       " 4.500001831535376,\n",
       " 2.7000018315353764,\n",
       " 0.9000018315353762,\n",
       " 3.6000018315353763,\n",
       " 1.800001831535376,\n",
       " 5.400001831535376,\n",
       " 8.100001831535376,\n",
       " 1.800001831535376,\n",
       " 0.9000018315353762,\n",
       " 1.8315353761057895e-06,\n",
       " 2.7000018315353764,\n",
       " 5.400001831535376,\n",
       " 4.500001831535376,\n",
       " 1.8315353761057895e-06,\n",
       " 6.300001831535376,\n",
       " 1.800001831535376,\n",
       " 2.7000018315353764,\n",
       " 2.7000018315353764,\n",
       " 1.800001831535376,\n",
       " 8.100001831535376,\n",
       " 4.500001831535376,\n",
       " 6.300001831535376,\n",
       " 6.300001831535376,\n",
       " 6.300001831535376,\n",
       " 3.6000018315353763,\n",
       " 1.8315353761057895e-06,\n",
       " 7.200001831535376,\n",
       " 3.6000018315353763,\n",
       " 5.400001831535376,\n",
       " 4.500001831535376,\n",
       " 8.100001831535376,\n",
       " 6.300001831535376,\n",
       " 2.7000018315353764,\n",
       " 5.400001831535376,\n",
       " 1.800001831535376,\n",
       " 2.7000018315353764,\n",
       " 1.8315353761057895e-06,\n",
       " 1.8315353761057895e-06,\n",
       " 3.6000018315353763,\n",
       " 1.8315353761057895e-06,\n",
       " 0.9000018315353762,\n",
       " 1.8315353761057895e-06,\n",
       " 6.300001831535376,\n",
       " 2.7000018315353764,\n",
       " 4.500001831535376,\n",
       " 8.100001831535376,\n",
       " 7.200001831535376,\n",
       " 2.7000018315353764,\n",
       " 5.400001831535376,\n",
       " 0.9000018315353762,\n",
       " 0.9000018315353762,\n",
       " 6.300001831535376,\n",
       " 8.100001831535376,\n",
       " 3.6000018315353763,\n",
       " 3.6000018315353763,\n",
       " 0.9000018315353762,\n",
       " 1.800001831535376,\n",
       " 5.400001831535376,\n",
       " 6.300001831535376,\n",
       " 8.100001831535376,\n",
       " 3.6000018315353763,\n",
       " 6.300001831535376,\n",
       " 4.500001831535376,\n",
       " 3.6000018315353763,\n",
       " 7.200001831535376,\n",
       " 7.200001831535376,\n",
       " 3.6000018315353763,\n",
       " 6.300001831535376,\n",
       " 4.500001831535376,\n",
       " 4.500001831535376,\n",
       " 1.800001831535376,\n",
       " 7.200001831535376,\n",
       " 0.9000018315353762,\n",
       " 2.7000018315353764,\n",
       " 0.9000018315353762,\n",
       " 0.9000018315353762,\n",
       " 3.6000018315353763,\n",
       " 0.9000018315353762,\n",
       " 3.6000018315353763,\n",
       " 0.9000018315353762,\n",
       " 1.800001831535376,\n",
       " 1.8315353761057895e-06,\n",
       " 0.9000018315353762,\n",
       " 5.400001831535376,\n",
       " 3.6000018315353763,\n",
       " 1.800001831535376,\n",
       " 8.100001831535376,\n",
       " 3.6000018315353763,\n",
       " 6.300001831535376,\n",
       " 4.500001831535376,\n",
       " 0.9000018315353762,\n",
       " 8.100001831535376,\n",
       " 8.100001831535376,\n",
       " 0.9000018315353762,\n",
       " 4.500001831535376,\n",
       " 4.500001831535376,\n",
       " 6.300001831535376,\n",
       " 1.8315353761057895e-06,\n",
       " 7.200001831535376,\n",
       " 8.100001831535376,\n",
       " 6.300001831535376,\n",
       " 5.400001831535376,\n",
       " 1.800001831535376,\n",
       " 7.200001831535376,\n",
       " 7.200001831535376,\n",
       " 0.9000018315353762,\n",
       " 1.800001831535376,\n",
       " 7.200001831535376,\n",
       " 4.500001831535376,\n",
       " 4.500001831535376,\n",
       " 1.800001831535376,\n",
       " 6.300001831535376,\n",
       " 3.6000018315353763,\n",
       " 6.300001831535376,\n",
       " 4.500001831535376,\n",
       " 7.200001831535376,\n",
       " 1.800001831535376,\n",
       " 3.6000018315353763,\n",
       " 8.100001831535376,\n",
       " 1.8315353761057895e-06,\n",
       " 4.500001831535376,\n",
       " 5.400001831535376,\n",
       " 1.800001831535376,\n",
       " 5.400001831535376,\n",
       " 2.7000018315353764,\n",
       " 1.8315353761057895e-06,\n",
       " 8.100001831535376,\n",
       " 3.6000018315353763,\n",
       " 1.800001831535376,\n",
       " 5.400001831535376,\n",
       " 4.500001831535376,\n",
       " 3.6000018315353763,\n",
       " 0.9000018315353762,\n",
       " 3.6000018315353763,\n",
       " 6.300001831535376,\n",
       " 7.200001831535376,\n",
       " 5.400001831535376,\n",
       " 0.9000018315353762,\n",
       " 7.200001831535376,\n",
       " 0.9000018315353762,\n",
       " 6.300001831535376,\n",
       " 2.7000018315353764,\n",
       " 6.300001831535376,\n",
       " 6.300001831535376,\n",
       " 1.8315353761057895e-06,\n",
       " 1.800001831535376,\n",
       " 5.400001831535376,\n",
       " 7.200001831535376,\n",
       " 8.100001831535376,\n",
       " 1.8315353761057895e-06,\n",
       " 1.8315353761057895e-06,\n",
       " 1.8315353761057895e-06,\n",
       " 4.500001831535376,\n",
       " 1.8315353761057895e-06,\n",
       " 2.7000018315353764,\n",
       " 6.300001831535376,\n",
       " 5.400001831535376,\n",
       " 8.100001831535376,\n",
       " 1.800001831535376,\n",
       " 6.300001831535376,\n",
       " 6.300001831535376,\n",
       " 1.8315353761057895e-06,\n",
       " 1.8315353761057895e-06,\n",
       " 2.7000018315353764,\n",
       " 8.100001831535376,\n",
       " 1.800001831535376,\n",
       " 5.400001831535376,\n",
       " 2.7000018315353764,\n",
       " 2.7000018315353764,\n",
       " 1.8315353761057895e-06,\n",
       " 7.200001831535376,\n",
       " 2.7000018315353764,\n",
       " 8.100001831535376,\n",
       " 8.100001831535376,\n",
       " 0.9000018315353762,\n",
       " 1.8315353761057895e-06,\n",
       " 4.500001831535376,\n",
       " 7.200001831535376,\n",
       " 1.800001831535376,\n",
       " 5.400001831535376,\n",
       " 7.200001831535376,\n",
       " 6.300001831535376,\n",
       " 6.300001831535376,\n",
       " 3.6000018315353763,\n",
       " 0.9000018315353762,\n",
       " 0.9000018315353762,\n",
       " 5.400001831535376,\n",
       " 6.300001831535376,\n",
       " 4.500001831535376,\n",
       " 7.200001831535376,\n",
       " 8.100001831535376,\n",
       " 1.800001831535376,\n",
       " 3.6000018315353763,\n",
       " 3.6000018315353763,\n",
       " 6.300001831535376,\n",
       " 2.7000018315353764,\n",
       " 1.8315353761057895e-06,\n",
       " 6.300001831535376,\n",
       " 1.800001831535376,\n",
       " 2.7000018315353764,\n",
       " 3.6000018315353763,\n",
       " 3.6000018315353763,\n",
       " 1.800001831535376,\n",
       " 3.6000018315353763,\n",
       " 0.9000018315353762,\n",
       " 4.500001831535376,\n",
       " 2.7000018315353764,\n",
       " 1.8315353761057895e-06,\n",
       " 8.100001831535376,\n",
       " 1.8315353761057895e-06,\n",
       " 6.300001831535376,\n",
       " 3.6000018315353763,\n",
       " 4.500001831535376,\n",
       " 7.200001831535376,\n",
       " 8.100001831535376,\n",
       " 3.6000018315353763,\n",
       " 1.8315353761057895e-06,\n",
       " 4.500001831535376,\n",
       " 0.9000018315353762,\n",
       " 4.500001831535376,\n",
       " 7.200001831535376,\n",
       " 8.100001831535376,\n",
       " 2.7000018315353764,\n",
       " 1.800001831535376,\n",
       " 8.100001831535376,\n",
       " 1.8315353761057895e-06,\n",
       " 7.200001831535376,\n",
       " 1.800001831535376,\n",
       " 2.7000018315353764,\n",
       " 7.200001831535376,\n",
       " 0.9000018315353762,\n",
       " 6.300001831535376,\n",
       " 1.8315353761057895e-06,\n",
       " 0.9000018315353762,\n",
       " 1.800001831535376,\n",
       " 0.9000018315353762,\n",
       " 2.7000018315353764,\n",
       " 6.300001831535376,\n",
       " 3.6000018315353763,\n",
       " 4.500001831535376,\n",
       " 1.8315353761057895e-06,\n",
       " 1.8315353761057895e-06,\n",
       " 5.400001831535376,\n",
       " 6.300001831535376,\n",
       " 1.800001831535376,\n",
       " 2.7000018315353764,\n",
       " 1.8315353761057895e-06,\n",
       " 1.800001831535376,\n",
       " 2.7000018315353764,\n",
       " 0.9000018315353762,\n",
       " 0.9000018315353762,\n",
       " 2.7000018315353764,\n",
       " 0.9000018315353762,\n",
       " 6.300001831535376,\n",
       " 1.8315353761057895e-06,\n",
       " 0.9000018315353762,\n",
       " 8.100001831535376,\n",
       " 8.100001831535376,\n",
       " 3.6000018315353763,\n",
       " 7.200001831535376,\n",
       " 4.500001831535376,\n",
       " 0.9000018315353762,\n",
       " 1.800001831535376,\n",
       " 7.200001831535376,\n",
       " 1.800001831535376,\n",
       " 6.300001831535376,\n",
       " 1.800001831535376,\n",
       " 1.800001831535376,\n",
       " 7.200001831535376,\n",
       " 5.400001831535376,\n",
       " 1.8315353761057895e-06,\n",
       " 4.500001831535376,\n",
       " 3.6000018315353763,\n",
       " 3.6000018315353763,\n",
       " 1.8315353761057895e-06,\n",
       " 5.400001831535376,\n",
       " 1.8315353761057895e-06,\n",
       " 8.100001831535376,\n",
       " 0.9000018315353762,\n",
       " 7.200001831535376,\n",
       " 1.8315353761057895e-06,\n",
       " 3.6000018315353763,\n",
       " 7.200001831535376,\n",
       " 7.200001831535376,\n",
       " 7.200001831535376,\n",
       " 1.800001831535376,\n",
       " 4.500001831535376,\n",
       " 4.500001831535376,\n",
       " 0.9000018315353762,\n",
       " 1.800001831535376,\n",
       " 7.200001831535376,\n",
       " 5.400001831535376,\n",
       " 5.400001831535376,\n",
       " 0.9000018315353762,\n",
       " 1.8315353761057895e-06,\n",
       " 1.8315353761057895e-06,\n",
       " 8.100001831535376,\n",
       " 0.9000018315353762,\n",
       " 0.9000018315353762,\n",
       " 1.800001831535376,\n",
       " 5.400001831535376,\n",
       " 8.100001831535376,\n",
       " 1.800001831535376,\n",
       " 7.200001831535376,\n",
       " 0.9000018315353762,\n",
       " 7.200001831535376,\n",
       " 1.8315353761057895e-06,\n",
       " 8.100001831535376,\n",
       " 6.300001831535376,\n",
       " 2.7000018315353764,\n",
       " 6.300001831535376,\n",
       " 8.100001831535376,\n",
       " 6.300001831535376,\n",
       " 3.6000018315353763,\n",
       " 0.9000018315353762,\n",
       " 6.300001831535376,\n",
       " 0.9000018315353762,\n",
       " 3.6000018315353763,\n",
       " 1.800001831535376,\n",
       " 6.300001831535376,\n",
       " 1.8315353761057895e-06,\n",
       " 3.6000018315353763,\n",
       " 7.200001831535376,\n",
       " 1.8315353761057895e-06,\n",
       " 2.7000018315353764,\n",
       " 2.7000018315353764,\n",
       " 0.9000018315353762,\n",
       " 5.400001831535376,\n",
       " 0.9000018315353762,\n",
       " 1.800001831535376,\n",
       " 3.6000018315353763,\n",
       " 7.200001831535376,\n",
       " 8.100001831535376,\n",
       " 0.9000018315353762,\n",
       " 4.500001831535376,\n",
       " 1.8315353761057895e-06,\n",
       " 1.800001831535376,\n",
       " 1.8315353761057895e-06,\n",
       " 7.200001831535376,\n",
       " 1.8315353761057895e-06,\n",
       " 4.500001831535376,\n",
       " 6.300001831535376,\n",
       " 3.6000018315353763,\n",
       " 2.7000018315353764,\n",
       " 5.400001831535376,\n",
       " 7.200001831535376,\n",
       " 4.500001831535376,\n",
       " 0.9000018315353762,\n",
       " 0.9000018315353762,\n",
       " 0.9000018315353762,\n",
       " 3.6000018315353763,\n",
       " 8.100001831535376,\n",
       " 5.400001831535376,\n",
       " 0.9000018315353762,\n",
       " 2.7000018315353764,\n",
       " 0.9000018315353762,\n",
       " 8.100001831535376,\n",
       " 1.800001831535376,\n",
       " 1.800001831535376,\n",
       " 8.100001831535376,\n",
       " 7.200001831535376,\n",
       " 1.800001831535376,\n",
       " 2.7000018315353764,\n",
       " 1.8315353761057895e-06,\n",
       " 8.100001831535376,\n",
       " 6.300001831535376,\n",
       " 0.9000018315353762,\n",
       " 8.100001831535376,\n",
       " 1.800001831535376,\n",
       " 2.7000018315353764,\n",
       " 5.400001831535376,\n",
       " 3.6000018315353763,\n",
       " 5.400001831535376,\n",
       " 4.500001831535376,\n",
       " 3.6000018315353763,\n",
       " 4.500001831535376,\n",
       " 3.6000018315353763,\n",
       " 5.400001831535376,\n",
       " 1.8315353761057895e-06,\n",
       " 1.8315353761057895e-06,\n",
       " 1.8315353761057895e-06,\n",
       " 5.400001831535376,\n",
       " 7.200001831535376,\n",
       " 4.500001831535376,\n",
       " 1.800001831535376,\n",
       " 6.300001831535376,\n",
       " 3.6000018315353763,\n",
       " 5.400001831535376,\n",
       " 8.100001831535376,\n",
       " 7.200001831535376,\n",
       " 8.100001831535376,\n",
       " 1.8315353761057895e-06,\n",
       " 4.500001831535376,\n",
       " 0.9000018315353762,\n",
       " 6.300001831535376,\n",
       " 7.200001831535376,\n",
       " 1.8315353761057895e-06,\n",
       " 7.200001831535376,\n",
       " 2.7000018315353764,\n",
       " 8.100001831535376,\n",
       " 3.6000018315353763,\n",
       " 6.300001831535376,\n",
       " 1.800001831535376,\n",
       " 8.100001831535376,\n",
       " 7.200001831535376,\n",
       " 5.400001831535376,\n",
       " 7.200001831535376,\n",
       " 7.200001831535376,\n",
       " 8.100001831535376,\n",
       " 4.500001831535376,\n",
       " 3.6000018315353763,\n",
       " 0.9000018315353762,\n",
       " 6.300001831535376,\n",
       " 1.800001831535376,\n",
       " 7.200001831535376,\n",
       " 8.100001831535376,\n",
       " 0.9000018315353762,\n",
       " 3.6000018315353763,\n",
       " 0.9000018315353762,\n",
       " 8.100001831535376,\n",
       " 0.9000018315353762,\n",
       " 0.9000018315353762,\n",
       " 1.8315353761057895e-06,\n",
       " 5.400001831535376,\n",
       " 5.400001831535376,\n",
       " 2.7000018315353764,\n",
       " 0.9000018315353762,\n",
       " 1.800001831535376,\n",
       " 0.9000018315353762,\n",
       " 1.800001831535376,\n",
       " 3.6000018315353763,\n",
       " 7.200001831535376,\n",
       " 5.400001831535376,\n",
       " 7.200001831535376,\n",
       " 7.200001831535376,\n",
       " 3.6000018315353763,\n",
       " 1.8315353761057895e-06,\n",
       " 1.800001831535376,\n",
       " 1.8315353761057895e-06,\n",
       " 5.400001831535376,\n",
       " 7.200001831535376,\n",
       " 5.400001831535376,\n",
       " 3.6000018315353763,\n",
       " 8.100001831535376,\n",
       " 6.300001831535376,\n",
       " 2.7000018315353764,\n",
       " 3.6000018315353763,\n",
       " 2.7000018315353764,\n",
       " 2.7000018315353764,\n",
       " 3.6000018315353763,\n",
       " 0.9000018315353762,\n",
       " 1.8315353761057895e-06,\n",
       " 1.800001831535376,\n",
       " 7.200001831535376,\n",
       " 8.100001831535376,\n",
       " 8.100001831535376,\n",
       " 4.500001831535376,\n",
       " 2.7000018315353764,\n",
       " 0.9000018315353762,\n",
       " 6.300001831535376,\n",
       " 5.400001831535376,\n",
       " 2.7000018315353764,\n",
       " 0.9000018315353762,\n",
       " 4.500001831535376,\n",
       " 8.100001831535376,\n",
       " 7.200001831535376,\n",
       " 0.9000018315353762,\n",
       " 0.9000018315353762,\n",
       " 7.200001831535376,\n",
       " 8.100001831535376,\n",
       " 5.400001831535376,\n",
       " 1.800001831535376,\n",
       " 2.7000018315353764,\n",
       " 2.7000018315353764,\n",
       " 1.8315353761057895e-06,\n",
       " 4.500001831535376,\n",
       " 5.400001831535376,\n",
       " 3.6000018315353763,\n",
       " 6.300001831535376,\n",
       " 7.200001831535376,\n",
       " 6.300001831535376,\n",
       " 5.400001831535376,\n",
       " 8.100001831535376,\n",
       " 2.7000018315353764,\n",
       " 7.200001831535376,\n",
       " 8.100001831535376,\n",
       " 8.100001831535376,\n",
       " 1.8315353761057895e-06,\n",
       " 3.6000018315353763,\n",
       " 8.100001831535376,\n",
       " 3.6000018315353763,\n",
       " 0.9000018315353762,\n",
       " 7.200001831535376,\n",
       " 8.100001831535376,\n",
       " 4.500001831535376,\n",
       " 6.300001831535376,\n",
       " 7.200001831535376,\n",
       " 7.200001831535376,\n",
       " 0.9000018315353762,\n",
       " 3.6000018315353763,\n",
       " 7.200001831535376,\n",
       " 7.200001831535376,\n",
       " 1.8315353761057895e-06,\n",
       " 1.800001831535376,\n",
       " 3.6000018315353763,\n",
       " 7.200001831535376,\n",
       " 1.800001831535376,\n",
       " 0.9000018315353762,\n",
       " 8.100001831535376,\n",
       " 2.7000018315353764,\n",
       " 1.800001831535376,\n",
       " 6.300001831535376,\n",
       " 3.6000018315353763,\n",
       " 4.500001831535376,\n",
       " 1.800001831535376,\n",
       " 1.800001831535376,\n",
       " 0.9000018315353762,\n",
       " 6.300001831535376,\n",
       " 1.8315353761057895e-06,\n",
       " 2.7000018315353764,\n",
       " 4.500001831535376,\n",
       " 0.9000018315353762,\n",
       " 1.800001831535376,\n",
       " 0.9000018315353762,\n",
       " 7.200001831535376,\n",
       " 4.500001831535376,\n",
       " 4.500001831535376,\n",
       " 3.6000018315353763,\n",
       " 4.500001831535376,\n",
       " 7.200001831535376,\n",
       " 1.800001831535376,\n",
       " 6.300001831535376,\n",
       " 4.500001831535376,\n",
       " 3.6000018315353763,\n",
       " 8.100001831535376,\n",
       " 3.6000018315353763,\n",
       " 3.6000018315353763,\n",
       " 8.100001831535376,\n",
       " 5.400001831535376,\n",
       " 3.6000018315353763,\n",
       " 1.8315353761057895e-06,\n",
       " 0.9000018315353762,\n",
       " 5.400001831535376,\n",
       " 0.9000018315353762,\n",
       " 4.500001831535376,\n",
       " 6.300001831535376,\n",
       " 7.200001831535376,\n",
       " 3.6000018315353763,\n",
       " 3.6000018315353763,\n",
       " 8.100001831535376,\n",
       " 2.7000018315353764,\n",
       " 6.300001831535376,\n",
       " 1.8315353761057895e-06,\n",
       " 6.300001831535376,\n",
       " 2.7000018315353764,\n",
       " 3.6000018315353763,\n",
       " 6.300001831535376,\n",
       " 0.9000018315353762,\n",
       " 2.7000018315353764,\n",
       " 1.8315353761057895e-06,\n",
       " 8.100001831535376,\n",
       " 5.400001831535376,\n",
       " 5.400001831535376,\n",
       " 6.300001831535376,\n",
       " 0.9000018315353762,\n",
       " 3.6000018315353763,\n",
       " 6.300001831535376,\n",
       " 6.300001831535376,\n",
       " 4.500001831535376,\n",
       " 6.300001831535376,\n",
       " 0.9000018315353762,\n",
       " 4.500001831535376,\n",
       " 5.400001831535376,\n",
       " 4.500001831535376,\n",
       " 2.7000018315353764,\n",
       " 4.500001831535376,\n",
       " 3.6000018315353763,\n",
       " 2.7000018315353764,\n",
       " 0.9000018315353762,\n",
       " 5.400001831535376,\n",
       " 7.200001831535376,\n",
       " 8.100001831535376,\n",
       " 0.9000018315353762,\n",
       " 5.400001831535376,\n",
       " 4.500001831535376,\n",
       " 0.9000018315353762,\n",
       " 8.100001831535376,\n",
       " 2.7000018315353764,\n",
       " 3.6000018315353763,\n",
       " 1.800001831535376,\n",
       " 1.8315353761057895e-06,\n",
       " 7.200001831535376,\n",
       " 6.300001831535376,\n",
       " 1.8315353761057895e-06,\n",
       " 7.200001831535376,\n",
       " 7.200001831535376,\n",
       " 2.7000018315353764,\n",
       " 5.400001831535376,\n",
       " 4.500001831535376,\n",
       " 4.500001831535376,\n",
       " 7.200001831535376,\n",
       " 0.9000018315353762,\n",
       " 5.400001831535376,\n",
       " 8.100001831535376,\n",
       " 7.200001831535376,\n",
       " 1.800001831535376,\n",
       " 3.6000018315353763,\n",
       " 3.6000018315353763,\n",
       " 5.400001831535376,\n",
       " 8.100001831535376,\n",
       " 8.100001831535376,\n",
       " 4.500001831535376,\n",
       " 8.100001831535376,\n",
       " 0.9000018315353762,\n",
       " 5.400001831535376,\n",
       " 1.8315353761057895e-06,\n",
       " 1.800001831535376,\n",
       " 1.800001831535376,\n",
       " 0.9000018315353762,\n",
       " 3.6000018315353763,\n",
       " 0.9000018315353762,\n",
       " 6.300001831535376,\n",
       " 1.800001831535376,\n",
       " 5.400001831535376,\n",
       " 3.6000018315353763,\n",
       " 1.800001831535376,\n",
       " 6.300001831535376,\n",
       " 2.7000018315353764,\n",
       " 7.200001831535376,\n",
       " 1.800001831535376,\n",
       " 2.7000018315353764,\n",
       " 6.300001831535376,\n",
       " 3.6000018315353763,\n",
       " 2.7000018315353764,\n",
       " 3.6000018315353763,\n",
       " 8.100001831535376,\n",
       " 7.200001831535376,\n",
       " 0.9000018315353762,\n",
       " 2.7000018315353764,\n",
       " 6.300001831535376,\n",
       " 3.6000018315353763,\n",
       " 3.6000018315353763,\n",
       " 8.100001831535376,\n",
       " 5.400001831535376,\n",
       " 4.500001831535376,\n",
       " 3.6000018315353763,\n",
       " 2.7000018315353764,\n",
       " 1.800001831535376,\n",
       " 1.8315353761057895e-06,\n",
       " 1.8315353761057895e-06,\n",
       " 8.100001831535376,\n",
       " 5.400001831535376,\n",
       " 3.6000018315353763,\n",
       " 1.800001831535376,\n",
       " 2.7000018315353764,\n",
       " 4.500001831535376,\n",
       " 7.200001831535376,\n",
       " 6.300001831535376,\n",
       " 0.9000018315353762,\n",
       " 7.200001831535376,\n",
       " 7.200001831535376,\n",
       " 3.6000018315353763,\n",
       " 6.300001831535376,\n",
       " 2.7000018315353764,\n",
       " 1.8315353761057895e-06,\n",
       " 4.500001831535376,\n",
       " 0.9000018315353762,\n",
       " 8.100001831535376,\n",
       " 1.800001831535376,\n",
       " 7.200001831535376,\n",
       " 5.400001831535376,\n",
       " 3.6000018315353763,\n",
       " 0.9000018315353762,\n",
       " 7.200001831535376,\n",
       " 5.400001831535376,\n",
       " 1.800001831535376,\n",
       " 4.500001831535376,\n",
       " 5.400001831535376,\n",
       " 3.6000018315353763,\n",
       " 1.8315353761057895e-06,\n",
       " 5.400001831535376,\n",
       " 5.400001831535376,\n",
       " 3.6000018315353763,\n",
       " 3.6000018315353763,\n",
       " 5.400001831535376,\n",
       " 1.8315353761057895e-06,\n",
       " 5.400001831535376,\n",
       " 1.800001831535376,\n",
       " 3.6000018315353763,\n",
       " 8.100001831535376,\n",
       " 1.800001831535376,\n",
       " 2.7000018315353764,\n",
       " 2.7000018315353764,\n",
       " 5.400001831535376,\n",
       " 0.9000018315353762,\n",
       " 3.6000018315353763,\n",
       " 1.8315353761057895e-06,\n",
       " 4.500001831535376,\n",
       " 3.6000018315353763,\n",
       " 1.800001831535376,\n",
       " 1.8315353761057895e-06,\n",
       " 7.200001831535376,\n",
       " 2.7000018315353764,\n",
       " 1.8315353761057895e-06,\n",
       " 2.7000018315353764,\n",
       " 5.400001831535376,\n",
       " 1.8315353761057895e-06,\n",
       " 0.9000018315353762,\n",
       " 7.200001831535376,\n",
       " 3.6000018315353763,\n",
       " 0.9000018315353762,\n",
       " 0.9000018315353762,\n",
       " 2.7000018315353764,\n",
       " 5.400001831535376,\n",
       " 8.100001831535376,\n",
       " 4.500001831535376,\n",
       " 8.100001831535376,\n",
       " 2.7000018315353764,\n",
       " 5.400001831535376,\n",
       " 1.8315353761057895e-06,\n",
       " 1.800001831535376,\n",
       " 2.7000018315353764,\n",
       " 6.300001831535376,\n",
       " 2.7000018315353764,\n",
       " 7.200001831535376,\n",
       " 8.100001831535376,\n",
       " 6.300001831535376,\n",
       " 5.400001831535376,\n",
       " 1.800001831535376,\n",
       " 5.400001831535376,\n",
       " 3.6000018315353763,\n",
       " 5.400001831535376,\n",
       " 6.300001831535376,\n",
       " 2.7000018315353764,\n",
       " 1.8315353761057895e-06,\n",
       " 0.9000018315353762,\n",
       " 2.7000018315353764,\n",
       " 1.8315353761057895e-06,\n",
       " 1.8315353761057895e-06,\n",
       " 5.400001831535376,\n",
       " 0.9000018315353762,\n",
       " 8.100001831535376,\n",
       " 8.100001831535376,\n",
       " 8.100001831535376,\n",
       " 8.100001831535376,\n",
       " 7.200001831535376,\n",
       " 4.500001831535376,\n",
       " 2.7000018315353764,\n",
       " 2.7000018315353764,\n",
       " 3.6000018315353763,\n",
       " 7.200001831535376,\n",
       " 4.500001831535376,\n",
       " 1.800001831535376,\n",
       " 6.300001831535376,\n",
       " 1.800001831535376,\n",
       " 1.8315353761057895e-06,\n",
       " 5.400001831535376,\n",
       " 2.7000018315353764,\n",
       " 8.100001831535376,\n",
       " 2.7000018315353764,\n",
       " 0.9000018315353762,\n",
       " 5.400001831535376,\n",
       " 1.800001831535376,\n",
       " 0.9000018315353762,\n",
       " 6.300001831535376,\n",
       " 6.300001831535376,\n",
       " 1.800001831535376,\n",
       " 6.300001831535376,\n",
       " 2.7000018315353764,\n",
       " 3.6000018315353763,\n",
       " 5.400001831535376,\n",
       " 7.200001831535376,\n",
       " 2.7000018315353764,\n",
       " 2.7000018315353764,\n",
       " 3.6000018315353763,\n",
       " 3.6000018315353763,\n",
       " 4.500001831535376,\n",
       " 2.7000018315353764,\n",
       " 1.8315353761057895e-06,\n",
       " 2.7000018315353764,\n",
       " 2.7000018315353764,\n",
       " 0.9000018315353762,\n",
       " 8.100001831535376,\n",
       " 5.400001831535376,\n",
       " 3.6000018315353763,\n",
       " 3.6000018315353763,\n",
       " 4.500001831535376,\n",
       " 6.300001831535376,\n",
       " 1.800001831535376,\n",
       " 7.200001831535376,\n",
       " 7.200001831535376,\n",
       " 2.7000018315353764,\n",
       " 4.500001831535376,\n",
       " 4.500001831535376,\n",
       " 5.400001831535376,\n",
       " 3.6000018315353763,\n",
       " 1.8315353761057895e-06,\n",
       " 1.8315353761057895e-06,\n",
       " 1.8315353761057895e-06,\n",
       " 8.100001831535376,\n",
       " 3.6000018315353763,\n",
       " 2.7000018315353764,\n",
       " 1.800001831535376,\n",
       " 4.500001831535376,\n",
       " 3.6000018315353763,\n",
       " 0.9000018315353762,\n",
       " 5.400001831535376,\n",
       " 1.8315353761057895e-06,\n",
       " 0.9000018315353762,\n",
       " 5.400001831535376,\n",
       " 7.200001831535376,\n",
       " 1.8315353761057895e-06,\n",
       " 5.400001831535376,\n",
       " 0.9000018315353762,\n",
       " 7.200001831535376,\n",
       " 7.200001831535376,\n",
       " ...]"
      ]
     },
     "execution_count": 37,
     "metadata": {},
     "output_type": "execute_result"
    }
   ],
   "source": [
    "def smoothen(labels, alph):\n",
    "    return [label_smooth(y_k=label, alpha=alph, K=len(labels)) for label in labels]\n",
    "\n",
    "smoothen(y_train, 0.1)"
   ]
  },
  {
   "cell_type": "code",
   "execution_count": null,
   "metadata": {},
   "outputs": [],
   "source": [
    "#Insert your code here. You can add more cells if necessary\n",
    "\n",
    "# 1: prepare several smooth labelling parameters, alpha\n",
    "alphas = [0.1, 0.15, 0.2]\n",
    "\n",
    "# 2: fit and see evaluate performance of each smooth labelling parameter, alpha \n",
    "def smoothen(labels, alph):\n",
    "    return [label_smooth(y_k=label, alpha=alph, K=len(labels)) for label in labels]\n",
    "\n",
    "# NOTE: we need to use the BEST model using the BEST hyper parameters from Q2.5\n",
    "best_alpha = None\n",
    "best_acc = - np.inf\n",
    "best_history = None\n",
    "\n",
    "for alpha in alphas:    \n",
    "    # build the model\n",
    "    dnn = DNN(num_classes=10, hiddenAct=best_act, neuronCount=best_neurons_combo) # specifies the activation func to use for hidden layers \n",
    "    dnn.build(input_shape = (None, 784))\n",
    "    dnn.compile(loss='sparse_categorical_crossentropy', metrics=['accuracy']) # optimzer is deaulted to RMSProp\n",
    "    \n",
    "    # model fitting\n",
    "    print(f\"Training best model from q2.5 with alpha={alpha}\")\n",
    "    # NOTE: this is where we \"smoothen\" the y labels\n",
    "    history = best_model.fit(X_train, smoothen(y_train, alpha), batch_size=32, epochs=10, verbose=0)\n",
    "    \n",
    "    # performance evaluation\n",
    "    valid_loss, valid_acc = dnn.evaluate(X_valid, y_valid)\n",
    "    print('\\tvalid acc = {}, valid loss = {}'.format(valid_acc, valid_loss))\n",
    "\n",
    "    # check for better model using different alpha values\n",
    "    if(valid_acc > best_acc):\n",
    "        best_alpha = alpha\n",
    "        best_acc = valid_acc\n",
    "        best_alpha_model = dnn\n",
    "        best_history = history\n",
    "\n",
    "print(f'The alpha from 2.5 DNN model is alpha={alpha}')\n",
    "best_model.save('2-6_tuned_model', save_format='tf')\n",
    "print('Saved the best alpha model for 2.6 to hard disk')\n",
    "\n",
    "\n",
    "\n"
   ]
  },
  {
   "cell_type": "markdown",
   "metadata": {},
   "source": [
    "## <span style=\"color:#0b486b\">Part 3: Convolutional Neural Networks and Image Classification</span>\n",
    "\n",
    "**<div style=\"text-align: right\"><span style=\"color:red\">[Total marks for this part: 40 points]</span></div>**"
   ]
  },
  {
   "cell_type": "markdown",
   "metadata": {},
   "source": [
    "**This part of the asssignment is designed to assess your knowledge and coding skill with Tensorflow as well as hands-on experience with training Convolutional Neural Network (CNN).**"
   ]
  },
  {
   "cell_type": "markdown",
   "metadata": {},
   "source": [
    "**The dataset we use for this part is a small animal dataset consisting of $5,000$ images of cats, dogs, fishes, lions, chickens, elephants, butterflies, cows, spiders, and horses, each of which has 500 images. You can download the dataset at [download here](https://drive.google.com/file/d/1bEwEx72lLrjY_Idj_FgV22atIdjtCV66/view?usp=sharing) and then decompress to the folder `datasets\\Animals` in your assignment folder.**\n",
    "\n",
    "**Your task is to build a CNN model using *TF 2.x* to classify these animals. You're provided with the module <span style=\"color:red\">models.py</span>, which you can find in the assignment folder, with some of the following classes:**"
   ]
  },
  {
   "cell_type": "markdown",
   "metadata": {},
   "source": [
    "1. `AnimalsDatasetManager`: Support with loading and spliting the dataset into the train-val-test sets. It also supports generating next batches for training. `AnimalsDatasetManager` will be passed to CNN model for training and testing.\n",
    "2. `DefaultModel`: A base class for the CNN model.\n",
    "3. `YourModel`: The class you'll need to implement for building your CNN model. It inherits some useful attributes and functions from the base class `DefaultModel`"
   ]
  },
  {
   "cell_type": "markdown",
   "metadata": {},
   "source": [
    "Firstly, we need to run the following cells to load and preprocess the Animal dataset."
   ]
  },
  {
   "cell_type": "code",
   "execution_count": null,
   "metadata": {},
   "outputs": [],
   "source": [
    "%load_ext autoreload\n",
    "%autoreload 2\n",
    "\n"
   ]
  },
  {
   "cell_type": "markdown",
   "metadata": {},
   "source": [
    "Install the package `imutils` if you have not installed yet"
   ]
  },
  {
   "cell_type": "code",
   "execution_count": null,
   "metadata": {},
   "outputs": [
    {
     "name": "stdout",
     "output_type": "stream",
     "text": [
      "Requirement already satisfied: imutils in c:\\users\\pc\\anaconda3\\envs\\tf2_cpu\\lib\\site-packages (0.5.4)\n"
     ]
    }
   ],
   "source": [
    "! pip install imutils"
   ]
  },
  {
   "cell_type": "code",
   "execution_count": null,
   "metadata": {},
   "outputs": [],
   "source": [
    "import os\n",
    "import matplotlib.pyplot as plt\n",
    "plt.style.use('ggplot')\n",
    "%matplotlib inline\n",
    "import models\n",
    "from models import SimplePreprocessor, AnimalsDatasetManager, DefaultModel"
   ]
  },
  {
   "cell_type": "code",
   "execution_count": null,
   "metadata": {},
   "outputs": [],
   "source": [
    "def create_label_folder_dict(adir):\n",
    "    sub_folders= [folder for folder in os.listdir(adir)\n",
    "                  if os.path.isdir(os.path.join(adir, folder))]\n",
    "    label_folder_dict= dict()\n",
    "    for folder in sub_folders:\n",
    "        item= {folder: os.path.abspath(os.path.join(adir, folder))}\n",
    "        label_folder_dict.update(item)\n",
    "    return label_folder_dict"
   ]
  },
  {
   "cell_type": "code",
   "execution_count": null,
   "metadata": {},
   "outputs": [
    {
     "name": "stdout",
     "output_type": "stream",
     "text": [
      "{'butterfiles': 'd:\\\\monash stuff\\\\education stuff\\\\3rd yr\\\\FIT3181 Deep Learning\\\\assignment\\\\FIT3181_Assignment_1\\\\datasets\\\\Animals\\\\butterfiles', 'cats': 'd:\\\\monash stuff\\\\education stuff\\\\3rd yr\\\\FIT3181 Deep Learning\\\\assignment\\\\FIT3181_Assignment_1\\\\datasets\\\\Animals\\\\cats', 'chickens': 'd:\\\\monash stuff\\\\education stuff\\\\3rd yr\\\\FIT3181 Deep Learning\\\\assignment\\\\FIT3181_Assignment_1\\\\datasets\\\\Animals\\\\chickens', 'cows': 'd:\\\\monash stuff\\\\education stuff\\\\3rd yr\\\\FIT3181 Deep Learning\\\\assignment\\\\FIT3181_Assignment_1\\\\datasets\\\\Animals\\\\cows', 'dogs': 'd:\\\\monash stuff\\\\education stuff\\\\3rd yr\\\\FIT3181 Deep Learning\\\\assignment\\\\FIT3181_Assignment_1\\\\datasets\\\\Animals\\\\dogs', 'elephants': 'd:\\\\monash stuff\\\\education stuff\\\\3rd yr\\\\FIT3181 Deep Learning\\\\assignment\\\\FIT3181_Assignment_1\\\\datasets\\\\Animals\\\\elephants', 'fishes': 'd:\\\\monash stuff\\\\education stuff\\\\3rd yr\\\\FIT3181 Deep Learning\\\\assignment\\\\FIT3181_Assignment_1\\\\datasets\\\\Animals\\\\fishes', 'horses': 'd:\\\\monash stuff\\\\education stuff\\\\3rd yr\\\\FIT3181 Deep Learning\\\\assignment\\\\FIT3181_Assignment_1\\\\datasets\\\\Animals\\\\horses', 'lions': 'd:\\\\monash stuff\\\\education stuff\\\\3rd yr\\\\FIT3181 Deep Learning\\\\assignment\\\\FIT3181_Assignment_1\\\\datasets\\\\Animals\\\\lions', 'spiders': 'd:\\\\monash stuff\\\\education stuff\\\\3rd yr\\\\FIT3181 Deep Learning\\\\assignment\\\\FIT3181_Assignment_1\\\\datasets\\\\Animals\\\\spiders'}\n"
     ]
    }
   ],
   "source": [
    "# TODO: ask what does this do?\n",
    "label_folder_dict = create_label_folder_dict(\"./datasets/Animals\")\n",
    "print(label_folder_dict)"
   ]
  },
  {
   "cell_type": "markdown",
   "metadata": {},
   "source": [
    "The below code helps to create a data manager that contains all relevant methods used to manage and process the experimental data. "
   ]
  },
  {
   "cell_type": "code",
   "execution_count": null,
   "metadata": {},
   "outputs": [
    {
     "name": "stdout",
     "output_type": "stream",
     "text": [
      "butterfiles 500\n",
      "Processed 100/500\n",
      "Processed 200/500\n",
      "Processed 300/500\n",
      "Processed 400/500\n",
      "Processed 500/500\n",
      "cats 501\n",
      "Processed 100/500\n",
      "Processed 200/500\n",
      "Processed 300/500\n",
      "Processed 400/500\n",
      "Processed 500/500\n",
      "chickens 500\n",
      "Processed 100/500\n",
      "Processed 200/500\n",
      "Processed 300/500\n",
      "Processed 400/500\n",
      "Processed 500/500\n",
      "cows 500\n",
      "Processed 100/500\n",
      "Processed 200/500\n",
      "Processed 300/500\n",
      "Processed 400/500\n",
      "Processed 500/500\n",
      "dogs 501\n",
      "Processed 100/500\n",
      "Processed 200/500\n",
      "Processed 300/500\n",
      "Processed 400/500\n",
      "Processed 500/500\n",
      "elephants 500\n",
      "Processed 100/500\n",
      "Processed 200/500\n",
      "Processed 300/500\n",
      "Processed 400/500\n",
      "Processed 500/500\n",
      "fishes 500\n",
      "Processed 100/500\n",
      "Processed 200/500\n",
      "Processed 300/500\n",
      "Processed 400/500\n",
      "Processed 500/500\n",
      "horses 500\n",
      "Processed 100/500\n",
      "Processed 200/500\n",
      "Processed 300/500\n",
      "Processed 400/500\n",
      "Processed 500/500\n",
      "lions 500\n",
      "Processed 100/500\n",
      "Processed 200/500\n",
      "Processed 300/500\n",
      "Processed 400/500\n",
      "Processed 500/500\n",
      "spiders 500\n",
      "Processed 100/500\n",
      "Processed 200/500\n",
      "Processed 300/500\n",
      "Processed 400/500\n",
      "Processed 500/500\n"
     ]
    }
   ],
   "source": [
    "sp = SimplePreprocessor(width=32, height=32)\n",
    "data_manager = AnimalsDatasetManager([sp])\n",
    "data_manager.load(label_folder_dict, verbose=100)\n",
    "data_manager.process_data_label()\n",
    "data_manager.train_valid_test_split()"
   ]
  },
  {
   "cell_type": "markdown",
   "metadata": {},
   "source": [
    "Note that the object `data_manager` has the attributes relating to *the training, validation, and testing sets* as shown belows. You can use them in training your developped models in the sequel."
   ]
  },
  {
   "cell_type": "code",
   "execution_count": null,
   "metadata": {},
   "outputs": [
    {
     "name": "stdout",
     "output_type": "stream",
     "text": [
      "(4000, 32, 32, 3) (4000,)\n",
      "(500, 32, 32, 3) (500,)\n",
      "(500, 32, 32, 3) (500,)\n",
      "['butterfiles' 'cats' 'chickens' 'cows' 'dogs' 'elephants' 'fishes'\n",
      " 'horses' 'lions' 'spiders']\n",
      "[[[[ 0.45882353  0.45098039  0.42745098]\n",
      "   [ 0.45882353  0.45098039  0.43529412]\n",
      "   [ 0.41176471  0.40392157  0.37254902]\n",
      "   ...\n",
      "   [ 0.41960784  0.37254902  0.35686275]\n",
      "   [ 0.43529412  0.39607843  0.36470588]\n",
      "   [ 0.44313725  0.40392157  0.37254902]]\n",
      "\n",
      "  [[ 0.46666667  0.45882353  0.44313725]\n",
      "   [ 0.46666667  0.45882353  0.44313725]\n",
      "   [ 0.42745098  0.41176471  0.38039216]\n",
      "   ...\n",
      "   [ 0.41960784  0.38039216  0.35686275]\n",
      "   [ 0.42745098  0.39607843  0.36470588]\n",
      "   [ 0.42745098  0.40392157  0.36470588]]\n",
      "\n",
      "  [[ 0.46666667  0.45882353  0.44313725]\n",
      "   [ 0.49019608  0.4745098   0.45882353]\n",
      "   [ 0.46666667  0.44313725  0.42745098]\n",
      "   ...\n",
      "   [ 0.41960784  0.38823529  0.35686275]\n",
      "   [ 0.42745098  0.39607843  0.36470588]\n",
      "   [ 0.42745098  0.39607843  0.35686275]]\n",
      "\n",
      "  ...\n",
      "\n",
      "  [[ 0.42745098  0.40392157  0.38039216]\n",
      "   [ 0.40392157  0.38823529  0.36470588]\n",
      "   [ 0.39607843  0.37254902  0.34901961]\n",
      "   ...\n",
      "   [ 0.56862745  0.54509804  0.52941176]\n",
      "   [ 0.56862745  0.5372549   0.51372549]\n",
      "   [ 0.39607843  0.38039216  0.36470588]]\n",
      "\n",
      "  [[ 0.48235294  0.4745098   0.46666667]\n",
      "   [ 0.45882353  0.45098039  0.42745098]\n",
      "   [ 0.4745098   0.45882353  0.43529412]\n",
      "   ...\n",
      "   [ 0.35686275  0.33333333  0.30980392]\n",
      "   [ 0.40392157  0.38823529  0.36470588]\n",
      "   [ 0.38039216  0.37254902  0.34901961]]\n",
      "\n",
      "  [[ 0.46666667  0.43529412  0.40392157]\n",
      "   [ 0.45882353  0.42745098  0.39607843]\n",
      "   [ 0.49019608  0.46666667  0.45098039]\n",
      "   ...\n",
      "   [ 0.4745098   0.46666667  0.44313725]\n",
      "   [ 0.39607843  0.37254902  0.34901961]\n",
      "   [ 0.37254902  0.34117647  0.31764706]]]\n",
      "\n",
      "\n",
      " [[[ 0.41176471  0.7254902   0.89019608]\n",
      "   [ 0.41176471  0.71764706  0.88235294]\n",
      "   [ 0.41960784  0.71764706  0.88235294]\n",
      "   ...\n",
      "   [-0.01960784 -0.05098039 -0.2627451 ]\n",
      "   [ 0.02745098  0.05098039 -0.05882353]\n",
      "   [ 0.12156863  0.11372549 -0.01960784]]\n",
      "\n",
      "  [[ 0.36470588  0.56862745  0.70196078]\n",
      "   [ 0.41960784  0.70980392  0.85098039]\n",
      "   [ 0.38823529  0.68627451  0.85098039]\n",
      "   ...\n",
      "   [-0.10588235 -0.19215686 -0.33333333]\n",
      "   [ 0.00392157 -0.09803922 -0.21568627]\n",
      "   [ 0.14509804  0.05098039 -0.06666667]]\n",
      "\n",
      "  [[ 0.04313725  0.04313725  0.04313725]\n",
      "   [-0.01960784  0.12941176  0.18431373]\n",
      "   [-0.12156863  0.01176471  0.05098039]\n",
      "   ...\n",
      "   [ 0.17647059  0.08235294 -0.03529412]\n",
      "   [ 0.22352941  0.1372549  -0.03529412]\n",
      "   [ 0.23921569  0.16078431 -0.04313725]]\n",
      "\n",
      "  ...\n",
      "\n",
      "  [[ 0.28627451  0.03529412 -0.05098039]\n",
      "   [ 0.2627451   0.01176471 -0.0745098 ]\n",
      "   [ 0.24705882 -0.00392157 -0.09019608]\n",
      "   ...\n",
      "   [ 0.33333333  0.0745098  -0.01960784]\n",
      "   [ 0.30196078  0.04313725 -0.05882353]\n",
      "   [ 0.30196078  0.03529412 -0.05882353]]\n",
      "\n",
      "  [[ 0.17647059 -0.0745098  -0.16862745]\n",
      "   [ 0.17647059 -0.0745098  -0.16078431]\n",
      "   [ 0.16078431 -0.09803922 -0.17647059]\n",
      "   ...\n",
      "   [ 0.31764706  0.08235294 -0.02745098]\n",
      "   [ 0.30980392  0.05882353 -0.05098039]\n",
      "   [ 0.33333333  0.05098039 -0.03529412]]\n",
      "\n",
      "  [[ 0.23137255 -0.01960784 -0.09019608]\n",
      "   [ 0.27058824  0.02745098 -0.02745098]\n",
      "   [ 0.23921569  0.03529412 -0.05882353]\n",
      "   ...\n",
      "   [ 0.25490196  0.00392157 -0.12941176]\n",
      "   [ 0.28627451  0.03529412 -0.09019608]\n",
      "   [ 0.28627451  0.03529412 -0.06666667]]]\n",
      "\n",
      "\n",
      " [[[-0.50588235 -0.24705882 -0.69411765]\n",
      "   [-0.56078431 -0.30980392 -0.74901961]\n",
      "   [-0.51372549 -0.27843137 -0.74117647]\n",
      "   ...\n",
      "   [-0.41960784 -0.2        -0.6627451 ]\n",
      "   [-0.45882353 -0.23137255 -0.65490196]\n",
      "   [-0.49803922 -0.2627451  -0.69411765]]\n",
      "\n",
      "  [[-0.54509804 -0.31764706 -0.76470588]\n",
      "   [-0.5372549  -0.30980392 -0.74117647]\n",
      "   [-0.49019608 -0.25490196 -0.70196078]\n",
      "   ...\n",
      "   [-0.4745098  -0.25490196 -0.7254902 ]\n",
      "   [-0.49803922 -0.27058824 -0.71764706]\n",
      "   [-0.49019608 -0.27058824 -0.70980392]]\n",
      "\n",
      "  [[-0.57647059 -0.33333333 -0.76470588]\n",
      "   [-0.54509804 -0.30980392 -0.73333333]\n",
      "   [-0.48235294 -0.23137255 -0.71764706]\n",
      "   ...\n",
      "   [-0.52156863 -0.28627451 -0.74901961]\n",
      "   [-0.51372549 -0.28627451 -0.71764706]\n",
      "   [-0.49019608 -0.2627451  -0.70980392]]\n",
      "\n",
      "  ...\n",
      "\n",
      "  [[-0.60784314 -0.39607843 -0.74901961]\n",
      "   [-0.61568627 -0.38039216 -0.73333333]\n",
      "   [-0.6        -0.51372549 -0.74901961]\n",
      "   ...\n",
      "   [-0.52156863 -0.27843137 -0.71764706]\n",
      "   [-0.52156863 -0.25490196 -0.73333333]\n",
      "   [-0.6        -0.35686275 -0.79607843]]\n",
      "\n",
      "  [[-0.62352941 -0.40392157 -0.78039216]\n",
      "   [-0.54509804 -0.27843137 -0.70980392]\n",
      "   [-0.6        -0.33333333 -0.74117647]\n",
      "   ...\n",
      "   [-0.43529412 -0.20784314 -0.64705882]\n",
      "   [-0.36470588 -0.15294118 -0.60784314]\n",
      "   [-0.49019608 -0.27843137 -0.70196078]]\n",
      "\n",
      "  [[-0.51372549 -0.28627451 -0.73333333]\n",
      "   [-0.58431373 -0.3254902  -0.76470588]\n",
      "   [-0.63921569 -0.45882353 -0.81960784]\n",
      "   ...\n",
      "   [-0.37254902 -0.1372549  -0.60784314]\n",
      "   [-0.48235294 -0.25490196 -0.73333333]\n",
      "   [-0.6        -0.34901961 -0.81960784]]]\n",
      "\n",
      "\n",
      " ...\n",
      "\n",
      "\n",
      " [[[ 0.63921569  0.7254902   0.67843137]\n",
      "   [ 0.64705882  0.73333333  0.68627451]\n",
      "   [ 0.65490196  0.7254902   0.68627451]\n",
      "   ...\n",
      "   [ 0.33333333  0.40392157  0.36470588]\n",
      "   [ 0.30980392  0.38039216  0.34117647]\n",
      "   [ 0.27843137  0.34901961  0.30980392]]\n",
      "\n",
      "  [[ 0.6627451   0.74901961  0.70980392]\n",
      "   [ 0.67058824  0.75686275  0.71764706]\n",
      "   [ 0.68627451  0.75686275  0.7254902 ]\n",
      "   ...\n",
      "   [ 0.34901961  0.41960784  0.38039216]\n",
      "   [ 0.31764706  0.38823529  0.34901961]\n",
      "   [ 0.30196078  0.37254902  0.33333333]]\n",
      "\n",
      "  [[ 0.69411765  0.76470588  0.74117647]\n",
      "   [ 0.70980392  0.78039216  0.75686275]\n",
      "   [ 0.71764706  0.78823529  0.76470588]\n",
      "   ...\n",
      "   [ 0.37254902  0.44313725  0.40392157]\n",
      "   [ 0.34117647  0.41176471  0.37254902]\n",
      "   [ 0.31764706  0.38823529  0.34901961]]\n",
      "\n",
      "  ...\n",
      "\n",
      "  [[ 0.50588235  0.57647059  0.5372549 ]\n",
      "   [ 0.50588235  0.57647059  0.5372549 ]\n",
      "   [ 0.51372549  0.56862745  0.5372549 ]\n",
      "   ...\n",
      "   [ 0.23921569  0.27058824  0.21568627]\n",
      "   [ 0.21568627  0.23921569  0.18431373]\n",
      "   [ 0.19215686  0.21568627  0.16078431]]\n",
      "\n",
      "  [[ 0.48235294  0.55294118  0.51372549]\n",
      "   [ 0.48235294  0.55294118  0.51372549]\n",
      "   [ 0.48235294  0.5372549   0.50588235]\n",
      "   ...\n",
      "   [ 0.20784314  0.23137255  0.17647059]\n",
      "   [ 0.19215686  0.21568627  0.16078431]\n",
      "   [ 0.16078431  0.18431373  0.12941176]]\n",
      "\n",
      "  [[ 0.45882353  0.52941176  0.49019608]\n",
      "   [ 0.38039216  0.45098039  0.41176471]\n",
      "   [ 0.38823529  0.44313725  0.40392157]\n",
      "   ...\n",
      "   [ 0.16862745  0.19215686  0.1372549 ]\n",
      "   [ 0.16078431  0.18431373  0.12941176]\n",
      "   [ 0.1372549   0.16078431  0.09803922]]]\n",
      "\n",
      "\n",
      " [[[-0.2        -0.22352941 -0.12156863]\n",
      "   [ 0.23137255  0.28627451  0.41176471]\n",
      "   [ 0.25490196  0.30980392  0.38823529]\n",
      "   ...\n",
      "   [-0.29411765 -0.17647059 -0.08235294]\n",
      "   [-0.41960784 -0.30196078 -0.25490196]\n",
      "   [-0.56862745 -0.43529412 -0.43529412]]\n",
      "\n",
      "  [[-0.18431373 -0.18431373 -0.09803922]\n",
      "   [ 0.22352941  0.27058824  0.38039216]\n",
      "   [ 0.27058824  0.25490196  0.2       ]\n",
      "   ...\n",
      "   [-0.34901961 -0.23137255 -0.15294118]\n",
      "   [-0.41960784 -0.3254902  -0.28627451]\n",
      "   [-0.57647059 -0.50588235 -0.50588235]]\n",
      "\n",
      "  [[-0.3254902  -0.43529412 -0.49019608]\n",
      "   [-0.18431373 -0.25490196 -0.24705882]\n",
      "   [ 0.33333333  0.23137255  0.04313725]\n",
      "   ...\n",
      "   [-0.35686275 -0.27058824 -0.18431373]\n",
      "   [-0.38039216 -0.27843137 -0.2       ]\n",
      "   [-0.48235294 -0.38039216 -0.3254902 ]]\n",
      "\n",
      "  ...\n",
      "\n",
      "  [[ 0.1372549  -0.20784314 -0.59215686]\n",
      "   [ 0.15294118 -0.18431373 -0.59215686]\n",
      "   [ 0.16862745 -0.17647059 -0.56078431]\n",
      "   ...\n",
      "   [-0.20784314 -0.52941176 -0.83529412]\n",
      "   [-0.24705882 -0.57647059 -0.84313725]\n",
      "   [-0.24705882 -0.48235294 -0.70980392]]\n",
      "\n",
      "  [[ 0.18431373 -0.16078431 -0.48235294]\n",
      "   [ 0.16862745 -0.17647059 -0.49019608]\n",
      "   [ 0.24705882 -0.1372549  -0.45882353]\n",
      "   ...\n",
      "   [-0.2627451  -0.43529412 -0.65490196]\n",
      "   [-0.23921569 -0.44313725 -0.68627451]\n",
      "   [-0.23921569 -0.41960784 -0.60784314]]\n",
      "\n",
      "  [[ 0.65490196  0.21568627 -0.08235294]\n",
      "   [ 0.6627451   0.21568627 -0.06666667]\n",
      "   [ 0.69411765  0.27058824 -0.05098039]\n",
      "   ...\n",
      "   [ 0.17647059 -0.03529412 -0.31764706]\n",
      "   [ 0.2627451   0.03529412 -0.27843137]\n",
      "   [ 0.34117647  0.05882353 -0.27058824]]]\n",
      "\n",
      "\n",
      " [[[-0.39607843  0.21568627 -0.44313725]\n",
      "   [-0.37254902  0.20784314 -0.38039216]\n",
      "   [-0.34117647  0.21568627 -0.37254902]\n",
      "   ...\n",
      "   [-0.18431373 -0.2627451  -0.33333333]\n",
      "   [-0.17647059 -0.27058824 -0.34117647]\n",
      "   [-0.23921569 -0.34117647 -0.41176471]]\n",
      "\n",
      "  [[-0.40392157  0.2        -0.48235294]\n",
      "   [-0.27843137  0.30196078 -0.3254902 ]\n",
      "   [-0.22352941  0.33333333 -0.30196078]\n",
      "   ...\n",
      "   [-0.14509804 -0.2        -0.23921569]\n",
      "   [-0.15294118 -0.22352941 -0.27058824]\n",
      "   [-0.17647059 -0.24705882 -0.29411765]]\n",
      "\n",
      "  [[-0.30980392  0.27843137 -0.41176471]\n",
      "   [-0.31764706  0.25490196 -0.41960784]\n",
      "   [-0.27058824  0.27843137 -0.38823529]\n",
      "   ...\n",
      "   [ 0.01176471 -0.01960784 -0.01176471]\n",
      "   [-0.02745098 -0.05882353 -0.0745098 ]\n",
      "   [-0.05098039 -0.0745098  -0.09019608]]\n",
      "\n",
      "  ...\n",
      "\n",
      "  [[-0.45098039 -0.43529412 -0.4745098 ]\n",
      "   [-0.30196078 -0.27843137 -0.33333333]\n",
      "   [-0.2        -0.17647059 -0.25490196]\n",
      "   ...\n",
      "   [ 0.37254902  0.38823529  0.24705882]\n",
      "   [ 0.12156863  0.1372549   0.09019608]\n",
      "   [ 0.09019608  0.10588235  0.05098039]]\n",
      "\n",
      "  [[-0.51372549 -0.50588235 -0.55294118]\n",
      "   [-0.38823529 -0.38039216 -0.43529412]\n",
      "   [-0.44313725 -0.42745098 -0.50588235]\n",
      "   ...\n",
      "   [ 0.16862745  0.18431373  0.08235294]\n",
      "   [ 0.09019608  0.09803922  0.04313725]\n",
      "   [ 0.05882353  0.06666667  0.01176471]]\n",
      "\n",
      "  [[-0.41960784 -0.43529412 -0.46666667]\n",
      "   [-0.45882353 -0.4745098  -0.51372549]\n",
      "   [-0.48235294 -0.49019608 -0.56078431]\n",
      "   ...\n",
      "   [ 0.22352941  0.22352941  0.16078431]\n",
      "   [ 0.14509804  0.1372549   0.05882353]\n",
      "   [ 0.06666667  0.05882353 -0.01960784]]]]\n",
      "[9 7 2 ... 2 1 1]\n"
     ]
    }
   ],
   "source": [
    "# NOTE:  there are 500 images in total for each class (but there are 501 for cat class)\n",
    "    \n",
    "print(data_manager.X_train.shape, data_manager.y_train.shape) \n",
    "print(data_manager.X_valid.shape, data_manager.y_valid.shape)\n",
    "print(data_manager.X_test.shape, data_manager.y_test.shape)\n",
    "print(data_manager.classes)\n",
    "\n",
    "print(data_manager.X_train)\n",
    "print(data_manager.y_train)"
   ]
  },
  {
   "cell_type": "markdown",
   "metadata": {},
   "source": [
    "We now run the **default model** built in the **models.py** file which serves as a basic baseline to start the investigation. Follow the following steps to realize how to run a model and know the built-in methods associated to a model developped in the DefaultModel class."
   ]
  },
  {
   "cell_type": "markdown",
   "metadata": {},
   "source": [
    "We first initialize a default model from the DefaultModel class. Basically, we can define the relevant parameters of training a model including `num_classes`, `optimizer`, `learning_rate`, `batch_size`, and `num_epochs`."
   ]
  },
  {
   "cell_type": "code",
   "execution_count": null,
   "metadata": {},
   "outputs": [],
   "source": [
    "network1 = DefaultModel(name='network1',\n",
    "                       num_classes=len(data_manager.classes),\n",
    "                       optimizer='sgd',\n",
    "                       batch_size= 128,\n",
    "                     #   num_epochs = 50,\n",
    "                       num_epochs = 20,\n",
    "                       learning_rate=0.5)"
   ]
  },
  {
   "cell_type": "markdown",
   "metadata": {},
   "source": [
    "The method `build_cnn()` assists us in building your convolutional neural network. You can view the code (in the **models.py** file) of the model behind a default model to realize how simple it is. Additionally, the method `summary()` shows the architecture of a model."
   ]
  },
  {
   "cell_type": "code",
   "execution_count": null,
   "metadata": {},
   "outputs": [
    {
     "name": "stdout",
     "output_type": "stream",
     "text": [
      "Model: \"sequential_1\"\n",
      "_________________________________________________________________\n",
      "Layer (type)                 Output Shape              Param #   \n",
      "=================================================================\n",
      "conv2d (Conv2D)              (None, 32, 32, 32)        896       \n",
      "_________________________________________________________________\n",
      "conv2d_1 (Conv2D)            (None, 32, 32, 32)        9248      \n",
      "_________________________________________________________________\n",
      "average_pooling2d (AveragePo (None, 16, 16, 32)        0         \n",
      "_________________________________________________________________\n",
      "conv2d_2 (Conv2D)            (None, 16, 16, 64)        18496     \n",
      "_________________________________________________________________\n",
      "conv2d_3 (Conv2D)            (None, 16, 16, 64)        36928     \n",
      "_________________________________________________________________\n",
      "average_pooling2d_1 (Average (None, 8, 8, 64)          0         \n",
      "_________________________________________________________________\n",
      "flatten (Flatten)            (None, 4096)              0         \n",
      "_________________________________________________________________\n",
      "dense (Dense)                (None, 10)                40970     \n",
      "=================================================================\n",
      "Total params: 106,538\n",
      "Trainable params: 106,538\n",
      "Non-trainable params: 0\n",
      "_________________________________________________________________\n",
      "None\n"
     ]
    }
   ],
   "source": [
    "network1.build_cnn()\n",
    "network1.summary()"
   ]
  },
  {
   "cell_type": "markdown",
   "metadata": {},
   "source": [
    "To train a model regarding to the datasets stored in `data_manager`, you can invoke the method `fit()` for which you can specify the batch size and number of epochs for your training. "
   ]
  },
  {
   "cell_type": "code",
   "execution_count": null,
   "metadata": {},
   "outputs": [
    {
     "name": "stdout",
     "output_type": "stream",
     "text": [
      "Epoch 1/20\n",
      "63/63 [==============================] - 3s 45ms/step - loss: 2.3044 - accuracy: 0.1138 - val_loss: 2.3161 - val_accuracy: 0.0960\n",
      "Epoch 2/20\n",
      "63/63 [==============================] - 2s 37ms/step - loss: 2.3047 - accuracy: 0.1067 - val_loss: 2.2761 - val_accuracy: 0.1000\n",
      "Epoch 3/20\n",
      "63/63 [==============================] - 3s 40ms/step - loss: 2.3050 - accuracy: 0.1047 - val_loss: 2.3181 - val_accuracy: 0.0860\n",
      "Epoch 4/20\n",
      "63/63 [==============================] - 2s 37ms/step - loss: 2.3056 - accuracy: 0.1028 - val_loss: 2.3063 - val_accuracy: 0.0860\n",
      "Epoch 5/20\n",
      "63/63 [==============================] - 3s 45ms/step - loss: 2.3049 - accuracy: 0.0967 - val_loss: 2.3129 - val_accuracy: 0.0600\n",
      "Epoch 6/20\n",
      "63/63 [==============================] - 2s 36ms/step - loss: 2.3048 - accuracy: 0.1058 - val_loss: 2.3066 - val_accuracy: 0.1080\n",
      "Epoch 7/20\n",
      "63/63 [==============================] - 2s 37ms/step - loss: 2.3045 - accuracy: 0.0970 - val_loss: 2.3064 - val_accuracy: 0.0600\n",
      "Epoch 8/20\n",
      "63/63 [==============================] - 2s 39ms/step - loss: 2.3051 - accuracy: 0.1002 - val_loss: 2.3086 - val_accuracy: 0.0600\n",
      "Epoch 9/20\n",
      "63/63 [==============================] - 2s 38ms/step - loss: 2.3045 - accuracy: 0.0953 - val_loss: 2.3059 - val_accuracy: 0.0960\n",
      "Epoch 10/20\n",
      "63/63 [==============================] - 2s 36ms/step - loss: 2.3045 - accuracy: 0.0993 - val_loss: 2.3053 - val_accuracy: 0.1200\n",
      "Epoch 11/20\n",
      "63/63 [==============================] - 3s 42ms/step - loss: 2.3051 - accuracy: 0.0945 - val_loss: 2.3085 - val_accuracy: 0.0600\n",
      "Epoch 12/20\n",
      "63/63 [==============================] - 3s 41ms/step - loss: 2.3041 - accuracy: 0.1035 - val_loss: 2.3040 - val_accuracy: 0.1100\n",
      "Epoch 13/20\n",
      "63/63 [==============================] - 2s 39ms/step - loss: 2.2999 - accuracy: 0.1090 - val_loss: 2.3162 - val_accuracy: 0.1360\n",
      "Epoch 14/20\n",
      "63/63 [==============================] - 3s 40ms/step - loss: 2.3073 - accuracy: 0.1067 - val_loss: 2.3053 - val_accuracy: 0.0920\n",
      "Epoch 15/20\n",
      "63/63 [==============================] - 2s 34ms/step - loss: 2.2929 - accuracy: 0.1243 - val_loss: 2.3096 - val_accuracy: 0.1000\n",
      "Epoch 16/20\n",
      "63/63 [==============================] - 2s 34ms/step - loss: 2.3053 - accuracy: 0.0967 - val_loss: 2.3058 - val_accuracy: 0.1200\n",
      "Epoch 17/20\n",
      "63/63 [==============================] - 2s 35ms/step - loss: 2.3050 - accuracy: 0.0983 - val_loss: 2.3033 - val_accuracy: 0.1200\n",
      "Epoch 18/20\n",
      "63/63 [==============================] - 2s 40ms/step - loss: 2.3052 - accuracy: 0.0967 - val_loss: 2.3078 - val_accuracy: 0.0600\n",
      "Epoch 19/20\n",
      "63/63 [==============================] - 2s 35ms/step - loss: 2.3046 - accuracy: 0.1032 - val_loss: 2.3074 - val_accuracy: 0.0640\n",
      "Epoch 20/20\n",
      "63/63 [==============================] - 3s 40ms/step - loss: 2.3003 - accuracy: 0.1125 - val_loss: 2.3094 - val_accuracy: 0.0600\n"
     ]
    }
   ],
   "source": [
    "network1.fit(data_manager, batch_size = 64, num_epochs = 20)\n",
    "# TODO: change num_epochs back to 20"
   ]
  },
  {
   "cell_type": "markdown",
   "metadata": {},
   "source": [
    "Here you can compute the accuracy of your trained model with respect to a separate testing set."
   ]
  },
  {
   "cell_type": "code",
   "execution_count": 2,
   "metadata": {},
   "outputs": [
    {
     "ename": "NameError",
     "evalue": "name 'network1' is not defined",
     "output_type": "error",
     "traceback": [
      "\u001b[1;31m---------------------------------------------------------------------------\u001b[0m",
      "\u001b[1;31mNameError\u001b[0m                                 Traceback (most recent call last)",
      "\u001b[1;32md:\\monash stuff\\education stuff\\3rd yr\\FIT3181 Deep Learning\\assignment\\FIT3181_Assignment_1\\backups\\backup1.ipynb Cell 104\u001b[0m in \u001b[0;36m<cell line: 1>\u001b[1;34m()\u001b[0m\n\u001b[1;32m----> <a href='vscode-notebook-cell:/d%3A/monash%20stuff/education%20stuff/3rd%20yr/FIT3181%20Deep%20Learning/assignment/FIT3181_Assignment_1/backups/backup1.ipynb#Y204sZmlsZQ%3D%3D?line=0'>1</a>\u001b[0m network1\u001b[39m.\u001b[39mcompute_accuracy(data_manager\u001b[39m.\u001b[39mX_test, data_manager\u001b[39m.\u001b[39my_test)\n",
      "\u001b[1;31mNameError\u001b[0m: name 'network1' is not defined"
     ]
    }
   ],
   "source": [
    "network1.compute_accuracy(data_manager.X_test, data_manager.y_test)"
   ]
  },
  {
   "cell_type": "markdown",
   "metadata": {},
   "source": [
    "Below shows how you can inspect the training progress."
   ]
  },
  {
   "cell_type": "code",
   "execution_count": null,
   "metadata": {},
   "outputs": [
    {
     "data": {
      "image/png": "[encoded data removed]",
      "text/plain": [
       "<Figure size 432x288 with 2 Axes>"
      ]
     },
     "metadata": {},
     "output_type": "display_data"
    }
   ],
   "source": [
    "network1.plot_progress()"
   ]
  },
  {
   "cell_type": "markdown",
   "metadata": {},
   "source": [
    "You can use the method `predict()` to predict labels for data examples in a test set."
   ]
  },
  {
   "cell_type": "code",
   "execution_count": null,
   "metadata": {},
   "outputs": [
    {
     "data": {
      "text/plain": [
       "array([9, 7, 9, 3, 1, 3, 9, 9, 1, 3], dtype=int64)"
      ]
     },
     "execution_count": 14,
     "metadata": {},
     "output_type": "execute_result"
    }
   ],
   "source": [
    "network1.predict(data_manager.X_test[0:10])"
   ]
  },
  {
   "cell_type": "markdown",
   "metadata": {},
   "source": [
    "Finally, the method `plot_prediction()` visualizes the predictions for a test set in which several images are chosen to show the predictions."
   ]
  },
  {
   "cell_type": "code",
   "execution_count": null,
   "metadata": {},
   "outputs": [
    {
     "ename": "NameError",
     "evalue": "name 'network1' is not defined",
     "output_type": "error",
     "traceback": [
      "\u001b[1;31m---------------------------------------------------------------------------\u001b[0m",
      "\u001b[1;31mNameError\u001b[0m                                 Traceback (most recent call last)",
      "\u001b[1;32md:\\monash stuff\\education stuff\\3rd yr\\FIT3181 Deep Learning\\assignment\\FIT3181_Assignment_1\\backups\\backup1.ipynb Cell 110\u001b[0m in \u001b[0;36m<cell line: 1>\u001b[1;34m()\u001b[0m\n\u001b[1;32m----> <a href='vscode-notebook-cell:/d%3A/monash%20stuff/education%20stuff/3rd%20yr/FIT3181%20Deep%20Learning/assignment/FIT3181_Assignment_1/backups/backup1.ipynb#Y213sZmlsZQ%3D%3D?line=0'>1</a>\u001b[0m network1\u001b[39m.\u001b[39mplot_prediction(data_manager\u001b[39m.\u001b[39mX_test, data_manager\u001b[39m.\u001b[39my_test, data_manager\u001b[39m.\u001b[39mclasses)\n",
      "\u001b[1;31mNameError\u001b[0m: name 'network1' is not defined"
     ]
    }
   ],
   "source": [
    "network1.plot_prediction(data_manager.X_test, data_manager.y_test, data_manager.classes)"
   ]
  },
  {
   "cell_type": "markdown",
   "metadata": {},
   "source": [
    "<span style=\"color:red\">**Question 3.1**</span> **After running the above cells to train the default model and observe the learning curve. Report your observation (i.e. did the model learn well? if not, what is the problem? What would you do to improve it?). Write your answer below.**\n",
    "\n",
    "<div style=\"text-align: right\"> <span style=\"color:red\">[4 points]</span> </div>"
   ]
  },
  {
   "cell_type": "markdown",
   "metadata": {},
   "source": [
    "*#Your answer and observation here*\n",
    "\n",
    "### ANSWER:\n",
    "- The predictions are based on numerous runs (around 7 different runs implying 7 different trained models)\n",
    "- in these runs, the weight initialization of these models results in very different trained models hence the training accuracy\n",
    "- Some of these models learn very well and there is an upward trend for the both training and validation accuracy\n",
    "- However, some of the models did not learn very well, i.e. underfitting or overfitting\n",
    "- for the models that are underfitting, there are 2 different scenarios, whereby the first scenario is that the accuracy converges to a certain value \n",
    "  - and given anymore epochs, we will certainly see that the accuracy further and further down to a small value that underfits the testing set\n",
    "  - this can be due to that there arent enough parameters in the network (e.g. adding more layers, neurons count, different optimizers, etc.)\n",
    "  - so we might have to explore ways such that we can add enough complexity to the network but avoid overfitting it\n",
    "  - however, it could also be the case that the learning rate is too high, and we need to consider fine tuning the learning rate, as high learning rates tend to \"overshoot\", hence the convergence to a single loss value and directly correlates to convergence for the accuracy value.\n",
    "- while in the other scenario, where there is an upwards trend\n",
    "  - which indicates we just might need more epochs for the training (or the learning rate is too low for this case and requires an appropriate optimizer)\n",
    "- an overall solution to the poor performance might just be better weight initializations employing the weight initialization strategies mentioned in the lectures such as Xavier and He\n",
    "\n",
    "\n",
    "\n"
   ]
  },
  {
   "cell_type": "markdown",
   "metadata": {},
   "source": [
    "---\n",
    "**For questions 3.2 to 3.9, you'll need to write your own model in a way that makes it easy for you to experiment with different architectures and parameters. The goal is to be able to pass the parameters to initialize a new instance of `YourModel` to build different network architectures with different parameters. Below are descriptions of some parameters for `YourModel`, which you can find in function `__init__()` for the class `DefaultModel`:**"
   ]
  },
  {
   "cell_type": "markdown",
   "metadata": {},
   "source": [
    "1. `num_blocks`: an integer specifying the number of blocks in our network. Each block has the pattern `[conv, batch norm, activation, conv, batch norm, activation, mean pool, dropout]`. All convolutional layers have filter size $(3, 3)$, strides $(1, 1)$ and 'SAME' padding, and all mean pool layers have strides $(2, 2)$ and 'SAME' padding. The network will consists of a few blocks before applying a linear layer to output the logits for the softmax layer.\n",
    "\n",
    "2. `feature_maps`: the number of feature maps in the first block of the network. The number of feature_maps will double in each of the following block. To make it convenient for you, we already calculated the number of feature maps for each block for you in line $106$\n",
    "3. `drop_rate`: the keep probability for dropout. Setting `drop_rate` to $0.0$ means not using dropout. \n",
    "4. `batch_norm`: the batch normalization function is used or not. Setting `batch_norm` to `None` means not using batch normalization. \n",
    "5. The `skip connection` is added to the output of the second `batch norm`. Additionally, your class has a boolean property (i.e., instance variable) named `use_skip`. If `use_skip=True`, the skip connectnion is enable. Otherwise, if `use_skip=False`, the skip connectnion is disable.\n",
    "\n",
    "Below is the architecture of one block:\n",
    "\n",
    "<img src=\"Figures/OneBlock.png\" width=\"350\" align=\"center\"/>\n",
    "\n",
    "Below is the architecture of the entire deep net with `two blocks`:\n",
    "\n",
    "<img src=\"Figures/NetworkArchitecture.png\" width=\"1200\" align=\"center\"/>"
   ]
  },
  {
   "cell_type": "markdown",
   "metadata": {},
   "source": [
    "Here we assume that the first block has `feature_maps = feature_maps[0] = 32`. Note that the initial number of feature maps of the first block is declared in the instance variable `feature_maps` and is multiplied by $2$ in each follpwing block. "
   ]
  },
  {
   "cell_type": "code",
   "execution_count": null,
   "metadata": {},
   "outputs": [],
   "source": []
  },
  {
   "cell_type": "code",
   "execution_count": null,
   "metadata": {},
   "outputs": [],
   "source": [
    "import tensorflow as tf\n",
    "from tensorflow import keras\n",
    "from tensorflow.keras import layers, models"
   ]
  },
  {
   "cell_type": "code",
   "execution_count": null,
   "metadata": {},
   "outputs": [],
   "source": [
    "tf.random.set_seed(MY_SEED)"
   ]
  },
  {
   "cell_type": "markdown",
   "metadata": {},
   "source": [
    "<span style=\"color:red\">**Question 3.2**</span> **Write the code of the `YourModel` class here. Note that this class will inherit from the `DefaultModel` class. You'll only need to re-write the code for the `build_cnn` method in the `YourModel` class from the cell below. Note that the `YourModel` class   is inherited from the `DefaultModel` class.**\n",
    "\n",
    "<div style=\"text-align: right\"> <span style=\"color:red\">[4 points]</span> </div>"
   ]
  },
  {
   "cell_type": "code",
   "execution_count": null,
   "metadata": {},
   "outputs": [
    {
     "name": "stdout",
     "output_type": "stream",
     "text": [
      "(4000, 32, 32, 3)\n",
      "(4000,)\n"
     ]
    }
   ],
   "source": [
    "print(data_manager.X_train.shape)\n",
    "print(data_manager.y_train.shape)"
   ]
  },
  {
   "cell_type": "code",
   "execution_count": null,
   "metadata": {},
   "outputs": [],
   "source": [
    "class Block(tf.keras.Model):\n",
    "    def __init__(self, num_channels, drop_rate=0.0, use_skip=True, use_1x1conv=False, batch_norm=True, strides=1):\n",
    "        \"\"\"\n",
    "        Each block has the pattern [conv, batch norm, activation, conv, batch norm, activation, mean pool, dropout]\n",
    "\n",
    "        Args:\n",
    "            num_channels: number of channels of output\n",
    "            use_1x1conv \n",
    "            strides \n",
    "        \"\"\"\n",
    "        super().__init__()\n",
    "        # initialize config variables\n",
    "        self.num_channels = num_channels\n",
    "        self.drop_rate = drop_rate\n",
    "        self.use_skip = use_skip\n",
    "        self.use_1x1conv = use_1x1conv\n",
    "        self.batch_norm = batch_norm\n",
    "        self.strides = strides\n",
    "        \n",
    "        \"\"\" LAYERS \"\"\"\n",
    "        # conv layers\n",
    "        self.conv1 = tf.keras.layers.Conv2D(num_channels, padding='same', kernel_size=3, strides=strides)\n",
    "        self.conv2 = tf.keras.layers.Conv2D(num_channels, kernel_size=3, padding='same')    \n",
    "        # add 1x1 conv layer or not    \n",
    "        if use_1x1conv:\n",
    "            self.conv3_1x1 = tf.keras.layers.Conv2D(num_channels, kernel_size=1, strides=strides)\n",
    "        else:\n",
    "            self.conv3_1x1 = None\n",
    "        # batch normalization layers\n",
    "        self.bn1 = tf.keras.layers.BatchNormalization()\n",
    "        self.bn2 = tf.keras.layers.BatchNormalization()\n",
    "        # pooling layer\n",
    "        self.pool = tf.keras.layers.AveragePooling2D(pool_size=(2,2), padding='same')  #downscale the image size by 2\n",
    "        # dropout layer\n",
    "        # TODO: ask what is the rate we need?\n",
    "        dropout = tf.keras.layers.Dropout(rate=drop_rate) # deactivate 25% of neurons for each feed-forward \n",
    "        \n",
    "        print(\"initialized layers in Block class class\")\n",
    "\n",
    "    def call(self, X):\n",
    "        \"\"\" just have to implement the forward pass, as required by keras.Model\"\"\"\n",
    "        \n",
    "        # 1: X -> conv -> BN -> Y\n",
    "        Y = self.bn1(self.conv1(X)) if self.batch_norm else self.conv1(X)\n",
    "        \n",
    "        # Y -> activation -> Y\n",
    "        Y = tf.keras.activations.relu(Y)\n",
    "        \n",
    "        # 2: Y -> conv -> BN -> Y\n",
    "        Y = self.bn2(self.conv2(Y)) if self.batch_norm else self.conv2(Y)\n",
    "        \n",
    "        # see if X needs to do 1x1 conv ; 1x1 conv skip connection\n",
    "        if self.conv3_1x1 is not None:\n",
    "            X = self.conv3_1x1(X)\n",
    "\n",
    "        # 3: skip connection , doing addition of matrices ; Y = Y + X\n",
    "        if self.use_skip:\n",
    "            Y += X\n",
    "        \n",
    "        # 4: Y -> act -> pool (mean) -> dropout\n",
    "        # Y = self.dropout(self.pool(tf.keras.activations.relu(Y)))\n",
    "        print(\"YourModel class forward propagates\")\n",
    "        return self.dropout(self.pool(tf.keras.activations.relu(Y)))\n",
    "    "
   ]
  },
  {
   "cell_type": "code",
   "execution_count": null,
   "metadata": {},
   "outputs": [],
   "source": [
    "class NetLayer(tf.keras.layers.Layer):\n",
    "    def __init__(self, num_channels, first_block=False, drop_rate=0.0, use_skip=True, use_1x1conv=False, batch_norm=True, strides=1, **kwargs):\n",
    "        super(NetLayer, self).__init__(**kwargs)\n",
    "        self.residual_layers = []\n",
    "        self.residual_layers.append(Block(num_channels, drop_rate=drop_rate, use_skip=use_skip, use_1x1conv=use_1x1conv, batch_norm=batch_norm, strides=strides))\n",
    "\n",
    "    def call(self, X):\n",
    "        for layer in self.residual_layers.layers:  # tf.keras.Model.layers\n",
    "            X = layer(X)\n",
    "        return X\n",
    "    "
   ]
  },
  {
   "cell_type": "code",
   "execution_count": null,
   "metadata": {},
   "outputs": [],
   "source": [
    "class YourModel(DefaultModel):\n",
    "    def __init__(self,\n",
    "                 name='network1',\n",
    "                 width=32, height=32, depth=3,\n",
    "                 num_blocks=2,\n",
    "                 feature_maps=32,\n",
    "                 num_classes=4, \n",
    "                 drop_rate=0.2,\n",
    "                 batch_norm = None,\n",
    "                 is_augmentation = False,\n",
    "                 activation_func='relu',\n",
    "                 use_skip = True,\n",
    "                 optimizer='adam',\n",
    "                 batch_size=10,\n",
    "                 num_epochs= 20,\n",
    "                 learning_rate=0.0001,\n",
    "                 verbose= True):\n",
    "        super(YourModel, self).__init__(name, width, height, depth, num_blocks, feature_maps, num_classes, drop_rate, batch_norm, is_augmentation, \n",
    "                                        activation_func, use_skip, optimizer, batch_size, num_epochs, learning_rate, verbose)\n",
    "\n",
    "\n",
    "    def build_cnn(self):\n",
    "        #Insert your code here\n",
    "        self.model = models.Sequential()\n",
    "        \n",
    "        # Each block has the pattern [conv, batch norm, activation, conv, batch norm, activation, mean pool, dropout]\n",
    "        # start with 32 feature maps, each successive block will multiply feature map count by 2\n",
    "        for feature_map_count in self.feature_maps: \n",
    "            # print(type(self.feature_maps))\n",
    "            print(f'feature_map_count: {feature_map_count}')\n",
    "            \n",
    "            self.model.add(Block(feature_map_count, drop_rate=self.drop_rate, use_skip=self.use_skip, use_1x1conv=True, strides=1)) # strides (1,1)\n",
    "            \n",
    "            self.model.add(NetLayer(feature_map_count, drop_rate=self.drop_rate, use_skip=self.use_skip, use_1x1conv=True, strides=1)) # strides (1,1)\n",
    "\n",
    "        # flatten layer\n",
    "        self.model.add(layers.Flatten())\n",
    "        # Fully connected layer \n",
    "        self.model.add(layers.Dense(self.num_classes, activation='softmax'))\n",
    "\n",
    "        self.model.compile(optimizer=self.optimizer, loss='sparse_categorical_crossentropy', metrics=['accuracy'])\n",
    "\n",
    "        # self.model.add(Block(self.feature_maps[0], drop_rate=self.drop_rate, use_skip=self.use_skip, use_1x1conv=True, strides=1)) # strides (1,1)\n",
    "        \n",
    "        \"\"\"\n",
    "        self.model.add(layers.Conv2D(32, (3,3), padding='same', activation=self.activation_func, input_shape=(32,32,3)))\n",
    "        self.model.add(layers.Conv2D(32, (3,3), padding='same', activation=self.activation_func))\n",
    "        self.model.add(layers.AveragePooling2D(pool_size=(2, 2), padding='same'))\n",
    "        self.model.add(layers.Conv2D(64, (3,3), padding='same', activation=self.activation_func))\n",
    "        self.model.add(layers.Conv2D(64, (3,3), padding='same', activation=self.activation_func))\n",
    "        self.model.add(layers.AveragePooling2D(pool_size=(2, 2), padding='same'))\n",
    "        self.model.add(layers.Flatten())\n",
    "        self.model.add(layers.Dense(self.num_classes, activation='softmax'))\n",
    "        self.model.compile(optimizer=self.optimizer, loss='sparse_categorical_crossentropy', metrics=['accuracy'])\n",
    "        \"\"\"\n",
    "\n",
    "        \n",
    "        \n"
   ]
  },
  {
   "cell_type": "markdown",
   "metadata": {},
   "source": [
    "<span style=\"color:red\">**Question 3.3**</span> **Once writing your own model, you need to compare two cases: (i) *using the skip connection* and (ii) *not using the skip connection*. You should set the instance variable `use_skip` to either `True` or `False`. For your runs, report which case is better and if you confront overfitting in training.**\n",
    "    \n",
    "<div style=\"text-align: right\"> <span style=\"color:red\">[6 points]</span> </div>"
   ]
  },
  {
   "cell_type": "markdown",
   "metadata": {},
   "source": [
    "#*Write your report and observation here*\n",
    "\n",
    ".....\n",
    "\n",
    "\n"
   ]
  },
  {
   "cell_type": "code",
   "execution_count": null,
   "metadata": {},
   "outputs": [
    {
     "name": "stdout",
     "output_type": "stream",
     "text": [
      "feature_map_count: 32\n",
      "initialized layers in Block class class\n",
      "feature_map_count: 64\n",
      "initialized layers in Block class class\n"
     ]
    },
    {
     "ename": "ValueError",
     "evalue": "This model has not yet been built. Build the model first by calling `build()` or calling `fit()` with some data, or specify an `input_shape` argument in the first layer(s) for automatic build.",
     "output_type": "error",
     "traceback": [
      "\u001b[1;31m---------------------------------------------------------------------------\u001b[0m",
      "\u001b[1;31mValueError\u001b[0m                                Traceback (most recent call last)",
      "\u001b[1;32md:\\monash stuff\\education stuff\\3rd yr\\FIT3181 Deep Learning\\assignment\\FIT3181_Assignment_1\\FIT3181_Assignment1-2022.ipynb Cell 125\u001b[0m in \u001b[0;36m<cell line: 14>\u001b[1;34m()\u001b[0m\n\u001b[0;32m      <a href='vscode-notebook-cell:/d%3A/monash%20stuff/education%20stuff/3rd%20yr/FIT3181%20Deep%20Learning/assignment/FIT3181_Assignment_1/FIT3181_Assignment1-2022.ipynb#Y231sZmlsZQ%3D%3D?line=0'>1</a>\u001b[0m our_network_skip \u001b[39m=\u001b[39m YourModel(name\u001b[39m=\u001b[39m\u001b[39m'\u001b[39m\u001b[39mnetwork1\u001b[39m\u001b[39m'\u001b[39m,\n\u001b[0;32m      <a href='vscode-notebook-cell:/d%3A/monash%20stuff/education%20stuff/3rd%20yr/FIT3181%20Deep%20Learning/assignment/FIT3181_Assignment_1/FIT3181_Assignment1-2022.ipynb#Y231sZmlsZQ%3D%3D?line=1'>2</a>\u001b[0m                      feature_maps\u001b[39m=\u001b[39m\u001b[39m32\u001b[39m,\n\u001b[0;32m      <a href='vscode-notebook-cell:/d%3A/monash%20stuff/education%20stuff/3rd%20yr/FIT3181%20Deep%20Learning/assignment/FIT3181_Assignment_1/FIT3181_Assignment1-2022.ipynb#Y231sZmlsZQ%3D%3D?line=2'>3</a>\u001b[0m                      num_classes\u001b[39m=\u001b[39m\u001b[39mlen\u001b[39m(data_manager\u001b[39m.\u001b[39mclasses),\n\u001b[1;32m   (...)\u001b[0m\n\u001b[0;32m      <a href='vscode-notebook-cell:/d%3A/monash%20stuff/education%20stuff/3rd%20yr/FIT3181%20Deep%20Learning/assignment/FIT3181_Assignment_1/FIT3181_Assignment1-2022.ipynb#Y231sZmlsZQ%3D%3D?line=8'>9</a>\u001b[0m                      optimizer\u001b[39m=\u001b[39m\u001b[39m'\u001b[39m\u001b[39madam\u001b[39m\u001b[39m'\u001b[39m,\n\u001b[0;32m     <a href='vscode-notebook-cell:/d%3A/monash%20stuff/education%20stuff/3rd%20yr/FIT3181%20Deep%20Learning/assignment/FIT3181_Assignment_1/FIT3181_Assignment1-2022.ipynb#Y231sZmlsZQ%3D%3D?line=9'>10</a>\u001b[0m                      learning_rate\u001b[39m=\u001b[39m \u001b[39m0.001\u001b[39m)\n\u001b[0;32m     <a href='vscode-notebook-cell:/d%3A/monash%20stuff/education%20stuff/3rd%20yr/FIT3181%20Deep%20Learning/assignment/FIT3181_Assignment_1/FIT3181_Assignment1-2022.ipynb#Y231sZmlsZQ%3D%3D?line=11'>12</a>\u001b[0m our_network_skip\u001b[39m.\u001b[39mbuild_cnn()\n\u001b[1;32m---> <a href='vscode-notebook-cell:/d%3A/monash%20stuff/education%20stuff/3rd%20yr/FIT3181%20Deep%20Learning/assignment/FIT3181_Assignment_1/FIT3181_Assignment1-2022.ipynb#Y231sZmlsZQ%3D%3D?line=13'>14</a>\u001b[0m our_network_skip\u001b[39m.\u001b[39;49msummary()\n",
      "File \u001b[1;32md:\\monash stuff\\education stuff\\3rd yr\\FIT3181 Deep Learning\\assignment\\FIT3181_Assignment_1\\models.py:149\u001b[0m, in \u001b[0;36mDefaultModel.summary\u001b[1;34m(self)\u001b[0m\n\u001b[0;32m    147\u001b[0m \u001b[39mdef\u001b[39;00m \u001b[39msummary\u001b[39m(\u001b[39mself\u001b[39m):\n\u001b[1;32m--> 149\u001b[0m     \u001b[39mprint\u001b[39m(\u001b[39mself\u001b[39;49m\u001b[39m.\u001b[39;49mmodel\u001b[39m.\u001b[39;49msummary())\n",
      "File \u001b[1;32mc:\\Users\\PC\\anaconda3\\envs\\tf2_cpu\\lib\\site-packages\\keras\\engine\\training.py:2521\u001b[0m, in \u001b[0;36mModel.summary\u001b[1;34m(self, line_length, positions, print_fn)\u001b[0m\n\u001b[0;32m   2503\u001b[0m \u001b[39m\"\"\"Prints a string summary of the network.\u001b[39;00m\n\u001b[0;32m   2504\u001b[0m \n\u001b[0;32m   2505\u001b[0m \u001b[39mArgs:\u001b[39;00m\n\u001b[1;32m   (...)\u001b[0m\n\u001b[0;32m   2518\u001b[0m \u001b[39m    ValueError: if `summary()` is called before the model is built.\u001b[39;00m\n\u001b[0;32m   2519\u001b[0m \u001b[39m\"\"\"\u001b[39;00m\n\u001b[0;32m   2520\u001b[0m \u001b[39mif\u001b[39;00m \u001b[39mnot\u001b[39;00m \u001b[39mself\u001b[39m\u001b[39m.\u001b[39mbuilt:\n\u001b[1;32m-> 2521\u001b[0m   \u001b[39mraise\u001b[39;00m \u001b[39mValueError\u001b[39;00m(\u001b[39m'\u001b[39m\u001b[39mThis model has not yet been built. \u001b[39m\u001b[39m'\u001b[39m\n\u001b[0;32m   2522\u001b[0m                    \u001b[39m'\u001b[39m\u001b[39mBuild the model first by calling `build()` or calling \u001b[39m\u001b[39m'\u001b[39m\n\u001b[0;32m   2523\u001b[0m                    \u001b[39m'\u001b[39m\u001b[39m`fit()` with some data, or specify \u001b[39m\u001b[39m'\u001b[39m\n\u001b[0;32m   2524\u001b[0m                    \u001b[39m'\u001b[39m\u001b[39man `input_shape` argument in the first layer(s) for \u001b[39m\u001b[39m'\u001b[39m\n\u001b[0;32m   2525\u001b[0m                    \u001b[39m'\u001b[39m\u001b[39mautomatic build.\u001b[39m\u001b[39m'\u001b[39m)\n\u001b[0;32m   2526\u001b[0m layer_utils\u001b[39m.\u001b[39mprint_summary(\u001b[39mself\u001b[39m,\n\u001b[0;32m   2527\u001b[0m                           line_length\u001b[39m=\u001b[39mline_length,\n\u001b[0;32m   2528\u001b[0m                           positions\u001b[39m=\u001b[39mpositions,\n\u001b[0;32m   2529\u001b[0m                           print_fn\u001b[39m=\u001b[39mprint_fn)\n",
      "\u001b[1;31mValueError\u001b[0m: This model has not yet been built. Build the model first by calling `build()` or calling `fit()` with some data, or specify an `input_shape` argument in the first layer(s) for automatic build."
     ]
    }
   ],
   "source": [
    "our_network_skip = YourModel(name='network1',\n",
    "                     feature_maps=32,\n",
    "                     num_classes=len(data_manager.classes),\n",
    "                    #  num_blocks=3,\n",
    "                     num_blocks=2,\n",
    "                     drop_rate= 0.0, \n",
    "                     batch_norm=True, \n",
    "                     use_skip = True,\n",
    "                     optimizer='adam',\n",
    "                     learning_rate= 0.001)\n",
    "\n",
    "our_network_skip.build_cnn()\n",
    "\n",
    "our_network_skip.summary()"
   ]
  },
  {
   "cell_type": "code",
   "execution_count": null,
   "metadata": {},
   "outputs": [
    {
     "name": "stdout",
     "output_type": "stream",
     "text": [
      "<models.AnimalsDatasetManager object at 0x000001FBD76AFAF0>\n"
     ]
    }
   ],
   "source": [
    "print(data_manager)"
   ]
  },
  {
   "cell_type": "code",
   "execution_count": null,
   "metadata": {},
   "outputs": [
    {
     "name": "stdout",
     "output_type": "stream",
     "text": [
      "Epoch 1/20\n",
      " 35/125 [=======>......................] - ETA: 3s - loss: 2.2284 - accuracy: 0.1402"
     ]
    },
    {
     "ename": "KeyboardInterrupt",
     "evalue": "",
     "output_type": "error",
     "traceback": [
      "\u001b[1;31m---------------------------------------------------------------------------\u001b[0m",
      "\u001b[1;31mKeyboardInterrupt\u001b[0m                         Traceback (most recent call last)",
      "\u001b[1;32md:\\monash stuff\\education stuff\\3rd yr\\FIT3181 Deep Learning\\assignment\\FIT3181_Assignment_1\\FIT3181_Assignment1-2022.ipynb Cell 126\u001b[0m in \u001b[0;36m<cell line: 1>\u001b[1;34m()\u001b[0m\n\u001b[1;32m----> <a href='vscode-notebook-cell:/d%3A/monash%20stuff/education%20stuff/3rd%20yr/FIT3181%20Deep%20Learning/assignment/FIT3181_Assignment_1/FIT3181_Assignment1-2022.ipynb#Y233sZmlsZQ%3D%3D?line=0'>1</a>\u001b[0m our_network_skip\u001b[39m.\u001b[39;49mfit(data_manager, batch_size\u001b[39m=\u001b[39;49m\u001b[39m32\u001b[39;49m, num_epochs\u001b[39m=\u001b[39;49m\u001b[39m20\u001b[39;49m)\n",
      "File \u001b[1;32md:\\monash stuff\\education stuff\\3rd yr\\FIT3181 Deep Learning\\assignment\\FIT3181_Assignment_1\\models.py:153\u001b[0m, in \u001b[0;36mDefaultModel.fit\u001b[1;34m(self, data_manager, batch_size, num_epochs)\u001b[0m\n\u001b[0;32m    151\u001b[0m num_epochs \u001b[39m=\u001b[39m \u001b[39mself\u001b[39m\u001b[39m.\u001b[39mnum_epochs \u001b[39mif\u001b[39;00m num_epochs \u001b[39mis\u001b[39;00m \u001b[39mNone\u001b[39;00m \u001b[39melse\u001b[39;00m num_epochs\n\u001b[0;32m    152\u001b[0m \u001b[39mself\u001b[39m\u001b[39m.\u001b[39mmodel\u001b[39m.\u001b[39mcompile(optimizer\u001b[39m=\u001b[39m\u001b[39mself\u001b[39m\u001b[39m.\u001b[39moptimizer, loss\u001b[39m=\u001b[39m\u001b[39m'\u001b[39m\u001b[39msparse_categorical_crossentropy\u001b[39m\u001b[39m'\u001b[39m, metrics\u001b[39m=\u001b[39m[\u001b[39m'\u001b[39m\u001b[39maccuracy\u001b[39m\u001b[39m'\u001b[39m])\n\u001b[1;32m--> 153\u001b[0m \u001b[39mself\u001b[39m\u001b[39m.\u001b[39mhistory \u001b[39m=\u001b[39m \u001b[39mself\u001b[39;49m\u001b[39m.\u001b[39;49mmodel\u001b[39m.\u001b[39;49mfit(x \u001b[39m=\u001b[39;49m data_manager\u001b[39m.\u001b[39;49mX_train, y \u001b[39m=\u001b[39;49m data_manager\u001b[39m.\u001b[39;49my_train, validation_data \u001b[39m=\u001b[39;49m (data_manager\u001b[39m.\u001b[39;49mX_valid, data_manager\u001b[39m.\u001b[39;49my_valid), \n\u001b[0;32m    154\u001b[0m                               epochs \u001b[39m=\u001b[39;49m num_epochs, batch_size \u001b[39m=\u001b[39;49m batch_size, verbose\u001b[39m=\u001b[39;49m \u001b[39mself\u001b[39;49m\u001b[39m.\u001b[39;49mverbose)\n",
      "File \u001b[1;32mc:\\Users\\PC\\anaconda3\\envs\\tf2_cpu\\lib\\site-packages\\keras\\engine\\training.py:1184\u001b[0m, in \u001b[0;36mModel.fit\u001b[1;34m(self, x, y, batch_size, epochs, verbose, callbacks, validation_split, validation_data, shuffle, class_weight, sample_weight, initial_epoch, steps_per_epoch, validation_steps, validation_batch_size, validation_freq, max_queue_size, workers, use_multiprocessing)\u001b[0m\n\u001b[0;32m   1177\u001b[0m \u001b[39mwith\u001b[39;00m tf\u001b[39m.\u001b[39mprofiler\u001b[39m.\u001b[39mexperimental\u001b[39m.\u001b[39mTrace(\n\u001b[0;32m   1178\u001b[0m     \u001b[39m'\u001b[39m\u001b[39mtrain\u001b[39m\u001b[39m'\u001b[39m,\n\u001b[0;32m   1179\u001b[0m     epoch_num\u001b[39m=\u001b[39mepoch,\n\u001b[0;32m   1180\u001b[0m     step_num\u001b[39m=\u001b[39mstep,\n\u001b[0;32m   1181\u001b[0m     batch_size\u001b[39m=\u001b[39mbatch_size,\n\u001b[0;32m   1182\u001b[0m     _r\u001b[39m=\u001b[39m\u001b[39m1\u001b[39m):\n\u001b[0;32m   1183\u001b[0m   callbacks\u001b[39m.\u001b[39mon_train_batch_begin(step)\n\u001b[1;32m-> 1184\u001b[0m   tmp_logs \u001b[39m=\u001b[39m \u001b[39mself\u001b[39;49m\u001b[39m.\u001b[39;49mtrain_function(iterator)\n\u001b[0;32m   1185\u001b[0m   \u001b[39mif\u001b[39;00m data_handler\u001b[39m.\u001b[39mshould_sync:\n\u001b[0;32m   1186\u001b[0m     context\u001b[39m.\u001b[39masync_wait()\n",
      "File \u001b[1;32mc:\\Users\\PC\\anaconda3\\envs\\tf2_cpu\\lib\\site-packages\\tensorflow\\python\\eager\\def_function.py:885\u001b[0m, in \u001b[0;36mFunction.__call__\u001b[1;34m(self, *args, **kwds)\u001b[0m\n\u001b[0;32m    882\u001b[0m compiler \u001b[39m=\u001b[39m \u001b[39m\"\u001b[39m\u001b[39mxla\u001b[39m\u001b[39m\"\u001b[39m \u001b[39mif\u001b[39;00m \u001b[39mself\u001b[39m\u001b[39m.\u001b[39m_jit_compile \u001b[39melse\u001b[39;00m \u001b[39m\"\u001b[39m\u001b[39mnonXla\u001b[39m\u001b[39m\"\u001b[39m\n\u001b[0;32m    884\u001b[0m \u001b[39mwith\u001b[39;00m OptionalXlaContext(\u001b[39mself\u001b[39m\u001b[39m.\u001b[39m_jit_compile):\n\u001b[1;32m--> 885\u001b[0m   result \u001b[39m=\u001b[39m \u001b[39mself\u001b[39m\u001b[39m.\u001b[39m_call(\u001b[39m*\u001b[39margs, \u001b[39m*\u001b[39m\u001b[39m*\u001b[39mkwds)\n\u001b[0;32m    887\u001b[0m new_tracing_count \u001b[39m=\u001b[39m \u001b[39mself\u001b[39m\u001b[39m.\u001b[39mexperimental_get_tracing_count()\n\u001b[0;32m    888\u001b[0m without_tracing \u001b[39m=\u001b[39m (tracing_count \u001b[39m==\u001b[39m new_tracing_count)\n",
      "File \u001b[1;32mc:\\Users\\PC\\anaconda3\\envs\\tf2_cpu\\lib\\site-packages\\tensorflow\\python\\eager\\def_function.py:917\u001b[0m, in \u001b[0;36mFunction._call\u001b[1;34m(self, *args, **kwds)\u001b[0m\n\u001b[0;32m    914\u001b[0m   \u001b[39mself\u001b[39m\u001b[39m.\u001b[39m_lock\u001b[39m.\u001b[39mrelease()\n\u001b[0;32m    915\u001b[0m   \u001b[39m# In this case we have created variables on the first call, so we run the\u001b[39;00m\n\u001b[0;32m    916\u001b[0m   \u001b[39m# defunned version which is guaranteed to never create variables.\u001b[39;00m\n\u001b[1;32m--> 917\u001b[0m   \u001b[39mreturn\u001b[39;00m \u001b[39mself\u001b[39m\u001b[39m.\u001b[39m_stateless_fn(\u001b[39m*\u001b[39margs, \u001b[39m*\u001b[39m\u001b[39m*\u001b[39mkwds)  \u001b[39m# pylint: disable=not-callable\u001b[39;00m\n\u001b[0;32m    918\u001b[0m \u001b[39melif\u001b[39;00m \u001b[39mself\u001b[39m\u001b[39m.\u001b[39m_stateful_fn \u001b[39mis\u001b[39;00m \u001b[39mnot\u001b[39;00m \u001b[39mNone\u001b[39;00m:\n\u001b[0;32m    919\u001b[0m   \u001b[39m# Release the lock early so that multiple threads can perform the call\u001b[39;00m\n\u001b[0;32m    920\u001b[0m   \u001b[39m# in parallel.\u001b[39;00m\n\u001b[0;32m    921\u001b[0m   \u001b[39mself\u001b[39m\u001b[39m.\u001b[39m_lock\u001b[39m.\u001b[39mrelease()\n",
      "File \u001b[1;32mc:\\Users\\PC\\anaconda3\\envs\\tf2_cpu\\lib\\site-packages\\tensorflow\\python\\eager\\function.py:3039\u001b[0m, in \u001b[0;36mFunction.__call__\u001b[1;34m(self, *args, **kwargs)\u001b[0m\n\u001b[0;32m   3036\u001b[0m \u001b[39mwith\u001b[39;00m \u001b[39mself\u001b[39m\u001b[39m.\u001b[39m_lock:\n\u001b[0;32m   3037\u001b[0m   (graph_function,\n\u001b[0;32m   3038\u001b[0m    filtered_flat_args) \u001b[39m=\u001b[39m \u001b[39mself\u001b[39m\u001b[39m.\u001b[39m_maybe_define_function(args, kwargs)\n\u001b[1;32m-> 3039\u001b[0m \u001b[39mreturn\u001b[39;00m graph_function\u001b[39m.\u001b[39;49m_call_flat(\n\u001b[0;32m   3040\u001b[0m     filtered_flat_args, captured_inputs\u001b[39m=\u001b[39;49mgraph_function\u001b[39m.\u001b[39;49mcaptured_inputs)\n",
      "File \u001b[1;32mc:\\Users\\PC\\anaconda3\\envs\\tf2_cpu\\lib\\site-packages\\tensorflow\\python\\eager\\function.py:1963\u001b[0m, in \u001b[0;36mConcreteFunction._call_flat\u001b[1;34m(self, args, captured_inputs, cancellation_manager)\u001b[0m\n\u001b[0;32m   1959\u001b[0m possible_gradient_type \u001b[39m=\u001b[39m gradients_util\u001b[39m.\u001b[39mPossibleTapeGradientTypes(args)\n\u001b[0;32m   1960\u001b[0m \u001b[39mif\u001b[39;00m (possible_gradient_type \u001b[39m==\u001b[39m gradients_util\u001b[39m.\u001b[39mPOSSIBLE_GRADIENT_TYPES_NONE\n\u001b[0;32m   1961\u001b[0m     \u001b[39mand\u001b[39;00m executing_eagerly):\n\u001b[0;32m   1962\u001b[0m   \u001b[39m# No tape is watching; skip to running the function.\u001b[39;00m\n\u001b[1;32m-> 1963\u001b[0m   \u001b[39mreturn\u001b[39;00m \u001b[39mself\u001b[39m\u001b[39m.\u001b[39m_build_call_outputs(\u001b[39mself\u001b[39;49m\u001b[39m.\u001b[39;49m_inference_function\u001b[39m.\u001b[39;49mcall(\n\u001b[0;32m   1964\u001b[0m       ctx, args, cancellation_manager\u001b[39m=\u001b[39;49mcancellation_manager))\n\u001b[0;32m   1965\u001b[0m forward_backward \u001b[39m=\u001b[39m \u001b[39mself\u001b[39m\u001b[39m.\u001b[39m_select_forward_and_backward_functions(\n\u001b[0;32m   1966\u001b[0m     args,\n\u001b[0;32m   1967\u001b[0m     possible_gradient_type,\n\u001b[0;32m   1968\u001b[0m     executing_eagerly)\n\u001b[0;32m   1969\u001b[0m forward_function, args_with_tangents \u001b[39m=\u001b[39m forward_backward\u001b[39m.\u001b[39mforward()\n",
      "File \u001b[1;32mc:\\Users\\PC\\anaconda3\\envs\\tf2_cpu\\lib\\site-packages\\tensorflow\\python\\eager\\function.py:591\u001b[0m, in \u001b[0;36m_EagerDefinedFunction.call\u001b[1;34m(self, ctx, args, cancellation_manager)\u001b[0m\n\u001b[0;32m    589\u001b[0m \u001b[39mwith\u001b[39;00m _InterpolateFunctionError(\u001b[39mself\u001b[39m):\n\u001b[0;32m    590\u001b[0m   \u001b[39mif\u001b[39;00m cancellation_manager \u001b[39mis\u001b[39;00m \u001b[39mNone\u001b[39;00m:\n\u001b[1;32m--> 591\u001b[0m     outputs \u001b[39m=\u001b[39m execute\u001b[39m.\u001b[39;49mexecute(\n\u001b[0;32m    592\u001b[0m         \u001b[39mstr\u001b[39;49m(\u001b[39mself\u001b[39;49m\u001b[39m.\u001b[39;49msignature\u001b[39m.\u001b[39;49mname),\n\u001b[0;32m    593\u001b[0m         num_outputs\u001b[39m=\u001b[39;49m\u001b[39mself\u001b[39;49m\u001b[39m.\u001b[39;49m_num_outputs,\n\u001b[0;32m    594\u001b[0m         inputs\u001b[39m=\u001b[39;49margs,\n\u001b[0;32m    595\u001b[0m         attrs\u001b[39m=\u001b[39;49mattrs,\n\u001b[0;32m    596\u001b[0m         ctx\u001b[39m=\u001b[39;49mctx)\n\u001b[0;32m    597\u001b[0m   \u001b[39melse\u001b[39;00m:\n\u001b[0;32m    598\u001b[0m     outputs \u001b[39m=\u001b[39m execute\u001b[39m.\u001b[39mexecute_with_cancellation(\n\u001b[0;32m    599\u001b[0m         \u001b[39mstr\u001b[39m(\u001b[39mself\u001b[39m\u001b[39m.\u001b[39msignature\u001b[39m.\u001b[39mname),\n\u001b[0;32m    600\u001b[0m         num_outputs\u001b[39m=\u001b[39m\u001b[39mself\u001b[39m\u001b[39m.\u001b[39m_num_outputs,\n\u001b[1;32m   (...)\u001b[0m\n\u001b[0;32m    603\u001b[0m         ctx\u001b[39m=\u001b[39mctx,\n\u001b[0;32m    604\u001b[0m         cancellation_manager\u001b[39m=\u001b[39mcancellation_manager)\n",
      "File \u001b[1;32mc:\\Users\\PC\\anaconda3\\envs\\tf2_cpu\\lib\\site-packages\\tensorflow\\python\\eager\\execute.py:59\u001b[0m, in \u001b[0;36mquick_execute\u001b[1;34m(op_name, num_outputs, inputs, attrs, ctx, name)\u001b[0m\n\u001b[0;32m     57\u001b[0m \u001b[39mtry\u001b[39;00m:\n\u001b[0;32m     58\u001b[0m   ctx\u001b[39m.\u001b[39mensure_initialized()\n\u001b[1;32m---> 59\u001b[0m   tensors \u001b[39m=\u001b[39m pywrap_tfe\u001b[39m.\u001b[39;49mTFE_Py_Execute(ctx\u001b[39m.\u001b[39;49m_handle, device_name, op_name,\n\u001b[0;32m     60\u001b[0m                                       inputs, attrs, num_outputs)\n\u001b[0;32m     61\u001b[0m \u001b[39mexcept\u001b[39;00m core\u001b[39m.\u001b[39m_NotOkStatusException \u001b[39mas\u001b[39;00m e:\n\u001b[0;32m     62\u001b[0m   \u001b[39mif\u001b[39;00m name \u001b[39mis\u001b[39;00m \u001b[39mnot\u001b[39;00m \u001b[39mNone\u001b[39;00m:\n",
      "\u001b[1;31mKeyboardInterrupt\u001b[0m: "
     ]
    }
   ],
   "source": [
    "our_network_skip.fit(data_manager, batch_size=32, num_epochs=20)"
   ]
  },
  {
   "cell_type": "code",
   "execution_count": null,
   "metadata": {},
   "outputs": [],
   "source": [
    "our_network_no_skip = YourModel(name='network1',\n",
    "                     feature_maps=32,\n",
    "                     num_classes=len(data_manager.classes),\n",
    "                     num_blocks=3,\n",
    "                     drop_rate= 0.0, \n",
    "                     batch_norm=True, \n",
    "                     use_skip = False,\n",
    "                     optimizer='adam',\n",
    "                     learning_rate= 0.001)\n",
    "\n",
    "our_network_no_skip.build_cnn()\n",
    "our_network_no_skip.summary()"
   ]
  },
  {
   "cell_type": "code",
   "execution_count": null,
   "metadata": {},
   "outputs": [],
   "source": [
    "our_network_no_skip.fit(data_manager, batch_size=32, num_epochs=20)"
   ]
  },
  {
   "cell_type": "markdown",
   "metadata": {},
   "source": [
    "<span style=\"color:red\">**Question 3.4**</span> **Now, let us tune the $num\\_blocks \\in \\{2,3,4\\}$, $use\\_skip \\in \\{True, False\\}$, and $learning\\_rate \\in \\{0.001, 0.0001\\}$. Write your code for this tuning and report the result of the best model on the testing set. Note that you need to show your code for tuning and evaluating on the test set to earn the full marks. During tuning, you can set the instance variable `verbose` of your model to `False` for not showing the training details of each epoch.**\n",
    " \n",
    "<div style=\"text-align: right\"> <span style=\"color:red\">[4 points]</span> </div>"
   ]
  },
  {
   "cell_type": "markdown",
   "metadata": {},
   "source": [
    "#*Report the best parameters and the testing accuracy here*\n",
    "\n",
    "....."
   ]
  },
  {
   "cell_type": "code",
   "execution_count": null,
   "metadata": {},
   "outputs": [],
   "source": [
    "#Insert your code here. You can add more cells if necessary\n"
   ]
  },
  {
   "cell_type": "markdown",
   "metadata": {},
   "source": [
    "<span style=\"color:red\">**Question 3.5**</span> **We now try to apply data augmentation to improve the performance. Extend the code of the class `YourModel` so that if the attribute `is_augmentation` is set to `True`, we apply the data augmentation. Also you need to incorporate early stopping to your training process. Specifically, you early stop the training if the valid accuracy cannot increase in three consecutive epochs.**\n",
    "   \n",
    "<div style=\"text-align: right\"> <span style=\"color:red\">[4 points]</span> </div>"
   ]
  },
  {
   "cell_type": "code",
   "execution_count": null,
   "metadata": {},
   "outputs": [],
   "source": [
    "from tensorflow.keras.preprocessing.image import ImageDataGenerator"
   ]
  },
  {
   "cell_type": "markdown",
   "metadata": {},
   "source": [
    "Wtire your code in the cell below. Hint that you can rewrite the code of the `fit` method to apply the data augmentation. In addition, you can copy the code of `build_cnn` method above to reuse here."
   ]
  },
  {
   "cell_type": "code",
   "execution_count": null,
   "metadata": {},
   "outputs": [],
   "source": [
    "class YourModel(DefaultModel):\n",
    "    def __init__(self,\n",
    "                 name='network1',\n",
    "                 width=32, height=32, depth=3,\n",
    "                 num_blocks=2,\n",
    "                 feature_maps=32,\n",
    "                 num_classes=4, \n",
    "                 drop_rate=0.2,\n",
    "                 batch_norm = None,\n",
    "                 is_augmentation = False,\n",
    "                 activation_func='relu',\n",
    "                 use_skip = True,\n",
    "                 optimizer='adam',\n",
    "                 batch_size=10,\n",
    "                 num_epochs= 20,\n",
    "                 learning_rate=0.0001):\n",
    "        super(YourModel, self).__init__(name, width, height, depth, num_blocks, feature_maps, num_classes, drop_rate, batch_norm, is_augmentation, \n",
    "                                        activation_func, use_skip, optimizer, batch_size, num_epochs, learning_rate)\n",
    "    \n",
    "    def build_cnn(self):\n",
    "        #reuse code of previous section here\n",
    "    \n",
    "    def fit(self, data_manager, batch_size=None, num_epochs=None):\n",
    "        #insert your code here"
   ]
  },
  {
   "cell_type": "markdown",
   "metadata": {},
   "source": [
    "<span style=\"color:red\">**Question 3.6**</span> **Leverage your best model with the data augmentation and try to observe the difference in performance between using data augmentation and non-using it.**\n",
    "   \n",
    "<div style=\"text-align: right\"> <span style=\"color:red\">[4 points]</span> </div>"
   ]
  },
  {
   "cell_type": "markdown",
   "metadata": {},
   "source": [
    "#*Write your answer and observation here*\n",
    "\n",
    "....."
   ]
  },
  {
   "cell_type": "code",
   "execution_count": null,
   "metadata": {},
   "outputs": [],
   "source": [
    "#Insert your code here. You can add more cells if necessary\n"
   ]
  },
  {
   "cell_type": "markdown",
   "metadata": {},
   "source": [
    "<span style=\"color:red\">**Question 3.7**</span> **Exploring Data Mixup Technique for Improving Generalization Ability.**\n",
    "   \n",
    "<div style=\"text-align: right\"> <span style=\"color:red\">[4 points]</span> </div>\n",
    "\n",
    "Data mixup is another super-simple technique used to boost the generalization ability of deep learning models. You need to incoroporate data mixup technique to the above deep learning model and experiment its performance. There are some papers and documents for data mixup as follows:\n",
    "- Main paper for data mixup [link for main paper](https://openreview.net/pdf?id=r1Ddp1-Rb) and a good article [article link](https://www.inference.vc/mixup-data-dependent-data-augmentation/).\n",
    "\n",
    "You need to extend your model developed above, train a model using data mixup, and write your observations and comments about the result."
   ]
  },
  {
   "cell_type": "markdown",
   "metadata": {},
   "source": [
    "#*Write your answer and observation here*\n",
    "\n",
    ".....\n"
   ]
  },
  {
   "cell_type": "code",
   "execution_count": null,
   "metadata": {},
   "outputs": [],
   "source": [
    "#Insert your code here. You can add more cells if necessary\n",
    "\n"
   ]
  },
  {
   "cell_type": "markdown",
   "metadata": {},
   "source": [
    "<span style=\"color:red\">**Question 3.8**</span> **Attack your best obtained model with PGD, MIM, and FGSM attacks with $\\epsilon= 0.0313, k=20, \\eta= 0.002$ on the testing set. Write the code for the attacks and report the robust accuracies. Also choose a random set of 20 clean images in the testing set and visualize the original and attacked images.**\n",
    "   \n",
    "<div style=\"text-align: right\"> <span style=\"color:red\">[5 points]</span> </div>"
   ]
  },
  {
   "cell_type": "code",
   "execution_count": null,
   "metadata": {},
   "outputs": [],
   "source": [
    "#Insert your code here. You can add more cells if necessary\n",
    "\n"
   ]
  },
  {
   "cell_type": "markdown",
   "metadata": {},
   "source": [
    "<span style=\"color:red\">**Question 3.9**</span> **Train a robust model using adversarial training with PGD ${\\epsilon= 0.0313, k=10, \\eta= 0.002}$. Write the code for the adversarial training and report the robust accuracies. After finishing the training, you need to store your best robust model in the folder `./models` and load the model to evaluate the robust accuracies for PGD, MIM, and FGSM attacks with $\\epsilon= 0.0313, k=20, \\eta= 0.002$ on the testing set.**\n",
    "   \n",
    "<div style=\"text-align: right\"> <span style=\"color:red\">[5 points]</span> </div>"
   ]
  },
  {
   "cell_type": "code",
   "execution_count": null,
   "metadata": {},
   "outputs": [],
   "source": [
    "#Insert your code here. You can add more cells if necessary\n",
    "\n"
   ]
  },
  {
   "cell_type": "markdown",
   "metadata": {},
   "source": [
    "The following is an exploring question with bonus points. It is great if you try to do this question, but it is **totally optional**. In this question, we will investigate a recent SOTA technique to improve the generalization ability of deep nets named *Sharpness-Aware Minimization (SAM)* ([link to the main paper](https://openreview.net/pdf?id=6Tm1mposlrM)).  Furthermore, SAM is simple and efficient technique, but roughly doubles the training time due to its required computation. If you have an idea to improve SAM, it would be a great paper to top-tier venues in machine learning and computer vision. Highly recommend to give it a try. "
   ]
  },
  {
   "cell_type": "markdown",
   "metadata": {},
   "source": [
    "<span style=\"color:red\">**Question 3.10**</span> (**additionally exploring question**) Read the SAM paper ([link to the main paper](https://openreview.net/pdf?id=6Tm1mposlrM)). Try to apply this techique to the best obtained model and report the results. For the purpose of implementating SAM, we can flexibly add more cells and extensions to the `model.py` file.\n",
    "\n",
    "<div style=\"text-align: right\"> <span style=\"color:red\">[5 points]</span> </div>"
   ]
  },
  {
   "cell_type": "code",
   "execution_count": null,
   "metadata": {},
   "outputs": [],
   "source": [
    "#Insert your code here. You can add more cells if necessary\n",
    "\n",
    "\n"
   ]
  },
  {
   "cell_type": "markdown",
   "metadata": {},
   "source": [
    "--- \n",
    "**<div style=\"text-align: center\"> <span style=\"color:black\">END OF ASSIGNMENT</span> </div>**\n",
    "**<div style=\"text-align: center\"> <span style=\"color:black\">GOOD LUCK WITH YOUR ASSIGNMENT 1!</span> </div>**"
   ]
  }
 ],
 "metadata": {
  "kernelspec": {
   "display_name": "Python 3.9.12 ('tf2_cpu')",
   "language": "python",
   "name": "python3"
  },
  "language_info": {
   "codemirror_mode": {
    "name": "ipython",
    "version": 3
   },
   "file_extension": ".py",
   "mimetype": "text/x-python",
   "name": "python",
   "nbconvert_exporter": "python",
   "pygments_lexer": "ipython3",
   "version": "3.9.12"
  },
  "vscode": {
   "interpreter": {
    "hash": "92c79073133677da89801d1b4bc42714b1a3d83cbc90a7f9c522b094b613b522"
   }
  }
 },
 "nbformat": 4,
 "nbformat_minor": 4
}
