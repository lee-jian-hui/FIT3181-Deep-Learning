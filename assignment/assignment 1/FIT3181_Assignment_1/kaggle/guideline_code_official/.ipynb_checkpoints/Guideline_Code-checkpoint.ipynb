{
 "cells": [
  {
   "cell_type": "code",
   "execution_count": 1,
   "metadata": {},
   "outputs": [],
   "source": [
    "%load_ext autoreload\n",
    "%autoreload 2"
   ]
  },
  {
   "cell_type": "code",
   "execution_count": 2,
   "metadata": {},
   "outputs": [],
   "source": [
    "import tensorflow as tf\n",
    "from tensorflow import keras\n",
    "from tensorflow.keras import models, layers\n",
    "import cv2\n",
    "import os\n",
    "from imutils import paths\n",
    "import imutils\n",
    "import numpy as np\n",
    "from sklearn.model_selection import train_test_split\n",
    "from sklearn import preprocessing\n",
    "import matplotlib.pyplot as plt\n",
    "plt.style.use('ggplot')\n",
    "%matplotlib inline\n",
    "import models\n",
    "from models import SimplePreprocessor, AnimalsDatasetManager"
   ]
  },
  {
   "cell_type": "code",
   "execution_count": 3,
   "metadata": {},
   "outputs": [],
   "source": [
    "def build_cnn():\n",
    "    model = models.models.Sequential()\n",
    "    model.add(layers.Conv2D(32, (3,3), padding='same', activation= 'relu', input_shape=(32,32,3)))\n",
    "    model.add(layers.Conv2D(32, (3,3), padding='same', activation='relu'))\n",
    "    model.add(layers.AveragePooling2D(pool_size=(2, 2), padding='same'))\n",
    "    model.add(layers.Conv2D(64, (3,3), padding='same', activation='relu'))\n",
    "    model.add(layers.Conv2D(64, (3,3), padding='same', activation='relu'))\n",
    "    model.add(layers.AveragePooling2D(pool_size=(2, 2), padding='same'))\n",
    "    model.add(layers.Flatten())\n",
    "    model.add(layers.Dense(10, activation='softmax'))\n",
    "    return model"
   ]
  },
  {
   "cell_type": "code",
   "execution_count": 4,
   "metadata": {},
   "outputs": [],
   "source": [
    "def create_label_folder_dict(adir):\n",
    "    sub_folders= [folder for folder in os.listdir(adir)\n",
    "                  if os.path.isdir(os.path.join(adir, folder))]\n",
    "    label_folder_dict= dict()\n",
    "    for folder in sub_folders:\n",
    "        item= {folder: os.path.abspath(os.path.join(adir, folder))}\n",
    "        label_folder_dict.update(item)\n",
    "    return label_folder_dict"
   ]
  },
  {
   "cell_type": "code",
   "execution_count": 5,
   "metadata": {},
   "outputs": [],
   "source": [
    "label_folder_dict= create_label_folder_dict(\"./datasets/Animals\")"
   ]
  },
  {
   "cell_type": "code",
   "execution_count": 6,
   "metadata": {},
   "outputs": [
    {
     "name": "stdout",
     "output_type": "stream",
     "text": [
      "butterfiles 500\n",
      "Processed 100/500\n",
      "Processed 200/500\n",
      "Processed 300/500\n",
      "Processed 400/500\n",
      "Processed 500/500\n",
      "cats 501\n",
      "Processed 100/500\n",
      "Processed 200/500\n",
      "Processed 300/500\n",
      "Processed 400/500\n",
      "Processed 500/500\n",
      "chickens 500\n",
      "Processed 100/500\n",
      "Processed 200/500\n",
      "Processed 300/500\n",
      "Processed 400/500\n",
      "Processed 500/500\n",
      "cows 500\n",
      "Processed 100/500\n",
      "Processed 200/500\n",
      "Processed 300/500\n",
      "Processed 400/500\n",
      "Processed 500/500\n",
      "dogs 501\n",
      "Processed 100/500\n",
      "Processed 200/500\n",
      "Processed 300/500\n",
      "Processed 400/500\n",
      "Processed 500/500\n",
      "elephants 500\n",
      "Processed 100/500\n",
      "Processed 200/500\n",
      "Processed 300/500\n",
      "Processed 400/500\n",
      "Processed 500/500\n",
      "fishes 500\n",
      "Processed 100/500\n",
      "Processed 200/500\n",
      "Processed 300/500\n",
      "Processed 400/500\n",
      "Processed 500/500\n",
      "horses 500\n",
      "Processed 100/500\n",
      "Processed 200/500\n",
      "Processed 300/500\n",
      "Processed 400/500\n",
      "Processed 500/500\n",
      "lions 500\n",
      "Processed 100/500\n",
      "Processed 200/500\n",
      "Processed 300/500\n",
      "Processed 400/500\n",
      "Processed 500/500\n",
      "spiders 500\n",
      "Processed 100/500\n",
      "Processed 200/500\n",
      "Processed 300/500\n",
      "Processed 400/500\n",
      "Processed 500/500\n"
     ]
    }
   ],
   "source": [
    "sp = SimplePreprocessor(width=32, height=32)\n",
    "data_manager = AnimalsDatasetManager([sp])\n",
    "data_manager.load(label_folder_dict, verbose=100)\n",
    "data_manager.process_data_label()\n",
    "data_manager.train_valid_test_split()"
   ]
  },
  {
   "cell_type": "code",
   "execution_count": 7,
   "metadata": {},
   "outputs": [],
   "source": [
    "model = build_cnn()"
   ]
  },
  {
   "cell_type": "code",
   "execution_count": 8,
   "metadata": {},
   "outputs": [
    {
     "name": "stdout",
     "output_type": "stream",
     "text": [
      "Train on 4000 samples, validate on 500 samples\n",
      "Epoch 1/30\n",
      "4000/4000 [==============================] - 6s 2ms/sample - loss: 2.0673 - accuracy: 0.2515 - val_loss: 1.8944 - val_accuracy: 0.3480\n",
      "Epoch 2/30\n",
      "4000/4000 [==============================] - 6s 1ms/sample - loss: 1.7161 - accuracy: 0.4000 - val_loss: 1.7054 - val_accuracy: 0.4080\n",
      "Epoch 3/30\n",
      "4000/4000 [==============================] - 6s 1ms/sample - loss: 1.5653 - accuracy: 0.4570 - val_loss: 1.7054 - val_accuracy: 0.4580\n",
      "Epoch 4/30\n",
      "4000/4000 [==============================] - 6s 1ms/sample - loss: 1.4145 - accuracy: 0.5048 - val_loss: 1.6883 - val_accuracy: 0.4800\n",
      "Epoch 5/30\n",
      "4000/4000 [==============================] - 6s 2ms/sample - loss: 1.2742 - accuracy: 0.5545 - val_loss: 1.6076 - val_accuracy: 0.5080\n",
      "Epoch 6/30\n",
      "4000/4000 [==============================] - 6s 2ms/sample - loss: 1.1257 - accuracy: 0.6227 - val_loss: 1.5366 - val_accuracy: 0.5380\n",
      "Epoch 7/30\n",
      "4000/4000 [==============================] - 6s 1ms/sample - loss: 1.0085 - accuracy: 0.6565 - val_loss: 1.4795 - val_accuracy: 0.5600\n",
      "Epoch 8/30\n",
      "4000/4000 [==============================] - 6s 1ms/sample - loss: 0.8776 - accuracy: 0.6990 - val_loss: 1.5711 - val_accuracy: 0.5220\n",
      "Epoch 9/30\n",
      "4000/4000 [==============================] - 6s 1ms/sample - loss: 0.7553 - accuracy: 0.7415 - val_loss: 1.7468 - val_accuracy: 0.5220\n",
      "Epoch 10/30\n",
      "4000/4000 [==============================] - 6s 1ms/sample - loss: 0.6346 - accuracy: 0.7837 - val_loss: 1.6219 - val_accuracy: 0.5460\n",
      "Epoch 11/30\n",
      "4000/4000 [==============================] - 6s 1ms/sample - loss: 0.5351 - accuracy: 0.8198 - val_loss: 1.8574 - val_accuracy: 0.5320\n",
      "Epoch 12/30\n",
      "4000/4000 [==============================] - 6s 1ms/sample - loss: 0.4154 - accuracy: 0.8547 - val_loss: 1.9652 - val_accuracy: 0.5680\n",
      "Epoch 13/30\n",
      "4000/4000 [==============================] - 6s 1ms/sample - loss: 0.3530 - accuracy: 0.8813 - val_loss: 2.2911 - val_accuracy: 0.5300\n",
      "Epoch 14/30\n",
      "4000/4000 [==============================] - 6s 1ms/sample - loss: 0.2618 - accuracy: 0.9137 - val_loss: 2.3868 - val_accuracy: 0.5400\n",
      "Epoch 15/30\n",
      "4000/4000 [==============================] - 6s 1ms/sample - loss: 0.1857 - accuracy: 0.9417 - val_loss: 2.7041 - val_accuracy: 0.5340\n",
      "Epoch 16/30\n",
      "4000/4000 [==============================] - 6s 1ms/sample - loss: 0.1684 - accuracy: 0.9410 - val_loss: 2.9890 - val_accuracy: 0.5220\n",
      "Epoch 17/30\n",
      "4000/4000 [==============================] - 6s 1ms/sample - loss: 0.1104 - accuracy: 0.9668 - val_loss: 3.1812 - val_accuracy: 0.5360\n",
      "Epoch 18/30\n",
      "4000/4000 [==============================] - 6s 1ms/sample - loss: 0.0830 - accuracy: 0.9785 - val_loss: 3.5518 - val_accuracy: 0.5360\n",
      "Epoch 19/30\n",
      "4000/4000 [==============================] - 6s 1ms/sample - loss: 0.0945 - accuracy: 0.9712 - val_loss: 3.9940 - val_accuracy: 0.5100\n",
      "Epoch 20/30\n",
      "4000/4000 [==============================] - 6s 1ms/sample - loss: 0.1116 - accuracy: 0.9668 - val_loss: 3.8271 - val_accuracy: 0.5160\n",
      "Epoch 21/30\n",
      "4000/4000 [==============================] - 6s 1ms/sample - loss: 0.1123 - accuracy: 0.9635 - val_loss: 3.4579 - val_accuracy: 0.5380\n",
      "Epoch 22/30\n",
      "4000/4000 [==============================] - 6s 1ms/sample - loss: 0.0429 - accuracy: 0.9887 - val_loss: 3.8406 - val_accuracy: 0.5460\n",
      "Epoch 23/30\n",
      "4000/4000 [==============================] - 6s 1ms/sample - loss: 0.0616 - accuracy: 0.9812 - val_loss: 4.3390 - val_accuracy: 0.5220\n",
      "Epoch 24/30\n",
      "4000/4000 [==============================] - 6s 1ms/sample - loss: 0.0949 - accuracy: 0.9695 - val_loss: 3.8391 - val_accuracy: 0.5340\n",
      "Epoch 25/30\n",
      "4000/4000 [==============================] - 6s 1ms/sample - loss: 0.0741 - accuracy: 0.9780 - val_loss: 4.4488 - val_accuracy: 0.5420\n",
      "Epoch 26/30\n",
      "4000/4000 [==============================] - 6s 2ms/sample - loss: 0.0785 - accuracy: 0.9730 - val_loss: 4.0788 - val_accuracy: 0.5180\n",
      "Epoch 27/30\n",
      "4000/4000 [==============================] - 6s 2ms/sample - loss: 0.0593 - accuracy: 0.9795 - val_loss: 4.1033 - val_accuracy: 0.5100\n",
      "Epoch 28/30\n",
      "4000/4000 [==============================] - 6s 1ms/sample - loss: 0.0363 - accuracy: 0.9893 - val_loss: 4.5260 - val_accuracy: 0.5340\n",
      "Epoch 29/30\n",
      "4000/4000 [==============================] - 6s 1ms/sample - loss: 0.0446 - accuracy: 0.9893 - val_loss: 4.1943 - val_accuracy: 0.5560\n",
      "Epoch 30/30\n",
      "4000/4000 [==============================] - 6s 1ms/sample - loss: 0.0156 - accuracy: 0.9958 - val_loss: 4.3759 - val_accuracy: 0.5420\n"
     ]
    }
   ],
   "source": [
    "opt = tf.keras.optimizers.Adam(learning_rate= 0.001)\n",
    "model.compile(optimizer=opt, loss='sparse_categorical_crossentropy', metrics=['accuracy'])\n",
    "history = model.fit(x = data_manager.X_train, y = data_manager.y_train, validation_data = (data_manager.X_valid, data_manager.y_valid), epochs = 30, batch_size = 32)"
   ]
  },
  {
   "cell_type": "code",
   "execution_count": 9,
   "metadata": {},
   "outputs": [
    {
     "data": {
      "text/plain": [
       "array(['butterfiles', 'cats', 'chickens', 'cows', 'dogs', 'elephants',\n",
       "       'fishes', 'horses', 'lions', 'spiders'], dtype='<U11')"
      ]
     },
     "execution_count": 9,
     "metadata": {},
     "output_type": "execute_result"
    }
   ],
   "source": [
    "data_manager.classes"
   ]
  },
  {
   "cell_type": "code",
   "execution_count": 10,
   "metadata": {},
   "outputs": [],
   "source": [
    "categorical_labels = ['butterfly', 'cat', 'chicken', 'cow', 'dog', 'elephant', 'fish', 'horse', 'lion', 'spider']"
   ]
  },
  {
   "cell_type": "code",
   "execution_count": 11,
   "metadata": {},
   "outputs": [],
   "source": [
    "def load_test_set(folder):\n",
    "    from PIL import Image\n",
    "    from tensorflow.keras.preprocessing.image import ImageDataGenerator, array_to_img, img_to_array, load_img\n",
    "    image_paths = list(paths.list_images(folder))\n",
    "    test_data = []\n",
    "    for i, image_path in enumerate(image_paths):\n",
    "        img = Image.open(image_path).convert(\"RGB\") #load_img(image_path)\n",
    "        img = img.resize((32, 32), Image.ANTIALIAS)\n",
    "        x = img_to_array(img)\n",
    "        test_data.append(x)\n",
    "        if i+1 % 500 ==0:\n",
    "            print(\"Loaded {} images\".format(i+1))\n",
    "    test_data = np.asarray(test_data)\n",
    "    return test_data"
   ]
  },
  {
   "cell_type": "code",
   "execution_count": 12,
   "metadata": {},
   "outputs": [],
   "source": [
    "test_data = load_test_set(\"official_test_aug_with_noise\")"
   ]
  },
  {
   "cell_type": "code",
   "execution_count": 13,
   "metadata": {},
   "outputs": [
    {
     "name": "stdout",
     "output_type": "stream",
     "text": [
      "Test shape: (23098, 32, 32, 3)\n"
     ]
    }
   ],
   "source": [
    "print(\"Test shape: {}\".format(test_data.shape))"
   ]
  },
  {
   "cell_type": "code",
   "execution_count": 14,
   "metadata": {},
   "outputs": [],
   "source": [
    "preds = model.predict(test_data, batch_size= 32)"
   ]
  },
  {
   "cell_type": "code",
   "execution_count": 15,
   "metadata": {},
   "outputs": [
    {
     "name": "stdout",
     "output_type": "stream",
     "text": [
      "(23098, 10)\n",
      "[[1.000000e+00 0.000000e+00 0.000000e+00 0.000000e+00 0.000000e+00\n",
      "  0.000000e+00 0.000000e+00 0.000000e+00 0.000000e+00 0.000000e+00]\n",
      " [0.000000e+00 0.000000e+00 0.000000e+00 0.000000e+00 0.000000e+00\n",
      "  0.000000e+00 0.000000e+00 0.000000e+00 0.000000e+00 1.000000e+00]\n",
      " [0.000000e+00 0.000000e+00 0.000000e+00 0.000000e+00 0.000000e+00\n",
      "  0.000000e+00 0.000000e+00 0.000000e+00 0.000000e+00 1.000000e+00]\n",
      " [0.000000e+00 1.000000e+00 0.000000e+00 0.000000e+00 0.000000e+00\n",
      "  0.000000e+00 0.000000e+00 0.000000e+00 0.000000e+00 0.000000e+00]\n",
      " [0.000000e+00 0.000000e+00 0.000000e+00 0.000000e+00 0.000000e+00\n",
      "  0.000000e+00 1.000000e+00 0.000000e+00 0.000000e+00 0.000000e+00]\n",
      " [0.000000e+00 0.000000e+00 0.000000e+00 0.000000e+00 0.000000e+00\n",
      "  0.000000e+00 0.000000e+00 1.000000e+00 0.000000e+00 0.000000e+00]\n",
      " [1.000000e+00 0.000000e+00 0.000000e+00 0.000000e+00 0.000000e+00\n",
      "  0.000000e+00 0.000000e+00 0.000000e+00 0.000000e+00 0.000000e+00]\n",
      " [0.000000e+00 0.000000e+00 0.000000e+00 0.000000e+00 0.000000e+00\n",
      "  0.000000e+00 0.000000e+00 0.000000e+00 0.000000e+00 1.000000e+00]\n",
      " [0.000000e+00 0.000000e+00 0.000000e+00 0.000000e+00 1.000000e+00\n",
      "  0.000000e+00 0.000000e+00 0.000000e+00 0.000000e+00 0.000000e+00]\n",
      " [0.000000e+00 0.000000e+00 0.000000e+00 1.000000e+00 0.000000e+00\n",
      "  0.000000e+00 0.000000e+00 8.502684e-28 0.000000e+00 0.000000e+00]\n",
      " [0.000000e+00 0.000000e+00 0.000000e+00 1.000000e+00 0.000000e+00\n",
      "  0.000000e+00 0.000000e+00 0.000000e+00 0.000000e+00 0.000000e+00]\n",
      " [0.000000e+00 0.000000e+00 0.000000e+00 0.000000e+00 0.000000e+00\n",
      "  0.000000e+00 1.000000e+00 0.000000e+00 0.000000e+00 0.000000e+00]\n",
      " [0.000000e+00 0.000000e+00 0.000000e+00 0.000000e+00 0.000000e+00\n",
      "  0.000000e+00 0.000000e+00 0.000000e+00 0.000000e+00 1.000000e+00]\n",
      " [1.000000e+00 0.000000e+00 0.000000e+00 0.000000e+00 0.000000e+00\n",
      "  0.000000e+00 0.000000e+00 0.000000e+00 0.000000e+00 0.000000e+00]\n",
      " [1.000000e+00 0.000000e+00 0.000000e+00 0.000000e+00 0.000000e+00\n",
      "  0.000000e+00 0.000000e+00 0.000000e+00 0.000000e+00 0.000000e+00]]\n"
     ]
    }
   ],
   "source": [
    "print(preds.shape)\n",
    "print(preds[0:15])"
   ]
  },
  {
   "cell_type": "code",
   "execution_count": 16,
   "metadata": {},
   "outputs": [
    {
     "name": "stdout",
     "output_type": "stream",
     "text": [
      "[0 9 9 1 6 7 0 9 4 3 3 6 9 0 0]\n"
     ]
    }
   ],
   "source": [
    "num_predicted_labels = np.argmax(preds, axis=1)\n",
    "print(num_predicted_labels[0:15])"
   ]
  },
  {
   "cell_type": "code",
   "execution_count": 17,
   "metadata": {},
   "outputs": [
    {
     "name": "stdout",
     "output_type": "stream",
     "text": [
      "['butterfly', 'spider', 'spider', 'cat', 'fish', 'horse', 'butterfly', 'spider', 'dog', 'cow', 'cow', 'fish', 'spider', 'butterfly', 'butterfly']\n"
     ]
    }
   ],
   "source": [
    "cat_predicted_labels= [categorical_labels[num_predicted_labels[i]] for i in range(len(num_predicted_labels))]\n",
    "print(cat_predicted_labels[0:15])"
   ]
  },
  {
   "cell_type": "code",
   "execution_count": 18,
   "metadata": {},
   "outputs": [],
   "source": [
    "def create_solution():\n",
    "    import csv\n",
    "    header= ['ID', 'Label']\n",
    "    with open('my_solution.csv', 'w', encoding='UTF8', newline='') as f:\n",
    "        writer = csv.writer(f)\n",
    "        # write the header\n",
    "        writer.writerow(header)\n",
    "        data = []\n",
    "        for i in range(len(cat_predicted_labels)):\n",
    "            data.append([str(i), cat_predicted_labels[i]])\n",
    "        writer.writerows(data)"
   ]
  },
  {
   "cell_type": "code",
   "execution_count": 19,
   "metadata": {},
   "outputs": [],
   "source": [
    "create_solution()"
   ]
  },
  {
   "cell_type": "markdown",
   "metadata": {},
   "source": [
    "You now can submit the csv file `my_solution.csv` to the Kaggle competition."
   ]
  }
 ],
 "metadata": {
  "kernelspec": {
   "display_name": "Python 3",
   "language": "python",
   "name": "python3"
  },
  "language_info": {
   "codemirror_mode": {
    "name": "ipython",
    "version": 3
   },
   "file_extension": ".py",
   "mimetype": "text/x-python",
   "name": "python",
   "nbconvert_exporter": "python",
   "pygments_lexer": "ipython3",
   "version": "3.7.10"
  }
 },
 "nbformat": 4,
 "nbformat_minor": 4
}
