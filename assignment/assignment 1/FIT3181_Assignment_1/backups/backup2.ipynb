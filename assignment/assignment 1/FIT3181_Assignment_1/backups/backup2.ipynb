{
 "cells": [
  {
   "cell_type": "markdown",
   "metadata": {},
   "source": [
    "# <span style=\"color:#0b486b\">  FIT3181: Deep Learning (2022)</span>\n",
    "***\n",
    "*CE/Lecturer:* Dr **Trung Le** | trunglm@monash.edu <br/>\n",
    "*Head Tutor:* Mr **Thanh Nguyen** | thanh.nguyen4@monash.edu  <br/>\n",
    "<br/>\n",
    "Department of Data Science and AI, Faculty of Information Technology, Monash University, Australia\n",
    "***"
   ]
  },
  {
   "cell_type": "markdown",
   "metadata": {},
   "source": [
    "# <span style=\"color:#0b486b\">  Student Information</span>\n",
    "***\n",
    "Surname: **Lee**  <br/>\n",
    "Firstname: **Jian Hui**    <br/>\n",
    "Student ID: **32116314**    <br/>\n",
    "Email: **jlee0235@student.monash.edu**    <br/>\n",
    "Your tutorial time: **Friday 2 to 4 pm**    <br/>\n",
    "***\n"
   ]
  },
  {
   "cell_type": "markdown",
   "metadata": {},
   "source": [
    "$$\n",
    "    \\theta\n",
    "$$"
   ]
  },
  {
   "cell_type": "markdown",
   "metadata": {},
   "source": [
    "# <span style=\"color:#0b486b\">Deep Neural Networks</span>\n",
    "### Due: <span style=\"color:red\">11:59pm Sunday, 18 September 2022</span>  (Sunday)\n",
    "\n",
    "#### <span style=\"color:red\">Important note:</span> This is an **individual** assignment. It contributes **20%** to your final mark. Read the assignment instruction carefully."
   ]
  },
  {
   "cell_type": "markdown",
   "metadata": {},
   "source": [
    "## <span style=\"color:#0b486b\">Instruction</span>\n",
    "\n",
    "This notebook has been prepared for your to complete Assignment 1. The theme of this assignment is about practical machine learning knowledge and skills in deep neural networks, including feedforward and convolutional neural networks. Some sections have been partially completed to help you get\n",
    "started. **The total marks for this notebook is 100**.\n",
    "\n",
    "* Before you start, read the entire notebook carefully once to understand what you need to do. <br/>\n",
    "\n",
    "* For each cell marked with **#YOU ARE REQUIRED TO INSERT YOUR CODES IN THIS CELL**, there will be places where you **must** supply your own codes when instructed. <br>\n",
    "\n",
    "This assignment contains **three** parts:\n",
    "\n",
    "* Part 1: Questions on theory and knowledge on machine learning and deep learning **[30 points], 30%**\n",
    "* Part 2: Coding assessment on TensorFlow for Deep Neural Networks (DNN) **[30 points], 30%**\n",
    "* Part 3: Coding assessment on TensorFlow for Convolution Neural Networks (CNN) **[40 points], 40%**\n",
    "\n",
    "**Hint**: This assignment was essentially designed based on the lectures and tutorials sessions covered from Week 1 to Week 6. You are strongly recommended to go through these contents thoroughly which might help you to complete this assignment."
   ]
  },
  {
   "cell_type": "markdown",
   "metadata": {},
   "source": [
    "## <span style=\"color:#0b486b\">What to submit</span>\n",
    "\n",
    "This assignment is to be completed individually and submitted to Moodle unit site. **By the due date, you are required to submit one  <span style=\"color:red; font-weight:bold\">single zip file, named xxx_assignment01_solution.zip</span> where `xxx` is your student ID, to the corresponding Assignment (Dropbox) in Moodle**. "
   ]
  },
  {
   "cell_type": "markdown",
   "metadata": {},
   "source": [
    "***For example, if your student ID is <span style=\"color:red; font-weight:bold\">12356</span>, then gather all of your assignment solution to folder, create a zip file named <span style=\"color:red; font-weight:bold\">123456_assignment01_solution.zip</span> and submit this file.***"
   ]
  },
  {
   "cell_type": "markdown",
   "metadata": {},
   "source": [
    "Within this zip folder, you **must** submit the following files:\n",
    "1.\t**Assignment01_solution.ipynb**:  this is your Python notebook solution source file.\n",
    "1.\t**Assignment01_output.html**: this is the output of your Python notebook solution *exported* in html format.\n",
    "1.\tAny **extra files or folder** needed to complete your assignment (e.g., images used in your answers)."
   ]
  },
  {
   "cell_type": "markdown",
   "metadata": {},
   "source": [
    "Since the notebook is quite big to load and work together, one recommended option is to split solution into three parts and work on them seperately. In that case, replace **Assignment01_solution.ipynb** by three notebooks: **Assignment01_Part1_solution.ipynb**, **Assignment01_Part2_solution.ipynb** and **Assignment01_Part3_solution.ipynb**"
   ]
  },
  {
   "cell_type": "markdown",
   "metadata": {},
   "source": [
    "**You can run your codes on Google Colab. In this case, you need to capture the screenshots of your Google Colab model training and put in corresponding places in your Jupyter notebook. You also need to store your trained models to folder <span style=\"color:red; font-weight:bold\">*./models*</span> with recognizable file names (e.g., Part3_Sec3_2_model.h5).** "
   ]
  },
  {
   "cell_type": "markdown",
   "metadata": {},
   "source": [
    "### LIBRARY IMPORTS & CONSTANTS\n"
   ]
  },
  {
   "cell_type": "code",
   "execution_count": null,
   "metadata": {},
   "outputs": [],
   "source": [
    "import numpy as np\n",
    "import pandas as pd\n",
    "\n",
    "import tensorflow as tf\n",
    "from tensorflow import keras\n",
    "from tensorflow.keras import datasets, models, layers\n",
    "from tensorflow.keras.callbacks import ModelCheckpoint\n",
    "\n",
    "import matplotlib.pyplot as plt\n",
    "import math\n",
    "%matplotlib inline\n",
    "\n",
    "MY_SEED = 1234\n"
   ]
  },
  {
   "cell_type": "markdown",
   "metadata": {},
   "source": [
    "## <span style=\"color:#0b486b\">Part 1: Theory and Knowledge Questions</span>\n",
    "<div style=\"text-align: right\"><span style=\"color:red; font-weight:bold\">[Total marks for this part: 30 points]<span></div>"
   ]
  },
  {
   "cell_type": "markdown",
   "metadata": {},
   "source": [
    "The first part of this assignment is for you to demonstrate your knowledge in deep learning that you have acquired from the lectures and tutorials materials. Most of the contents in this assignment are drawn from **the lectures and tutorials from weeks 1 to 3**. Going through these materials before attempting this part is highly recommended."
   ]
  },
  {
   "cell_type": "markdown",
   "metadata": {},
   "source": [
    "####  <span style=\"color:red\">**Question 1.1**</span> **Activation function plays an important role in modern Deep NNs. For each of the activation function below, state its output range, find its derivative (show your steps), and plot the activation fuction and its derivative**\n",
    "\n",
    "<span style=\"color:red\">**(a)**</span> Leaky ReLU: \n",
    "$\n",
    "\\text{LeakyReLU}\\left( x \\right)=\n",
    "\\begin{cases}\n",
    "    0.01x & \\text{if}\\,x<0\\\\\n",
    "    x & \\text{otherwise}\n",
    "\\end{cases}\\\n",
    "$ \n",
    "<div style=\"text-align: right\"><span style=\"color:red\">[1.5 points]</span></div> \n",
    "\n",
    "<span style=\"color:red\">**(b)**</span> Softplus: $\\text{Softplus}\\left(x\\right)=\\text{ln}\\left(1+e^{x}\\right)$\n",
    "<div style=\"text-align: right\"><span style=\"color:red\">[1.5 points]</span></div> "
   ]
  },
  {
   "cell_type": "markdown",
   "metadata": {},
   "source": [
    "#### ANSWER\n",
    "##### leaky ReLu:\n",
    "- output range: $ - \\infty \\leq x \\leq + \\infty$\n",
    "- derivative:\n",
    "\n",
    "$$\n",
    "x = \\begin{cases}\n",
    "   0.01 &\\text{if } x < 0 \\\\\n",
    "   1 &\\text{otherwise } x \\geq 0\n",
    "\\end{cases}\n",
    "$$\n",
    "\n",
    "##### Softplus: \n",
    "- output range: $ - \\infty \\leq x \\leq + \\infty $\n",
    "- derivative:\n",
    "\n",
    "$$\n",
    "\\begin{align*}\n",
    "softplus'(x) & = \\dfrac {1}{1 + e^x} (\\dfrac {\\partial}{\\partial x} (1 + e^x)) \\\\\n",
    "& = \\dfrac {e^x}{1 + e^x} \n",
    "\\end{align*}\n",
    "$$\n"
   ]
  },
  {
   "cell_type": "markdown",
   "metadata": {},
   "source": [
    "### Plots for LeakyReLU and Softplus\n"
   ]
  },
  {
   "cell_type": "code",
   "execution_count": null,
   "metadata": {},
   "outputs": [],
   "source": [
    "def leakyrelu(x):\n",
    "    if x < 0:\n",
    "        return 0.01*x\n",
    "    else:\n",
    "        return x\n",
    "\n",
    "\n",
    "x = np.linspace(-5, 5, 200)\n",
    "\n",
    "y = []\n",
    "for i in range(len(x)):\n",
    "    y.append(leakyrelu(x[i]))\n",
    "\n",
    "plt.plot(x, y, \"b-\", linewidth=2)\n",
    "plt.plot([-5, 5], [0, 0], 'k--')\n",
    "plt.plot([-5, 5], [1, 1], 'k--')\n",
    "plt.plot([0, 0], [-5, 5], 'k-')\n",
    "plt.grid(True)\n",
    "plt.title(r\"leakyrelu\", fontsize=14)\n",
    "plt.axis([-5, 5, -0.1, 1.1])\n",
    "plt.show()\n"
   ]
  },
  {
   "cell_type": "code",
   "execution_count": null,
   "metadata": {},
   "outputs": [],
   "source": [
    "def leakyrelu_deriv(x):\n",
    "    return 0.01 if x < 0 else 1\n",
    "\n",
    "x = np.linspace(-5, 5, 200)\n",
    "\n",
    "y = []\n",
    "for i in range(len(x)):\n",
    "    y.append(leakyrelu_deriv(x[i]))\n",
    "\n",
    "plt.plot(x, y, \"b-\", linewidth=2)\n",
    "plt.plot([-5, 5], [0, 0], 'k--')\n",
    "plt.plot([-5, 5], [1, 1], 'k--')\n",
    "plt.plot([0, 0], [-5, 5], 'k-')\n",
    "plt.grid(True)\n",
    "plt.title(r\"leakyrelu_deriv\", fontsize=14)\n",
    "plt.axis([-5, 5, -0.1, 1.1])\n",
    "plt.show()"
   ]
  },
  {
   "cell_type": "code",
   "execution_count": null,
   "metadata": {},
   "outputs": [],
   "source": [
    "def softplus(x):\n",
    "    # ln(1 + e^x)\n",
    "    return math.log(1 + math.e ** x)\n",
    "\n",
    "x = np.linspace(-5, 5, 200)\n",
    "\n",
    "y = []\n",
    "for i in range(len(x)):\n",
    "    y.append(softplus(x[i]))\n",
    "\n",
    "plt.plot(x, y, \"b-\", linewidth=2)\n",
    "plt.plot([-5, 5], [0, 0], 'k--')\n",
    "plt.plot([-5, 5], [1, 1], 'k--')\n",
    "plt.plot([0, 0], [-5, 5], 'k-')\n",
    "plt.grid(True)\n",
    "plt.title(r\"softplus\", fontsize=14)\n",
    "plt.axis([-5, 5, -0.1, 1.1])\n",
    "plt.show()"
   ]
  },
  {
   "cell_type": "code",
   "execution_count": null,
   "metadata": {},
   "outputs": [],
   "source": [
    "def softplus_deriv(x):\n",
    "    # e^x / (1 + e^x)\n",
    "    return (math.e ** x) / ( 1 + math.e ** x)\n",
    "\n",
    "\n",
    "x = np.linspace(-5, 5, 200)\n",
    "\n",
    "\n",
    "y = []\n",
    "for i in range(len(x)):\n",
    "    y.append(softplus_deriv(x[i]))\n",
    "\n",
    "\n",
    "\n",
    "plt.plot(x, y, \"b-\", linewidth=2)\n",
    "plt.plot([-5, 5], [0, 0], 'k--')\n",
    "plt.plot([-5, 5], [1, 1], 'k--')\n",
    "plt.plot([0, 0], [-5, 5], 'k-')\n",
    "plt.grid(True)\n",
    "plt.title(r\"softplus_deriv\", fontsize=14)\n",
    "plt.axis([-5, 5, -0.1, 1.1])\n",
    "plt.show()"
   ]
  },
  {
   "cell_type": "markdown",
   "metadata": {},
   "source": [
    "<span style=\"color:#0b486b\"> **Numpy is possibly being used in the following questions. You need to import numpy here.** </span>"
   ]
  },
  {
   "cell_type": "markdown",
   "metadata": {},
   "source": [
    "####  <span style=\"color:red\">**Question 1.2**</span> **Assume that we feed a data point $x$ with a ground-truth label $y=2$ to the feed-forward neural network with the ReLU activation function as shown in the following figure**|\n",
    "<img src=\"Figures/Q2_P1.png\" width=\"500\" align=\"center\"/>\n",
    "<br></br>\n",
    "<img src=\"images/neuron_maths.png\" height = \"300\" width=\"300\" align=\"center\"/>\n",
    "\n",
    "**You need to show both formulas and numerical results for earning full mark. Although it is optional, it is great if you show your numpy code for your computation.**"
   ]
  },
  {
   "cell_type": "code",
   "execution_count": null,
   "metadata": {},
   "outputs": [],
   "source": [
    "def relu(x): return max(0,x)\n",
    "\n",
    "def softmax(lst): \n",
    "     return np.exp(lst)/sum(np.exp(lst))\n",
    "\n",
    "def ce_loss(lst): pass\n",
    "     \n",
    "\n",
    "x = [1,\n",
    "     -1,\n",
    "     1]"
   ]
  },
  {
   "cell_type": "markdown",
   "metadata": {},
   "source": [
    "<span style=\"color:red\">**(a)**</span>  What is the numerical value of the latent presentation $h^1(x)$?\n",
    "<div style=\"text-align: right\"><span style=\"color:red\">[1 point]</span></div> "
   ]
  },
  {
   "cell_type": "code",
   "execution_count": null,
   "metadata": {},
   "outputs": [],
   "source": [
    "\n",
    "\"\"\"\n",
    "1. (h1)' = w1 * x + b1     [this is the first layer, but this includes all neurons at the first layer]\n",
    "    - have to multiply\n",
    "    - order matters\n",
    "2. h1 = activation_func(h1')\n",
    "\"\"\"\n",
    "\n",
    "\n",
    "w1 = np.array([[1, -1, 1],\n",
    "               [1, -1, -1],\n",
    "               [2, -1, 2],\n",
    "               [-1, -2, 1]])\n",
    "\n",
    "b1 = np.array([1, 0, 1, 0])  # keep in mind that we should treat this as a transposed vector, so 1x4 should be 4x1\n",
    "print()\n",
    "\n",
    "h1_bar = np.matmul(w1, x)\n",
    "print(h1_bar.shape)\n",
    "print(h1_bar)\n",
    "\n",
    "h1_bar = np.add(h1_bar, b1)\n",
    "print(h1_bar.shape)\n",
    "print(b1.shape)\n",
    "\n",
    "f = np.vectorize(relu)\n",
    "h1 = f(h1_bar)\n",
    "\n",
    "print(h1_bar)\n",
    "print(h1)\n"
   ]
  },
  {
   "cell_type": "markdown",
   "metadata": {},
   "source": [
    "\n",
    "<span style=\"color:red\">**(b)**</span>  What is the numerical value of the latent presentation $h^2(x)$?\n",
    "<div style=\"text-align: right\"><span style=\"color:red\">[1 point]</span></div> \n"
   ]
  },
  {
   "cell_type": "code",
   "execution_count": null,
   "metadata": {},
   "outputs": [],
   "source": [
    "\"\"\"\n",
    "h2_bar = w2 * h1 + b2\n",
    "h2 = activation(h2_bar)\n",
    "\"\"\"\n",
    "w2 = np.array([[1, -1, -1, 2],\n",
    "               [1, -1, 1, -1],\n",
    "               [-1, 2, -1, 2]])\n",
    "b2 = np.array([1, 1, 0])\n",
    "\n",
    "h2_bar = np.matmul(w2, h1)\n",
    "h2_bar = np.add(h2_bar, b2)\n",
    "\n",
    "f = np.vectorize(relu)\n",
    "h2 = f(h2_bar)\n",
    "\n",
    "print(h2_bar)\n",
    "print(h2)\n",
    "\n",
    "\n",
    "\n",
    "\n"
   ]
  },
  {
   "cell_type": "markdown",
   "metadata": {},
   "source": [
    "<span style=\"color:red\">**(c)**</span>  What is the numerical value of the logit $h^3(x)$?\n",
    "<div style=\"text-align: right\"><span style=\"color:red\">[1 point]</span></div> \n"
   ]
  },
  {
   "cell_type": "code",
   "execution_count": null,
   "metadata": {},
   "outputs": [],
   "source": [
    "\"\"\"\n",
    "h3_bar = w3 * h2 + b3\n",
    "h3 = activation(h3_bar)\n",
    "\"\"\"\n",
    "w3 = np.array([[1, -2, 1],\n",
    "               [1, 2, -1],\n",
    "               [-1, 1, -1]])\n",
    "b3 = np.array([0, 0, 0])\n",
    "\n",
    "h3 = np.matmul(w3, h2)\n",
    "print(h3)\n",
    "\n",
    "\n"
   ]
  },
  {
   "cell_type": "markdown",
   "metadata": {},
   "source": [
    "<span style=\"color:red\">**(d)**</span>  What is the corresonding prediction probabilities $p(x)$?\n",
    "<div style=\"text-align: right\"><span style=\"color:red\">[1 point]</span></div> \n"
   ]
  },
  {
   "cell_type": "code",
   "execution_count": null,
   "metadata": {},
   "outputs": [],
   "source": [
    "# probabilities, p(x) = softmax(h3(x))\n",
    "h3 = [float(x) for x in h3]\n",
    "h3_tensor = tf.constant(name=\"h3\", value=h3, dtype= tf.float32)\n",
    "\n",
    "probs = tf.nn.softmax(h3_tensor)\n",
    "probs  # correct, cross checked with desmos calc\n",
    "print(probs)\n",
    "print(probs.get_shape())\n"
   ]
  },
  {
   "cell_type": "markdown",
   "metadata": {},
   "source": [
    "<span style=\"color:red\">**(e)**</span>  What is the cross-entropy loss caused by the feed-forward neural network at $(x,y)$? Remind that $y=2$.\n",
    "<div style=\"text-align: right\"><span style=\"color:red\">[1 point]</span></div> \n",
    "\n",
    " \n",
    "In the second version of the formula, the p and q in this case are y labels AND the prediction probabilities respectively.\n",
    "\n",
    "$𝑝_𝑚𝑥=𝑝(𝑦=𝑚|𝑥)$ is the probability to classify 𝑥 to the class 𝑚 for $1 \\leq 𝑚 \\leq 𝑀$.\n",
    "\n",
    "this relies on the fact the the label is a one-hot-vector (either only 0 or 1).\n",
    "\n",
    "\n",
    "\n",
    "when given the ground-truth label y = 2, that would mean that the corresponding grouth truth one-hot-vector for the label is y = [0,1,0].\n",
    "\n",
    "---\n",
    "the formula of CE loss (2 versions but are interchangable):\n",
    "\n",
    "### FIRST\n",
    "$$\n",
    "\\begin{align*}\n",
    "    CE(p,q) & = - \\sum_{m=1}^{M} log p_{y_i}(x_i) \n",
    "\\end{align*}\n",
    "$$\n",
    "----\n",
    "### SECOND: a generalized version of CE loss.\n",
    "\n",
    "$$\n",
    "\\begin{align*}\n",
    "    CE(p,q) & = - \\sum_{m=1}^{M} p_m log(q_m) \\\\\n",
    "    & = - [ 0 * log(p^1x) + 1 * log(p^2x) + 0 * log(p^3x) ]\n",
    "\\end{align*}\n",
    "$$\n",
    "\n",
    "\n",
    "\n",
    "\n"
   ]
  },
  {
   "cell_type": "code",
   "execution_count": null,
   "metadata": {},
   "outputs": [],
   "source": [
    "labels = [0,1,0]\n",
    "first_part = labels * np.log(probs)\n",
    "print(first_part)\n",
    "ce = -np.sum(labels * np.log(probs))   # sum of the negative logs\n",
    "print(ce)"
   ]
  },
  {
   "cell_type": "markdown",
   "metadata": {},
   "source": [
    "\n",
    "<span style=\"color:red\">**(f)**</span>  Assume that we are applying the label smoothing technique (i.e.,  [link for main paper](https://papers.nips.cc/paper/2019/file/f1748d6b0fd9d439f71450117eba2725-Paper.pdf) from Goeff Hinton) with $\\alpha = 0.1$. What is the relevant loss caused by the feed-forward neural network at $(x,y)$?\n",
    "<div style=\"text-align: right\"><span style=\"color:red\">[1 point]</span></div> "
   ]
  },
  {
   "cell_type": "code",
   "execution_count": null,
   "metadata": {},
   "outputs": [],
   "source": [
    "# TODO: \n",
    "\n",
    "# 1: define label smoothing function\n",
    "from telnetlib import KERMIT\n",
    "\n",
    "\n",
    "def label_smooth(y_k, alpha, K):\n",
    "    \"\"\"\n",
    "    The label smoothing function\n",
    "\n",
    "    Args:\n",
    "        y_k: the original y label\n",
    "        alpha: the label smoothing parameter\n",
    "        K: the number of classes there are\n",
    "    \"\"\"\n",
    "    y_k, K = float(y_k), float(K)\n",
    "    \n",
    "    # based on the formula propseod by the research paper in 1.1 preliminaries\n",
    "    modified = y_k * (1 - alpha) + alpha/K\n",
    "    \n",
    "    return modified \n",
    "\n",
    "# 2: calc the CE loss using smoothed labels\n",
    "smoothed_labels = [label_smooth(y_k=label, alpha=0.1, K=len(labels)) for label in labels]\n",
    "print(f\"smoothed_labels: {smoothed_labels}\")\n",
    "smooth_ce = -np.sum( smoothed_labels * np.log(probs))\n",
    "print(f\"smooth_ce: {smooth_ce}\")\n",
    "\n",
    "\n",
    "\n",
    "\n",
    "\n"
   ]
  },
  {
   "cell_type": "markdown",
   "metadata": {},
   "source": [
    "####  <span style=\"color:red\">**Question 1.3**</span> **Assume that we are constructing a multilayered feed-forward neural network for a classification problem with three classes where the model parameters will be generated randomly using your student ID. The architecture of this network is ($3 (Input)\\rightarrow4(LeakyReLU)\\rightarrow 3(Output)$) as shown in the following figure. Note that the LeakyReLU has the same formula as the one in Q1.1.**\n",
    "\n",
    "\n",
    "<img src=\"Figures/Q3_P1.png\" width=\"500\" align=\"center\"/>\n",
    "\n",
    "We feed a feature vector $x=\\left[\\begin{array}{ccc}\n",
    "1 & -1 & 1.5\\end{array}\\right]^{T}$ with ground-truth label $y=3$ to the above network. \n"
   ]
  },
  {
   "cell_type": "markdown",
   "metadata": {},
   "source": [
    "**You need to show both formulas, numerical results, and your numpy code for your computation for earning full marks.**"
   ]
  },
  {
   "cell_type": "code",
   "execution_count": null,
   "metadata": {},
   "outputs": [],
   "source": [
    "#Code to generate random matrices and biases for W1, b1, W2, b2\n",
    "import numpy as np\n",
    "student_id = 32116314           #insert your student id here for example 1234    \n",
    "np.random.seed(student_id)\n",
    "W1 = np.random.rand(4,3)\n",
    "print(W1)\n",
    "b1 = np.random.rand(4,)  # changed from (4,1) to (4,) to make things easier in a vector form \n",
    "print(b1)\n",
    "W2 = np.random.rand(3,4)\n",
    "print(W2)\n",
    "b2 = np.random.rand(3,)\n",
    "print(b2)\n",
    "\n",
    "x = np.array([1, -1, 1.5])"
   ]
  },
  {
   "cell_type": "markdown",
   "metadata": {},
   "source": [
    "**Forward propagation**\n",
    "\n",
    "<span style=\"color:red\">**(a)**</span>  What is the value of $\\bar{h}^{1}(x)$?\n",
    "<div style=\"text-align: right\"><span style=\"color:red\">[1 point]</span></div>\n",
    "\n",
    "$\n",
    "\\bar{h}^{1}(x) = W1 * X + b1\n",
    "$"
   ]
  },
  {
   "cell_type": "code",
   "execution_count": null,
   "metadata": {},
   "outputs": [],
   "source": [
    "h1_bar = np.matmul(W1, x)\n",
    "print(h1_bar)\n",
    "print(h1_bar.shape)\n",
    "print(b1.shape)\n",
    "h1_bar = np.add(h1_bar, b1)\n",
    "print(h1_bar)"
   ]
  },
  {
   "cell_type": "markdown",
   "metadata": {},
   "source": [
    "<span style=\"color:red\">**(b)**</span>  What is the value of $h^{1}(x)$?\n",
    "<div style=\"text-align: right\"><span style=\"color:red\">[1 point]</span></div>\n",
    "\n",
    "$\n",
    "h^1(x)= leakyReLU(\\bar{h}^{1}(x))\n",
    "$"
   ]
  },
  {
   "cell_type": "code",
   "execution_count": null,
   "metadata": {},
   "outputs": [],
   "source": [
    "f = np.vectorize(leakyrelu)\n",
    "\n",
    "h1 = f(h1_bar) # tested with neg values with leakyrelu ; works fine\n",
    "print(h1)"
   ]
  },
  {
   "cell_type": "markdown",
   "metadata": {},
   "source": [
    "<span style=\"color:red\">**(c)**</span>  What is the predicted value $\\hat{y}$?\n",
    "<div style=\"text-align: right\"><span style=\"color:red\">[1 point]</span></div>\n",
    "\n",
    "$\n",
    "logits: \\space h^2(x) = W2 * h^1(x) + b2 \\\\ \\\\\n",
    "$\n",
    "\n",
    "$\n",
    "p(x) = softmax(h^2(x)) \\\\\n",
    "$\n",
    "\n",
    "$\n",
    "\\hat{y} =  argmax(p_m) \\space \\space ; 1 \\leq m \\leq M ; \\text{where M is how many categorical classes there are} \\\\\n",
    "= max(p^1(x), p^2(x), ... \\space, p^m(x)) \\\\\n",
    "$\n"
   ]
  },
  {
   "cell_type": "code",
   "execution_count": null,
   "metadata": {},
   "outputs": [],
   "source": [
    "\n",
    "h2 = np.matmul(W2, h1)\n",
    "print(f'h2: {h2}')\n",
    "\n",
    "h2 = np.add(h2, b2)\n",
    "print(f'h2: {h2}')\n",
    "\n",
    "# f = np.vectorize(softmax)\n",
    "pred_probs = tf.nn.softmax(h2)\n",
    "print(f'pred_probs: {pred_probs}')\n",
    "\n",
    "# y_hat is the index of the class which corresponds to the LARGEST prob value (after softmax)\n",
    "y_hat = np.amax(pred_probs)\n",
    "print(f'y_hat: {y_hat}')\n",
    "\n"
   ]
  },
  {
   "cell_type": "markdown",
   "metadata": {},
   "source": [
    "<span style=\"color:red\">**(d)**</span>  Suppose that we use the cross-entropy (CE) loss. What is the value of the CE loss $l$?\n",
    "<div style=\"text-align: right\"><span style=\"color:red\">[1 point]</span></div>\n",
    "\n",
    "we know the ground truth label, y = 3 ; so the one hot vector for labels = [0,0,1]\n",
    "\n",
    "$$\n",
    "\\begin{align*}\n",
    "    \\text{CE loss, }l\\text{ : }CE(p,q) & = - \\sum_{m=1}^{M} p_m log(q_m) \\\\\n",
    "    & = 0 * log(p^1x) + 0 * log(p^2x) + 1 * log(p^3x)\n",
    "\\end{align*}\n",
    "$$"
   ]
  },
  {
   "cell_type": "code",
   "execution_count": null,
   "metadata": {},
   "outputs": [],
   "source": [
    "labels = np.array([0,0,1])\n",
    "ce = -np.sum(labels * np.log(pred_probs))   # sum of the negative logs\n",
    "print(ce)\n",
    "\n"
   ]
  },
  {
   "cell_type": "markdown",
   "metadata": {},
   "source": [
    "**Backward propagation**\n",
    "\n",
    "<span style=\"color:red\">**(e)**</span> What are the derivatives $\\frac{\\partial l}{\\partial h^{2}},\\frac{\\partial l}{\\partial W^{2}}$, and $\\frac{\\partial l}{\\partial b^{2}}$? \n",
    "<div style=\"text-align: right\"><span style=\"color:red\">[6 points]</span></div>\n",
    "\n",
    "#### From the 3rd layer, the output layer:\n",
    "we will know the CE loss, hence we will know:\n",
    "$$\n",
    "\\tag 1\n",
    "g^2 = \\frac {\\partial l} {\\partial h^2} = p^T - 1_y \n",
    "$$ \n",
    "\n",
    "\n",
    "From the above, and knowing that $h^2 = W^2h^1 + b^2$, we can also obtain partial derivatives $\\frac {\\partial l}{\\partial W^2}$ and $\\frac {\\partial l}{\\partial b^2}$ \n",
    "\n",
    "#### NOTE: there are tags attached below to each equation\n",
    "\n",
    "---\n",
    "\n",
    "$$\n",
    "\\tag 2\n",
    "\\frac{\\partial l}{\\partial W^{2}} \n",
    "= \\frac {\\partial l} {\\partial h^2} * \\frac {\\partial h^2} {\\partial W^2} \n",
    "= (g^2)^T(h^1)^T\n",
    "$$\n",
    "\n",
    "---\n",
    "\n",
    "$$\n",
    "\\tag 3\n",
    "\\frac{\\partial l}{\\partial b^{2}} \n",
    "= \\frac {\\partial l}{\\partial h^2} * \\frac {\\partial h^2}{\\partial b^2} \n",
    "= g^2\n",
    "$$\n"
   ]
  },
  {
   "cell_type": "code",
   "execution_count": null,
   "metadata": {},
   "outputs": [],
   "source": [
    "\n",
    "# equation 1\n",
    "print(pred_probs.shape)\n",
    "print(labels.shape)\n",
    "\n",
    "g2 = np.subtract(pred_probs, labels)  # equation 1\n",
    "g2 =  np.expand_dims(g2, axis=0)\n",
    "print(g2.shape)\n",
    "print(f'g^2: {g2} \\n')\n",
    "\n",
    "# equation 2\n",
    "h1 =  np.expand_dims(h1, axis=1)\n",
    "print(f' {g2.shape} {h1.shape}' )  \n",
    "partial_l_w2 = np.matmul(np.transpose(g2), np.transpose(h1))\n",
    "print(f'partial_l_w2 {partial_l_w2} \\n' )  \n",
    "\n",
    "# equation 3\n",
    "partial_l_b2 = g2\n",
    "print(f'partial_l_b2 {partial_l_b2} \\n' )  \n",
    "\n",
    "\n",
    "\n",
    "\n"
   ]
  },
  {
   "cell_type": "markdown",
   "metadata": {},
   "source": [
    "<span style=\"color:red\">**(f)**</span> What are the derivatives $\\frac{\\partial l}{\\partial h^{1}}, \\frac{\\partial l}{\\partial \\bar{h}^{1}},\\frac{\\partial l}{\\partial W^{1}}$, and $\\frac{\\partial l}{\\partial b^{1}}$? \n",
    "<div style=\"text-align: right\"><span style=\"color:red\">[6 points]</span></div>\n",
    "\n",
    "---\n",
    "#### pre-requisite information:\n",
    "\n",
    "\n",
    "$\n",
    "\\frac {\\partial h^1} {\\partial \\bar{h}^1} = diag(\\sigma'(\\bar{h}^1))  \\text{ ; } h^1 = \\sigma(\\bar{h}^1)\n",
    "$\n",
    "\n",
    "---\n",
    "\n",
    "\n",
    "\n",
    "---\n",
    "#### we shall use the above information from (e) to obtain the needed derivatives below:\n",
    "\n",
    "$$\n",
    "\\tag 4\n",
    "\\begin{align*}\n",
    "g^1 \n",
    "&= \\frac {\\partial l}{\\partial h^1} \\\\\n",
    "&= \\frac {\\partial l}{\\partial h^2} * \\frac {\\partial h^2}{\\partial h^1} \\\\\n",
    "&= g^2W^2 \\\\\n",
    "\\end{align*}\n",
    "$$\n",
    "\n",
    "---\n",
    "$$\n",
    "\\tag 5\n",
    "\\begin{align*}\n",
    "\\bar{g}^1\n",
    "&= \\frac {\\partial l}{\\partial \\bar{h}^1} \\\\\n",
    "&= \\frac {\\partial l}{\\partial h^1} * \\frac {\\partial h^1}{\\partial \\bar{h}^1} \\\\\n",
    "&= g^1diag(\\sigma'(\\bar{h}^1)) \\text{ ; $\\sigma'$ is the derivative of leaky ReLU}\\\\   \n",
    "\\end{align*}\n",
    "$$\n",
    "\n",
    "---\n",
    "$$\n",
    "\\tag 6\n",
    "\\begin{align*}\n",
    "\\frac{\\partial l}{\\partial W^{1}}\n",
    "&= \\frac {\\partial l}{\\partial \\bar{h}^1} * \\frac {\\partial \\bar{h}^1}{\\partial W^1} \\\\\n",
    "&= (\\bar{g}^1)^T(h^0)^T \\\\\n",
    "\\end{align*}\n",
    "$$\n",
    "\n",
    "---\n",
    "$$\n",
    "\\tag 7\n",
    "\\frac{\\partial l}{\\partial b^{1}} = \\bar{g} ^ 1\n",
    "$$\n",
    "\n",
    "\n"
   ]
  },
  {
   "cell_type": "code",
   "execution_count": null,
   "metadata": {},
   "outputs": [],
   "source": [
    "# equation 4\n",
    "print(f'--------equation 4---------')\n",
    "# print(g2.shape)\n",
    "# print(W2.shape)\n",
    "partial_l_h1 = np.matmul(g2, W2)\n",
    "print(partial_l_h1)\n",
    "\n",
    "# equation 5: [1xn1] x [n1xn1] → [1×𝑛1]\n",
    "print(f'--------equation 5---------')\n",
    "print(h1_bar)\n",
    "print(partial_l_h1.shape)\n",
    "print(h1_bar.shape)\n",
    "\n",
    "# the diag matrix of size [n1 x n1]\n",
    "diag = np.array([leakyrelu_deriv(x) for x in h1_bar])\n",
    "diag = np.diag(diag)\n",
    "print(f'diag shape: {diag.shape}')\n",
    "print(f'diag: \\n {diag}')\n",
    "\n",
    "partial_1_hbar1 = np.matmul(partial_l_h1, diag)\n",
    "print(f'partial_1_hbar1: {partial_1_hbar1}')\n",
    "\n",
    "# equation 6\n",
    "print(f'--------equation 6---------')\n",
    "expand_x = np.expand_dims(x,axis=1)\n",
    "print(f'partial_1_hbar1: {partial_1_hbar1} MULT x : {expand_x}')\n",
    "print(expand_x.shape)\n",
    "partial_l_w1 = np.matmul(np.transpose(partial_1_hbar1), np.transpose(expand_x))\n",
    "print(partial_l_w1)\n",
    "\n",
    "# equation 7\n",
    "print(f'--------equation 7---------')\n",
    "partial_l_b1 = partial_1_hbar1\n",
    "\n",
    "\n"
   ]
  },
  {
   "cell_type": "markdown",
   "metadata": {},
   "source": [
    "**SGD update**\n",
    "\n",
    "<span style=\"color:red\">**(g)**</span> Assume that we use SGD with learning rate $\\eta=0.01$ to update the model parameters. What are the values of $W^2, b^2$ and $W^1, b^1$ after updating?\n",
    "<div style=\"text-align: right\"><span style=\"color:red\">[5 points]</span></div>\n",
    "\n"
   ]
  },
  {
   "cell_type": "markdown",
   "metadata": {},
   "source": [
    "1. we have the loss function over the training set, \n",
    "$ \n",
    " J(\\theta_t) = L(D,h) = \\frac{1}{N} \\sum_{i=1}^N CE(1_{y_i}, p(x_i)) = - \\frac{1}{N} \\sum_{i=1}^N log p_{y_i} (x_i) \\\\\n",
    "$\n",
    "D is the data set, h are the linear functions of each layer\n",
    "\n",
    "2. use this loss function, calculate the first order derivative of loss function w.r.t $\\theta$  :  \n",
    "$\n",
    "\\nabla_\\theta J(\\theta_t) = \\frac {\\partial J}{\\partial \\theta} (\\theta_t)\n",
    "$\n",
    "\n",
    "3. finally update the model parameters\n",
    "$\n",
    "\\theta_{t+1} = \\theta_t - \\eta \\nabla_\\theta J(\\theta_t)\n",
    "$\n",
    "- $ \\text{new } W^2 = W^2 - \\eta \\frac{\\partial l}{\\partial W^2}$\n",
    "- $ \\text{new } b^2 = b^2 - \\eta \\frac{\\partial l}{\\partial b^2}$\n",
    "- $ \\text{new } W^1 = W^1 - \\eta \\frac{\\partial l}{\\partial W^1}$\n",
    "- $ \\text{new } b^1 = b^1 - \\eta \\frac{\\partial l}{\\partial b^1}$\n",
    "\n",
    "\n"
   ]
  },
  {
   "cell_type": "code",
   "execution_count": null,
   "metadata": {},
   "outputs": [],
   "source": [
    "# TODO: need to ask during consultation\n",
    "\n",
    "# for one iteration\n",
    "lr = 0.01\n",
    "\n",
    "newW2 = W2 - lr * partial_l_w2\n",
    "newb2 = b2 - lr * partial_l_b2\n",
    "newW1 = W1 - lr * partial_l_w1\n",
    "newb1 = b1 - lr * partial_l_b1\n",
    "\n",
    "print(f'old W2: {W2} ; new W2: {newW2}')\n",
    "print(f'old b2: {b2} ; new b2: {newb2}')\n",
    "print(f'old W1: {W1} ; new W1: {newW1}')\n",
    "print(f'old b1: {b1} ; new b1: {newb1}')\n",
    "\n"
   ]
  },
  {
   "cell_type": "markdown",
   "metadata": {},
   "source": [
    "## <span style=\"color:#0b486b\">Part 2: Deep Neural Networks (DNN) </span>\n",
    "<div style=\"text-align: right\"><span style=\"color:red; font-weight:bold\">[Total marks for this part: 30 points]<span></div>\n",
    "\n",
    "The first part of this assignment is for you to demonstrate your basis knowledge in deep learning that you have acquired from the lectures and tutorials materials. Most of the contents in this assignment are drawn from **the tutorials covered from weeks 1 to 4**. Going through these materials before attempting this assignment is highly recommended."
   ]
  },
  {
   "cell_type": "markdown",
   "metadata": {},
   "source": [
    "In the first part of this assignment, you are going to work with the **FashionMNIST** dataset for *image recognition task*. It has the exact same format as MNIST (70,000 grayscale images of 28 × 28 pixels each with 10 classes), but the images represent fashion items rather than handwritten digits, so each class is more diverse, and the problem is significantly more challenging than MNIST."
   ]
  },
  {
   "cell_type": "markdown",
   "metadata": {},
   "source": [
    "####  <span style=\"color:red\">**Question 2.1**</span>. Load the Fashion MNIST using Keras datasets\n",
    "\n",
    "<div style=\"text-align: right\"> <span style=\"color:red\">[5 points]</span> </div>\n",
    "\n",
    "We first use keras incoporated in TensorFlow 2.x for loading the training and testing sets."
   ]
  },
  {
   "cell_type": "code",
   "execution_count": null,
   "metadata": {},
   "outputs": [],
   "source": [
    "import tensorflow as tf\n",
    "from tensorflow import keras\n",
    "from sklearn.model_selection import train_test_split\n",
    "from sklearn import preprocessing\n",
    "\n",
    "tf.random.set_seed(MY_SEED)"
   ]
  },
  {
   "cell_type": "markdown",
   "metadata": {},
   "source": [
    "We first use keras datasets in TF 2.x to load Fashion MNIST dataset."
   ]
  },
  {
   "cell_type": "code",
   "execution_count": null,
   "metadata": {},
   "outputs": [],
   "source": [
    "fashion_mnist = keras.datasets.fashion_mnist\n",
    "\n",
    "#Insert your code here\n",
    "\n",
    "(X_train_full_img, y_train_full), (X_test_img, y_test) =  fashion_mnist.load_data()"
   ]
  },
  {
   "cell_type": "markdown",
   "metadata": {},
   "source": [
    "The shape of X_train_full_img is $(60000, 28, 28 )$ and that of X_test_img is $(10000, 28, 28)$. We next convert them to matrices of vectors and store in X_train_full and X_test."
   ]
  },
  {
   "cell_type": "code",
   "execution_count": null,
   "metadata": {},
   "outputs": [],
   "source": [
    "num_train = X_train_full_img.shape[0]\n",
    "print(X_train_full_img.shape)\n",
    "print(num_train)\n",
    "num_test = X_test_img.shape[0]\n",
    "\n",
    "# insert your code here \n",
    "X_train_full = X_train_full_img.reshape(num_train,-1)  # NOTE: what does /255.0 do??\n",
    "print(X_train_full)\n",
    "X_test = X_test_img.reshape(num_test, -1)\n",
    "#Insert your code above\n",
    "\n",
    "print(X_train_full.shape, y_train_full.shape)\n",
    "print(X_test.shape, y_test.shape)"
   ]
  },
  {
   "cell_type": "markdown",
   "metadata": {},
   "source": [
    "####  <span style=\"color:red\">**Question 2.2**</span>. Preprocess the dataset and split into training, validation, and testing datasets\n",
    "\n",
    "<div style=\"text-align: right\"> <span style=\"color:red\">[5 points]</span> </div>\n",
    "\n",
    "You need to write the code to address the following requirements:\n",
    "- Print out the dimensions of X_train_full and X_test\n",
    "- Use $10 \\%$ of X_train_full for validation and the rest of X_train_full for training. This splits X_train_full and y_train_full into X_train, y_train ($90 \\%$) and X_valid, y_valid ($10 \\%$).\n",
    "- Finally, scale the pixels of X_train, X_valid, and X_test to $[0,1]$) (i.e., $X = X/255.0$).\n",
    "\n",
    "You have now the separate training, validation, and testing sets for training your model.\n",
    "\n"
   ]
  },
  {
   "cell_type": "code",
   "execution_count": null,
   "metadata": {},
   "outputs": [],
   "source": [
    "import math\n",
    "N = X_train_full.shape[0]\n",
    "i = math.floor(0.9*N)\n",
    "\n",
    "# TODO: insert your code below\n",
    "\n",
    "# 1: Print out the dimensions of X_train_full and X_test\n",
    "print(f'X_train_full.shape: {X_train_full.shape}')\n",
    "print(f'X_test.shape: {X_test.shape}')\n",
    "\n",
    "# 2: splitting datasets\n",
    "def train_valid_test_split(train_full_x, train_full_y, train_size, valid_size):\n",
    "    \"\"\" valid size is depedent on train_size \"\"\"\n",
    "    valid_size = 0.1 * train_size    \n",
    "    X_train, X_valid, y_train, y_valid = train_test_split(train_full_x, train_full_y, test_size = valid_size)\n",
    "    return X_train, X_valid, y_train, y_valid\n",
    "\n",
    "partitions = train_valid_test_split(X_train_full, y_train_full, 0.9, 0.1)\n",
    "\n",
    "X_train, y_train = partitions[0], partitions[2]\n",
    "X_valid, y_valid = partitions[1], partitions[3]\n",
    "\n",
    "print(f'X_train.shape: {X_train.shape}, y_train.shape: {y_train.shape}, X_valid.shape: {X_valid.shape}, y_valid.shape: {y_valid.shape}')\n",
    "\n",
    "# 3: Finally, scale the pixels of X_train, X_valid, and X_test to $[0,1]$) (i.e., $X = X/255.0$).\n",
    "X_train, X_valid, X_test = X_train/255.0, X_valid/255.0, X_test/255.0\n",
    "print(f'X_train: {X_train}\\n , X_valid: {X_valid}\\n, X_test: {X_test}')\n",
    "\n"
   ]
  },
  {
   "cell_type": "code",
   "execution_count": null,
   "metadata": {},
   "outputs": [],
   "source": [
    "print(y_train[:50])\n",
    "subset = y_train[:50]\n",
    "smooth_subset = [label_smooth(label, 0.1, len(subset)) for label in subset]\n",
    "smooth_subset"
   ]
  },
  {
   "cell_type": "markdown",
   "metadata": {},
   "source": [
    "####  <span style=\"color:red\">**Question 2.3**</span>. Visualize some images in the training set with labels\n",
    "\n",
    "<div style=\"text-align: right\"> <span style=\"color:red\">[5 points]</span> </div>\n",
    "\n",
    "You are required to write the code to show **random** $36$ images in X_train_full_img (which is an array of images) with labels as in the following figure. Note that the class names of Fashion MNIST are as follows \n",
    "- \"1:T-shirt/top\", \"2:Trouser\", \"3:Pullover\", \"4:Dress\", \"5:Coat\", \"6:Sandal\", \"7:Shirt\", \"8:Sneaker\", \"9:Bag\", \"10:Ankle boot\"\n",
    "\n",
    "<img src=\"Figures/Fashion_MNIST.png\" width=\"450\" align=\"center\"/>"
   ]
  },
  {
   "cell_type": "code",
   "execution_count": null,
   "metadata": {},
   "outputs": [],
   "source": [
    "import matplotlib.pyplot as plt\n",
    "%matplotlib inline"
   ]
  },
  {
   "cell_type": "code",
   "execution_count": null,
   "metadata": {},
   "outputs": [],
   "source": [
    "# YOU ARE REQUIRED TO INSERT YOUR CODES IN THIS CELL\n",
    "\n",
    "\n",
    "def visualize_data(images, categories, images_per_row = 8):\n",
    "    \n",
    "    class_names = [\"1:T-shirt/top\", \"2:Trouser\", \"3:Pullover\", \"4:Dress\", \"5:Coat\", \"6:Sandal\", \"7:Shirt\", \"8:Sneaker\", \"9:Bag\", \"10:Ankle boot\"]\n",
    "    \n",
    "    n_images = len(images)\n",
    "    n_rows = math.ceil(float(n_images)/images_per_row)\n",
    "    fig = plt.figure(figsize=(1.5*images_per_row, 1.5*n_rows))\n",
    "    fig.patch.set_facecolor('white')\n",
    "    \n",
    "    # plotting the images onto the plot space\n",
    "    for i in range(n_images):\n",
    "        plt.subplot(n_rows, images_per_row, i+1)\n",
    "        plt.xticks([])\n",
    "        plt.yticks([])\n",
    "        plt.imshow(images[i], cmap=\"gray\")\n",
    "        class_index = categories[i]\n",
    "        plt.xlabel(class_names[class_index])\n",
    "    plt.show()\n",
    "    \n",
    "\n",
    "visualize_data(X_train_full_img[:36], y_train_full[:36])\n"
   ]
  },
  {
   "cell_type": "markdown",
   "metadata": {},
   "source": [
    "####  <span style=\"color:red\">**Question 2.4**</span>. Write code for the feed-forward neural net using TF 2.x\n",
    "\n",
    "<div style=\"text-align: right\"> <span style=\"color:red\">[5 points]</span> </div>"
   ]
  },
  {
   "cell_type": "markdown",
   "metadata": {},
   "source": [
    "We now develop a feed-forward neural network with the architecture $784 \\rightarrow 20(ReLU) \\rightarrow 40(ReLU) \\rightarrow 10(softmax)$. You can choose your own way to implement your network and an optimizer of interest. You should train model in $20$ epochs and evaluate the trained model on the test set."
   ]
  },
  {
   "cell_type": "code",
   "execution_count": null,
   "metadata": {},
   "outputs": [],
   "source": [
    "import tensorflow as tf\n",
    "from tensorflow.keras.layers import Dense, Flatten\n",
    "from tensorflow.keras.models import Sequential\n"
   ]
  },
  {
   "cell_type": "code",
   "execution_count": null,
   "metadata": {},
   "outputs": [],
   "source": [
    "#Insert your code here and you can add more cells if necessary\n",
    "EPOCHS = 20\n",
    "\n",
    "class DNN(tf.keras.Model):\n",
    "    def __init__(self, num_classes= 10, hiddenAct=keras.activations.relu, neuronCount = (20,40)):\n",
    "        super(DNN, self).__init__()\n",
    "        self.num_classes = num_classes\n",
    "        self.dense1 = Dense(units=neuronCount[0],  input_shape=(n_features,), activation=hiddenAct)\n",
    "        self.dense2 = Dense(units=neuronCount[1], activation=hiddenAct)\n",
    "        self.dense3 = Dense(self.num_classes, activation= 'softmax')\n",
    "    \n",
    "    def call(self, inputs):\n",
    "        # ME: forward propagation\n",
    "        h = self.dense1(inputs)\n",
    "        h = self.dense2(h)\n",
    "        h = self.dense3(h)\n",
    "        return h\n",
    "\n",
    "# 1: pre-processing (splitting is done earlier)\n",
    "train_size= int(X_train.shape[0])\n",
    "n_features= int(X_train.shape[1])\n",
    "n_classes= len(np.unique(y_train))\n",
    "print(f'train_size: {train_size} | n_features: {n_features} | n_classes: {n_classes}')\n",
    "\n",
    "# 2: Build the feed forward network 784 -> 20(ReLU) -> 40(ReLU) -> 10(softmax)\n",
    "# dnn_model = Sequential()\n",
    "# dnn_model.add(Dense(units=20,  input_shape=(n_features,), activation='relu'))\n",
    "# dnn_model.add(Dense(units=40, activation='relu'))\n",
    "# dnn_model.add(Dense(units=n_classes, activation='softmax'))\n",
    "model = DNN(n_classes)\n",
    "\n",
    "# 3: compile the model with optimizer of choice\n",
    "\n",
    "model.compile(optimizer='adam', \n",
    "                  loss='sparse_categorical_crossentropy', \n",
    "                  metrics=['accuracy'])\n",
    "\n",
    "\n",
    "# 4: training the model (20 epochs)\n",
    "\n",
    "# Initialize a tensorboard_callback \n",
    "logDirectory = \"tf_logs/\"\n",
    "tensorboard_callback = keras.callbacks.TensorBoard(log_dir=logDirectory)\n",
    "\n",
    "# Call the fit method, passing the tensorboard_callback \n",
    "history = model.fit(    x=X_train, y=y_train, \n",
    "                        batch_size=32, \n",
    "                        epochs=EPOCHS, \n",
    "                        validation_data=(X_valid, y_valid), \n",
    "                        callbacks=[tensorboard_callback])\n",
    "\n",
    "\n"
   ]
  },
  {
   "cell_type": "code",
   "execution_count": null,
   "metadata": {},
   "outputs": [],
   "source": [
    "\n",
    "# 5: peformance evaluation of trained model\n",
    "model.evaluate(X_test, y_test)  #return loss and accuracy\n"
   ]
  },
  {
   "cell_type": "code",
   "execution_count": null,
   "metadata": {},
   "outputs": [],
   "source": [
    "# 6: save the model\n",
    "model.save('q2-4_model', save_format='tf')\n"
   ]
  },
  {
   "cell_type": "markdown",
   "metadata": {},
   "source": [
    "####  <span style=\"color:red\">**Question 2.5**</span>. Tuning hyper-parameters with grid search\n",
    "<div style=\"text-align: right\"> <span style=\"color:red\">[5 points]</span> </div>\n",
    "\n",
    "Assume that you need to tune the number of neurons on the first and second hidden layers $n_1 \\in \\{20, 40\\}$, $n_2 \\in \\{20, 40\\}$  and the used activation function  $act \\in \\{sigmoid, tanh, relu\\}$. The network has the architecture pattern $784 \\rightarrow n_1 (act) \\rightarrow n_2(act) \\rightarrow 10(softmax)$ where $n_1, n_2$, and $act$ are in their grides. Write the code to tune the hyper-parameters $n_1, n_2$, and $act$. Note that you can freely choose the optimizer and learning rate of interest for this task."
   ]
  },
  {
   "cell_type": "markdown",
   "metadata": {},
   "source": [
    "---\n",
    "#### **we want to optimize:**\n",
    "\n",
    "1. number of neurons $n1, n2$ (range is between 20 to 40 neurons)\n",
    "2. activation functions used, $act \\in \\{ sigmoid, tanh, relu\\}$ \n",
    "\n",
    "optional: can use ANY optimizer and learning rate "
   ]
  },
  {
   "cell_type": "code",
   "execution_count": null,
   "metadata": {},
   "outputs": [],
   "source": [
    "#Insert your code here. You can add more cells if necessary\n",
    "\n",
    "\n",
    "lst_neurons_count = [20,40] # generate integers from 20 to 40 for simplicity's sake\n",
    "lst_acts = [keras.activations.sigmoid, keras.activations.tanh, keras.activations.relu]\n",
    "\n",
    "best_acc= - np.inf\n",
    "best_history = None\n",
    "\n",
    "best_neurons_combo = [None, None]\n",
    "for act in lst_acts:\n",
    "    for nc1 in lst_neurons_count:  # for the 1st hidden layer\n",
    "        for nc2 in lst_neurons_count:  # for the 2nd hidden layer\n",
    "            # build the model\n",
    "            dnn = DNN(num_classes=n_classes, hiddenAct=act, neuronCount=(nc1, nc2)) # specifies the activation func to use for hidden layers \n",
    "            dnn.build(input_shape = (None, 784))\n",
    "            dnn.compile(loss='sparse_categorical_crossentropy', metrics=['accuracy']) # optimzer is deaulted to RMSProp\n",
    "            \n",
    "            # model fitting\n",
    "            print(f\"Training with activation = {str(act)},  {nc1} neurons on 1st hidden layer, {nc2} on 2nd hidden layer\")\n",
    "            history = dnn.fit(X_train, y_train, batch_size=32, epochs=10, verbose=0)\n",
    "            \n",
    "            # performance evaluation\n",
    "            valid_loss, valid_acc = dnn.evaluate(X_valid, y_valid)\n",
    "            print('\\tvalid acc = {}, valid loss = {}'.format(valid_acc, valid_loss))\n",
    "            \n",
    "            # check for better model\n",
    "            if(valid_acc > best_acc):\n",
    "                best_acc = valid_acc\n",
    "                best_model = dnn\n",
    "                best_act = act\n",
    "                best_neurons_combo[0], best_neurons_combo[1] = nc1, nc2\n",
    "                best_history = history\n",
    "\n",
    "print(f'The best model is with activation function = {best_act}, {best_neurons_combo[0]} neurons on 1st hidden layer, {best_neurons_combo[1]} on 2nd hidden layer')\n",
    "best_model.save('2-5_tuned_model', save_format='tf')\n",
    "print('Saved the best model to hard disk')\n",
    "\n"
   ]
  },
  {
   "cell_type": "markdown",
   "metadata": {},
   "source": [
    "####  <span style=\"color:red\">**Question 2.6**</span>. Experimenting with **the label smoothing** technique\n",
    "<div style=\"text-align: right\"> <span style=\"color:red\">[5 points]</span> </div>\n",
    "\n",
    "Implement the label smoothing technique (i.e., [link for main paper](https://papers.nips.cc/paper/2019/file/f1748d6b0fd9d439f71450117eba2725-Paper.pdf) from Goeff Hinton) by yourself. Note that you cannot use the built-in label-smoothing loss function in TF2.x. Try the label smoothing technique with $\\alpha =0.1, 0.15, 0.2$ and report the performances. You need to examine the label smoothing technique with the best architecture obtained in **Question 2.5**."
   ]
  },
  {
   "cell_type": "markdown",
   "metadata": {},
   "source": [
    "# TODO:\n",
    "### Report of performances\n",
    "\n",
    "From my observations, using different alpha values did result in different performances in terms of validation accuracy.\n",
    "\n",
    "The trend is that the higher the alpha value, the better the performance in terms of validation accuracy, although it was only a very minor increase in performance.\n",
    "\n",
    "___\n",
    "#### Run Results:\n",
    "Training best model from q2.5 with alpha=0.1\n",
    "169/169 [==============================] - 0s 834us/step - loss: 0.4202 - accuracy: 0.8828\n",
    "\tvalid acc = 0.882799506187439, valid loss = 0.4202166795730591\n",
    "\n",
    "Training best model from q2.5 with alpha=0.15\n",
    "169/169 [==============================] - 0s 839us/step - loss: 0.4978 - accuracy: 0.8884\n",
    "\tvalid acc = 0.8883540034294128, valid loss = 0.4978174567222595\n",
    "\t\n",
    "Training best model from q2.5 with alpha=0.2\n",
    "169/169 [==============================] - 0s 881us/step - loss: 0.4772 - accuracy: 0.8895\n",
    "\tvalid acc = 0.8894649147987366, valid loss = 0.4772440195083618\n",
    "The alpha from 2.5 DNN model is alpha=0.2"
   ]
  },
  {
   "cell_type": "code",
   "execution_count": null,
   "metadata": {},
   "outputs": [],
   "source": [
    "def smoothen(label_vectors, alph):\n",
    "    \"\"\" smoothens labels in the form of one hot vectors\"\"\" \n",
    "    # label_vectors = one hot vector of smoothed labels\n",
    "    smoothed = []\n",
    "    for vector in label_vectors:\n",
    "        smoothed_label_vector = []\n",
    "        for bit in vector:\n",
    "            # smoothed_label_vector =  [label_smooth(y_k=bit, alpha=alph, K=len(vector)) for bit in vector]\n",
    "            smoothed_bit = label_smooth(y_k=bit, alpha=alph, K=len(vector))\n",
    "            smoothed_label_vector.append(smoothed_bit)\n",
    "            # print(f'{bit} , {smoothed_bit}')\n",
    "        # print(f'before smooth ({len(vector)}): {vector}, after smooth ({len(smoothed_label_vector)}): {smoothed_label_vector}')\n",
    "        smoothed.append(smoothed_label_vector)\n",
    "    return smoothed\n",
    " \n",
    "# smoothen(np.eye(n_classes)[y_train], 0.1)\n"
   ]
  },
  {
   "cell_type": "code",
   "execution_count": null,
   "metadata": {},
   "outputs": [],
   "source": [
    "#Insert your code here. You can add more cells if necessary\n",
    "\n",
    "# 1: prepare several smooth labelling parameters, alpha\n",
    "alphas = [0.1, 0.15, 0.2]\n",
    "\n",
    "# smoothen all the y labels\n",
    "\n",
    "\n",
    "# 2: fit and see evaluate performance of each smooth labelling parameter, alpha \n",
    "\n",
    "# NOTE: we need to use the BEST model using the BEST hyper parameters from Q2.5\n",
    "best_alpha = None\n",
    "best_acc = - np.inf\n",
    "best_history = None\n",
    "\n",
    "for alpha in alphas:    \n",
    "    # build the model\n",
    "    dnn = DNN(num_classes=10, hiddenAct=best_act, neuronCount=best_neurons_combo) # specifies the activation func to use for hidden layers \n",
    "    dnn.build(input_shape = (None, 784))\n",
    "    # need to use CategoricalCrossentropy instead of sparse_categorical_crossentropy\n",
    "    # cce = tf.keras.losses.CategoricalCrossentropy()\n",
    "    dnn.compile(loss=\"categorical_crossentropy\", metrics=['accuracy']) # optimzer is deaulted to RMSProp\n",
    "    \n",
    "    # model fitting\n",
    "    print(f\"Training best model from q2.5 with alpha={alpha}\")\n",
    "    # NOTE: this is where we \"smoothen\" the y labels BUT we need to convert the list of labels into a list of one-hot-vectors first\n",
    "    history = dnn.fit(X_train, np.array(smoothen(np.eye(n_classes)[y_train], alpha)), batch_size=32, epochs=10, verbose=0)\n",
    "    \n",
    "    # performance evaluation\n",
    "    # y_valid_vector = smoothen(np.eye(n_classes)[y_valid], alpha)\n",
    "    y_valid_vector = np.eye(n_classes)[y_valid]\n",
    "    valid_loss, valid_acc = dnn.evaluate(X_valid, y_valid_vector) # also need to one-hot y valid\n",
    "    print('\\tvalid acc = {}, valid loss = {}'.format(valid_acc, valid_loss))\n",
    "\n",
    "    # check for better model using different alpha values\n",
    "    if(valid_acc > best_acc):\n",
    "        best_alpha = alpha\n",
    "        best_acc = valid_acc\n",
    "        best_model = dnn\n",
    "        best_history = history\n",
    "\n",
    "print(f'The best alpha from 2.5 DNN model is alpha={best_alpha}')\n",
    "best_model.save('2-6_tuned_model', save_format='tf')\n",
    "print('Saved the best alpha model for 2.6 to hard disk')\n",
    "\n",
    "\n",
    "\n"
   ]
  },
  {
   "cell_type": "markdown",
   "metadata": {},
   "source": [
    "## <span style=\"color:#0b486b\">Part 3: Convolutional Neural Networks and Image Classification</span>\n",
    "\n",
    "**<div style=\"text-align: right\"><span style=\"color:red\">[Total marks for this part: 40 points]</span></div>**"
   ]
  },
  {
   "cell_type": "markdown",
   "metadata": {},
   "source": [
    "**This part of the asssignment is designed to assess your knowledge and coding skill with Tensorflow as well as hands-on experience with training Convolutional Neural Network (CNN).**"
   ]
  },
  {
   "cell_type": "markdown",
   "metadata": {},
   "source": [
    "**The dataset we use for this part is a small animal dataset consisting of $5,000$ images of cats, dogs, fishes, lions, chickens, elephants, butterflies, cows, spiders, and horses, each of which has 500 images. You can download the dataset at [download here](https://drive.google.com/file/d/1bEwEx72lLrjY_Idj_FgV22atIdjtCV66/view?usp=sharing) and then decompress to the folder `datasets\\Animals` in your assignment folder.**\n",
    "\n",
    "**Your task is to build a CNN model using *TF 2.x* to classify these animals. You're provided with the module <span style=\"color:red\">models.py</span>, which you can find in the assignment folder, with some of the following classes:**"
   ]
  },
  {
   "cell_type": "markdown",
   "metadata": {},
   "source": [
    "1. `AnimalsDatasetManager`: Support with loading and spliting the dataset into the train-val-test sets. It also supports generating next batches for training. `AnimalsDatasetManager` will be passed to CNN model for training and testing.\n",
    "2. `DefaultModel`: A base class for the CNN model.\n",
    "3. `YourModel`: The class you'll need to implement for building your CNN model. It inherits some useful attributes and functions from the base class `DefaultModel`"
   ]
  },
  {
   "cell_type": "markdown",
   "metadata": {},
   "source": [
    "Firstly, we need to run the following cells to load and preprocess the Animal dataset."
   ]
  },
  {
   "cell_type": "code",
   "execution_count": 2,
   "metadata": {},
   "outputs": [
    {
     "name": "stdout",
     "output_type": "stream",
     "text": [
      "The autoreload extension is already loaded. To reload it, use:\n",
      "  %reload_ext autoreload\n"
     ]
    }
   ],
   "source": [
    "%load_ext autoreload\n",
    "%autoreload 2\n",
    "\n"
   ]
  },
  {
   "cell_type": "markdown",
   "metadata": {},
   "source": [
    "Install the package `imutils` if you have not installed yet"
   ]
  },
  {
   "cell_type": "code",
   "execution_count": 2,
   "metadata": {},
   "outputs": [
    {
     "name": "stdout",
     "output_type": "stream",
     "text": [
      "Requirement already satisfied: imutils in c:\\users\\pc\\anaconda3\\envs\\tf2_cpu\\lib\\site-packages (0.5.4)\n"
     ]
    }
   ],
   "source": [
    "! pip install imutils"
   ]
  },
  {
   "cell_type": "code",
   "execution_count": 3,
   "metadata": {},
   "outputs": [],
   "source": [
    "import os\n",
    "import matplotlib.pyplot as plt\n",
    "plt.style.use('ggplot')\n",
    "%matplotlib inline\n",
    "import models\n",
    "from models import SimplePreprocessor, AnimalsDatasetManager, DefaultModel"
   ]
  },
  {
   "cell_type": "code",
   "execution_count": 4,
   "metadata": {},
   "outputs": [],
   "source": [
    "def create_label_folder_dict(adir):\n",
    "    sub_folders= [folder for folder in os.listdir(adir)\n",
    "                  if os.path.isdir(os.path.join(adir, folder))]\n",
    "    label_folder_dict= dict()\n",
    "    for folder in sub_folders:\n",
    "        item= {folder: os.path.abspath(os.path.join(adir, folder))}\n",
    "        label_folder_dict.update(item)\n",
    "    return label_folder_dict"
   ]
  },
  {
   "cell_type": "code",
   "execution_count": 5,
   "metadata": {},
   "outputs": [
    {
     "name": "stdout",
     "output_type": "stream",
     "text": [
      "{'butterfiles': 'd:\\\\monash stuff\\\\education stuff\\\\3rd yr\\\\FIT3181 Deep Learning\\\\assignment\\\\FIT3181_Assignment_1\\\\datasets\\\\Animals\\\\butterfiles', 'cats': 'd:\\\\monash stuff\\\\education stuff\\\\3rd yr\\\\FIT3181 Deep Learning\\\\assignment\\\\FIT3181_Assignment_1\\\\datasets\\\\Animals\\\\cats', 'chickens': 'd:\\\\monash stuff\\\\education stuff\\\\3rd yr\\\\FIT3181 Deep Learning\\\\assignment\\\\FIT3181_Assignment_1\\\\datasets\\\\Animals\\\\chickens', 'cows': 'd:\\\\monash stuff\\\\education stuff\\\\3rd yr\\\\FIT3181 Deep Learning\\\\assignment\\\\FIT3181_Assignment_1\\\\datasets\\\\Animals\\\\cows', 'dogs': 'd:\\\\monash stuff\\\\education stuff\\\\3rd yr\\\\FIT3181 Deep Learning\\\\assignment\\\\FIT3181_Assignment_1\\\\datasets\\\\Animals\\\\dogs', 'elephants': 'd:\\\\monash stuff\\\\education stuff\\\\3rd yr\\\\FIT3181 Deep Learning\\\\assignment\\\\FIT3181_Assignment_1\\\\datasets\\\\Animals\\\\elephants', 'fishes': 'd:\\\\monash stuff\\\\education stuff\\\\3rd yr\\\\FIT3181 Deep Learning\\\\assignment\\\\FIT3181_Assignment_1\\\\datasets\\\\Animals\\\\fishes', 'horses': 'd:\\\\monash stuff\\\\education stuff\\\\3rd yr\\\\FIT3181 Deep Learning\\\\assignment\\\\FIT3181_Assignment_1\\\\datasets\\\\Animals\\\\horses', 'lions': 'd:\\\\monash stuff\\\\education stuff\\\\3rd yr\\\\FIT3181 Deep Learning\\\\assignment\\\\FIT3181_Assignment_1\\\\datasets\\\\Animals\\\\lions', 'spiders': 'd:\\\\monash stuff\\\\education stuff\\\\3rd yr\\\\FIT3181 Deep Learning\\\\assignment\\\\FIT3181_Assignment_1\\\\datasets\\\\Animals\\\\spiders'}\n"
     ]
    }
   ],
   "source": [
    "# TODO: ask what does this do?\n",
    "label_folder_dict = create_label_folder_dict(\"./datasets/Animals\")\n",
    "print(label_folder_dict)"
   ]
  },
  {
   "cell_type": "markdown",
   "metadata": {},
   "source": [
    "The below code helps to create a data manager that contains all relevant methods used to manage and process the experimental data. "
   ]
  },
  {
   "cell_type": "code",
   "execution_count": 6,
   "metadata": {},
   "outputs": [
    {
     "name": "stdout",
     "output_type": "stream",
     "text": [
      "butterfiles 500\n",
      "Processed 100/500\n",
      "Processed 200/500\n",
      "Processed 300/500\n",
      "Processed 400/500\n",
      "Processed 500/500\n",
      "cats 501\n",
      "Processed 100/500\n",
      "Processed 200/500\n",
      "Processed 300/500\n",
      "Processed 400/500\n",
      "Processed 500/500\n",
      "chickens 500\n",
      "Processed 100/500\n",
      "Processed 200/500\n",
      "Processed 300/500\n",
      "Processed 400/500\n",
      "Processed 500/500\n",
      "cows 500\n",
      "Processed 100/500\n",
      "Processed 200/500\n",
      "Processed 300/500\n",
      "Processed 400/500\n",
      "Processed 500/500\n",
      "dogs 501\n",
      "Processed 100/500\n",
      "Processed 200/500\n",
      "Processed 300/500\n",
      "Processed 400/500\n",
      "Processed 500/500\n",
      "elephants 500\n",
      "Processed 100/500\n",
      "Processed 200/500\n",
      "Processed 300/500\n",
      "Processed 400/500\n",
      "Processed 500/500\n",
      "fishes 500\n",
      "Processed 100/500\n",
      "Processed 200/500\n",
      "Processed 300/500\n",
      "Processed 400/500\n",
      "Processed 500/500\n",
      "horses 500\n",
      "Processed 100/500\n",
      "Processed 200/500\n",
      "Processed 300/500\n",
      "Processed 400/500\n",
      "Processed 500/500\n",
      "lions 500\n",
      "Processed 100/500\n",
      "Processed 200/500\n",
      "Processed 300/500\n",
      "Processed 400/500\n",
      "Processed 500/500\n",
      "spiders 500\n",
      "Processed 100/500\n",
      "Processed 200/500\n",
      "Processed 300/500\n",
      "Processed 400/500\n",
      "Processed 500/500\n"
     ]
    }
   ],
   "source": [
    "sp = SimplePreprocessor(width=32, height=32)\n",
    "data_manager = AnimalsDatasetManager([sp])\n",
    "data_manager.load(label_folder_dict, verbose=100)\n",
    "data_manager.process_data_label()\n",
    "data_manager.train_valid_test_split()"
   ]
  },
  {
   "cell_type": "markdown",
   "metadata": {},
   "source": [
    "Note that the object `data_manager` has the attributes relating to *the training, validation, and testing sets* as shown belows. You can use them in training your developped models in the sequel."
   ]
  },
  {
   "cell_type": "code",
   "execution_count": 7,
   "metadata": {},
   "outputs": [
    {
     "name": "stdout",
     "output_type": "stream",
     "text": [
      "(4000, 32, 32, 3) (4000,)\n",
      "(500, 32, 32, 3) (500,)\n",
      "(500, 32, 32, 3) (500,)\n",
      "['butterfiles' 'cats' 'chickens' 'cows' 'dogs' 'elephants' 'fishes'\n",
      " 'horses' 'lions' 'spiders']\n",
      "[[[[-0.91372549 -0.89019608 -0.81960784]\n",
      "   [-0.8745098  -0.85882353 -0.74901961]\n",
      "   [-0.92156863 -0.89803922 -0.75686275]\n",
      "   ...\n",
      "   [-0.05882353  0.10588235 -0.4745098 ]\n",
      "   [-0.38039216 -0.21568627 -0.84313725]\n",
      "   [-0.21568627 -0.05098039 -0.67058824]]\n",
      "\n",
      "  [[-0.8745098  -0.86666667 -0.77254902]\n",
      "   [-0.88235294 -0.85882353 -0.74117647]\n",
      "   [-0.8745098  -0.85098039 -0.71764706]\n",
      "   ...\n",
      "   [-0.16862745 -0.00392157 -0.54509804]\n",
      "   [ 0.10588235  0.27058824 -0.34117647]\n",
      "   [-0.12156863  0.05098039 -0.59215686]]\n",
      "\n",
      "  [[-0.89019608 -0.85882353 -0.75686275]\n",
      "   [-0.77254902 -0.75686275 -0.63921569]\n",
      "   [-0.84313725 -0.79607843 -0.67058824]\n",
      "   ...\n",
      "   [-0.00392157  0.15294118 -0.34117647]\n",
      "   [ 0.0745098   0.25490196 -0.34901961]\n",
      "   [ 0.09019608  0.2627451  -0.39607843]]\n",
      "\n",
      "  ...\n",
      "\n",
      "  [[-0.4745098  -0.37254902 -0.27843137]\n",
      "   [-0.73333333 -0.69411765 -0.38039216]\n",
      "   [-0.78039216 -0.75686275 -0.38823529]\n",
      "   ...\n",
      "   [ 0.34901961  0.16862745 -0.49019608]\n",
      "   [ 0.41960784  0.30980392 -0.23921569]\n",
      "   [ 0.36470588  0.30196078 -0.18431373]]\n",
      "\n",
      "  [[-0.80392157 -0.7254902  -0.43529412]\n",
      "   [-0.82745098 -0.78039216 -0.29411765]\n",
      "   [-0.82745098 -0.79607843 -0.30196078]\n",
      "   ...\n",
      "   [-0.1372549  -0.23137255 -0.80392157]\n",
      "   [ 0.4745098   0.46666667 -0.01960784]\n",
      "   [ 0.49803922  0.55294118  0.14509804]]\n",
      "\n",
      "  [[-0.89803922 -0.76470588 -0.50588235]\n",
      "   [-0.85098039 -0.78039216 -0.30980392]\n",
      "   [-0.86666667 -0.81960784 -0.34117647]\n",
      "   ...\n",
      "   [ 0.09803922  0.03529412 -0.57647059]\n",
      "   [ 0.56862745  0.61568627  0.12156863]\n",
      "   [ 0.45098039  0.56078431  0.16078431]]]\n",
      "\n",
      "\n",
      " [[[-0.97647059 -0.95294118 -1.        ]\n",
      "   [-0.99215686 -0.96862745 -0.99215686]\n",
      "   [-0.97647059 -0.98431373 -0.94509804]\n",
      "   ...\n",
      "   [-0.8745098  -0.88235294 -0.89803922]\n",
      "   [-0.85098039 -0.85882353 -0.8745098 ]\n",
      "   [-0.85098039 -0.85882353 -0.8745098 ]]\n",
      "\n",
      "  [[-0.97647059 -0.95294118 -1.        ]\n",
      "   [-0.97647059 -0.96862745 -0.99215686]\n",
      "   [-0.98431373 -0.97647059 -0.97647059]\n",
      "   ...\n",
      "   [-0.97647059 -0.98431373 -0.99215686]\n",
      "   [-0.94509804 -0.95294118 -0.96862745]\n",
      "   [-0.89019608 -0.89803922 -0.91372549]]\n",
      "\n",
      "  [[-0.97647059 -0.96862745 -0.99215686]\n",
      "   [-0.96862745 -0.95294118 -1.        ]\n",
      "   [-0.96078431 -0.94509804 -1.        ]\n",
      "   ...\n",
      "   [-0.99215686 -1.         -1.        ]\n",
      "   [-0.98431373 -0.99215686 -1.        ]\n",
      "   [-0.96078431 -0.96862745 -0.97647059]]\n",
      "\n",
      "  ...\n",
      "\n",
      "  [[-0.7254902  -0.78039216 -0.85882353]\n",
      "   [-0.74117647 -0.79607843 -0.88235294]\n",
      "   [-0.77254902 -0.82745098 -0.90588235]\n",
      "   ...\n",
      "   [-0.81960784 -0.79607843 -0.82745098]\n",
      "   [-0.38039216 -0.36470588 -0.37254902]\n",
      "   [-0.78823529 -0.77254902 -0.78039216]]\n",
      "\n",
      "  [[-0.76470588 -0.79607843 -0.86666667]\n",
      "   [-0.77254902 -0.80392157 -0.8745098 ]\n",
      "   [-0.76470588 -0.79607843 -0.86666667]\n",
      "   ...\n",
      "   [ 0.01176471  0.11372549 -0.23137255]\n",
      "   [ 0.20784314  0.30196078 -0.01960784]\n",
      "   [-0.05098039  0.05098039 -0.27843137]]\n",
      "\n",
      "  [[-0.88235294 -0.89019608 -0.92941176]\n",
      "   [-0.74901961 -0.75686275 -0.81960784]\n",
      "   [-0.84313725 -0.85098039 -0.91372549]\n",
      "   ...\n",
      "   [-0.96862745 -0.86666667 -0.96078431]\n",
      "   [-0.92941176 -0.84313725 -0.95294118]\n",
      "   [-0.9372549  -0.85098039 -0.94509804]]]\n",
      "\n",
      "\n",
      " [[[-0.15294118  0.04313725 -0.5372549 ]\n",
      "   [-0.27058824 -0.06666667 -0.64705882]\n",
      "   [-0.22352941 -0.01960784 -0.59215686]\n",
      "   ...\n",
      "   [-0.27058824  0.02745098 -0.6627451 ]\n",
      "   [-0.23137255  0.05882353 -0.67058824]\n",
      "   [-0.2         0.0745098  -0.59215686]]\n",
      "\n",
      "  [[-0.25490196 -0.01176471 -0.63921569]\n",
      "   [-0.30196078 -0.0745098  -0.62352941]\n",
      "   [-0.2627451  -0.05882353 -0.65490196]\n",
      "   ...\n",
      "   [-0.27843137  0.02745098 -0.67843137]\n",
      "   [-0.29411765  0.01960784 -0.68627451]\n",
      "   [-0.33333333 -0.06666667 -0.79607843]]\n",
      "\n",
      "  [[-0.3254902  -0.06666667 -0.70196078]\n",
      "   [-0.28627451 -0.0745098  -0.60784314]\n",
      "   [-0.25490196 -0.04313725 -0.63921569]\n",
      "   ...\n",
      "   [-0.23137255  0.05098039 -0.67843137]\n",
      "   [-0.18431373  0.11372549 -0.56078431]\n",
      "   [-0.14509804  0.09019608 -0.52156863]]\n",
      "\n",
      "  ...\n",
      "\n",
      "  [[-0.50588235 -0.22352941 -0.84313725]\n",
      "   [-0.56862745 -0.25490196 -0.92941176]\n",
      "   [-0.54509804 -0.25490196 -0.91372549]\n",
      "   ...\n",
      "   [-0.30980392 -0.09803922 -0.69411765]\n",
      "   [-0.42745098 -0.22352941 -0.82745098]\n",
      "   [-0.30980392 -0.09803922 -0.75686275]]\n",
      "\n",
      "  [[-0.54509804 -0.25490196 -0.90588235]\n",
      "   [-0.55294118 -0.24705882 -0.92156863]\n",
      "   [-0.51372549 -0.21568627 -0.88235294]\n",
      "   ...\n",
      "   [-0.31764706 -0.11372549 -0.74901961]\n",
      "   [-0.3254902  -0.16078431 -0.77254902]\n",
      "   [-0.27058824 -0.09803922 -0.7254902 ]]\n",
      "\n",
      "  [[-0.52941176 -0.22352941 -0.89019608]\n",
      "   [-0.62352941 -0.30980392 -0.92156863]\n",
      "   [-0.67058824 -0.35686275 -0.92156863]\n",
      "   ...\n",
      "   [-0.35686275 -0.14509804 -0.74901961]\n",
      "   [-0.21568627 -0.1372549  -0.6627451 ]\n",
      "   [ 0.23137255  0.12941176 -0.22352941]]]\n",
      "\n",
      "\n",
      " ...\n",
      "\n",
      "\n",
      " [[[-0.58431373 -0.79607843 -0.8745098 ]\n",
      "   [-0.41176471 -0.63921569 -0.73333333]\n",
      "   [-0.34901961 -0.6        -0.71764706]\n",
      "   ...\n",
      "   [-0.3254902  -0.6627451  -0.73333333]\n",
      "   [-0.18431373 -0.55294118 -0.63921569]\n",
      "   [-0.12941176 -0.54509804 -0.64705882]]\n",
      "\n",
      "  [[-0.49019608 -0.71764706 -0.79607843]\n",
      "   [-0.30980392 -0.54509804 -0.64705882]\n",
      "   [-0.30980392 -0.56862745 -0.70196078]\n",
      "   ...\n",
      "   [-0.30196078 -0.62352941 -0.71764706]\n",
      "   [-0.25490196 -0.6        -0.70980392]\n",
      "   [-0.33333333 -0.70980392 -0.84313725]]\n",
      "\n",
      "  [[-0.21568627 -0.46666667 -0.56862745]\n",
      "   [-0.28627451 -0.55294118 -0.67058824]\n",
      "   [-0.23921569 -0.52941176 -0.67058824]\n",
      "   ...\n",
      "   [-0.43529412 -0.74117647 -0.84313725]\n",
      "   [-0.30196078 -0.60784314 -0.74117647]\n",
      "   [-0.31764706 -0.67058824 -0.82745098]]\n",
      "\n",
      "  ...\n",
      "\n",
      "  [[-0.40392157 -0.69411765 -0.83529412]\n",
      "   [-0.52156863 -0.77254902 -0.85098039]\n",
      "   [-0.41176471 -0.68627451 -0.74117647]\n",
      "   ...\n",
      "   [-0.08235294 -0.43529412 -0.65490196]\n",
      "   [-0.2        -0.51372549 -0.70196078]\n",
      "   [-0.27843137 -0.56862745 -0.75686275]]\n",
      "\n",
      "  [[-0.40392157 -0.67843137 -0.78823529]\n",
      "   [-0.67843137 -0.89019608 -0.92941176]\n",
      "   [-0.70980392 -0.94509804 -0.94509804]\n",
      "   ...\n",
      "   [-0.09019608 -0.42745098 -0.62352941]\n",
      "   [-0.24705882 -0.52941176 -0.68627451]\n",
      "   [-0.40392157 -0.64705882 -0.78823529]]\n",
      "\n",
      "  [[-0.45098039 -0.71764706 -0.79607843]\n",
      "   [-0.64705882 -0.85098039 -0.85882353]\n",
      "   [-0.68627451 -0.89803922 -0.88235294]\n",
      "   ...\n",
      "   [-0.08235294 -0.40392157 -0.58431373]\n",
      "   [-0.28627451 -0.5372549  -0.67843137]\n",
      "   [-0.56078431 -0.78039216 -0.8745098 ]]]\n",
      "\n",
      "\n",
      " [[[-0.76470588 -0.77254902 -0.80392157]\n",
      "   [-0.70980392 -0.71764706 -0.74901961]\n",
      "   [-0.6627451  -0.67058824 -0.70196078]\n",
      "   ...\n",
      "   [-0.44313725 -0.44313725 -0.50588235]\n",
      "   [-0.49803922 -0.49803922 -0.56078431]\n",
      "   [-0.49803922 -0.49803922 -0.56078431]]\n",
      "\n",
      "  [[-0.61568627 -0.62352941 -0.65490196]\n",
      "   [-0.6627451  -0.67058824 -0.70196078]\n",
      "   [-0.56078431 -0.56862745 -0.6       ]\n",
      "   ...\n",
      "   [-0.40392157 -0.40392157 -0.46666667]\n",
      "   [-0.30980392 -0.30980392 -0.38823529]\n",
      "   [-0.43529412 -0.43529412 -0.51372549]]\n",
      "\n",
      "  [[-0.50588235 -0.51372549 -0.54509804]\n",
      "   [-0.68627451 -0.69411765 -0.7254902 ]\n",
      "   [-0.61568627 -0.62352941 -0.65490196]\n",
      "   ...\n",
      "   [-0.30980392 -0.30980392 -0.38039216]\n",
      "   [-0.34117647 -0.34117647 -0.41960784]\n",
      "   [-0.48235294 -0.48235294 -0.56078431]]\n",
      "\n",
      "  ...\n",
      "\n",
      "  [[-0.05882353 -0.12941176 -0.22352941]\n",
      "   [-0.29411765 -0.35686275 -0.45882353]\n",
      "   [-0.10588235 -0.16078431 -0.28627451]\n",
      "   ...\n",
      "   [ 0.12941176  0.00392157 -0.12941176]\n",
      "   [-0.10588235 -0.20784314 -0.37254902]\n",
      "   [-0.04313725 -0.1372549  -0.33333333]]\n",
      "\n",
      "  [[ 0.00392157 -0.09019608 -0.27843137]\n",
      "   [ 0.19215686  0.09803922 -0.10588235]\n",
      "   [ 0.20784314  0.12156863 -0.09019608]\n",
      "   ...\n",
      "   [ 0.0745098  -0.0745098  -0.2627451 ]\n",
      "   [-0.01176471 -0.16078431 -0.37254902]\n",
      "   [ 0.16862745  0.01960784 -0.23137255]]\n",
      "\n",
      "  [[-0.09019608 -0.2        -0.45098039]\n",
      "   [ 0.02745098 -0.08235294 -0.34901961]\n",
      "   [ 0.00392157 -0.10588235 -0.38823529]\n",
      "   ...\n",
      "   [ 0.27843137  0.09803922 -0.09019608]\n",
      "   [ 0.23921569  0.05098039 -0.17647059]\n",
      "   [ 0.19215686  0.01176471 -0.27058824]]]\n",
      "\n",
      "\n",
      " [[[ 1.          1.          1.        ]\n",
      "   [ 1.          1.          1.        ]\n",
      "   [ 1.          1.          1.        ]\n",
      "   ...\n",
      "   [ 0.22352941  0.08235294 -0.05098039]\n",
      "   [ 0.05098039 -0.02745098 -0.14509804]\n",
      "   [ 0.02745098 -0.04313725 -0.16078431]]\n",
      "\n",
      "  [[ 0.95294118  0.95294118  0.95294118]\n",
      "   [ 1.          1.          1.        ]\n",
      "   [ 1.          1.          1.        ]\n",
      "   ...\n",
      "   [ 0.2         0.06666667 -0.0745098 ]\n",
      "   [ 0.1372549   0.01176471 -0.12156863]\n",
      "   [-0.05098039 -0.09803922 -0.21568627]]\n",
      "\n",
      "  [[ 0.81960784  0.83529412  0.81960784]\n",
      "   [ 0.95294118  0.96862745  0.97647059]\n",
      "   [ 0.95294118  0.97647059  0.96862745]\n",
      "   ...\n",
      "   [ 0.17647059  0.05098039 -0.09019608]\n",
      "   [ 0.2         0.05882353 -0.11372549]\n",
      "   [-0.00392157 -0.0745098  -0.19215686]]\n",
      "\n",
      "  ...\n",
      "\n",
      "  [[ 0.99215686  0.99215686  0.94509804]\n",
      "   [ 0.98431373  0.98431373  0.89803922]\n",
      "   [ 0.90588235  0.85098039  0.74901961]\n",
      "   ...\n",
      "   [ 0.91372549  0.76470588  0.42745098]\n",
      "   [ 0.92941176  0.77254902  0.42745098]\n",
      "   [ 0.70980392  0.63137255  0.37254902]]\n",
      "\n",
      "  [[ 0.99215686  0.98431373  0.90588235]\n",
      "   [ 0.96862745  0.96078431  0.86666667]\n",
      "   [ 0.92156863  0.85882353  0.77254902]\n",
      "   ...\n",
      "   [ 0.97647059  0.83529412  0.49803922]\n",
      "   [ 0.96862745  0.81960784  0.48235294]\n",
      "   [ 0.95294118  0.80392157  0.46666667]]\n",
      "\n",
      "  [[ 0.99215686  0.97647059  0.89019608]\n",
      "   [ 0.96862745  0.94509804  0.85098039]\n",
      "   [ 0.9372549   0.90588235  0.81960784]\n",
      "   ...\n",
      "   [ 0.96862745  0.81176471  0.4745098 ]\n",
      "   [ 0.96862745  0.81960784  0.48235294]\n",
      "   [ 0.99215686  0.85882353  0.50588235]]]]\n",
      "[6 6 2 ... 8 8 1]\n"
     ]
    }
   ],
   "source": [
    "# NOTE:  there are 500 images in total for each class (but there are 501 for cat class)\n",
    "    \n",
    "print(data_manager.X_train.shape, data_manager.y_train.shape) \n",
    "print(data_manager.X_valid.shape, data_manager.y_valid.shape)\n",
    "print(data_manager.X_test.shape, data_manager.y_test.shape)\n",
    "print(data_manager.classes)\n",
    "\n",
    "print(data_manager.X_train)\n",
    "print(data_manager.y_train)"
   ]
  },
  {
   "cell_type": "markdown",
   "metadata": {},
   "source": [
    "We now run the **default model** built in the **models.py** file which serves as a basic baseline to start the investigation. Follow the following steps to realize how to run a model and know the built-in methods associated to a model developped in the DefaultModel class."
   ]
  },
  {
   "cell_type": "markdown",
   "metadata": {},
   "source": [
    "We first initialize a default model from the DefaultModel class. Basically, we can define the relevant parameters of training a model including `num_classes`, `optimizer`, `learning_rate`, `batch_size`, and `num_epochs`."
   ]
  },
  {
   "cell_type": "code",
   "execution_count": 8,
   "metadata": {},
   "outputs": [],
   "source": [
    "network1 = DefaultModel(name='network1',\n",
    "                       num_classes=len(data_manager.classes),\n",
    "                       optimizer='sgd',\n",
    "                       batch_size= 128,\n",
    "                     #   num_epochs = 50,\n",
    "                       num_epochs = 20,\n",
    "                       learning_rate=0.5)"
   ]
  },
  {
   "cell_type": "markdown",
   "metadata": {},
   "source": [
    "The method `build_cnn()` assists us in building your convolutional neural network. You can view the code (in the **models.py** file) of the model behind a default model to realize how simple it is. Additionally, the method `summary()` shows the architecture of a model."
   ]
  },
  {
   "cell_type": "code",
   "execution_count": 10,
   "metadata": {},
   "outputs": [
    {
     "name": "stdout",
     "output_type": "stream",
     "text": [
      "built CNN!\n",
      "Model: \"sequential_1\"\n",
      "_________________________________________________________________\n",
      "Layer (type)                 Output Shape              Param #   \n",
      "=================================================================\n",
      "conv2d (Conv2D)              (None, 32, 32, 32)        896       \n",
      "_________________________________________________________________\n",
      "conv2d_1 (Conv2D)            (None, 32, 32, 32)        9248      \n",
      "_________________________________________________________________\n",
      "average_pooling2d (AveragePo (None, 16, 16, 32)        0         \n",
      "_________________________________________________________________\n",
      "conv2d_2 (Conv2D)            (None, 16, 16, 64)        18496     \n",
      "_________________________________________________________________\n",
      "conv2d_3 (Conv2D)            (None, 16, 16, 64)        36928     \n",
      "_________________________________________________________________\n",
      "average_pooling2d_1 (Average (None, 8, 8, 64)          0         \n",
      "_________________________________________________________________\n",
      "flatten (Flatten)            (None, 4096)              0         \n",
      "_________________________________________________________________\n",
      "dense (Dense)                (None, 10)                40970     \n",
      "=================================================================\n",
      "Total params: 106,538\n",
      "Trainable params: 106,538\n",
      "Non-trainable params: 0\n",
      "_________________________________________________________________\n",
      "None\n"
     ]
    }
   ],
   "source": [
    "network1.build_cnn()\n",
    "network1.summary()"
   ]
  },
  {
   "cell_type": "markdown",
   "metadata": {},
   "source": [
    "To train a model regarding to the datasets stored in `data_manager`, you can invoke the method `fit()` for which you can specify the batch size and number of epochs for your training. "
   ]
  },
  {
   "cell_type": "code",
   "execution_count": 11,
   "metadata": {},
   "outputs": [
    {
     "name": "stdout",
     "output_type": "stream",
     "text": [
      "Epoch 1/20\n",
      "63/63 [==============================] - 3s 51ms/step - loss: 2.2937 - accuracy: 0.1375 - val_loss: 2.3131 - val_accuracy: 0.0940\n",
      "Epoch 2/20\n",
      "63/63 [==============================] - 2s 38ms/step - loss: 2.3055 - accuracy: 0.0913 - val_loss: 2.2940 - val_accuracy: 0.0920\n",
      "Epoch 3/20\n",
      "63/63 [==============================] - 2s 33ms/step - loss: 2.3025 - accuracy: 0.1098 - val_loss: 2.3012 - val_accuracy: 0.1120\n",
      "Epoch 4/20\n",
      "63/63 [==============================] - 2s 37ms/step - loss: 2.2948 - accuracy: 0.1110 - val_loss: 2.3015 - val_accuracy: 0.1120\n",
      "Epoch 5/20\n",
      "63/63 [==============================] - 2s 32ms/step - loss: 2.2976 - accuracy: 0.1117 - val_loss: 2.3006 - val_accuracy: 0.0940\n",
      "Epoch 6/20\n",
      "63/63 [==============================] - 2s 34ms/step - loss: 2.3037 - accuracy: 0.1123 - val_loss: 2.3042 - val_accuracy: 0.0880\n",
      "Epoch 7/20\n",
      "63/63 [==============================] - 2s 28ms/step - loss: 2.3050 - accuracy: 0.1000 - val_loss: 2.3047 - val_accuracy: 0.1080\n",
      "Epoch 8/20\n",
      "63/63 [==============================] - 2s 31ms/step - loss: 2.2924 - accuracy: 0.1165 - val_loss: 2.3503 - val_accuracy: 0.1440\n",
      "Epoch 9/20\n",
      "63/63 [==============================] - 3s 51ms/step - loss: 2.2985 - accuracy: 0.1103 - val_loss: 2.2947 - val_accuracy: 0.1340\n",
      "Epoch 10/20\n",
      "63/63 [==============================] - 5s 73ms/step - loss: 2.2948 - accuracy: 0.1090 - val_loss: 2.3026 - val_accuracy: 0.0960\n",
      "Epoch 11/20\n",
      "63/63 [==============================] - 2s 37ms/step - loss: 2.2895 - accuracy: 0.1230 - val_loss: 2.3012 - val_accuracy: 0.1220\n",
      "Epoch 12/20\n",
      "63/63 [==============================] - 2s 36ms/step - loss: 2.3050 - accuracy: 0.0940 - val_loss: 2.3033 - val_accuracy: 0.1220\n",
      "Epoch 13/20\n",
      "63/63 [==============================] - 2s 32ms/step - loss: 2.3049 - accuracy: 0.0900 - val_loss: 2.3041 - val_accuracy: 0.0880\n",
      "Epoch 14/20\n",
      "63/63 [==============================] - 2s 32ms/step - loss: 2.2913 - accuracy: 0.1195 - val_loss: 2.2277 - val_accuracy: 0.1480\n",
      "Epoch 15/20\n",
      "63/63 [==============================] - 2s 30ms/step - loss: 2.2894 - accuracy: 0.1335 - val_loss: 2.3022 - val_accuracy: 0.0880\n",
      "Epoch 16/20\n",
      "63/63 [==============================] - 2s 30ms/step - loss: 2.3081 - accuracy: 0.1028 - val_loss: 2.3050 - val_accuracy: 0.0940\n",
      "Epoch 17/20\n",
      "63/63 [==============================] - 2s 30ms/step - loss: 2.3054 - accuracy: 0.0932 - val_loss: 2.3059 - val_accuracy: 0.1080\n",
      "Epoch 18/20\n",
      "63/63 [==============================] - 2s 30ms/step - loss: 2.3045 - accuracy: 0.0960 - val_loss: 2.3029 - val_accuracy: 0.0840\n",
      "Epoch 19/20\n",
      "63/63 [==============================] - 2s 29ms/step - loss: 2.3054 - accuracy: 0.0972 - val_loss: 2.3047 - val_accuracy: 0.0840\n",
      "Epoch 20/20\n",
      "63/63 [==============================] - 2s 32ms/step - loss: 2.3049 - accuracy: 0.0950 - val_loss: 2.3090 - val_accuracy: 0.0840\n"
     ]
    }
   ],
   "source": [
    "network1.fit(data_manager, batch_size = 64, num_epochs = 20)\n",
    "# TODO: change num_epochs back to 20"
   ]
  },
  {
   "cell_type": "markdown",
   "metadata": {},
   "source": [
    "Here you can compute the accuracy of your trained model with respect to a separate testing set."
   ]
  },
  {
   "cell_type": "code",
   "execution_count": 12,
   "metadata": {},
   "outputs": [
    {
     "name": "stdout",
     "output_type": "stream",
     "text": [
      "8/8 [==============================] - 0s 24ms/step - loss: 2.3048 - accuracy: 0.0920\n"
     ]
    },
    {
     "data": {
      "text/plain": [
       "0.09200000017881393"
      ]
     },
     "execution_count": 12,
     "metadata": {},
     "output_type": "execute_result"
    }
   ],
   "source": [
    "network1.compute_accuracy(data_manager.X_test, data_manager.y_test)"
   ]
  },
  {
   "cell_type": "markdown",
   "metadata": {},
   "source": [
    "Below shows how you can inspect the training progress."
   ]
  },
  {
   "cell_type": "code",
   "execution_count": 13,
   "metadata": {},
   "outputs": [
    {
     "data": {
      "image/png": "[encoded data removed]",
      "text/plain": [
       "<Figure size 432x288 with 2 Axes>"
      ]
     },
     "metadata": {},
     "output_type": "display_data"
    }
   ],
   "source": [
    "network1.plot_progress()"
   ]
  },
  {
   "cell_type": "markdown",
   "metadata": {},
   "source": [
    "You can use the method `predict()` to predict labels for data examples in a test set."
   ]
  },
  {
   "cell_type": "code",
   "execution_count": 14,
   "metadata": {},
   "outputs": [
    {
     "data": {
      "text/plain": [
       "array([5, 5, 5, 5, 5, 5, 5, 5, 5, 5], dtype=int64)"
      ]
     },
     "execution_count": 14,
     "metadata": {},
     "output_type": "execute_result"
    }
   ],
   "source": [
    "network1.predict(data_manager.X_test[0:10])"
   ]
  },
  {
   "cell_type": "markdown",
   "metadata": {},
   "source": [
    "Finally, the method `plot_prediction()` visualizes the predictions for a test set in which several images are chosen to show the predictions."
   ]
  },
  {
   "cell_type": "code",
   "execution_count": 15,
   "metadata": {},
   "outputs": [
    {
     "data": {
      "text/plain": [
       "<Figure size 432x288 with 0 Axes>"
      ]
     },
     "metadata": {},
     "output_type": "display_data"
    },
    {
     "data": {
      "image/png": "[encoded data removed]",
      "text/plain": [
       "<Figure size 900x900 with 25 Axes>"
      ]
     },
     "metadata": {},
     "output_type": "display_data"
    }
   ],
   "source": [
    "network1.plot_prediction(data_manager.X_test, data_manager.y_test, data_manager.classes)"
   ]
  },
  {
   "cell_type": "markdown",
   "metadata": {},
   "source": [
    "<span style=\"color:red\">**Question 3.1**</span> **After running the above cells to train the default model and observe the learning curve. Report your observation (i.e. did the model learn well? if not, what is the problem? What would you do to improve it?). Write your answer below.**\n",
    "\n",
    "<div style=\"text-align: right\"> <span style=\"color:red\">[4 points]</span> </div>"
   ]
  },
  {
   "cell_type": "markdown",
   "metadata": {},
   "source": [
    "*#Your answer and observation here*\n",
    "\n",
    "### ANSWER:\n",
    "The predictions are based on numerous runs (around 7 different runs implying 7 different trained models)\n",
    "<br><br>\n",
    "in these runs, the weight initialization of these models results in very different trained models hence the training accuracy\n",
    "<br><br>\n",
    "Some of these models learn very well and there is an upward trend for the both training and validation accuracy\n",
    "<br><br>\n",
    "However, some of the models did not learn very well, i.e. underfitting or overfitting\n",
    "<br><br>\n",
    "for the models that are underfitting, there are 2 different scenarios, whereby the first scenario is that the accuracy converges to a certain value \n",
    "- and given anymore epochs, we will certainly see that the accuracy further and further down to a small value that underfits the testing set\n",
    "- this can be due to that there arent enough parameters in the network (e.g. adding more layers, neurons count, different optimizers, etc.)\n",
    "- so we might have to explore ways such that we can add enough complexity to the network but avoid overfitting it\n",
    "- however, it could also be the case that the learning rate is too high, and we need to consider fine tuning the learning rate, as high learning rates tend to \"overshoot\", hence the convergence to a single loss value and directly correlates to convergence for the accuracy value.\n",
    "\n",
    "while in the other scenario, where there is an upwards trend\n",
    "- which indicates we just might need more epochs for the training (or the learning rate is too low for this case and requires an appropriate optimizer)\n",
    "\n",
    "**CONCLUSION:**\n",
    "an overall solution to the poor performance might just be better weight initializations employing the weight initialization strategies mentioned in the lectures such as Xavier and He weight initialization.\n",
    "\n",
    "\n",
    "\n"
   ]
  },
  {
   "cell_type": "markdown",
   "metadata": {},
   "source": [
    "---\n",
    "**For questions 3.2 to 3.9, you'll need to write your own model in a way that makes it easy for you to experiment with different architectures and parameters. The goal is to be able to pass the parameters to initialize a new instance of `YourModel` to build different network architectures with different parameters. Below are descriptions of some parameters for `YourModel`, which you can find in function `__init__()` for the class `DefaultModel`:**"
   ]
  },
  {
   "cell_type": "markdown",
   "metadata": {},
   "source": [
    "1. `num_blocks`: an integer specifying the number of blocks in our network. Each block has the pattern `[conv, batch norm, activation, conv, batch norm, activation, mean pool, dropout]`. All convolutional layers have filter size $(3, 3)$, strides $(1, 1)$ and 'SAME' padding, and all mean pool layers have strides $(2, 2)$ and 'SAME' padding. The network will consists of a few blocks before applying a linear layer to output the logits for the softmax layer.\n",
    "\n",
    "2. `feature_maps`: the number of feature maps in the first block of the network. The number of feature_maps will double in each of the following block. To make it convenient for you, we already calculated the number of feature maps for each block for you in line $106$\n",
    "3. `drop_rate`: the keep probability for dropout. Setting `drop_rate` to $0.0$ means not using dropout. \n",
    "4. `batch_norm`: the batch normalization function is used or not. Setting `batch_norm` to `None` means not using batch normalization. \n",
    "5. The `skip connection` is added to the output of the second `batch norm`. Additionally, your class has a boolean property (i.e., instance variable) named `use_skip`. If `use_skip=True`, the skip connectnion is enable. Otherwise, if `use_skip=False`, the skip connectnion is disable.\n",
    "\n",
    "Below is the architecture of one block:\n",
    "\n",
    "<img src=\"Figures/OneBlock.png\" width=\"350\" align=\"center\"/>\n",
    "\n",
    "Below is the architecture of the entire deep net with `two blocks`:\n",
    "\n",
    "<img src=\"Figures/NetworkArchitecture.png\" width=\"1200\" align=\"center\"/>"
   ]
  },
  {
   "cell_type": "markdown",
   "metadata": {},
   "source": [
    "Here we assume that the first block has `feature_maps = feature_maps[0] = 32`. Note that the initial number of feature maps of the first block is declared in the instance variable `feature_maps` and is multiplied by $2$ in each follpwing block. "
   ]
  },
  {
   "cell_type": "code",
   "execution_count": 9,
   "metadata": {},
   "outputs": [],
   "source": [
    "import tensorflow as tf\n",
    "from tensorflow import keras\n",
    "from tensorflow.keras import layers, models"
   ]
  },
  {
   "cell_type": "code",
   "execution_count": 10,
   "metadata": {},
   "outputs": [],
   "source": [
    "MY_SEED = 1234\n",
    "tf.random.set_seed(MY_SEED)"
   ]
  },
  {
   "cell_type": "markdown",
   "metadata": {},
   "source": [
    "<span style=\"color:red\">**Question 3.2**</span> **Write the code of the `YourModel` class here. Note that this class will inherit from the `DefaultModel` class. You'll only need to re-write the code for the `build_cnn` method in the `YourModel` class from the cell below. Note that the `YourModel` class   is inherited from the `DefaultModel` class.**\n",
    "\n",
    "<div style=\"text-align: right\"> <span style=\"color:red\">[4 points]</span> </div>"
   ]
  },
  {
   "cell_type": "code",
   "execution_count": 11,
   "metadata": {},
   "outputs": [
    {
     "name": "stdout",
     "output_type": "stream",
     "text": [
      "(4000, 32, 32, 3)\n",
      "(4000,)\n"
     ]
    }
   ],
   "source": [
    "print(data_manager.X_train.shape)\n",
    "print(data_manager.y_train.shape)"
   ]
  },
  {
   "cell_type": "code",
   "execution_count": 12,
   "metadata": {},
   "outputs": [],
   "source": [
    "import tensorflow as tf\n",
    "from tensorflow import keras\n",
    "from tensorflow.keras import datasets, models, layers, regularizers\n",
    "import pandas as pd\n",
    "import numpy as np\n",
    "import matplotlib.pyplot as plt\n",
    "%matplotlib inline"
   ]
  },
  {
   "cell_type": "code",
   "execution_count": 13,
   "metadata": {},
   "outputs": [
    {
     "name": "stdout",
     "output_type": "stream",
     "text": [
      "0\n"
     ]
    }
   ],
   "source": [
    "print(len(tf.config.list_physical_devices('GPU')))"
   ]
  },
  {
   "cell_type": "code",
   "execution_count": 14,
   "metadata": {},
   "outputs": [],
   "source": [
    "from functools import partial\n",
    "\n",
    "bn_momentum= 0.9\n",
    "bn_eps= 2E-5\n",
    "reg= 0.001\n",
    "\n",
    "# DefaultBatchNorm = partial(keras.layers.BatchNormalization|, momentum=bn_momentum, epsilon=bn_eps)\n",
    "# DefaultConv2D = partial(keras.layers.Conv2D, kernel_regularizer=regularizers.l2(reg), use_bias=False, padding='same')\n",
    "DefaultConv2D = partial(keras.layers.Conv2D, padding='same')\n",
    "DefaultBatchNorm = partial(keras.layers.BatchNormalization)\n",
    "DefaultMeanPool = partial(keras.layers.AvgPool2D, strides=(2,2), padding='same')\n",
    "DefaultDropout = partial(keras.layers.Dropout)"
   ]
  },
  {
   "cell_type": "code",
   "execution_count": 15,
   "metadata": {},
   "outputs": [],
   "source": [
    "class YourModel(DefaultModel):\n",
    "    def __init__(self,\n",
    "                 name='network1',\n",
    "                 width=32, height=32, depth=3,\n",
    "                 num_blocks=2,\n",
    "                 feature_maps=32,\n",
    "                 num_classes=4, \n",
    "                 drop_rate=0.2,\n",
    "                 batch_norm = None,\n",
    "                 is_augmentation = False,\n",
    "                 activation_func='relu',\n",
    "                 use_skip = True,\n",
    "                 optimizer='adam',\n",
    "                 batch_size=10,\n",
    "                 num_epochs= 20,\n",
    "                 learning_rate=0.0001,\n",
    "                 verbose= True):\n",
    "        super(YourModel, self).__init__(name, width, height, depth, num_blocks, feature_maps, num_classes, drop_rate, batch_norm, is_augmentation, \n",
    "                                        activation_func, use_skip, optimizer, batch_size, num_epochs, learning_rate, verbose)\n",
    "    \n",
    "    @staticmethod\n",
    "    def ResidualBlock(inputs, num_filters, drop_rate, skip_connection= False):\n",
    "        # Each block has the pattern [conv, batch norm, activation, conv, batch norm, activation, mean pool, dropout]\n",
    "        # start with 32 feature maps, each successive block will multiply feature map count by 2\n",
    "\n",
    "        skip_layer = DefaultConv2D(filters=num_filters, kernel_size=3, strides=(1,1))\n",
    "                                   \n",
    "        # before skip connection\n",
    "        layers_1 = [DefaultBatchNorm(), \n",
    "                    layers.Activation(activation='relu'),\n",
    "                    DefaultConv2D(filters=num_filters, kernel_size=3, strides=(1,1)), \n",
    "                    DefaultBatchNorm()]\n",
    "\n",
    "        # after skip connection\n",
    "        layers_2 = [layers.Activation(activation='relu'), \n",
    "                    DefaultMeanPool(), \n",
    "                    DefaultDropout(rate=drop_rate)]\n",
    "        \n",
    "        # apply operations in each layer to input\n",
    "        h = skip_layer(inputs)\n",
    "        for layer in layers_1:\n",
    "            h = layer(h)\n",
    "\n",
    "        if skip_connection:\n",
    "             # no usage of 1x1 conv here to make sure the addition between two matrices in skipconnection is of same size\n",
    "            h = h + skip_layer(inputs) # addition of matrix when doing skip connection\n",
    "        \n",
    "        for layer in layers_2:\n",
    "            h = layer(h)\n",
    "            \n",
    "        return h\n",
    "        \n",
    "        \n",
    "    def build_cnn(self):\n",
    "        self.model = models.Model()\n",
    "        inputs = layers.Input(shape=(self.width, self.height, self.depth))  # TODO: change this\n",
    "        h = inputs\n",
    "        \n",
    "        # adding residual blocks\n",
    "        for i in range(self.num_blocks):\n",
    "            h = YourModel.ResidualBlock(h, self.feature_maps[i], drop_rate=self.drop_rate, skip_connection=self.use_skip)\n",
    "        \n",
    "        # flatten and dense alyer\n",
    "        h = layers.Flatten()(h)\n",
    "        h = layers.Dense(units=self.num_classes, activation=\"softmax\")(h)\n",
    "        \n",
    "        self.model = models.Model(inputs=inputs, outputs=h, name=\"YourModel\") # We now have a ResNet model\n",
    "        self.model.compile(optimizer=self.optimizer, loss='sparse_categorical_crossentropy', metrics=['accuracy'])\n",
    "        \n",
    "\n",
    "\n",
    "        \n"
   ]
  },
  {
   "cell_type": "markdown",
   "metadata": {},
   "source": [
    "<span style=\"color:red\">**Question 3.3**</span> **Once writing your own model, you need to compare two cases: (i) *using the skip connection* and (ii) *not using the skip connection*. You should set the instance variable `use_skip` to either `True` or `False`. For your runs, report which case is better and if you confront overfitting in training.**\n",
    "    \n",
    "<div style=\"text-align: right\"> <span style=\"color:red\">[6 points]</span> </div>"
   ]
  },
  {
   "cell_type": "markdown",
   "metadata": {},
   "source": [
    "#*Write your report and observation here*\n",
    "\n",
    "From my observations, I have picked a total of 4 epochs (2 each from the 2 different models with use_skip=True AND use_skip=False)\n",
    "\n",
    "We could see that from the appendix stated below, the highest validation accuracy among all the epochs for the model that uses skip connection is HIHGER than the one which doesnt.\n",
    "\n",
    "Another observation is in the final epoch, the model that uses skip connection also performed better in terms of validation accuracy and hence less validation loss.\n",
    "\n",
    "Both models overfits quite heavily, however, we conclude that the model which doesnt use skip connection is more prone to overfitting, and hence should give a better training result (validation accuracy) when we encounter overfitting issues.\n",
    "\n",
    "### Appendix: \n",
    "i) Skip Connection\n",
    "Highest:\n",
    "Epoch 10/20\n",
    "125/125 [==============================] - 8s 67ms/step - loss: 0.1812 - accuracy: 0.9523 - val_loss: 1.3508 - val_accuracy: 0.6400\n",
    "\n",
    "\n",
    "ii) Without Skip Connection\n",
    "Highest: \n",
    "Epoch 11/20\n",
    "125/125 [==============================] - 5s 40ms/step - loss: 0.1714 - accuracy: 0.9545 - val_loss: 1.3374 - val_accuracy: 0.6280\n",
    "\n",
    "\n",
    "\n",
    "\n"
   ]
  },
  {
   "cell_type": "code",
   "execution_count": 42,
   "metadata": {},
   "outputs": [
    {
     "name": "stdout",
     "output_type": "stream",
     "text": [
      "Model: \"YourModel\"\n",
      "__________________________________________________________________________________________________\n",
      "Layer (type)                    Output Shape         Param #     Connected to                     \n",
      "==================================================================================================\n",
      "input_7 (InputLayer)            [(None, 32, 32, 3)]  0                                            \n",
      "__________________________________________________________________________________________________\n",
      "conv2d_46 (Conv2D)              (None, 32, 32, 32)   896         input_7[0][0]                    \n",
      "                                                                 input_7[0][0]                    \n",
      "__________________________________________________________________________________________________\n",
      "batch_normalization_32 (BatchNo (None, 32, 32, 32)   128         conv2d_46[0][0]                  \n",
      "__________________________________________________________________________________________________\n",
      "activation_32 (Activation)      (None, 32, 32, 32)   0           batch_normalization_32[0][0]     \n",
      "__________________________________________________________________________________________________\n",
      "conv2d_47 (Conv2D)              (None, 32, 32, 32)   9248        activation_32[0][0]              \n",
      "__________________________________________________________________________________________________\n",
      "batch_normalization_33 (BatchNo (None, 32, 32, 32)   128         conv2d_47[0][0]                  \n",
      "__________________________________________________________________________________________________\n",
      "tf.__operators__.add_15 (TFOpLa (None, 32, 32, 32)   0           batch_normalization_33[0][0]     \n",
      "                                                                 conv2d_46[1][0]                  \n",
      "__________________________________________________________________________________________________\n",
      "activation_33 (Activation)      (None, 32, 32, 32)   0           tf.__operators__.add_15[0][0]    \n",
      "__________________________________________________________________________________________________\n",
      "average_pooling2d_18 (AveragePo (None, 16, 16, 32)   0           activation_33[0][0]              \n",
      "__________________________________________________________________________________________________\n",
      "dropout_16 (Dropout)            (None, 16, 16, 32)   0           average_pooling2d_18[0][0]       \n",
      "__________________________________________________________________________________________________\n",
      "conv2d_48 (Conv2D)              (None, 16, 16, 64)   18496       dropout_16[0][0]                 \n",
      "                                                                 dropout_16[0][0]                 \n",
      "__________________________________________________________________________________________________\n",
      "batch_normalization_34 (BatchNo (None, 16, 16, 64)   256         conv2d_48[0][0]                  \n",
      "__________________________________________________________________________________________________\n",
      "activation_34 (Activation)      (None, 16, 16, 64)   0           batch_normalization_34[0][0]     \n",
      "__________________________________________________________________________________________________\n",
      "conv2d_49 (Conv2D)              (None, 16, 16, 64)   36928       activation_34[0][0]              \n",
      "__________________________________________________________________________________________________\n",
      "batch_normalization_35 (BatchNo (None, 16, 16, 64)   256         conv2d_49[0][0]                  \n",
      "__________________________________________________________________________________________________\n",
      "tf.__operators__.add_16 (TFOpLa (None, 16, 16, 64)   0           batch_normalization_35[0][0]     \n",
      "                                                                 conv2d_48[1][0]                  \n",
      "__________________________________________________________________________________________________\n",
      "activation_35 (Activation)      (None, 16, 16, 64)   0           tf.__operators__.add_16[0][0]    \n",
      "__________________________________________________________________________________________________\n",
      "average_pooling2d_19 (AveragePo (None, 8, 8, 64)     0           activation_35[0][0]              \n",
      "__________________________________________________________________________________________________\n",
      "dropout_17 (Dropout)            (None, 8, 8, 64)     0           average_pooling2d_19[0][0]       \n",
      "__________________________________________________________________________________________________\n",
      "conv2d_50 (Conv2D)              (None, 8, 8, 128)    73856       dropout_17[0][0]                 \n",
      "                                                                 dropout_17[0][0]                 \n",
      "__________________________________________________________________________________________________\n",
      "batch_normalization_36 (BatchNo (None, 8, 8, 128)    512         conv2d_50[0][0]                  \n",
      "__________________________________________________________________________________________________\n",
      "activation_36 (Activation)      (None, 8, 8, 128)    0           batch_normalization_36[0][0]     \n",
      "__________________________________________________________________________________________________\n",
      "conv2d_51 (Conv2D)              (None, 8, 8, 128)    147584      activation_36[0][0]              \n",
      "__________________________________________________________________________________________________\n",
      "batch_normalization_37 (BatchNo (None, 8, 8, 128)    512         conv2d_51[0][0]                  \n",
      "__________________________________________________________________________________________________\n",
      "tf.__operators__.add_17 (TFOpLa (None, 8, 8, 128)    0           batch_normalization_37[0][0]     \n",
      "                                                                 conv2d_50[1][0]                  \n",
      "__________________________________________________________________________________________________\n",
      "activation_37 (Activation)      (None, 8, 8, 128)    0           tf.__operators__.add_17[0][0]    \n",
      "__________________________________________________________________________________________________\n",
      "average_pooling2d_20 (AveragePo (None, 4, 4, 128)    0           activation_37[0][0]              \n",
      "__________________________________________________________________________________________________\n",
      "dropout_18 (Dropout)            (None, 4, 4, 128)    0           average_pooling2d_20[0][0]       \n",
      "__________________________________________________________________________________________________\n",
      "flatten_6 (Flatten)             (None, 2048)         0           dropout_18[0][0]                 \n",
      "__________________________________________________________________________________________________\n",
      "dense_6 (Dense)                 (None, 10)           20490       flatten_6[0][0]                  \n",
      "==================================================================================================\n",
      "Total params: 309,290\n",
      "Trainable params: 308,394\n",
      "Non-trainable params: 896\n",
      "__________________________________________________________________________________________________\n",
      "None\n"
     ]
    }
   ],
   "source": [
    "our_network_skip = YourModel(name='3.3use_skip',\n",
    "                     feature_maps=32,\n",
    "                     num_classes=len(data_manager.classes),\n",
    "                     num_blocks=3,\n",
    "                    #  num_blocks=2,\n",
    "                     drop_rate= 0.0, \n",
    "                     batch_norm=True, \n",
    "                     use_skip = True,\n",
    "                     optimizer='adam',\n",
    "                     learning_rate= 0.001)\n",
    "\n",
    "our_network_skip.build_cnn()\n",
    "\n",
    "our_network_skip.summary()"
   ]
  },
  {
   "cell_type": "code",
   "execution_count": 43,
   "metadata": {},
   "outputs": [
    {
     "name": "stdout",
     "output_type": "stream",
     "text": [
      "<models.AnimalsDatasetManager object at 0x00000230FE3D0BE0>\n"
     ]
    }
   ],
   "source": [
    "print(data_manager)"
   ]
  },
  {
   "cell_type": "code",
   "execution_count": 44,
   "metadata": {},
   "outputs": [
    {
     "name": "stdout",
     "output_type": "stream",
     "text": [
      "Epoch 1/20\n",
      "125/125 [==============================] - 5s 36ms/step - loss: 1.7972 - accuracy: 0.3825 - val_loss: 2.7810 - val_accuracy: 0.1320\n",
      "Epoch 2/20\n",
      "125/125 [==============================] - 5s 40ms/step - loss: 1.3332 - accuracy: 0.5403 - val_loss: 2.1481 - val_accuracy: 0.2480\n",
      "Epoch 3/20\n",
      "125/125 [==============================] - 6s 46ms/step - loss: 1.0978 - accuracy: 0.6288 - val_loss: 2.7056 - val_accuracy: 0.2900\n",
      "Epoch 4/20\n",
      "125/125 [==============================] - 5s 40ms/step - loss: 0.8995 - accuracy: 0.6938 - val_loss: 1.3495 - val_accuracy: 0.5500\n",
      "Epoch 5/20\n",
      "125/125 [==============================] - 6s 45ms/step - loss: 0.7256 - accuracy: 0.7577 - val_loss: 1.2917 - val_accuracy: 0.5660\n",
      "Epoch 6/20\n",
      "125/125 [==============================] - 7s 52ms/step - loss: 0.5600 - accuracy: 0.8140 - val_loss: 1.3805 - val_accuracy: 0.5760\n",
      "Epoch 7/20\n",
      "125/125 [==============================] - 6s 45ms/step - loss: 0.4381 - accuracy: 0.8602 - val_loss: 1.5001 - val_accuracy: 0.5540\n",
      "Epoch 8/20\n",
      "125/125 [==============================] - 5s 42ms/step - loss: 0.3203 - accuracy: 0.9043 - val_loss: 1.5694 - val_accuracy: 0.5600\n",
      "Epoch 9/20\n",
      "125/125 [==============================] - 6s 48ms/step - loss: 0.2454 - accuracy: 0.9273 - val_loss: 1.3781 - val_accuracy: 0.6000\n",
      "Epoch 10/20\n",
      "125/125 [==============================] - 8s 67ms/step - loss: 0.1812 - accuracy: 0.9523 - val_loss: 1.3508 - val_accuracy: 0.6400\n",
      "Epoch 11/20\n",
      "125/125 [==============================] - 8s 61ms/step - loss: 0.0982 - accuracy: 0.9803 - val_loss: 1.4572 - val_accuracy: 0.6320\n",
      "Epoch 12/20\n",
      "125/125 [==============================] - 7s 59ms/step - loss: 0.0846 - accuracy: 0.9812 - val_loss: 1.3638 - val_accuracy: 0.6100\n",
      "Epoch 13/20\n",
      "125/125 [==============================] - 8s 61ms/step - loss: 0.0607 - accuracy: 0.9885 - val_loss: 1.4709 - val_accuracy: 0.6400\n",
      "Epoch 14/20\n",
      "125/125 [==============================] - 8s 65ms/step - loss: 0.0496 - accuracy: 0.9908 - val_loss: 1.6145 - val_accuracy: 0.6060\n",
      "Epoch 15/20\n",
      "125/125 [==============================] - 8s 66ms/step - loss: 0.0390 - accuracy: 0.9945 - val_loss: 1.6329 - val_accuracy: 0.6100\n",
      "Epoch 16/20\n",
      "125/125 [==============================] - 8s 62ms/step - loss: 0.0638 - accuracy: 0.9855 - val_loss: 1.6409 - val_accuracy: 0.6000\n",
      "Epoch 17/20\n",
      "125/125 [==============================] - 8s 68ms/step - loss: 0.1344 - accuracy: 0.9582 - val_loss: 1.6566 - val_accuracy: 0.5680\n",
      "Epoch 18/20\n",
      "125/125 [==============================] - 7s 57ms/step - loss: 0.0828 - accuracy: 0.9778 - val_loss: 1.5898 - val_accuracy: 0.6360\n",
      "Epoch 19/20\n",
      "125/125 [==============================] - 8s 62ms/step - loss: 0.0585 - accuracy: 0.9862 - val_loss: 2.3083 - val_accuracy: 0.5420\n",
      "Epoch 20/20\n",
      "125/125 [==============================] - 8s 61ms/step - loss: 0.0400 - accuracy: 0.9908 - val_loss: 1.6204 - val_accuracy: 0.6280\n",
      "INFO:tensorflow:Assets written to: q3.3/use_skip\\assets\n"
     ]
    }
   ],
   "source": [
    "our_network_skip.fit(data_manager, batch_size=32, num_epochs=20)\n",
    "our_network_skip.model.save(\"q3.3/use_skip\", save_format='tf')\n",
    "\n"
   ]
  },
  {
   "cell_type": "code",
   "execution_count": 45,
   "metadata": {},
   "outputs": [
    {
     "name": "stdout",
     "output_type": "stream",
     "text": [
      "Model: \"YourModel\"\n",
      "_________________________________________________________________\n",
      "Layer (type)                 Output Shape              Param #   \n",
      "=================================================================\n",
      "input_8 (InputLayer)         [(None, 32, 32, 3)]       0         \n",
      "_________________________________________________________________\n",
      "conv2d_52 (Conv2D)           (None, 32, 32, 32)        896       \n",
      "_________________________________________________________________\n",
      "batch_normalization_38 (Batc (None, 32, 32, 32)        128       \n",
      "_________________________________________________________________\n",
      "activation_38 (Activation)   (None, 32, 32, 32)        0         \n",
      "_________________________________________________________________\n",
      "conv2d_53 (Conv2D)           (None, 32, 32, 32)        9248      \n",
      "_________________________________________________________________\n",
      "batch_normalization_39 (Batc (None, 32, 32, 32)        128       \n",
      "_________________________________________________________________\n",
      "activation_39 (Activation)   (None, 32, 32, 32)        0         \n",
      "_________________________________________________________________\n",
      "average_pooling2d_21 (Averag (None, 16, 16, 32)        0         \n",
      "_________________________________________________________________\n",
      "dropout_19 (Dropout)         (None, 16, 16, 32)        0         \n",
      "_________________________________________________________________\n",
      "conv2d_54 (Conv2D)           (None, 16, 16, 64)        18496     \n",
      "_________________________________________________________________\n",
      "batch_normalization_40 (Batc (None, 16, 16, 64)        256       \n",
      "_________________________________________________________________\n",
      "activation_40 (Activation)   (None, 16, 16, 64)        0         \n",
      "_________________________________________________________________\n",
      "conv2d_55 (Conv2D)           (None, 16, 16, 64)        36928     \n",
      "_________________________________________________________________\n",
      "batch_normalization_41 (Batc (None, 16, 16, 64)        256       \n",
      "_________________________________________________________________\n",
      "activation_41 (Activation)   (None, 16, 16, 64)        0         \n",
      "_________________________________________________________________\n",
      "average_pooling2d_22 (Averag (None, 8, 8, 64)          0         \n",
      "_________________________________________________________________\n",
      "dropout_20 (Dropout)         (None, 8, 8, 64)          0         \n",
      "_________________________________________________________________\n",
      "conv2d_56 (Conv2D)           (None, 8, 8, 128)         73856     \n",
      "_________________________________________________________________\n",
      "batch_normalization_42 (Batc (None, 8, 8, 128)         512       \n",
      "_________________________________________________________________\n",
      "activation_42 (Activation)   (None, 8, 8, 128)         0         \n",
      "_________________________________________________________________\n",
      "conv2d_57 (Conv2D)           (None, 8, 8, 128)         147584    \n",
      "_________________________________________________________________\n",
      "batch_normalization_43 (Batc (None, 8, 8, 128)         512       \n",
      "_________________________________________________________________\n",
      "activation_43 (Activation)   (None, 8, 8, 128)         0         \n",
      "_________________________________________________________________\n",
      "average_pooling2d_23 (Averag (None, 4, 4, 128)         0         \n",
      "_________________________________________________________________\n",
      "dropout_21 (Dropout)         (None, 4, 4, 128)         0         \n",
      "_________________________________________________________________\n",
      "flatten_7 (Flatten)          (None, 2048)              0         \n",
      "_________________________________________________________________\n",
      "dense_7 (Dense)              (None, 10)                20490     \n",
      "=================================================================\n",
      "Total params: 309,290\n",
      "Trainable params: 308,394\n",
      "Non-trainable params: 896\n",
      "_________________________________________________________________\n",
      "None\n"
     ]
    }
   ],
   "source": [
    "our_network_no_skip = YourModel(name='3.3no_skip',\n",
    "                     feature_maps=32,\n",
    "                     num_classes=len(data_manager.classes),\n",
    "                     num_blocks=3,\n",
    "                     drop_rate= 0.0, \n",
    "                     batch_norm=True, \n",
    "                     use_skip = False,\n",
    "                     optimizer='adam',\n",
    "                     learning_rate= 0.001)\n",
    "\n",
    "our_network_no_skip.build_cnn()\n",
    "our_network_no_skip.summary()"
   ]
  },
  {
   "cell_type": "code",
   "execution_count": 46,
   "metadata": {},
   "outputs": [
    {
     "name": "stdout",
     "output_type": "stream",
     "text": [
      "Epoch 1/20\n",
      "125/125 [==============================] - 7s 51ms/step - loss: 1.8504 - accuracy: 0.3585 - val_loss: 2.6181 - val_accuracy: 0.0900\n",
      "Epoch 2/20\n",
      "125/125 [==============================] - 6s 46ms/step - loss: 1.4287 - accuracy: 0.5040 - val_loss: 3.0355 - val_accuracy: 0.1540\n",
      "Epoch 3/20\n",
      "125/125 [==============================] - 6s 45ms/step - loss: 1.2015 - accuracy: 0.5863 - val_loss: 2.5282 - val_accuracy: 0.2740\n",
      "Epoch 4/20\n",
      "125/125 [==============================] - 5s 39ms/step - loss: 0.9962 - accuracy: 0.6560 - val_loss: 2.0439 - val_accuracy: 0.4080\n",
      "Epoch 5/20\n",
      "125/125 [==============================] - 5s 40ms/step - loss: 0.8430 - accuracy: 0.7082 - val_loss: 1.3800 - val_accuracy: 0.5520\n",
      "Epoch 6/20\n",
      "125/125 [==============================] - 5s 40ms/step - loss: 0.7004 - accuracy: 0.7630 - val_loss: 1.3068 - val_accuracy: 0.5740\n",
      "Epoch 7/20\n",
      "125/125 [==============================] - 5s 41ms/step - loss: 0.5656 - accuracy: 0.8112 - val_loss: 1.5120 - val_accuracy: 0.5400\n",
      "Epoch 8/20\n",
      "125/125 [==============================] - 5s 40ms/step - loss: 0.4865 - accuracy: 0.8328 - val_loss: 1.5674 - val_accuracy: 0.5300\n",
      "Epoch 9/20\n",
      "125/125 [==============================] - 5s 40ms/step - loss: 0.3617 - accuracy: 0.8865 - val_loss: 1.2934 - val_accuracy: 0.6000\n",
      "Epoch 10/20\n",
      "125/125 [==============================] - 5s 39ms/step - loss: 0.2395 - accuracy: 0.9327 - val_loss: 1.3727 - val_accuracy: 0.6080\n",
      "Epoch 11/20\n",
      "125/125 [==============================] - 5s 40ms/step - loss: 0.1714 - accuracy: 0.9545 - val_loss: 1.3374 - val_accuracy: 0.6280\n",
      "Epoch 12/20\n",
      "125/125 [==============================] - 5s 41ms/step - loss: 0.1409 - accuracy: 0.9613 - val_loss: 1.4870 - val_accuracy: 0.6180\n",
      "Epoch 13/20\n",
      "125/125 [==============================] - 5s 43ms/step - loss: 0.1230 - accuracy: 0.9675 - val_loss: 1.5617 - val_accuracy: 0.6260\n",
      "Epoch 14/20\n",
      "125/125 [==============================] - 5s 40ms/step - loss: 0.0744 - accuracy: 0.9875 - val_loss: 1.4306 - val_accuracy: 0.6160\n",
      "Epoch 15/20\n",
      "125/125 [==============================] - 5s 41ms/step - loss: 0.0640 - accuracy: 0.9860 - val_loss: 1.8832 - val_accuracy: 0.5840\n",
      "Epoch 16/20\n",
      "125/125 [==============================] - 5s 42ms/step - loss: 0.0941 - accuracy: 0.9758 - val_loss: 2.0197 - val_accuracy: 0.5300\n",
      "Epoch 17/20\n",
      "125/125 [==============================] - 5s 41ms/step - loss: 0.0894 - accuracy: 0.9750 - val_loss: 1.5784 - val_accuracy: 0.6060\n",
      "Epoch 18/20\n",
      "125/125 [==============================] - 5s 40ms/step - loss: 0.0641 - accuracy: 0.9847 - val_loss: 1.6543 - val_accuracy: 0.6020\n",
      "Epoch 19/20\n",
      "125/125 [==============================] - 5s 39ms/step - loss: 0.0566 - accuracy: 0.9860 - val_loss: 1.4670 - val_accuracy: 0.6200\n",
      "Epoch 20/20\n",
      "125/125 [==============================] - 5s 39ms/step - loss: 0.0686 - accuracy: 0.9835 - val_loss: 1.8780 - val_accuracy: 0.6080\n",
      "INFO:tensorflow:Assets written to: q3.3/non_skip\\assets\n"
     ]
    }
   ],
   "source": [
    "our_network_no_skip.fit(data_manager, batch_size=32, num_epochs=20)\n",
    "our_network_skip.model.save(\"q3.3/non_skip\", save_format='tf')\n"
   ]
  },
  {
   "cell_type": "markdown",
   "metadata": {},
   "source": [
    "<span style=\"color:red\">**Question 3.4**</span> **Now, let us tune the $num\\_blocks \\in \\{2,3,4\\}$, $use\\_skip \\in \\{True, False\\}$, and $learning\\_rate \\in \\{0.001, 0.0001\\}$. Write your code for this tuning and report the result of the best model on the testing set. Note that you need to show your code for tuning and evaluating on the test set to earn the full marks. During tuning, you can set the instance variable `verbose` of your model to `False` for not showing the training details of each epoch.**\n",
    " \n",
    "<div style=\"text-align: right\"> <span style=\"color:red\">[4 points]</span> </div>"
   ]
  },
  {
   "cell_type": "markdown",
   "metadata": {},
   "source": [
    "#### *Report the best parameters and the testing accuracy here*\n",
    "\n",
    "# TODO:\n",
    "\n",
    "\n",
    "\n",
    "\n",
    "\n"
   ]
  },
  {
   "cell_type": "code",
   "execution_count": 49,
   "metadata": {},
   "outputs": [
    {
     "name": "stdout",
     "output_type": "stream",
     "text": [
      "Training best model from q3.4 with num_blocks=2, skip_flag=True, learn_rate=0.001\n",
      "Epoch 1/10\n",
      "125/125 [==============================] - 7s 51ms/step - loss: 1.8786 - accuracy: 0.3658 - val_loss: 2.4858 - val_accuracy: 0.1540\n",
      "Epoch 2/10\n",
      "125/125 [==============================] - 5s 43ms/step - loss: 1.3489 - accuracy: 0.5440 - val_loss: 2.4428 - val_accuracy: 0.2440\n",
      "Epoch 3/10\n",
      "125/125 [==============================] - 4s 32ms/step - loss: 1.0897 - accuracy: 0.6242 - val_loss: 1.9659 - val_accuracy: 0.3420\n",
      "Epoch 4/10\n",
      "125/125 [==============================] - 3s 25ms/step - loss: 0.8815 - accuracy: 0.7057 - val_loss: 1.4739 - val_accuracy: 0.5000\n",
      "Epoch 5/10\n",
      "125/125 [==============================] - 3s 26ms/step - loss: 0.7097 - accuracy: 0.7657 - val_loss: 1.2650 - val_accuracy: 0.5940\n",
      "Epoch 6/10\n",
      "125/125 [==============================] - 4s 28ms/step - loss: 0.5606 - accuracy: 0.8150 - val_loss: 1.3977 - val_accuracy: 0.5800\n",
      "Epoch 7/10\n",
      "125/125 [==============================] - 4s 36ms/step - loss: 0.4326 - accuracy: 0.8660 - val_loss: 1.3143 - val_accuracy: 0.5920\n",
      "Epoch 8/10\n",
      "125/125 [==============================] - 4s 33ms/step - loss: 0.3521 - accuracy: 0.8892 - val_loss: 1.3194 - val_accuracy: 0.6080\n",
      "Epoch 9/10\n",
      "125/125 [==============================] - 5s 40ms/step - loss: 0.2697 - accuracy: 0.9225 - val_loss: 1.3371 - val_accuracy: 0.6120\n",
      "Epoch 10/10\n",
      "125/125 [==============================] - 4s 30ms/step - loss: 0.2051 - accuracy: 0.9438 - val_loss: 1.4252 - val_accuracy: 0.6300\n",
      "16/16 [==============================] - 0s 11ms/step - loss: 1.4252 - accuracy: 0.6300\n",
      "\tvalid acc = 0.6299999952316284\n",
      "Training best model from q3.4 with num_blocks=2, skip_flag=True, learn_rate=0.0001\n",
      "Epoch 1/10\n",
      "125/125 [==============================] - 4s 25ms/step - loss: 2.0903 - accuracy: 0.2575 - val_loss: 2.2865 - val_accuracy: 0.1860\n",
      "Epoch 2/10\n",
      "125/125 [==============================] - 3s 25ms/step - loss: 1.6760 - accuracy: 0.4288 - val_loss: 2.2292 - val_accuracy: 0.2160\n",
      "Epoch 3/10\n",
      "125/125 [==============================] - 3s 28ms/step - loss: 1.5010 - accuracy: 0.4958 - val_loss: 1.8167 - val_accuracy: 0.3680\n",
      "Epoch 4/10\n",
      "125/125 [==============================] - 4s 33ms/step - loss: 1.3749 - accuracy: 0.5447 - val_loss: 1.5593 - val_accuracy: 0.4820\n",
      "Epoch 5/10\n",
      "125/125 [==============================] - 4s 29ms/step - loss: 1.2704 - accuracy: 0.5780 - val_loss: 1.4620 - val_accuracy: 0.5160\n",
      "Epoch 6/10\n",
      "125/125 [==============================] - 7s 54ms/step - loss: 1.1806 - accuracy: 0.6108 - val_loss: 1.3907 - val_accuracy: 0.5400\n",
      "Epoch 7/10\n",
      "125/125 [==============================] - 5s 37ms/step - loss: 1.0869 - accuracy: 0.6480 - val_loss: 1.3746 - val_accuracy: 0.5520\n",
      "Epoch 8/10\n",
      "125/125 [==============================] - 4s 31ms/step - loss: 1.0156 - accuracy: 0.6735 - val_loss: 1.3527 - val_accuracy: 0.5440\n",
      "Epoch 9/10\n",
      "125/125 [==============================] - 3s 26ms/step - loss: 0.9557 - accuracy: 0.6875 - val_loss: 1.3417 - val_accuracy: 0.5480\n",
      "Epoch 10/10\n",
      "125/125 [==============================] - 3s 25ms/step - loss: 0.8990 - accuracy: 0.7168 - val_loss: 1.2899 - val_accuracy: 0.5820\n",
      "16/16 [==============================] - 0s 10ms/step - loss: 1.2899 - accuracy: 0.5820\n",
      "\tvalid acc = 0.5820000171661377\n",
      "Training best model from q3.4 with num_blocks=2, skip_flag=False, learn_rate=0.001\n",
      "Epoch 1/10\n",
      "125/125 [==============================] - 4s 30ms/step - loss: 1.9115 - accuracy: 0.3565 - val_loss: 2.4996 - val_accuracy: 0.1780\n",
      "Epoch 2/10\n",
      "125/125 [==============================] - 4s 33ms/step - loss: 1.4339 - accuracy: 0.5178 - val_loss: 2.4173 - val_accuracy: 0.2300\n",
      "Epoch 3/10\n",
      "125/125 [==============================] - 3s 24ms/step - loss: 1.1800 - accuracy: 0.5965 - val_loss: 1.8276 - val_accuracy: 0.3520\n",
      "Epoch 4/10\n",
      "125/125 [==============================] - 3s 21ms/step - loss: 1.0054 - accuracy: 0.6565 - val_loss: 1.2650 - val_accuracy: 0.5600\n",
      "Epoch 5/10\n",
      "125/125 [==============================] - 3s 21ms/step - loss: 0.8476 - accuracy: 0.7138 - val_loss: 1.4080 - val_accuracy: 0.5380\n",
      "Epoch 6/10\n",
      "125/125 [==============================] - 4s 35ms/step - loss: 0.6994 - accuracy: 0.7685 - val_loss: 1.2804 - val_accuracy: 0.5440\n",
      "Epoch 7/10\n",
      "125/125 [==============================] - 8s 60ms/step - loss: 0.5801 - accuracy: 0.8135 - val_loss: 1.1859 - val_accuracy: 0.6140\n",
      "Epoch 8/10\n",
      "125/125 [==============================] - 4s 29ms/step - loss: 0.4967 - accuracy: 0.8335 - val_loss: 1.3091 - val_accuracy: 0.5840\n",
      "Epoch 9/10\n",
      "125/125 [==============================] - 4s 32ms/step - loss: 0.3828 - accuracy: 0.8813 - val_loss: 1.2974 - val_accuracy: 0.5940\n",
      "Epoch 10/10\n",
      "125/125 [==============================] - 5s 39ms/step - loss: 0.3079 - accuracy: 0.9095 - val_loss: 1.1931 - val_accuracy: 0.6380\n",
      "16/16 [==============================] - 0s 18ms/step - loss: 1.1931 - accuracy: 0.6380\n",
      "\tvalid acc = 0.6380000114440918\n",
      "Training best model from q3.4 with num_blocks=2, skip_flag=False, learn_rate=0.0001\n",
      "Epoch 1/10\n",
      "125/125 [==============================] - 6s 43ms/step - loss: 2.0764 - accuracy: 0.2540 - val_loss: 2.3346 - val_accuracy: 0.1580\n",
      "Epoch 2/10\n",
      "125/125 [==============================] - 4s 35ms/step - loss: 1.6809 - accuracy: 0.4280 - val_loss: 2.3101 - val_accuracy: 0.1840\n",
      "Epoch 3/10\n",
      "125/125 [==============================] - 4s 29ms/step - loss: 1.5116 - accuracy: 0.5033 - val_loss: 1.8791 - val_accuracy: 0.3380\n",
      "Epoch 4/10\n",
      "125/125 [==============================] - 4s 28ms/step - loss: 1.3889 - accuracy: 0.5505 - val_loss: 1.5749 - val_accuracy: 0.4920\n",
      "Epoch 5/10\n",
      "125/125 [==============================] - 3s 23ms/step - loss: 1.2848 - accuracy: 0.5850 - val_loss: 1.4599 - val_accuracy: 0.5140\n",
      "Epoch 6/10\n",
      "125/125 [==============================] - 3s 23ms/step - loss: 1.1943 - accuracy: 0.6130 - val_loss: 1.3837 - val_accuracy: 0.5600\n",
      "Epoch 7/10\n",
      "125/125 [==============================] - 3s 21ms/step - loss: 1.1098 - accuracy: 0.6478 - val_loss: 1.3709 - val_accuracy: 0.5480\n",
      "Epoch 8/10\n",
      "125/125 [==============================] - 3s 25ms/step - loss: 1.0411 - accuracy: 0.6725 - val_loss: 1.3146 - val_accuracy: 0.5740\n",
      "Epoch 9/10\n",
      "125/125 [==============================] - 3s 20ms/step - loss: 0.9770 - accuracy: 0.6927 - val_loss: 1.2893 - val_accuracy: 0.5500\n",
      "Epoch 10/10\n",
      "125/125 [==============================] - 2s 20ms/step - loss: 0.9188 - accuracy: 0.7172 - val_loss: 1.2610 - val_accuracy: 0.5880\n",
      "16/16 [==============================] - 0s 6ms/step - loss: 1.2610 - accuracy: 0.5880\n",
      "\tvalid acc = 0.5879999995231628\n",
      "Training best model from q3.4 with num_blocks=3, skip_flag=True, learn_rate=0.001\n",
      "Epoch 1/10\n",
      "125/125 [==============================] - 5s 37ms/step - loss: 1.8244 - accuracy: 0.3650 - val_loss: 2.4121 - val_accuracy: 0.1360\n",
      "Epoch 2/10\n",
      "125/125 [==============================] - 4s 34ms/step - loss: 1.3729 - accuracy: 0.5290 - val_loss: 2.4981 - val_accuracy: 0.2460\n",
      "Epoch 3/10\n",
      "125/125 [==============================] - 5s 36ms/step - loss: 1.1278 - accuracy: 0.6202 - val_loss: 1.9344 - val_accuracy: 0.3420\n",
      "Epoch 4/10\n",
      "125/125 [==============================] - 5s 42ms/step - loss: 0.9163 - accuracy: 0.6923 - val_loss: 1.3063 - val_accuracy: 0.5440\n",
      "Epoch 5/10\n",
      "125/125 [==============================] - 5s 43ms/step - loss: 0.7389 - accuracy: 0.7590 - val_loss: 1.3126 - val_accuracy: 0.5720\n",
      "Epoch 6/10\n",
      "125/125 [==============================] - 4s 35ms/step - loss: 0.5943 - accuracy: 0.8008 - val_loss: 1.2427 - val_accuracy: 0.6180\n",
      "Epoch 7/10\n",
      "125/125 [==============================] - 4s 33ms/step - loss: 0.4361 - accuracy: 0.8580 - val_loss: 1.1951 - val_accuracy: 0.6080\n",
      "Epoch 8/10\n",
      "125/125 [==============================] - 4s 35ms/step - loss: 0.3280 - accuracy: 0.8980 - val_loss: 1.3446 - val_accuracy: 0.5960\n",
      "Epoch 9/10\n",
      "125/125 [==============================] - 5s 38ms/step - loss: 0.2367 - accuracy: 0.9388 - val_loss: 1.3021 - val_accuracy: 0.6040\n",
      "Epoch 10/10\n",
      "125/125 [==============================] - 5s 41ms/step - loss: 0.1761 - accuracy: 0.9513 - val_loss: 1.1367 - val_accuracy: 0.6680\n",
      "16/16 [==============================] - 0s 12ms/step - loss: 1.1367 - accuracy: 0.6680\n",
      "\tvalid acc = 0.6679999828338623\n",
      "Training best model from q3.4 with num_blocks=3, skip_flag=True, learn_rate=0.0001\n",
      "Epoch 1/10\n",
      "125/125 [==============================] - 7s 48ms/step - loss: 1.9284 - accuracy: 0.3268 - val_loss: 2.3420 - val_accuracy: 0.1780\n",
      "Epoch 2/10\n",
      "125/125 [==============================] - 8s 64ms/step - loss: 1.4938 - accuracy: 0.5002 - val_loss: 2.2667 - val_accuracy: 0.1960\n",
      "Epoch 3/10\n",
      "125/125 [==============================] - 6s 51ms/step - loss: 1.2952 - accuracy: 0.5775 - val_loss: 1.8427 - val_accuracy: 0.3680\n",
      "Epoch 4/10\n",
      "125/125 [==============================] - 6s 51ms/step - loss: 1.1490 - accuracy: 0.6285 - val_loss: 1.4644 - val_accuracy: 0.4980\n",
      "Epoch 5/10\n",
      "125/125 [==============================] - 7s 56ms/step - loss: 1.0291 - accuracy: 0.6727 - val_loss: 1.4866 - val_accuracy: 0.4520\n",
      "Epoch 6/10\n",
      "125/125 [==============================] - 7s 53ms/step - loss: 0.9196 - accuracy: 0.7078 - val_loss: 1.2165 - val_accuracy: 0.6000\n",
      "Epoch 7/10\n",
      "125/125 [==============================] - 5s 43ms/step - loss: 0.8196 - accuracy: 0.7498 - val_loss: 1.1761 - val_accuracy: 0.5960\n",
      "Epoch 8/10\n",
      "125/125 [==============================] - 6s 45ms/step - loss: 0.7417 - accuracy: 0.7742 - val_loss: 1.1787 - val_accuracy: 0.6140\n",
      "Epoch 9/10\n",
      "125/125 [==============================] - 5s 39ms/step - loss: 0.6785 - accuracy: 0.7980 - val_loss: 1.1979 - val_accuracy: 0.6000\n",
      "Epoch 10/10\n",
      "125/125 [==============================] - 6s 47ms/step - loss: 0.6125 - accuracy: 0.8257 - val_loss: 1.1884 - val_accuracy: 0.6120\n",
      "16/16 [==============================] - 0s 9ms/step - loss: 1.1884 - accuracy: 0.6120\n",
      "\tvalid acc = 0.6119999885559082\n",
      "Training best model from q3.4 with num_blocks=3, skip_flag=False, learn_rate=0.001\n",
      "Epoch 1/10\n",
      "125/125 [==============================] - 5s 33ms/step - loss: 1.8552 - accuracy: 0.3632 - val_loss: 2.4270 - val_accuracy: 0.1780\n",
      "Epoch 2/10\n",
      "125/125 [==============================] - 5s 38ms/step - loss: 1.4427 - accuracy: 0.5082 - val_loss: 2.4517 - val_accuracy: 0.2520\n",
      "Epoch 3/10\n",
      "125/125 [==============================] - 4s 34ms/step - loss: 1.2159 - accuracy: 0.5872 - val_loss: 1.8330 - val_accuracy: 0.3900\n",
      "Epoch 4/10\n",
      "125/125 [==============================] - 4s 32ms/step - loss: 1.0286 - accuracy: 0.6478 - val_loss: 1.3303 - val_accuracy: 0.5300\n",
      "Epoch 5/10\n",
      "125/125 [==============================] - 4s 33ms/step - loss: 0.8642 - accuracy: 0.7038 - val_loss: 1.5881 - val_accuracy: 0.4720\n",
      "Epoch 6/10\n",
      "125/125 [==============================] - 4s 30ms/step - loss: 0.7294 - accuracy: 0.7513 - val_loss: 1.2641 - val_accuracy: 0.5820\n",
      "Epoch 7/10\n",
      "125/125 [==============================] - 4s 33ms/step - loss: 0.5774 - accuracy: 0.8058 - val_loss: 1.5533 - val_accuracy: 0.5260\n",
      "Epoch 8/10\n",
      "125/125 [==============================] - 4s 30ms/step - loss: 0.4705 - accuracy: 0.8465 - val_loss: 1.3195 - val_accuracy: 0.6100\n",
      "Epoch 9/10\n",
      "125/125 [==============================] - 3s 28ms/step - loss: 0.3513 - accuracy: 0.8950 - val_loss: 1.2608 - val_accuracy: 0.6040\n",
      "Epoch 10/10\n",
      "125/125 [==============================] - 4s 29ms/step - loss: 0.2836 - accuracy: 0.9122 - val_loss: 1.1887 - val_accuracy: 0.6180\n",
      "16/16 [==============================] - 0s 10ms/step - loss: 1.1887 - accuracy: 0.6180\n",
      "\tvalid acc = 0.6179999709129333\n",
      "Training best model from q3.4 with num_blocks=3, skip_flag=False, learn_rate=0.0001\n",
      "Epoch 1/10\n",
      "125/125 [==============================] - 5s 37ms/step - loss: 1.9306 - accuracy: 0.3170 - val_loss: 2.3816 - val_accuracy: 0.1660\n",
      "Epoch 2/10\n",
      "125/125 [==============================] - 4s 32ms/step - loss: 1.4990 - accuracy: 0.5140 - val_loss: 2.3605 - val_accuracy: 0.1820\n",
      "Epoch 3/10\n",
      "125/125 [==============================] - 4s 35ms/step - loss: 1.3022 - accuracy: 0.5767 - val_loss: 1.8541 - val_accuracy: 0.3440\n",
      "Epoch 4/10\n",
      "125/125 [==============================] - 4s 28ms/step - loss: 1.1508 - accuracy: 0.6367 - val_loss: 1.4720 - val_accuracy: 0.4800\n",
      "Epoch 5/10\n",
      "125/125 [==============================] - 4s 31ms/step - loss: 1.0352 - accuracy: 0.6833 - val_loss: 1.3255 - val_accuracy: 0.5460\n",
      "Epoch 6/10\n",
      "125/125 [==============================] - 4s 29ms/step - loss: 0.9255 - accuracy: 0.7105 - val_loss: 1.2021 - val_accuracy: 0.6100\n",
      "Epoch 7/10\n",
      "125/125 [==============================] - 4s 32ms/step - loss: 0.8233 - accuracy: 0.7615 - val_loss: 1.1757 - val_accuracy: 0.5880\n",
      "Epoch 8/10\n",
      "125/125 [==============================] - 3s 28ms/step - loss: 0.7483 - accuracy: 0.7860 - val_loss: 1.1442 - val_accuracy: 0.6280\n",
      "Epoch 9/10\n",
      "125/125 [==============================] - 4s 31ms/step - loss: 0.6776 - accuracy: 0.8155 - val_loss: 1.1769 - val_accuracy: 0.6060\n",
      "Epoch 10/10\n",
      "125/125 [==============================] - 3s 27ms/step - loss: 0.6143 - accuracy: 0.8372 - val_loss: 1.1051 - val_accuracy: 0.6500\n",
      "16/16 [==============================] - 0s 8ms/step - loss: 1.1051 - accuracy: 0.6500\n",
      "\tvalid acc = 0.6499999761581421\n",
      "Training best model from q3.4 with num_blocks=4, skip_flag=True, learn_rate=0.001\n",
      "Epoch 1/10\n",
      "125/125 [==============================] - 8s 60ms/step - loss: 1.9461 - accuracy: 0.3248 - val_loss: 2.3431 - val_accuracy: 0.1580\n",
      "Epoch 2/10\n",
      "125/125 [==============================] - 7s 56ms/step - loss: 1.5210 - accuracy: 0.4678 - val_loss: 2.6108 - val_accuracy: 0.2460\n",
      "Epoch 3/10\n",
      "125/125 [==============================] - 6s 50ms/step - loss: 1.2950 - accuracy: 0.5477 - val_loss: 2.0816 - val_accuracy: 0.3320\n",
      "Epoch 4/10\n",
      "125/125 [==============================] - 7s 53ms/step - loss: 1.1191 - accuracy: 0.6115 - val_loss: 1.3481 - val_accuracy: 0.5300\n",
      "Epoch 5/10\n",
      "125/125 [==============================] - 8s 61ms/step - loss: 0.9428 - accuracy: 0.6785 - val_loss: 1.3697 - val_accuracy: 0.5400\n",
      "Epoch 6/10\n",
      "125/125 [==============================] - 7s 53ms/step - loss: 0.8136 - accuracy: 0.7175 - val_loss: 1.1498 - val_accuracy: 0.6240\n",
      "Epoch 7/10\n",
      "125/125 [==============================] - 7s 58ms/step - loss: 0.6517 - accuracy: 0.7735 - val_loss: 1.1988 - val_accuracy: 0.6520\n",
      "Epoch 8/10\n",
      "125/125 [==============================] - 7s 57ms/step - loss: 0.5314 - accuracy: 0.8177 - val_loss: 1.2039 - val_accuracy: 0.6240\n",
      "Epoch 9/10\n",
      "125/125 [==============================] - 8s 62ms/step - loss: 0.3865 - accuracy: 0.8708 - val_loss: 1.3754 - val_accuracy: 0.6080\n",
      "Epoch 10/10\n",
      "125/125 [==============================] - 6s 51ms/step - loss: 0.2598 - accuracy: 0.9170 - val_loss: 1.2674 - val_accuracy: 0.6420\n",
      "16/16 [==============================] - 0s 21ms/step - loss: 1.2674 - accuracy: 0.6420\n",
      "\tvalid acc = 0.6420000195503235\n",
      "Training best model from q3.4 with num_blocks=4, skip_flag=True, learn_rate=0.0001\n",
      "Epoch 1/10\n",
      "125/125 [==============================] - 9s 67ms/step - loss: 1.8076 - accuracy: 0.3722 - val_loss: 2.4979 - val_accuracy: 0.1460\n",
      "Epoch 2/10\n",
      "125/125 [==============================] - 7s 52ms/step - loss: 1.3226 - accuracy: 0.5518 - val_loss: 2.5994 - val_accuracy: 0.1760\n",
      "Epoch 3/10\n",
      "125/125 [==============================] - 7s 57ms/step - loss: 1.0762 - accuracy: 0.6445 - val_loss: 1.9705 - val_accuracy: 0.3220\n",
      "Epoch 4/10\n",
      "125/125 [==============================] - 6s 51ms/step - loss: 0.8839 - accuracy: 0.7143 - val_loss: 1.5546 - val_accuracy: 0.4940\n",
      "Epoch 5/10\n",
      "125/125 [==============================] - 6s 50ms/step - loss: 0.7219 - accuracy: 0.7793 - val_loss: 1.3127 - val_accuracy: 0.5680\n",
      "Epoch 6/10\n",
      "125/125 [==============================] - 6s 50ms/step - loss: 0.5665 - accuracy: 0.8388 - val_loss: 1.2417 - val_accuracy: 0.6240\n",
      "Epoch 7/10\n",
      "125/125 [==============================] - 6s 52ms/step - loss: 0.4302 - accuracy: 0.8873 - val_loss: 1.3340 - val_accuracy: 0.5660\n",
      "Epoch 8/10\n",
      "125/125 [==============================] - 8s 68ms/step - loss: 0.3166 - accuracy: 0.9290 - val_loss: 1.2459 - val_accuracy: 0.6140\n",
      "Epoch 9/10\n",
      "125/125 [==============================] - 8s 66ms/step - loss: 0.2332 - accuracy: 0.9542 - val_loss: 1.3629 - val_accuracy: 0.5820\n",
      "Epoch 10/10\n",
      "125/125 [==============================] - 9s 74ms/step - loss: 0.1726 - accuracy: 0.9747 - val_loss: 1.3475 - val_accuracy: 0.6000\n",
      "16/16 [==============================] - 0s 14ms/step - loss: 1.3475 - accuracy: 0.6000\n",
      "\tvalid acc = 0.6000000238418579\n",
      "Training best model from q3.4 with num_blocks=4, skip_flag=False, learn_rate=0.001\n",
      "Epoch 1/10\n",
      "125/125 [==============================] - 6s 40ms/step - loss: 1.9581 - accuracy: 0.3302 - val_loss: 2.7227 - val_accuracy: 0.1420\n",
      "Epoch 2/10\n",
      "125/125 [==============================] - 5s 43ms/step - loss: 1.5974 - accuracy: 0.4340 - val_loss: 2.5086 - val_accuracy: 0.2620\n",
      "Epoch 3/10\n",
      "125/125 [==============================] - 7s 59ms/step - loss: 1.3747 - accuracy: 0.5232 - val_loss: 2.2597 - val_accuracy: 0.2680\n",
      "Epoch 4/10\n",
      "125/125 [==============================] - 8s 61ms/step - loss: 1.2325 - accuracy: 0.5655 - val_loss: 1.6848 - val_accuracy: 0.4600\n",
      "Epoch 5/10\n",
      "125/125 [==============================] - 6s 44ms/step - loss: 1.0574 - accuracy: 0.6323 - val_loss: 1.6255 - val_accuracy: 0.4740\n",
      "Epoch 6/10\n",
      "125/125 [==============================] - 5s 38ms/step - loss: 0.9418 - accuracy: 0.6708 - val_loss: 1.4603 - val_accuracy: 0.4860\n",
      "Epoch 7/10\n",
      "125/125 [==============================] - 7s 56ms/step - loss: 0.8172 - accuracy: 0.7120 - val_loss: 1.5021 - val_accuracy: 0.5260\n",
      "Epoch 8/10\n",
      "125/125 [==============================] - 5s 44ms/step - loss: 0.7148 - accuracy: 0.7502 - val_loss: 2.1070 - val_accuracy: 0.4420\n",
      "Epoch 9/10\n",
      "125/125 [==============================] - 5s 38ms/step - loss: 0.6102 - accuracy: 0.7820 - val_loss: 1.2188 - val_accuracy: 0.6440\n",
      "Epoch 10/10\n",
      "125/125 [==============================] - 5s 42ms/step - loss: 0.4531 - accuracy: 0.8435 - val_loss: 1.7840 - val_accuracy: 0.5000\n",
      "16/16 [==============================] - 0s 13ms/step - loss: 1.7840 - accuracy: 0.5000\n",
      "\tvalid acc = 0.5\n",
      "Training best model from q3.4 with num_blocks=4, skip_flag=False, learn_rate=0.0001\n",
      "Epoch 1/10\n",
      "125/125 [==============================] - 6s 41ms/step - loss: 1.8138 - accuracy: 0.3570 - val_loss: 2.5484 - val_accuracy: 0.1240\n",
      "Epoch 2/10\n",
      "125/125 [==============================] - 6s 50ms/step - loss: 1.3146 - accuracy: 0.5527 - val_loss: 3.0396 - val_accuracy: 0.1380\n",
      "Epoch 3/10\n",
      "125/125 [==============================] - 6s 44ms/step - loss: 1.0574 - accuracy: 0.6600 - val_loss: 2.1556 - val_accuracy: 0.2760\n",
      "Epoch 4/10\n",
      "125/125 [==============================] - 5s 38ms/step - loss: 0.8653 - accuracy: 0.7218 - val_loss: 1.5491 - val_accuracy: 0.4840\n",
      "Epoch 5/10\n",
      "125/125 [==============================] - 5s 37ms/step - loss: 0.6890 - accuracy: 0.7970 - val_loss: 1.2715 - val_accuracy: 0.5720\n",
      "Epoch 6/10\n",
      "125/125 [==============================] - 5s 41ms/step - loss: 0.5314 - accuracy: 0.8512 - val_loss: 1.2030 - val_accuracy: 0.6100\n",
      "Epoch 7/10\n",
      "125/125 [==============================] - 5s 38ms/step - loss: 0.3914 - accuracy: 0.9090 - val_loss: 1.2225 - val_accuracy: 0.5960\n",
      "Epoch 8/10\n",
      "125/125 [==============================] - 5s 38ms/step - loss: 0.2879 - accuracy: 0.9460 - val_loss: 1.1947 - val_accuracy: 0.6080\n",
      "Epoch 9/10\n",
      "125/125 [==============================] - 5s 41ms/step - loss: 0.2197 - accuracy: 0.9657 - val_loss: 1.2110 - val_accuracy: 0.6340\n",
      "Epoch 10/10\n",
      "125/125 [==============================] - 5s 42ms/step - loss: 0.1603 - accuracy: 0.9805 - val_loss: 1.3910 - val_accuracy: 0.5740\n",
      "16/16 [==============================] - 0s 15ms/step - loss: 1.3910 - accuracy: 0.5740\n",
      "\tvalid acc = 0.5740000009536743\n",
      "The hyperparameters for best tuned ques 3.4 model is: num_blocks=3, skip_flag=True, learn_rate=0.001\n",
      "INFO:tensorflow:Assets written to: q3models/q3.4\\assets\n",
      "Saved the best tuned model for QUES 3.4 to hard disk\n"
     ]
    }
   ],
   "source": [
    "#Insert your code here. You can add more cells if necessary\n",
    "\n",
    "\n",
    "# 1: prepare hyperparameters\n",
    "num_blocks_lst = (2,3,4)\n",
    "use_skip_flags = (True, False)\n",
    "learning_rates = (0.001, 0.0001)\n",
    "\n",
    "def smoothen(labels, alph):\n",
    "    return [label_smooth(y_k=label, alpha=alph, K=len(labels)) for label in labels]\n",
    "\n",
    "# NOTE: we need to use the BEST model using the BEST hyper parameters from Q2.5\n",
    "best_num_blocks = None\n",
    "best_skip_flag = None\n",
    "best_lr = None\n",
    "\n",
    "best_acc = -np.inf\n",
    "best_history = None\n",
    "\n",
    "# 2: get best model by tuning hyperparameters\n",
    "for num_blocks in num_blocks_lst:  \n",
    "    for skip_flag in use_skip_flags:\n",
    "        for lr in learning_rates:\n",
    "            # build the model\n",
    "            \n",
    "            # TODO: build the model using YourModel class\n",
    "            cnn = YourModel(name='q3.4',\n",
    "                                feature_maps=32,\n",
    "                                num_classes=len(data_manager.classes),\n",
    "                                num_blocks=num_blocks,\n",
    "                                drop_rate= 0.0, \n",
    "                                batch_norm=True, \n",
    "                                use_skip = skip_flag,\n",
    "                                optimizer='adam',\n",
    "                                learning_rate= lr)\n",
    "\n",
    "            # cnn = YourModel(name=\"network3.4\", num_blocks=num_blocks, use_skip=skip_flag, learning_rate=lr) # specifies the activation func to use for hidden layers \n",
    "            # cnn.build_cnn(input_shape = (None, 784))\n",
    "            cnn.build_cnn()\n",
    "\n",
    "            # cnn.compile(loss='sparse_categorical_crossentropy', metrics=['accuracy']) # optimzer is deaulted to RMSProp\n",
    "            \n",
    "            # model fitting\n",
    "            print(f\"Training best model from q3.4 with num_blocks={num_blocks}, skip_flag={skip_flag}, learn_rate={lr}\")            \n",
    "            # build the model use datamanger to send in data\n",
    "            history = cnn.fit(data_manager, batch_size=32, num_epochs=10)\n",
    "            \n",
    "            # performance evaluation\n",
    "            # valid_loss, valid_acc = cnn.evaluate(X_valid, y_valid)\n",
    "            valid_acc = cnn.compute_accuracy(data_manager.X_valid, data_manager.y_valid, batch_size=32)\n",
    "            print(f'\\tvalid acc = {valid_acc}')\n",
    "\n",
    "            # check for better model using different alpha values\n",
    "            if(valid_acc > best_acc):\n",
    "                best_num_blocks = num_blocks\n",
    "                best_skip_flag = skip_flag\n",
    "                best_lr = lr\n",
    "                \n",
    "                best_acc = valid_acc\n",
    "                best_model = cnn\n",
    "                best_history = history\n",
    "\n",
    "\n",
    "# 4: save model\n",
    "print(f'The hyperparameters for best tuned ques 3.4 model is: num_blocks={best_num_blocks}, skip_flag={best_skip_flag}, learn_rate={best_lr}')\n",
    "best_model.model.save('q3models/q3.4', save_format='tf')\n",
    "print('Saved the best tuned model for QUES 3.4 to hard disk')\n",
    "\n",
    "\n",
    "\n"
   ]
  },
  {
   "cell_type": "markdown",
   "metadata": {},
   "source": [
    "#### Evaluation by fitting onto test set (after tuning hyperparameters: blocks, skip_flag, learn_rate)\n"
   ]
  },
  {
   "cell_type": "code",
   "execution_count": 29,
   "metadata": {},
   "outputs": [],
   "source": [
    "model = keras.models.load_model('q3models/q3.4')  # loads previously best tuned model \n",
    "yourmodel = YourModel()\n",
    "yourmodel.model = model\n"
   ]
  },
  {
   "cell_type": "code",
   "execution_count": 30,
   "metadata": {},
   "outputs": [
    {
     "name": "stdout",
     "output_type": "stream",
     "text": [
      "--------test set evaluation--------\n",
      "(500, 32, 32, 3)\n",
      "(500,)\n",
      "16/16 [==============================] - 0s 13ms/step - loss: 1.2435 - accuracy: 0.6520\n"
     ]
    }
   ],
   "source": [
    "print(\"--------test set evaluation--------\")\n",
    "# cnn.evaluate(X_test, y_test)'\n",
    "sum_acc = 0\n",
    "iterations = 5\n",
    "print(data_manager.X_test.shape)\n",
    "print(data_manager.y_test.shape)\n",
    "\n",
    "test_accuracy = yourmodel.compute_accuracy(data_manager.X_test, data_manager.y_test, batch_size = 32)"
   ]
  },
  {
   "cell_type": "markdown",
   "metadata": {},
   "source": [
    "<span style=\"color:red\">**Question 3.5**</span> **We now try to apply data augmentation to improve the performance. Extend the code of the class `YourModel` so that if the attribute `is_augmentation` is set to `True`, we apply the data augmentation. Also you need to incorporate early stopping to your training process. Specifically, you early stop the training if the valid accuracy cannot increase in three consecutive epochs.**\n",
    "   \n",
    "<div style=\"text-align: right\"> <span style=\"color:red\">[4 points]</span> </div>"
   ]
  },
  {
   "cell_type": "code",
   "execution_count": 73,
   "metadata": {},
   "outputs": [],
   "source": [
    "from tensorflow.keras.preprocessing.image import ImageDataGenerator\n",
    "from tensorflow.keras.callbacks import EarlyStopping\n",
    "\n"
   ]
  },
  {
   "cell_type": "markdown",
   "metadata": {},
   "source": [
    "Wtire your code in the cell below. Hint that you can rewrite the code of the `fit` method to apply the data augmentation. In addition, you can copy the code of `build_cnn` method above to reuse here."
   ]
  },
  {
   "cell_type": "code",
   "execution_count": 91,
   "metadata": {},
   "outputs": [],
   "source": [
    "class YourModelAug(DefaultModel):\n",
    "    def __init__(self,\n",
    "                 name='network1',\n",
    "                 width=32, height=32, depth=3,\n",
    "                 num_blocks=2,\n",
    "                 feature_maps=32,\n",
    "                 num_classes=4, \n",
    "                 drop_rate=0.2,\n",
    "                 batch_norm = None,\n",
    "                 is_augmentation = False,\n",
    "                 activation_func='relu',\n",
    "                 use_skip = True,\n",
    "                 optimizer='adam',\n",
    "                 batch_size=10,\n",
    "                 num_epochs= 20,\n",
    "                 learning_rate=0.0001):\n",
    "        super(YourModelAug, self).__init__(name, width, height, depth, num_blocks, feature_maps, num_classes, drop_rate, batch_norm, is_augmentation, \n",
    "                                        activation_func, use_skip, optimizer, batch_size, num_epochs, learning_rate)\n",
    "    \n",
    "    def build_cnn(self):\n",
    "        #reuse code of previous section here\n",
    "        self.model = models.Model()\n",
    "        inputs = layers.Input(shape=(self.width, self.height, self.depth))  # TODO: change this\n",
    "        h = inputs\n",
    "         \n",
    "        # adding residual blocks\n",
    "        for i in range(self.num_blocks):\n",
    "            h = YourModel.ResidualBlock(h, self.feature_maps[i], drop_rate=self.drop_rate, skip_connection= self.use_skip)\n",
    "        \n",
    "        # flatten and dense alyer\n",
    "        h = layers.Flatten()(h)\n",
    "        h = layers.Dense(units=self.num_classes, activation=\"softmax\")(h)\n",
    "        \n",
    "        self.model = models.Model(inputs=inputs, outputs=h, name=\"YourModel\") # We now have a ResNet model\n",
    "        self.model.compile(optimizer=self.optimizer, loss='sparse_categorical_crossentropy', metrics=['accuracy'])\n",
    "        \n",
    "        \n",
    "    def fit(self, data_manager, batch_size=None, num_epochs=None):\n",
    "        \"\"\"\n",
    "        # references:\n",
    "        # https://www.tensorflow.org/api_docs/python/tf/keras/preprocessing/image/ImageDataGenerator\n",
    "        # https://github.com/keras-team/keras/blob/v2.10.0/keras/preprocessing/image.py#L1488-L1562\n",
    "        \"\"\"\n",
    "                \n",
    "        batch_size = self.batch_size if batch_size is None else batch_size\n",
    "        num_epochs = self.num_epochs if num_epochs is None else num_epochs\n",
    "        \n",
    "        #  apply data augmentation here, rotate images etc.\n",
    "        datagen = ImageDataGenerator(horizontal_flip=True, width_shift_range=0.1, height_shift_range=0.1)\n",
    "        datagen.fit(data_manager.X_train)\n",
    "        batch_iterator = datagen.flow(data_manager.X_train, data_manager.y_train, batch_size=32)    # datagen.flow Returns: an `Iterator` yielding tuples of `(x, y)` where `x` is a numpy array of image data\n",
    "\n",
    "        self.model.compile(optimizer=self.optimizer, loss='sparse_categorical_crossentropy', metrics=['accuracy'])\n",
    "        \n",
    "        # steps_per_epoch: Total number of steps (batches of samples) before declaring one epoch finished and starting the next epoch\n",
    "        # x arugment could be a generator https://www.tensorflow.org/api_docs/python/tf/keras/Model\n",
    "        \n",
    "         #  early stop the training if the valid accuracy cannot increase in three consecutive epochs\n",
    "        early_checkpoint = EarlyStopping(patience=3, monitor='val_accuracy', mode='max') # same as monitoring min for val_loss\n",
    "        callbacks = [early_checkpoint]\n",
    "        \n",
    "        # fitting the model\n",
    "        self.history = self.model.fit(x=batch_iterator, \n",
    "                                      validation_data = (data_manager.X_valid, data_manager.y_valid), \n",
    "                                      steps_per_epoch=len(data_manager.X_train) / batch_size, \n",
    "                                      epochs = num_epochs,\n",
    "                                      callbacks=callbacks,\n",
    "                                      batch_size = batch_size, verbose= self.verbose)\n",
    "        \n",
    "        "
   ]
  },
  {
   "cell_type": "markdown",
   "metadata": {},
   "source": [
    "<span style=\"color:red\">**Question 3.6**</span> **Leverage your best model with the data augmentation and try to observe the difference in performance between using data augmentation and non-using it.**\n",
    "   \n",
    "<div style=\"text-align: right\"> <span style=\"color:red\">[4 points]</span> </div>"
   ]
  },
  {
   "cell_type": "markdown",
   "metadata": {},
   "source": [
    "#*Write your answer and observation here*\n",
    "\n",
    "### answer and observation :\n",
    "When using early stopping with patience=3, the observation in the difference in highest validation accuracys for the models that uses data augmentation vs without it is that using data augmentation improved the results by exactly 6% compare to the one without data augmentation.\n",
    "\n",
    "#### appendix: (highest validation accuracy for patience=3)\n",
    "with data augmentation:\n",
    "125/125 [==============================] - 5s 41ms/step - loss: 0.9032 - accuracy: 0.6890 - val_loss: 1.0078 - val_accuracy: 0.6640\n",
    "\n",
    "without data augmentation:\n",
    "125/125 [==============================] - 4s 35ms/step - loss: 0.9650 - accuracy: 0.6722 - val_loss: 1.1813 - val_accuracy: 0.6040\n"
   ]
  },
  {
   "cell_type": "code",
   "execution_count": 92,
   "metadata": {},
   "outputs": [],
   "source": [
    "\n",
    "# load previously best tuned model from ques 3.4\n",
    "# model = keras.models.load_model('q3models/q3.4') \n",
    "# prev_best = YourModel()\n",
    "# prev_best.model = model"
   ]
  },
  {
   "cell_type": "markdown",
   "metadata": {},
   "source": [
    "#### With Data augmentation:"
   ]
  },
  {
   "cell_type": "code",
   "execution_count": 98,
   "metadata": {},
   "outputs": [
    {
     "name": "stdout",
     "output_type": "stream",
     "text": [
      "Model: \"YourModel\"\n",
      "__________________________________________________________________________________________________\n",
      "Layer (type)                    Output Shape         Param #     Connected to                     \n",
      "==================================================================================================\n",
      "input_55 (InputLayer)           [(None, 32, 32, 3)]  0                                            \n",
      "__________________________________________________________________________________________________\n",
      "conv2d_324 (Conv2D)             (None, 32, 32, 32)   896         input_55[0][0]                   \n",
      "                                                                 input_55[0][0]                   \n",
      "__________________________________________________________________________________________________\n",
      "batch_normalization_324 (BatchN (None, 32, 32, 32)   128         conv2d_324[0][0]                 \n",
      "__________________________________________________________________________________________________\n",
      "activation_324 (Activation)     (None, 32, 32, 32)   0           batch_normalization_324[0][0]    \n",
      "__________________________________________________________________________________________________\n",
      "conv2d_325 (Conv2D)             (None, 32, 32, 32)   9248        activation_324[0][0]             \n",
      "__________________________________________________________________________________________________\n",
      "batch_normalization_325 (BatchN (None, 32, 32, 32)   128         conv2d_325[0][0]                 \n",
      "__________________________________________________________________________________________________\n",
      "tf.__operators__.add_105 (TFOpL (None, 32, 32, 32)   0           batch_normalization_325[0][0]    \n",
      "                                                                 conv2d_324[1][0]                 \n",
      "__________________________________________________________________________________________________\n",
      "activation_325 (Activation)     (None, 32, 32, 32)   0           tf.__operators__.add_105[0][0]   \n",
      "__________________________________________________________________________________________________\n",
      "average_pooling2d_162 (AverageP (None, 16, 16, 32)   0           activation_325[0][0]             \n",
      "__________________________________________________________________________________________________\n",
      "dropout_162 (Dropout)           (None, 16, 16, 32)   0           average_pooling2d_162[0][0]      \n",
      "__________________________________________________________________________________________________\n",
      "conv2d_326 (Conv2D)             (None, 16, 16, 64)   18496       dropout_162[0][0]                \n",
      "                                                                 dropout_162[0][0]                \n",
      "__________________________________________________________________________________________________\n",
      "batch_normalization_326 (BatchN (None, 16, 16, 64)   256         conv2d_326[0][0]                 \n",
      "__________________________________________________________________________________________________\n",
      "activation_326 (Activation)     (None, 16, 16, 64)   0           batch_normalization_326[0][0]    \n",
      "__________________________________________________________________________________________________\n",
      "conv2d_327 (Conv2D)             (None, 16, 16, 64)   36928       activation_326[0][0]             \n",
      "__________________________________________________________________________________________________\n",
      "batch_normalization_327 (BatchN (None, 16, 16, 64)   256         conv2d_327[0][0]                 \n",
      "__________________________________________________________________________________________________\n",
      "tf.__operators__.add_106 (TFOpL (None, 16, 16, 64)   0           batch_normalization_327[0][0]    \n",
      "                                                                 conv2d_326[1][0]                 \n",
      "__________________________________________________________________________________________________\n",
      "activation_327 (Activation)     (None, 16, 16, 64)   0           tf.__operators__.add_106[0][0]   \n",
      "__________________________________________________________________________________________________\n",
      "average_pooling2d_163 (AverageP (None, 8, 8, 64)     0           activation_327[0][0]             \n",
      "__________________________________________________________________________________________________\n",
      "dropout_163 (Dropout)           (None, 8, 8, 64)     0           average_pooling2d_163[0][0]      \n",
      "__________________________________________________________________________________________________\n",
      "conv2d_328 (Conv2D)             (None, 8, 8, 128)    73856       dropout_163[0][0]                \n",
      "                                                                 dropout_163[0][0]                \n",
      "__________________________________________________________________________________________________\n",
      "batch_normalization_328 (BatchN (None, 8, 8, 128)    512         conv2d_328[0][0]                 \n",
      "__________________________________________________________________________________________________\n",
      "activation_328 (Activation)     (None, 8, 8, 128)    0           batch_normalization_328[0][0]    \n",
      "__________________________________________________________________________________________________\n",
      "conv2d_329 (Conv2D)             (None, 8, 8, 128)    147584      activation_328[0][0]             \n",
      "__________________________________________________________________________________________________\n",
      "batch_normalization_329 (BatchN (None, 8, 8, 128)    512         conv2d_329[0][0]                 \n",
      "__________________________________________________________________________________________________\n",
      "tf.__operators__.add_107 (TFOpL (None, 8, 8, 128)    0           batch_normalization_329[0][0]    \n",
      "                                                                 conv2d_328[1][0]                 \n",
      "__________________________________________________________________________________________________\n",
      "activation_329 (Activation)     (None, 8, 8, 128)    0           tf.__operators__.add_107[0][0]   \n",
      "__________________________________________________________________________________________________\n",
      "average_pooling2d_164 (AverageP (None, 4, 4, 128)    0           activation_329[0][0]             \n",
      "__________________________________________________________________________________________________\n",
      "dropout_164 (Dropout)           (None, 4, 4, 128)    0           average_pooling2d_164[0][0]      \n",
      "__________________________________________________________________________________________________\n",
      "flatten_54 (Flatten)            (None, 2048)         0           dropout_164[0][0]                \n",
      "__________________________________________________________________________________________________\n",
      "dense_54 (Dense)                (None, 10)           20490       flatten_54[0][0]                 \n",
      "==================================================================================================\n",
      "Total params: 309,290\n",
      "Trainable params: 308,394\n",
      "Non-trainable params: 896\n",
      "__________________________________________________________________________________________________\n",
      "None\n"
     ]
    }
   ],
   "source": [
    "#Insert your code here. You can add more cells if necessary\n",
    "# this is the model with data augmentation + skip connection\n",
    "\n",
    "skip_augment_network1 = YourModelAug(   name='use_aug',\n",
    "                                        feature_maps=32,\n",
    "                                        num_classes=len(data_manager.classes),\n",
    "                                        num_blocks=3,\n",
    "                                        drop_rate= 0.0, \n",
    "                                        batch_norm=True, \n",
    "                                        use_skip = True,\n",
    "                                        optimizer='adam',\n",
    "                                        is_augmentation=True,\n",
    "                                        learning_rate= 0.001)\n",
    "\n",
    "\n",
    "skip_augment_network1.build_cnn()\n",
    "skip_augment_network1.summary()\n",
    "\n",
    "\n"
   ]
  },
  {
   "cell_type": "code",
   "execution_count": 99,
   "metadata": {},
   "outputs": [
    {
     "name": "stdout",
     "output_type": "stream",
     "text": [
      "Epoch 1/20\n",
      "125/125 [==============================] - 5s 40ms/step - loss: 1.9185 - accuracy: 0.3338 - val_loss: 2.3545 - val_accuracy: 0.1500\n",
      "Epoch 2/20\n",
      "125/125 [==============================] - 5s 42ms/step - loss: 1.5723 - accuracy: 0.4485 - val_loss: 2.1789 - val_accuracy: 0.2700\n",
      "Epoch 3/20\n",
      "125/125 [==============================] - 5s 43ms/step - loss: 1.4064 - accuracy: 0.5025 - val_loss: 1.7546 - val_accuracy: 0.3880\n",
      "Epoch 4/20\n",
      "125/125 [==============================] - 5s 40ms/step - loss: 1.2834 - accuracy: 0.5525 - val_loss: 1.6349 - val_accuracy: 0.4740\n",
      "Epoch 5/20\n",
      "125/125 [==============================] - 5s 38ms/step - loss: 1.1780 - accuracy: 0.5872 - val_loss: 1.1508 - val_accuracy: 0.6100\n",
      "Epoch 6/20\n",
      "125/125 [==============================] - 5s 39ms/step - loss: 1.0979 - accuracy: 0.6230 - val_loss: 1.1293 - val_accuracy: 0.6400\n",
      "Epoch 7/20\n",
      "125/125 [==============================] - 5s 37ms/step - loss: 1.0234 - accuracy: 0.6423 - val_loss: 1.0795 - val_accuracy: 0.6320\n",
      "Epoch 8/20\n",
      "125/125 [==============================] - 5s 40ms/step - loss: 0.9584 - accuracy: 0.6722 - val_loss: 1.2481 - val_accuracy: 0.5900\n",
      "Epoch 9/20\n",
      "125/125 [==============================] - 5s 41ms/step - loss: 0.9032 - accuracy: 0.6890 - val_loss: 1.0078 - val_accuracy: 0.6640\n",
      "Epoch 10/20\n",
      "125/125 [==============================] - 5s 38ms/step - loss: 0.8630 - accuracy: 0.7000 - val_loss: 1.0218 - val_accuracy: 0.6620\n",
      "Epoch 11/20\n",
      "125/125 [==============================] - 5s 38ms/step - loss: 0.7970 - accuracy: 0.7215 - val_loss: 1.4752 - val_accuracy: 0.5280\n",
      "Epoch 12/20\n",
      "125/125 [==============================] - 5s 40ms/step - loss: 0.7495 - accuracy: 0.7393 - val_loss: 1.1358 - val_accuracy: 0.6540\n",
      "INFO:tensorflow:Assets written to: q3models/3.6/use_aug\\assets\n"
     ]
    }
   ],
   "source": [
    "skip_augment_network1.fit(data_manager, batch_size=32, num_epochs=20)\n",
    "skip_augment_network1.model.save(\"q3models/3.6/use_aug\", save_format=\"tf\")\n"
   ]
  },
  {
   "cell_type": "markdown",
   "metadata": {},
   "source": [
    "#### Without data augmentation"
   ]
  },
  {
   "cell_type": "code",
   "execution_count": 95,
   "metadata": {},
   "outputs": [
    {
     "name": "stdout",
     "output_type": "stream",
     "text": [
      "Model: \"YourModel\"\n",
      "__________________________________________________________________________________________________\n",
      "Layer (type)                    Output Shape         Param #     Connected to                     \n",
      "==================================================================================================\n",
      "input_54 (InputLayer)           [(None, 32, 32, 3)]  0                                            \n",
      "__________________________________________________________________________________________________\n",
      "conv2d_318 (Conv2D)             (None, 32, 32, 32)   896         input_54[0][0]                   \n",
      "                                                                 input_54[0][0]                   \n",
      "__________________________________________________________________________________________________\n",
      "batch_normalization_318 (BatchN (None, 32, 32, 32)   128         conv2d_318[0][0]                 \n",
      "__________________________________________________________________________________________________\n",
      "activation_318 (Activation)     (None, 32, 32, 32)   0           batch_normalization_318[0][0]    \n",
      "__________________________________________________________________________________________________\n",
      "conv2d_319 (Conv2D)             (None, 32, 32, 32)   9248        activation_318[0][0]             \n",
      "__________________________________________________________________________________________________\n",
      "batch_normalization_319 (BatchN (None, 32, 32, 32)   128         conv2d_319[0][0]                 \n",
      "__________________________________________________________________________________________________\n",
      "tf.__operators__.add_102 (TFOpL (None, 32, 32, 32)   0           batch_normalization_319[0][0]    \n",
      "                                                                 conv2d_318[1][0]                 \n",
      "__________________________________________________________________________________________________\n",
      "activation_319 (Activation)     (None, 32, 32, 32)   0           tf.__operators__.add_102[0][0]   \n",
      "__________________________________________________________________________________________________\n",
      "average_pooling2d_159 (AverageP (None, 16, 16, 32)   0           activation_319[0][0]             \n",
      "__________________________________________________________________________________________________\n",
      "dropout_159 (Dropout)           (None, 16, 16, 32)   0           average_pooling2d_159[0][0]      \n",
      "__________________________________________________________________________________________________\n",
      "conv2d_320 (Conv2D)             (None, 16, 16, 64)   18496       dropout_159[0][0]                \n",
      "                                                                 dropout_159[0][0]                \n",
      "__________________________________________________________________________________________________\n",
      "batch_normalization_320 (BatchN (None, 16, 16, 64)   256         conv2d_320[0][0]                 \n",
      "__________________________________________________________________________________________________\n",
      "activation_320 (Activation)     (None, 16, 16, 64)   0           batch_normalization_320[0][0]    \n",
      "__________________________________________________________________________________________________\n",
      "conv2d_321 (Conv2D)             (None, 16, 16, 64)   36928       activation_320[0][0]             \n",
      "__________________________________________________________________________________________________\n",
      "batch_normalization_321 (BatchN (None, 16, 16, 64)   256         conv2d_321[0][0]                 \n",
      "__________________________________________________________________________________________________\n",
      "tf.__operators__.add_103 (TFOpL (None, 16, 16, 64)   0           batch_normalization_321[0][0]    \n",
      "                                                                 conv2d_320[1][0]                 \n",
      "__________________________________________________________________________________________________\n",
      "activation_321 (Activation)     (None, 16, 16, 64)   0           tf.__operators__.add_103[0][0]   \n",
      "__________________________________________________________________________________________________\n",
      "average_pooling2d_160 (AverageP (None, 8, 8, 64)     0           activation_321[0][0]             \n",
      "__________________________________________________________________________________________________\n",
      "dropout_160 (Dropout)           (None, 8, 8, 64)     0           average_pooling2d_160[0][0]      \n",
      "__________________________________________________________________________________________________\n",
      "conv2d_322 (Conv2D)             (None, 8, 8, 128)    73856       dropout_160[0][0]                \n",
      "                                                                 dropout_160[0][0]                \n",
      "__________________________________________________________________________________________________\n",
      "batch_normalization_322 (BatchN (None, 8, 8, 128)    512         conv2d_322[0][0]                 \n",
      "__________________________________________________________________________________________________\n",
      "activation_322 (Activation)     (None, 8, 8, 128)    0           batch_normalization_322[0][0]    \n",
      "__________________________________________________________________________________________________\n",
      "conv2d_323 (Conv2D)             (None, 8, 8, 128)    147584      activation_322[0][0]             \n",
      "__________________________________________________________________________________________________\n",
      "batch_normalization_323 (BatchN (None, 8, 8, 128)    512         conv2d_323[0][0]                 \n",
      "__________________________________________________________________________________________________\n",
      "tf.__operators__.add_104 (TFOpL (None, 8, 8, 128)    0           batch_normalization_323[0][0]    \n",
      "                                                                 conv2d_322[1][0]                 \n",
      "__________________________________________________________________________________________________\n",
      "activation_323 (Activation)     (None, 8, 8, 128)    0           tf.__operators__.add_104[0][0]   \n",
      "__________________________________________________________________________________________________\n",
      "average_pooling2d_161 (AverageP (None, 4, 4, 128)    0           activation_323[0][0]             \n",
      "__________________________________________________________________________________________________\n",
      "dropout_161 (Dropout)           (None, 4, 4, 128)    0           average_pooling2d_161[0][0]      \n",
      "__________________________________________________________________________________________________\n",
      "flatten_53 (Flatten)            (None, 2048)         0           dropout_161[0][0]                \n",
      "__________________________________________________________________________________________________\n",
      "dense_53 (Dense)                (None, 10)           20490       flatten_53[0][0]                 \n",
      "==================================================================================================\n",
      "Total params: 309,290\n",
      "Trainable params: 308,394\n",
      "Non-trainable params: 896\n",
      "__________________________________________________________________________________________________\n",
      "None\n"
     ]
    }
   ],
   "source": [
    "skip_augment_network2 = YourModelAug(   name='no_aug',\n",
    "                                        feature_maps=32,\n",
    "                                        num_classes=len(data_manager.classes),\n",
    "                                        num_blocks=3,\n",
    "                                        drop_rate= 0.0, \n",
    "                                        batch_norm=True, \n",
    "                                        use_skip = True,\n",
    "                                        optimizer='adam',\n",
    "                                        is_augmentation=False,\n",
    "                                        learning_rate= 0.001)\n",
    "\n",
    "\n",
    "skip_augment_network2.build_cnn()\n",
    "skip_augment_network2.summary()\n",
    "\n",
    "\n",
    "\n"
   ]
  },
  {
   "cell_type": "code",
   "execution_count": 96,
   "metadata": {},
   "outputs": [
    {
     "name": "stdout",
     "output_type": "stream",
     "text": [
      "Epoch 1/20\n",
      "125/125 [==============================] - 6s 40ms/step - loss: 1.8920 - accuracy: 0.3395 - val_loss: 2.6209 - val_accuracy: 0.1620\n",
      "Epoch 2/20\n",
      "125/125 [==============================] - 5s 36ms/step - loss: 1.5543 - accuracy: 0.4570 - val_loss: 2.2799 - val_accuracy: 0.2460\n",
      "Epoch 3/20\n",
      "125/125 [==============================] - 5s 39ms/step - loss: 1.4164 - accuracy: 0.5065 - val_loss: 1.7564 - val_accuracy: 0.4020\n",
      "Epoch 4/20\n",
      "125/125 [==============================] - 4s 35ms/step - loss: 1.2583 - accuracy: 0.5650 - val_loss: 1.4357 - val_accuracy: 0.5160\n",
      "Epoch 5/20\n",
      "125/125 [==============================] - 4s 36ms/step - loss: 1.1905 - accuracy: 0.5890 - val_loss: 1.2847 - val_accuracy: 0.5420\n",
      "Epoch 6/20\n",
      "125/125 [==============================] - 5s 40ms/step - loss: 1.1033 - accuracy: 0.6170 - val_loss: 1.5389 - val_accuracy: 0.5140\n",
      "Epoch 7/20\n",
      "125/125 [==============================] - 4s 35ms/step - loss: 1.0203 - accuracy: 0.6525 - val_loss: 1.2560 - val_accuracy: 0.5880\n",
      "Epoch 8/20\n",
      "125/125 [==============================] - 4s 35ms/step - loss: 0.9650 - accuracy: 0.6722 - val_loss: 1.1813 - val_accuracy: 0.6040\n",
      "Epoch 9/20\n",
      "125/125 [==============================] - 5s 38ms/step - loss: 0.9091 - accuracy: 0.6908 - val_loss: 1.1890 - val_accuracy: 0.6020\n",
      "Epoch 10/20\n",
      "125/125 [==============================] - 5s 37ms/step - loss: 0.8448 - accuracy: 0.7110 - val_loss: 1.4058 - val_accuracy: 0.5860\n",
      "Epoch 11/20\n",
      "125/125 [==============================] - 4s 35ms/step - loss: 0.7872 - accuracy: 0.7315 - val_loss: 1.3435 - val_accuracy: 0.5820\n",
      "INFO:tensorflow:Assets written to: q3models/3.6/no_aug\\assets\n"
     ]
    }
   ],
   "source": [
    "skip_augment_network2.fit(data_manager, batch_size=32, num_epochs=20)\n",
    "skip_augment_network2.model.save(\"q3models/3.6/no_aug\",save_format=\"tf\")\n"
   ]
  },
  {
   "cell_type": "markdown",
   "metadata": {},
   "source": [
    "<span style=\"color:red\">**Question 3.7**</span> **Exploring Data Mixup Technique for Improving Generalization Ability.**\n",
    "   \n",
    "<div style=\"text-align: right\"> <span style=\"color:red\">[4 points]</span> </div>\n",
    "\n",
    "Data mixup is another super-simple technique used to boost the generalization ability of deep learning models. You need to incoroporate data mixup technique to the above deep learning model and experiment its performance. There are some papers and documents for data mixup as follows:\n",
    "- Main paper for data mixup [link for main paper](https://openreview.net/pdf?id=r1Ddp1-Rb) and a good article [article link](https://www.inference.vc/mixup-data-dependent-data-augmentation/).\n",
    "\n",
    "You need to extend your model developed above, train a model using data mixup, and write your observations and comments about the result.\n",
    "\n",
    "### DATA MIX UP:\n",
    "$\n",
    "\\tilde{x} = \\lambda * x_1 + (1-\\lambda) * x_2 \\\\\n",
    "\\tilde{y} = \\lambda * 1_{y_1} (1-\\lambda) * 1_{y_2}\n",
    "$\n",
    "\n",
    "### References:\n",
    "\n",
    "https://keras.io/examples/vision/mixup/\n",
    "\n",
    "https://en.wikipedia.org/wiki/Beta_distribution\n",
    "\n"
   ]
  },
  {
   "cell_type": "markdown",
   "metadata": {},
   "source": [
    "#*Write your answer and observation here*\n",
    "\n",
    ".....\n"
   ]
  },
  {
   "cell_type": "markdown",
   "metadata": {},
   "source": [
    "### Load Model from previous ques"
   ]
  },
  {
   "cell_type": "code",
   "execution_count": 100,
   "metadata": {},
   "outputs": [],
   "source": [
    "# loaded_model = keras.models.load_model('q3models/')\n"
   ]
  },
  {
   "cell_type": "markdown",
   "metadata": {},
   "source": [
    "### Define hyperparameters\n"
   ]
  },
  {
   "cell_type": "code",
   "execution_count": 101,
   "metadata": {},
   "outputs": [],
   "source": [
    "AUTO = tf.data.AUTOTUNE\n",
    "BATCH_SIZE = 64\n",
    "INPUT_SIZES = (-1, 28, 28, 1)\n",
    "EPOCHS = 10"
   ]
  },
  {
   "cell_type": "code",
   "execution_count": 107,
   "metadata": {},
   "outputs": [
    {
     "name": "stdout",
     "output_type": "stream",
     "text": [
      "[6 6 2 ... 8 8 1]\n"
     ]
    }
   ],
   "source": [
    "print(data_manager.y_train) # these are categorical labels"
   ]
  },
  {
   "cell_type": "markdown",
   "metadata": {},
   "source": [
    "#### Convert the data into TensorFlow Dataset objects"
   ]
  },
  {
   "cell_type": "code",
   "execution_count": 108,
   "metadata": {},
   "outputs": [
    {
     "name": "stdout",
     "output_type": "stream",
     "text": [
      "train_ds_one: <BatchDataset shapes: ((None, 32, 32, 3), (None, 10)), types: (tf.float64, tf.float32)>\n"
     ]
    }
   ],
   "source": [
    "# val_samples = 2000\n",
    "# x_val, y_val = x_train[:val_samples], y_train[:val_samples]\n",
    "# new_x_train, new_y_train = x_train[val_samples:], y_train[val_samples:]\n",
    "\n",
    "\n",
    "# make y labels become one-hot-vectors\n",
    "hot_y_train = tf.one_hot(data_manager.y_train, len(data_manager.classes))\n",
    "hot_y_valid = tf.one_hot(data_manager.y_valid, len(data_manager.classes))\n",
    "hot_y_test = tf.one_hot(data_manager.y_test, len(data_manager.classes))\n",
    "\n",
    "# shuffle and declare batch size for each Dataset object\n",
    "# of type BatchDataset\n",
    "train_ds_one = (\n",
    "    tf.data.Dataset.from_tensor_slices((data_manager.X_train, hot_y_train))\n",
    "    .shuffle(BATCH_SIZE * 100)\n",
    "    .batch(BATCH_SIZE)\n",
    ")\n",
    "print(f\"train_ds_one: {train_ds_one}\")\n",
    "train_ds_two = (\n",
    "    tf.data.Dataset.from_tensor_slices((data_manager.X_train, hot_y_train))\n",
    "    .shuffle(BATCH_SIZE * 100)\n",
    "    .batch(BATCH_SIZE)\n",
    ")\n",
    "\n",
    "# Because we will be mixing up the images and their corresponding labels, we will be\n",
    "# combining two shuffled datasets from the same training data.\n",
    "\n",
    "# TODO: mix second and first image together in terms of training and validation sets, as well as test sets?\n",
    "train_ds = tf.data.Dataset.zip((train_ds_one, train_ds_two))\n",
    "\n",
    "val_ds = tf.data.Dataset.from_tensor_slices((data_manager.X_valid, hot_y_valid)).batch(BATCH_SIZE)\n",
    "\n",
    "test_ds = tf.data.Dataset.from_tensor_slices((data_manager.X_test, hot_y_test)).batch(BATCH_SIZE)\n",
    "\n"
   ]
  },
  {
   "cell_type": "code",
   "execution_count": 109,
   "metadata": {},
   "outputs": [],
   "source": [
    "def sample_beta_distribution(size, concentration_0=0.2, concentration_1=0.2):\n",
    "    # https://en.wikipedia.org/wiki/Beta_distribution\n",
    "    gamma_1_sample = tf.random.gamma(shape=[size], alpha=concentration_1)\n",
    "    gamma_2_sample = tf.random.gamma(shape=[size], alpha=concentration_0)\n",
    "    return gamma_1_sample / (gamma_1_sample + gamma_2_sample)\n",
    "\n",
    "\n",
    "def mix_up(ds_one, ds_two, alpha=0.2):\n",
    "    # Unpack two datasets\n",
    "    images_one, labels_one = ds_one\n",
    "    images_two, labels_two = ds_two\n",
    "    batch_size = tf.shape(images_one)[0]\n",
    "\n",
    "    # Sample lambda and reshape it to do the mixup\n",
    "    l = sample_beta_distribution(batch_size, alpha, alpha)\n",
    "    x_l = tf.reshape(l, (batch_size, 1, 1, 1))\n",
    "    y_l = tf.reshape(l, (batch_size, 1))\n",
    "\n",
    "    # doing the actual arithmetic for mix up on both images and labels by combining a pair of images/labels\n",
    "    # (one from each dataset) into one image/label\n",
    "    images = images_one * x_l + images_two * (1 - x_l)\n",
    "    labels = labels_one * y_l + labels_two * (1 - y_l)\n",
    "    return (images, labels)\n",
    "\n"
   ]
  },
  {
   "cell_type": "markdown",
   "metadata": {},
   "source": [
    "### Training the model with mixed up dataset"
   ]
  },
  {
   "cell_type": "code",
   "execution_count": 110,
   "metadata": {},
   "outputs": [
    {
     "ename": "TypeError",
     "evalue": "in user code:\n\n    C:\\Users\\PC\\AppData\\Local\\Temp\\ipykernel_10320\\3891731022.py:6 None  *\n        lambda ds_one, ds_two: mix_up(ds_one, ds_two, alpha=0.2)\n    C:\\Users\\PC\\AppData\\Local\\Temp\\ipykernel_10320\\3508876549.py:21 mix_up  *\n        images = images_one * x_l + images_two * (1 - x_l)\n    c:\\Users\\PC\\anaconda3\\envs\\tf2_cpu\\lib\\site-packages\\tensorflow\\python\\ops\\math_ops.py:1383 binary_op_wrapper\n        raise e\n    c:\\Users\\PC\\anaconda3\\envs\\tf2_cpu\\lib\\site-packages\\tensorflow\\python\\ops\\math_ops.py:1367 binary_op_wrapper\n        return func(x, y, name=name)\n    c:\\Users\\PC\\anaconda3\\envs\\tf2_cpu\\lib\\site-packages\\tensorflow\\python\\ops\\math_ops.py:1710 _mul_dispatch\n        return multiply(x, y, name=name)\n    c:\\Users\\PC\\anaconda3\\envs\\tf2_cpu\\lib\\site-packages\\tensorflow\\python\\util\\dispatch.py:206 wrapper\n        return target(*args, **kwargs)\n    c:\\Users\\PC\\anaconda3\\envs\\tf2_cpu\\lib\\site-packages\\tensorflow\\python\\ops\\math_ops.py:530 multiply\n        return gen_math_ops.mul(x, y, name)\n    c:\\Users\\PC\\anaconda3\\envs\\tf2_cpu\\lib\\site-packages\\tensorflow\\python\\ops\\gen_math_ops.py:6244 mul\n        _, _, _op, _outputs = _op_def_library._apply_op_helper(\n    c:\\Users\\PC\\anaconda3\\envs\\tf2_cpu\\lib\\site-packages\\tensorflow\\python\\framework\\op_def_library.py:555 _apply_op_helper\n        raise TypeError(\n\n    TypeError: Input 'y' of 'Mul' Op has type float32 that does not match type float64 of argument 'x'.\n",
     "output_type": "error",
     "traceback": [
      "\u001b[1;31m---------------------------------------------------------------------------\u001b[0m",
      "\u001b[1;31mTypeError\u001b[0m                                 Traceback (most recent call last)",
      "\u001b[1;32md:\\monash stuff\\education stuff\\3rd yr\\FIT3181 Deep Learning\\assignment\\FIT3181_Assignment_1\\FIT3181_Assignment1-2022.ipynb Cell 162\u001b[0m in \u001b[0;36m<cell line: 5>\u001b[1;34m()\u001b[0m\n\u001b[0;32m      <a href='vscode-notebook-cell:/d%3A/monash%20stuff/education%20stuff/3rd%20yr/FIT3181%20Deep%20Learning/assignment/FIT3181_Assignment_1/FIT3181_Assignment1-2022.ipynb#Y312sZmlsZQ%3D%3D?line=0'>1</a>\u001b[0m \u001b[39m#Insert your code here. You can add more cells if necessary\u001b[39;00m\n\u001b[0;32m      <a href='vscode-notebook-cell:/d%3A/monash%20stuff/education%20stuff/3rd%20yr/FIT3181%20Deep%20Learning/assignment/FIT3181_Assignment_1/FIT3181_Assignment1-2022.ipynb#Y312sZmlsZQ%3D%3D?line=1'>2</a>\u001b[0m \n\u001b[0;32m      <a href='vscode-notebook-cell:/d%3A/monash%20stuff/education%20stuff/3rd%20yr/FIT3181%20Deep%20Learning/assignment/FIT3181_Assignment_1/FIT3181_Assignment1-2022.ipynb#Y312sZmlsZQ%3D%3D?line=2'>3</a>\u001b[0m \n\u001b[0;32m      <a href='vscode-notebook-cell:/d%3A/monash%20stuff/education%20stuff/3rd%20yr/FIT3181%20Deep%20Learning/assignment/FIT3181_Assignment_1/FIT3181_Assignment1-2022.ipynb#Y312sZmlsZQ%3D%3D?line=3'>4</a>\u001b[0m \u001b[39m# First create the new dataset using our `mix_up` utility\u001b[39;00m\n\u001b[1;32m----> <a href='vscode-notebook-cell:/d%3A/monash%20stuff/education%20stuff/3rd%20yr/FIT3181%20Deep%20Learning/assignment/FIT3181_Assignment_1/FIT3181_Assignment1-2022.ipynb#Y312sZmlsZQ%3D%3D?line=4'>5</a>\u001b[0m train_ds_mu \u001b[39m=\u001b[39m train_ds\u001b[39m.\u001b[39;49mmap(\n\u001b[0;32m      <a href='vscode-notebook-cell:/d%3A/monash%20stuff/education%20stuff/3rd%20yr/FIT3181%20Deep%20Learning/assignment/FIT3181_Assignment_1/FIT3181_Assignment1-2022.ipynb#Y312sZmlsZQ%3D%3D?line=5'>6</a>\u001b[0m     \u001b[39mlambda\u001b[39;49;00m ds_one, ds_two: mix_up(ds_one, ds_two, alpha\u001b[39m=\u001b[39;49m\u001b[39m0.2\u001b[39;49m), num_parallel_calls\u001b[39m=\u001b[39;49mAUTO\n\u001b[0;32m      <a href='vscode-notebook-cell:/d%3A/monash%20stuff/education%20stuff/3rd%20yr/FIT3181%20Deep%20Learning/assignment/FIT3181_Assignment_1/FIT3181_Assignment1-2022.ipynb#Y312sZmlsZQ%3D%3D?line=6'>7</a>\u001b[0m )\n\u001b[0;32m      <a href='vscode-notebook-cell:/d%3A/monash%20stuff/education%20stuff/3rd%20yr/FIT3181%20Deep%20Learning/assignment/FIT3181_Assignment_1/FIT3181_Assignment1-2022.ipynb#Y312sZmlsZQ%3D%3D?line=8'>9</a>\u001b[0m \u001b[39m# model = keras.models.load_model('q3models/3.6') # load model from 3.6\u001b[39;00m\n\u001b[0;32m     <a href='vscode-notebook-cell:/d%3A/monash%20stuff/education%20stuff/3rd%20yr/FIT3181%20Deep%20Learning/assignment/FIT3181_Assignment_1/FIT3181_Assignment1-2022.ipynb#Y312sZmlsZQ%3D%3D?line=9'>10</a>\u001b[0m \u001b[39m# yourModel = YourModel()\u001b[39;00m\n\u001b[0;32m     <a href='vscode-notebook-cell:/d%3A/monash%20stuff/education%20stuff/3rd%20yr/FIT3181%20Deep%20Learning/assignment/FIT3181_Assignment_1/FIT3181_Assignment1-2022.ipynb#Y312sZmlsZQ%3D%3D?line=11'>12</a>\u001b[0m skip_aug_mixup \u001b[39m=\u001b[39m YourModelAug(  name\u001b[39m=\u001b[39m\u001b[39m'\u001b[39m\u001b[39mskip_aug_mixup\u001b[39m\u001b[39m'\u001b[39m,\n\u001b[0;32m     <a href='vscode-notebook-cell:/d%3A/monash%20stuff/education%20stuff/3rd%20yr/FIT3181%20Deep%20Learning/assignment/FIT3181_Assignment_1/FIT3181_Assignment1-2022.ipynb#Y312sZmlsZQ%3D%3D?line=12'>13</a>\u001b[0m                                 feature_maps\u001b[39m=\u001b[39m\u001b[39m32\u001b[39m,\n\u001b[0;32m     <a href='vscode-notebook-cell:/d%3A/monash%20stuff/education%20stuff/3rd%20yr/FIT3181%20Deep%20Learning/assignment/FIT3181_Assignment_1/FIT3181_Assignment1-2022.ipynb#Y312sZmlsZQ%3D%3D?line=13'>14</a>\u001b[0m                                 num_classes\u001b[39m=\u001b[39m\u001b[39mlen\u001b[39m(data_manager\u001b[39m.\u001b[39mclasses),\n\u001b[1;32m   (...)\u001b[0m\n\u001b[0;32m     <a href='vscode-notebook-cell:/d%3A/monash%20stuff/education%20stuff/3rd%20yr/FIT3181%20Deep%20Learning/assignment/FIT3181_Assignment_1/FIT3181_Assignment1-2022.ipynb#Y312sZmlsZQ%3D%3D?line=19'>20</a>\u001b[0m                                 is_augmentation\u001b[39m=\u001b[39m\u001b[39mTrue\u001b[39;00m,\n\u001b[0;32m     <a href='vscode-notebook-cell:/d%3A/monash%20stuff/education%20stuff/3rd%20yr/FIT3181%20Deep%20Learning/assignment/FIT3181_Assignment_1/FIT3181_Assignment1-2022.ipynb#Y312sZmlsZQ%3D%3D?line=20'>21</a>\u001b[0m                                 learning_rate\u001b[39m=\u001b[39m \u001b[39m0.001\u001b[39m)\n",
      "File \u001b[1;32mc:\\Users\\PC\\anaconda3\\envs\\tf2_cpu\\lib\\site-packages\\tensorflow\\python\\data\\ops\\dataset_ops.py:1863\u001b[0m, in \u001b[0;36mDatasetV2.map\u001b[1;34m(self, map_func, num_parallel_calls, deterministic)\u001b[0m\n\u001b[0;32m   1861\u001b[0m   \u001b[39mreturn\u001b[39;00m MapDataset(\u001b[39mself\u001b[39m, map_func, preserve_cardinality\u001b[39m=\u001b[39m\u001b[39mTrue\u001b[39;00m)\n\u001b[0;32m   1862\u001b[0m \u001b[39melse\u001b[39;00m:\n\u001b[1;32m-> 1863\u001b[0m   \u001b[39mreturn\u001b[39;00m ParallelMapDataset(\n\u001b[0;32m   1864\u001b[0m       \u001b[39mself\u001b[39;49m,\n\u001b[0;32m   1865\u001b[0m       map_func,\n\u001b[0;32m   1866\u001b[0m       num_parallel_calls,\n\u001b[0;32m   1867\u001b[0m       deterministic,\n\u001b[0;32m   1868\u001b[0m       preserve_cardinality\u001b[39m=\u001b[39;49m\u001b[39mTrue\u001b[39;49;00m)\n",
      "File \u001b[1;32mc:\\Users\\PC\\anaconda3\\envs\\tf2_cpu\\lib\\site-packages\\tensorflow\\python\\data\\ops\\dataset_ops.py:5020\u001b[0m, in \u001b[0;36mParallelMapDataset.__init__\u001b[1;34m(self, input_dataset, map_func, num_parallel_calls, deterministic, use_inter_op_parallelism, preserve_cardinality, use_legacy_function)\u001b[0m\n\u001b[0;32m   5018\u001b[0m \u001b[39mself\u001b[39m\u001b[39m.\u001b[39m_input_dataset \u001b[39m=\u001b[39m input_dataset\n\u001b[0;32m   5019\u001b[0m \u001b[39mself\u001b[39m\u001b[39m.\u001b[39m_use_inter_op_parallelism \u001b[39m=\u001b[39m use_inter_op_parallelism\n\u001b[1;32m-> 5020\u001b[0m \u001b[39mself\u001b[39m\u001b[39m.\u001b[39m_map_func \u001b[39m=\u001b[39m StructuredFunctionWrapper(\n\u001b[0;32m   5021\u001b[0m     map_func,\n\u001b[0;32m   5022\u001b[0m     \u001b[39mself\u001b[39;49m\u001b[39m.\u001b[39;49m_transformation_name(),\n\u001b[0;32m   5023\u001b[0m     dataset\u001b[39m=\u001b[39;49minput_dataset,\n\u001b[0;32m   5024\u001b[0m     use_legacy_function\u001b[39m=\u001b[39;49muse_legacy_function)\n\u001b[0;32m   5025\u001b[0m \u001b[39mif\u001b[39;00m deterministic \u001b[39mis\u001b[39;00m \u001b[39mNone\u001b[39;00m:\n\u001b[0;32m   5026\u001b[0m   \u001b[39mself\u001b[39m\u001b[39m.\u001b[39m_deterministic \u001b[39m=\u001b[39m \u001b[39m\"\u001b[39m\u001b[39mdefault\u001b[39m\u001b[39m\"\u001b[39m\n",
      "File \u001b[1;32mc:\\Users\\PC\\anaconda3\\envs\\tf2_cpu\\lib\\site-packages\\tensorflow\\python\\data\\ops\\dataset_ops.py:4218\u001b[0m, in \u001b[0;36mStructuredFunctionWrapper.__init__\u001b[1;34m(self, func, transformation_name, dataset, input_classes, input_shapes, input_types, input_structure, add_to_graph, use_legacy_function, defun_kwargs)\u001b[0m\n\u001b[0;32m   4211\u001b[0m       warnings\u001b[39m.\u001b[39mwarn(\n\u001b[0;32m   4212\u001b[0m           \u001b[39m\"\u001b[39m\u001b[39mEven though the `tf.config.experimental_run_functions_eagerly` \u001b[39m\u001b[39m\"\u001b[39m\n\u001b[0;32m   4213\u001b[0m           \u001b[39m\"\u001b[39m\u001b[39moption is set, this option does not apply to tf.data functions. \u001b[39m\u001b[39m\"\u001b[39m\n\u001b[0;32m   4214\u001b[0m           \u001b[39m\"\u001b[39m\u001b[39mTo force eager execution of tf.data functions, please use \u001b[39m\u001b[39m\"\u001b[39m\n\u001b[0;32m   4215\u001b[0m           \u001b[39m\"\u001b[39m\u001b[39m`tf.data.experimental.enable_debug_mode()`.\u001b[39m\u001b[39m\"\u001b[39m)\n\u001b[0;32m   4216\u001b[0m     fn_factory \u001b[39m=\u001b[39m trace_tf_function(defun_kwargs)\n\u001b[1;32m-> 4218\u001b[0m \u001b[39mself\u001b[39m\u001b[39m.\u001b[39m_function \u001b[39m=\u001b[39m fn_factory()\n\u001b[0;32m   4219\u001b[0m \u001b[39m# There is no graph to add in eager mode.\u001b[39;00m\n\u001b[0;32m   4220\u001b[0m add_to_graph \u001b[39m&\u001b[39m\u001b[39m=\u001b[39m \u001b[39mnot\u001b[39;00m context\u001b[39m.\u001b[39mexecuting_eagerly()\n",
      "File \u001b[1;32mc:\\Users\\PC\\anaconda3\\envs\\tf2_cpu\\lib\\site-packages\\tensorflow\\python\\eager\\function.py:3150\u001b[0m, in \u001b[0;36mFunction.get_concrete_function\u001b[1;34m(self, *args, **kwargs)\u001b[0m\n\u001b[0;32m   3141\u001b[0m \u001b[39mdef\u001b[39;00m \u001b[39mget_concrete_function\u001b[39m(\u001b[39mself\u001b[39m, \u001b[39m*\u001b[39margs, \u001b[39m*\u001b[39m\u001b[39m*\u001b[39mkwargs):\n\u001b[0;32m   3142\u001b[0m   \u001b[39m\"\"\"Returns a `ConcreteFunction` specialized to inputs and execution context.\u001b[39;00m\n\u001b[0;32m   3143\u001b[0m \n\u001b[0;32m   3144\u001b[0m \u001b[39m  Args:\u001b[39;00m\n\u001b[1;32m   (...)\u001b[0m\n\u001b[0;32m   3148\u001b[0m \u001b[39m       or `tf.Tensor` or `tf.TensorSpec`.\u001b[39;00m\n\u001b[0;32m   3149\u001b[0m \u001b[39m  \"\"\"\u001b[39;00m\n\u001b[1;32m-> 3150\u001b[0m   graph_function \u001b[39m=\u001b[39m \u001b[39mself\u001b[39m\u001b[39m.\u001b[39m_get_concrete_function_garbage_collected(\n\u001b[0;32m   3151\u001b[0m       \u001b[39m*\u001b[39margs, \u001b[39m*\u001b[39m\u001b[39m*\u001b[39mkwargs)\n\u001b[0;32m   3152\u001b[0m   graph_function\u001b[39m.\u001b[39m_garbage_collector\u001b[39m.\u001b[39mrelease()  \u001b[39m# pylint: disable=protected-access\u001b[39;00m\n\u001b[0;32m   3153\u001b[0m   \u001b[39mreturn\u001b[39;00m graph_function\n",
      "File \u001b[1;32mc:\\Users\\PC\\anaconda3\\envs\\tf2_cpu\\lib\\site-packages\\tensorflow\\python\\eager\\function.py:3116\u001b[0m, in \u001b[0;36mFunction._get_concrete_function_garbage_collected\u001b[1;34m(self, *args, **kwargs)\u001b[0m\n\u001b[0;32m   3114\u001b[0m   args, kwargs \u001b[39m=\u001b[39m \u001b[39mNone\u001b[39;00m, \u001b[39mNone\u001b[39;00m\n\u001b[0;32m   3115\u001b[0m \u001b[39mwith\u001b[39;00m \u001b[39mself\u001b[39m\u001b[39m.\u001b[39m_lock:\n\u001b[1;32m-> 3116\u001b[0m   graph_function, _ \u001b[39m=\u001b[39m \u001b[39mself\u001b[39;49m\u001b[39m.\u001b[39;49m_maybe_define_function(args, kwargs)\n\u001b[0;32m   3117\u001b[0m   seen_names \u001b[39m=\u001b[39m \u001b[39mset\u001b[39m()\n\u001b[0;32m   3118\u001b[0m   captured \u001b[39m=\u001b[39m object_identity\u001b[39m.\u001b[39mObjectIdentitySet(\n\u001b[0;32m   3119\u001b[0m       graph_function\u001b[39m.\u001b[39mgraph\u001b[39m.\u001b[39minternal_captures)\n",
      "File \u001b[1;32mc:\\Users\\PC\\anaconda3\\envs\\tf2_cpu\\lib\\site-packages\\tensorflow\\python\\eager\\function.py:3463\u001b[0m, in \u001b[0;36mFunction._maybe_define_function\u001b[1;34m(self, args, kwargs)\u001b[0m\n\u001b[0;32m   3459\u001b[0m   \u001b[39mreturn\u001b[39;00m \u001b[39mself\u001b[39m\u001b[39m.\u001b[39m_define_function_with_shape_relaxation(\n\u001b[0;32m   3460\u001b[0m       args, kwargs, flat_args, filtered_flat_args, cache_key_context)\n\u001b[0;32m   3462\u001b[0m \u001b[39mself\u001b[39m\u001b[39m.\u001b[39m_function_cache\u001b[39m.\u001b[39mmissed\u001b[39m.\u001b[39madd(call_context_key)\n\u001b[1;32m-> 3463\u001b[0m graph_function \u001b[39m=\u001b[39m \u001b[39mself\u001b[39;49m\u001b[39m.\u001b[39;49m_create_graph_function(args, kwargs)\n\u001b[0;32m   3464\u001b[0m \u001b[39mself\u001b[39m\u001b[39m.\u001b[39m_function_cache\u001b[39m.\u001b[39mprimary[cache_key] \u001b[39m=\u001b[39m graph_function\n\u001b[0;32m   3466\u001b[0m \u001b[39mreturn\u001b[39;00m graph_function, filtered_flat_args\n",
      "File \u001b[1;32mc:\\Users\\PC\\anaconda3\\envs\\tf2_cpu\\lib\\site-packages\\tensorflow\\python\\eager\\function.py:3298\u001b[0m, in \u001b[0;36mFunction._create_graph_function\u001b[1;34m(self, args, kwargs, override_flat_arg_shapes)\u001b[0m\n\u001b[0;32m   3293\u001b[0m missing_arg_names \u001b[39m=\u001b[39m [\n\u001b[0;32m   3294\u001b[0m     \u001b[39m\"\u001b[39m\u001b[39m%s\u001b[39;00m\u001b[39m_\u001b[39m\u001b[39m%d\u001b[39;00m\u001b[39m\"\u001b[39m \u001b[39m%\u001b[39m (arg, i) \u001b[39mfor\u001b[39;00m i, arg \u001b[39min\u001b[39;00m \u001b[39menumerate\u001b[39m(missing_arg_names)\n\u001b[0;32m   3295\u001b[0m ]\n\u001b[0;32m   3296\u001b[0m arg_names \u001b[39m=\u001b[39m base_arg_names \u001b[39m+\u001b[39m missing_arg_names\n\u001b[0;32m   3297\u001b[0m graph_function \u001b[39m=\u001b[39m ConcreteFunction(\n\u001b[1;32m-> 3298\u001b[0m     func_graph_module\u001b[39m.\u001b[39;49mfunc_graph_from_py_func(\n\u001b[0;32m   3299\u001b[0m         \u001b[39mself\u001b[39;49m\u001b[39m.\u001b[39;49m_name,\n\u001b[0;32m   3300\u001b[0m         \u001b[39mself\u001b[39;49m\u001b[39m.\u001b[39;49m_python_function,\n\u001b[0;32m   3301\u001b[0m         args,\n\u001b[0;32m   3302\u001b[0m         kwargs,\n\u001b[0;32m   3303\u001b[0m         \u001b[39mself\u001b[39;49m\u001b[39m.\u001b[39;49minput_signature,\n\u001b[0;32m   3304\u001b[0m         autograph\u001b[39m=\u001b[39;49m\u001b[39mself\u001b[39;49m\u001b[39m.\u001b[39;49m_autograph,\n\u001b[0;32m   3305\u001b[0m         autograph_options\u001b[39m=\u001b[39;49m\u001b[39mself\u001b[39;49m\u001b[39m.\u001b[39;49m_autograph_options,\n\u001b[0;32m   3306\u001b[0m         arg_names\u001b[39m=\u001b[39;49marg_names,\n\u001b[0;32m   3307\u001b[0m         override_flat_arg_shapes\u001b[39m=\u001b[39;49moverride_flat_arg_shapes,\n\u001b[0;32m   3308\u001b[0m         capture_by_value\u001b[39m=\u001b[39;49m\u001b[39mself\u001b[39;49m\u001b[39m.\u001b[39;49m_capture_by_value),\n\u001b[0;32m   3309\u001b[0m     \u001b[39mself\u001b[39m\u001b[39m.\u001b[39m_function_attributes,\n\u001b[0;32m   3310\u001b[0m     function_spec\u001b[39m=\u001b[39m\u001b[39mself\u001b[39m\u001b[39m.\u001b[39mfunction_spec,\n\u001b[0;32m   3311\u001b[0m     \u001b[39m# Tell the ConcreteFunction to clean up its graph once it goes out of\u001b[39;00m\n\u001b[0;32m   3312\u001b[0m     \u001b[39m# scope. This is not the default behavior since it gets used in some\u001b[39;00m\n\u001b[0;32m   3313\u001b[0m     \u001b[39m# places (like Keras) where the FuncGraph lives longer than the\u001b[39;00m\n\u001b[0;32m   3314\u001b[0m     \u001b[39m# ConcreteFunction.\u001b[39;00m\n\u001b[0;32m   3315\u001b[0m     shared_func_graph\u001b[39m=\u001b[39m\u001b[39mFalse\u001b[39;00m)\n\u001b[0;32m   3316\u001b[0m \u001b[39mreturn\u001b[39;00m graph_function\n",
      "File \u001b[1;32mc:\\Users\\PC\\anaconda3\\envs\\tf2_cpu\\lib\\site-packages\\tensorflow\\python\\framework\\func_graph.py:1007\u001b[0m, in \u001b[0;36mfunc_graph_from_py_func\u001b[1;34m(name, python_func, args, kwargs, signature, func_graph, autograph, autograph_options, add_control_dependencies, arg_names, op_return_value, collections, capture_by_value, override_flat_arg_shapes, acd_record_initial_resource_uses)\u001b[0m\n\u001b[0;32m   1004\u001b[0m \u001b[39melse\u001b[39;00m:\n\u001b[0;32m   1005\u001b[0m   _, original_func \u001b[39m=\u001b[39m tf_decorator\u001b[39m.\u001b[39munwrap(python_func)\n\u001b[1;32m-> 1007\u001b[0m func_outputs \u001b[39m=\u001b[39m python_func(\u001b[39m*\u001b[39mfunc_args, \u001b[39m*\u001b[39m\u001b[39m*\u001b[39mfunc_kwargs)\n\u001b[0;32m   1009\u001b[0m \u001b[39m# invariant: `func_outputs` contains only Tensors, CompositeTensors,\u001b[39;00m\n\u001b[0;32m   1010\u001b[0m \u001b[39m# TensorArrays and `None`s.\u001b[39;00m\n\u001b[0;32m   1011\u001b[0m func_outputs \u001b[39m=\u001b[39m nest\u001b[39m.\u001b[39mmap_structure(convert, func_outputs,\n\u001b[0;32m   1012\u001b[0m                                   expand_composites\u001b[39m=\u001b[39m\u001b[39mTrue\u001b[39;00m)\n",
      "File \u001b[1;32mc:\\Users\\PC\\anaconda3\\envs\\tf2_cpu\\lib\\site-packages\\tensorflow\\python\\data\\ops\\dataset_ops.py:4195\u001b[0m, in \u001b[0;36mStructuredFunctionWrapper.__init__.<locals>.trace_tf_function.<locals>.wrapped_fn\u001b[1;34m(*args)\u001b[0m\n\u001b[0;32m   4189\u001b[0m \u001b[39m@eager_function\u001b[39m\u001b[39m.\u001b[39mdefun_with_attributes(\n\u001b[0;32m   4190\u001b[0m     input_signature\u001b[39m=\u001b[39mstructure\u001b[39m.\u001b[39mget_flat_tensor_specs(\n\u001b[0;32m   4191\u001b[0m         \u001b[39mself\u001b[39m\u001b[39m.\u001b[39m_input_structure),\n\u001b[0;32m   4192\u001b[0m     autograph\u001b[39m=\u001b[39m\u001b[39mFalse\u001b[39;00m,\n\u001b[0;32m   4193\u001b[0m     attributes\u001b[39m=\u001b[39mdefun_kwargs)\n\u001b[0;32m   4194\u001b[0m \u001b[39mdef\u001b[39;00m \u001b[39mwrapped_fn\u001b[39m(\u001b[39m*\u001b[39margs):  \u001b[39m# pylint: disable=missing-docstring\u001b[39;00m\n\u001b[1;32m-> 4195\u001b[0m   ret \u001b[39m=\u001b[39m wrapper_helper(\u001b[39m*\u001b[39;49margs)\n\u001b[0;32m   4196\u001b[0m   ret \u001b[39m=\u001b[39m structure\u001b[39m.\u001b[39mto_tensor_list(\u001b[39mself\u001b[39m\u001b[39m.\u001b[39m_output_structure, ret)\n\u001b[0;32m   4197\u001b[0m   \u001b[39mreturn\u001b[39;00m [ops\u001b[39m.\u001b[39mconvert_to_tensor(t) \u001b[39mfor\u001b[39;00m t \u001b[39min\u001b[39;00m ret]\n",
      "File \u001b[1;32mc:\\Users\\PC\\anaconda3\\envs\\tf2_cpu\\lib\\site-packages\\tensorflow\\python\\data\\ops\\dataset_ops.py:4125\u001b[0m, in \u001b[0;36mStructuredFunctionWrapper.__init__.<locals>.wrapper_helper\u001b[1;34m(*args)\u001b[0m\n\u001b[0;32m   4123\u001b[0m \u001b[39mif\u001b[39;00m \u001b[39mnot\u001b[39;00m _should_unpack(nested_args):\n\u001b[0;32m   4124\u001b[0m   nested_args \u001b[39m=\u001b[39m (nested_args,)\n\u001b[1;32m-> 4125\u001b[0m ret \u001b[39m=\u001b[39m autograph\u001b[39m.\u001b[39;49mtf_convert(\u001b[39mself\u001b[39;49m\u001b[39m.\u001b[39;49m_func, ag_ctx)(\u001b[39m*\u001b[39;49mnested_args)\n\u001b[0;32m   4126\u001b[0m \u001b[39mif\u001b[39;00m _should_pack(ret):\n\u001b[0;32m   4127\u001b[0m   ret \u001b[39m=\u001b[39m \u001b[39mtuple\u001b[39m(ret)\n",
      "File \u001b[1;32mc:\\Users\\PC\\anaconda3\\envs\\tf2_cpu\\lib\\site-packages\\tensorflow\\python\\autograph\\impl\\api.py:695\u001b[0m, in \u001b[0;36mconvert.<locals>.decorator.<locals>.wrapper\u001b[1;34m(*args, **kwargs)\u001b[0m\n\u001b[0;32m    693\u001b[0m \u001b[39mexcept\u001b[39;00m \u001b[39mException\u001b[39;00m \u001b[39mas\u001b[39;00m e:  \u001b[39m# pylint:disable=broad-except\u001b[39;00m\n\u001b[0;32m    694\u001b[0m   \u001b[39mif\u001b[39;00m \u001b[39mhasattr\u001b[39m(e, \u001b[39m'\u001b[39m\u001b[39mag_error_metadata\u001b[39m\u001b[39m'\u001b[39m):\n\u001b[1;32m--> 695\u001b[0m     \u001b[39mraise\u001b[39;00m e\u001b[39m.\u001b[39mag_error_metadata\u001b[39m.\u001b[39mto_exception(e)\n\u001b[0;32m    696\u001b[0m   \u001b[39melse\u001b[39;00m:\n\u001b[0;32m    697\u001b[0m     \u001b[39mraise\u001b[39;00m\n",
      "\u001b[1;31mTypeError\u001b[0m: in user code:\n\n    C:\\Users\\PC\\AppData\\Local\\Temp\\ipykernel_10320\\3891731022.py:6 None  *\n        lambda ds_one, ds_two: mix_up(ds_one, ds_two, alpha=0.2)\n    C:\\Users\\PC\\AppData\\Local\\Temp\\ipykernel_10320\\3508876549.py:21 mix_up  *\n        images = images_one * x_l + images_two * (1 - x_l)\n    c:\\Users\\PC\\anaconda3\\envs\\tf2_cpu\\lib\\site-packages\\tensorflow\\python\\ops\\math_ops.py:1383 binary_op_wrapper\n        raise e\n    c:\\Users\\PC\\anaconda3\\envs\\tf2_cpu\\lib\\site-packages\\tensorflow\\python\\ops\\math_ops.py:1367 binary_op_wrapper\n        return func(x, y, name=name)\n    c:\\Users\\PC\\anaconda3\\envs\\tf2_cpu\\lib\\site-packages\\tensorflow\\python\\ops\\math_ops.py:1710 _mul_dispatch\n        return multiply(x, y, name=name)\n    c:\\Users\\PC\\anaconda3\\envs\\tf2_cpu\\lib\\site-packages\\tensorflow\\python\\util\\dispatch.py:206 wrapper\n        return target(*args, **kwargs)\n    c:\\Users\\PC\\anaconda3\\envs\\tf2_cpu\\lib\\site-packages\\tensorflow\\python\\ops\\math_ops.py:530 multiply\n        return gen_math_ops.mul(x, y, name)\n    c:\\Users\\PC\\anaconda3\\envs\\tf2_cpu\\lib\\site-packages\\tensorflow\\python\\ops\\gen_math_ops.py:6244 mul\n        _, _, _op, _outputs = _op_def_library._apply_op_helper(\n    c:\\Users\\PC\\anaconda3\\envs\\tf2_cpu\\lib\\site-packages\\tensorflow\\python\\framework\\op_def_library.py:555 _apply_op_helper\n        raise TypeError(\n\n    TypeError: Input 'y' of 'Mul' Op has type float32 that does not match type float64 of argument 'x'.\n"
     ]
    }
   ],
   "source": [
    "#Insert your code here. You can add more cells if necessary\n",
    "\n",
    "\n",
    "# First create the new dataset using our `mix_up` utility\n",
    "train_ds_mu = train_ds.map(\n",
    "    lambda ds_one, ds_two: mix_up(ds_one, ds_two, alpha=0.2), num_parallel_calls=AUTO\n",
    ")\n",
    "\n",
    "# model = keras.models.load_model('q3models/3.6') # load model from 3.6\n",
    "# yourModel = YourModel()\n",
    "\n",
    "skip_aug_mixup = YourModelAug(  name='skip_aug_mixup',\n",
    "                                feature_maps=32,\n",
    "                                num_classes=len(data_manager.classes),\n",
    "                                num_blocks=3,\n",
    "                                drop_rate= 0.0, \n",
    "                                batch_norm=True, \n",
    "                                use_skip = True,\n",
    "                                optimizer='adam',\n",
    "                                is_augmentation=True,\n",
    "                                learning_rate= 0.001)\n",
    "\n",
    "skip_aug_mixup.build_cnn()\n",
    "skip_aug_mixup.summary()\n"
   ]
  },
  {
   "cell_type": "code",
   "execution_count": null,
   "metadata": {},
   "outputs": [],
   "source": [
    "skip_aug_mixup.fit(train_ds_mu, validation_data=val_ds, epochs=EPOCHS) \n"
   ]
  },
  {
   "cell_type": "markdown",
   "metadata": {},
   "source": [
    "\n",
    "### Evaluate against test set\n"
   ]
  },
  {
   "cell_type": "code",
   "execution_count": null,
   "metadata": {},
   "outputs": [],
   "source": [
    "\n",
    "# TODO: evaluate against test set# evaluation\n",
    "_, test_acc = yourModel.model.evaluate(test_ds) # \n",
    "print(\"Test accuracy: {:.2f}%\".format(test_acc * 100))\n"
   ]
  },
  {
   "cell_type": "markdown",
   "metadata": {},
   "source": [
    "<span style=\"color:red\">**Question 3.8**</span> **Attack your best obtained model with PGD, MIM, and FGSM attacks with $\\epsilon= 0.0313, k=20, \\eta= 0.002$ on the testing set. Write the code for the attacks and report the robust accuracies. Also choose a random set of 20 clean images in the testing set and visualize the original and attacked images.**\n",
    "   \n",
    "<div style=\"text-align: right\"> <span style=\"color:red\">[5 points]</span> </div>"
   ]
  },
  {
   "cell_type": "code",
   "execution_count": null,
   "metadata": {},
   "outputs": [],
   "source": [
    "#Insert your code here. You can add more cells if necessary\n",
    "\n",
    "# CONSTANTS\n",
    "EPSILON = 0.0313\n",
    "K = 20\n",
    "ETA = 0.002\n",
    "loss_fn = tf.keras.losses.sparse_categorical_crossentropy # compute CE loss from logits or prediction probabilities\n",
    "\n",
    "\"\"\"\n",
    "----------------\n",
    "ADVERSARIAL SAMPLE GENERATING FUNCTIONS\n",
    "\n",
    "returns adv_image as output\n",
    "----------------\n",
    "\"\"\"\n",
    "\n",
    "# TODO: FGSM\n",
    "def fgsm_attack(model, input_image, input_label=None, \n",
    "               epsilon=0.3, \n",
    "               clip_value_min=0., \n",
    "               clip_value_max=1.0, \n",
    "               soft_label=False,\n",
    "               from_logits=True): \n",
    "    \"\"\"\n",
    "    Args: \n",
    "        model: pretrained model \n",
    "        input_image: original (clean) input image (tensor)\n",
    "        input_label: original label (tensor, categorical representation)\n",
    "        epsilon: perturbation boundary \n",
    "        clip_value_min, clip_value_max: range of valid input \n",
    "        from_logits = True: attack from logits otherwise attack from prediction probabilites\n",
    "    Note: \n",
    "        we expect the output of model should be logits vector \n",
    "    \"\"\"\n",
    "        \n",
    "    # converts numpy to tensor\n",
    "    if type(input_image) is np.ndarray: \n",
    "        input_image = tf.convert_to_tensor(input_image)\n",
    "    \n",
    "    # converts numpy to tensor\n",
    "    if type(input_label) is np.ndarray: \n",
    "        input_label = tf.convert_to_tensor(input_label)\n",
    "        \n",
    "    with tf.GradientTape() as tape: \n",
    "        # watches the \n",
    "        tape.watch(input_image)\n",
    "        output = model(input_image)\n",
    "        # TODO: ask if we want targetted attack or not?\n",
    "        if not soft_label:\n",
    "            loss = loss_fn(input_label, output, from_logits=from_logits) # use ground-truth label to attack\n",
    "        else: \n",
    "            pred_label = tf.math.argmax(output, axis=1) # use predicted label to attack\n",
    "            loss = loss_fn(pred_label, output, from_logits=from_logits)\n",
    "\n",
    "    # produce adv_image using gradient signing\n",
    "    gradient = tape.gradient(loss, input_image) # get the gradients of the loss w.r.t. the input image \n",
    "    adv_image = input_image + epsilon * tf.sign(gradient) # get the final adversarial examples \n",
    "    adv_image = tf.clip_by_value(adv_image, clip_value_min, clip_value_max) # clip to a valid range  \n",
    "    adv_image = tf.stop_gradient(adv_image) # stop the gradient to make the adversarial image as a constant input\n",
    "    return adv_image\n",
    "\n",
    "\n",
    "def pgd_attack(model, input_image, input_label= None, \n",
    "              epsilon=0.3, \n",
    "              num_steps=20, \n",
    "              step_size=0.01, \n",
    "              clip_value_min=0., \n",
    "              clip_value_max=1.0, \n",
    "              soft_label=False,\n",
    "              from_logits= True): \n",
    "    \"\"\"\n",
    "    Args: \n",
    "        model: pretrained model \n",
    "        input_image: original (clean) input image (tensor)\n",
    "        input_label: original label (tensor, categorical representation)\n",
    "        epsilon: perturbation boundary \n",
    "        num_steps: number of attack steps \n",
    "        step_size: size of each move in each attack step \n",
    "        clip_value_min, clip_value_max: range of valid input \n",
    "        from_logits = True: attack from logits otherwise attack from prediction probabilites\n",
    "    Note: \n",
    "        we expect the output of model should be logits vector  \n",
    "    \"\"\"       \n",
    "        \n",
    "    if type(input_image) is np.ndarray: \n",
    "        input_image = tf.convert_to_tensor(input_image)\n",
    "    \n",
    "    if type(input_label) is np.ndarray: \n",
    "        input_label = tf.convert_to_tensor(input_label)\n",
    "        \n",
    "    # random initialization around input_image \n",
    "    random_noise = tf.random.uniform(shape=input_image.shape, minval=-epsilon, maxval=epsilon)\n",
    "    adv_image = input_image + random_noise\n",
    "\n",
    "    for _ in range(num_steps): \n",
    "        with tf.GradientTape(watch_accessed_variables=False) as tape: \n",
    "            tape.watch(adv_image)\n",
    "            adv_output = model(adv_image)\n",
    "            if not soft_label:\n",
    "                loss = loss_fn(input_label, adv_output, from_logits= from_logits) # use ground-truth label to attack\n",
    "            else: \n",
    "                pred_label = tf.math.argmax(adv_output, axis=1)\n",
    "                loss = loss_fn(pred_label, adv_output, from_logits= from_logits) # use predicted label to attack\n",
    "\n",
    "        # producing the adv image\n",
    "        gradient = tape.gradient(loss, adv_image) # get the gradient of the loss w.r.t. the current point \n",
    "        adv_image = adv_image + step_size * tf.sign(gradient) # move current adverarial example along the gradient direction with step size is eta \n",
    "        adv_image = tf.clip_by_value(adv_image, input_image-epsilon, input_image+epsilon) # clip to a valid boundary  \n",
    "        adv_image = tf.clip_by_value(adv_image, clip_value_min, clip_value_max)  # clip to a valid range\n",
    "        adv_image = tf.stop_gradient(adv_image) # stop the gradient to make the adversarial image as a constant input \n",
    "    return adv_image\n",
    "\n",
    "\n",
    "def mim_attack(model, input_image, input_label= None, \n",
    "              epsilon=0.3, \n",
    "              gamma= 0.9,\n",
    "              num_steps=20, \n",
    "              step_size=0.01, \n",
    "              clip_value_min=0., \n",
    "              clip_value_max=1.0, \n",
    "              soft_label=False,\n",
    "              from_logits= True): \n",
    "    \"\"\"\n",
    "    Args: \n",
    "        model: pretrained model \n",
    "        input_image: original (clean) input image (tensor)\n",
    "        input_label: original label (tensor, categorical representation)\n",
    "        epsilon: perturbation boundary \n",
    "        gamma: momentum decay\n",
    "        num_steps: number of attack steps \n",
    "        step_size: size of each move in each attack step \n",
    "        clip_value_min, clip_value_max: range of valid input \n",
    "        from_logits = True: attack from logits otherwise attack from prediction probabilites\n",
    "    Note: \n",
    "        we expect the output of model should be logits vector  \n",
    "    \"\"\"       \n",
    "    \n",
    "    if type(input_image) is np.ndarray: \n",
    "        input_image = tf.convert_to_tensor(input_image)\n",
    "    \n",
    "    if type(input_label) is np.ndarray: \n",
    "        input_label = tf.convert_to_tensor(input_label)\n",
    "        \n",
    "    # random initialization around input_image \n",
    "    random_noise = tf.random.uniform(shape=input_image.shape, minval=-epsilon, maxval=epsilon)\n",
    "    adv_image = input_image + random_noise\n",
    "    adv_noise = random_noise\n",
    "\n",
    "    for _ in range(num_steps): \n",
    "        with tf.GradientTape(watch_accessed_variables=False) as tape: \n",
    "            tape.watch(adv_image)\n",
    "            adv_output = model(adv_image)\n",
    "            if not soft_label:\n",
    "                loss = loss_fn(input_label, adv_output, from_logits=from_logits) # use ground-truth label to attack\n",
    "            else: \n",
    "                pred_label = tf.math.argmax(adv_output, axis=1)\n",
    "                loss = loss_fn(pred_label, adv_output, from_logits=from_logits) # use predicted label to attack\n",
    "\n",
    "        gradient = tape.gradient(loss, adv_image) # get the gradient of the loss w.r.t. the current point \n",
    "        adv_image_new = adv_image + step_size * tf.sign(gradient) # move current adverarial example along the gradient direction with step size is eta \n",
    "        adv_image_new = tf.clip_by_value(adv_image_new, input_image-epsilon, input_image+epsilon) # clip to a valid boundary  \n",
    "        adv_image_new = tf.clip_by_value(adv_image_new, clip_value_min, clip_value_max) # clip to a valid range\n",
    "        adv_noise = gamma*adv_noise + (1-gamma)*(adv_image_new - adv_image)\n",
    "        adv_image = adv_image_new\n",
    "        adv_image = tf.stop_gradient(adv_image) # stop the gradient to make the adversarial image as a constant input \n",
    "        \n",
    "    adv_image = adv_image + adv_noise\n",
    "    adv_image = tf.clip_by_value(adv_image, input_image-epsilon, input_image+epsilon) # clip to a valid boundary  \n",
    "    adv_image = tf.clip_by_value(adv_image, clip_value_min, clip_value_max) # clip to a valid range\n",
    "    return adv_image\n",
    "\n",
    "\n",
    "\n",
    "\n",
    "\n",
    "\n",
    "\n",
    "\n"
   ]
  },
  {
   "cell_type": "code",
   "execution_count": null,
   "metadata": {},
   "outputs": [],
   "source": [
    "# TODO: report the robust accuracies\n"
   ]
  },
  {
   "cell_type": "markdown",
   "metadata": {},
   "source": [
    "<span style=\"color:red\">**Question 3.9**</span> **Train a robust model using adversarial training with PGD ${\\epsilon= 0.0313, k=10, \\eta= 0.002}$. Write the code for the adversarial training and report the robust accuracies. After finishing the training, you need to store your best robust model in the folder `./models` and load the model to evaluate the robust accuracies for PGD, MIM, and FGSM attacks with $\\epsilon= 0.0313, k=20, \\eta= 0.002$ on the testing set.**\n",
    "   \n",
    "<div style=\"text-align: right\"> <span style=\"color:red\">[5 points]</span> </div>"
   ]
  },
  {
   "cell_type": "code",
   "execution_count": null,
   "metadata": {},
   "outputs": [],
   "source": [
    "#Insert your code here. You can add more cells if necessary\n",
    "\n"
   ]
  },
  {
   "cell_type": "markdown",
   "metadata": {},
   "source": [
    "The following is an exploring question with bonus points. It is great if you try to do this question, but it is **totally optional**. In this question, we will investigate a recent SOTA technique to improve the generalization ability of deep nets named *Sharpness-Aware Minimization (SAM)* ([link to the main paper](https://openreview.net/pdf?id=6Tm1mposlrM)).  Furthermore, SAM is simple and efficient technique, but roughly doubles the training time due to its required computation. If you have an idea to improve SAM, it would be a great paper to top-tier venues in machine learning and computer vision. Highly recommend to give it a try. "
   ]
  },
  {
   "cell_type": "markdown",
   "metadata": {},
   "source": [
    "<span style=\"color:red\">**Question 3.10**</span> (**additionally exploring question**) Read the SAM paper ([link to the main paper](https://openreview.net/pdf?id=6Tm1mposlrM)). Try to apply this techique to the best obtained model and report the results. For the purpose of implementating SAM, we can flexibly add more cells and extensions to the `model.py` file.\n",
    "\n",
    "<div style=\"text-align: right\"> <span style=\"color:red\">[5 points]</span> </div>"
   ]
  },
  {
   "cell_type": "code",
   "execution_count": null,
   "metadata": {},
   "outputs": [],
   "source": [
    "#Insert your code here. You can add more cells if necessary\n",
    "\n",
    "\n"
   ]
  },
  {
   "cell_type": "markdown",
   "metadata": {},
   "source": [
    "--- \n",
    "**<div style=\"text-align: center\"> <span style=\"color:black\">END OF ASSIGNMENT</span> </div>**\n",
    "**<div style=\"text-align: center\"> <span style=\"color:black\">GOOD LUCK WITH YOUR ASSIGNMENT 1!</span> </div>**"
   ]
  }
 ],
 "metadata": {
  "kernelspec": {
   "display_name": "Python 3.9.12 ('tf2_cpu')",
   "language": "python",
   "name": "python3"
  },
  "language_info": {
   "codemirror_mode": {
    "name": "ipython",
    "version": 3
   },
   "file_extension": ".py",
   "mimetype": "text/x-python",
   "name": "python",
   "nbconvert_exporter": "python",
   "pygments_lexer": "ipython3",
   "version": "3.9.12"
  },
  "vscode": {
   "interpreter": {
    "hash": "92c79073133677da89801d1b4bc42714b1a3d83cbc90a7f9c522b094b613b522"
   }
  }
 },
 "nbformat": 4,
 "nbformat_minor": 4
}
