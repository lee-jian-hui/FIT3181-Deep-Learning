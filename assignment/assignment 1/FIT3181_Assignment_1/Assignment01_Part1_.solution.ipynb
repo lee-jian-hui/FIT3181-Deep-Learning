{
 "cells": [
  {
   "cell_type": "markdown",
   "metadata": {},
   "source": [
    "# <span style=\"color:#0b486b\">  FIT3181: Deep Learning (2022)</span>\n",
    "***\n",
    "*CE/Lecturer:* Dr **Trung Le** | trunglm@monash.edu <br/>\n",
    "*Head Tutor:* Mr **Thanh Nguyen** | thanh.nguyen4@monash.edu  <br/>\n",
    "<br/>\n",
    "Department of Data Science and AI, Faculty of Information Technology, Monash University, Australia\n",
    "***"
   ]
  },
  {
   "cell_type": "markdown",
   "metadata": {},
   "source": [
    "# <span style=\"color:#0b486b\">  Student Information</span>\n",
    "***\n",
    "Surname: **Lee**  <br/>\n",
    "Firstname: **Jian Hui**    <br/>\n",
    "Student ID: **32116314**    <br/>\n",
    "Email: **jlee0235@student.monash.edu**    <br/>\n",
    "Your tutorial time: **Friday 2 to 4 pm**    <br/>\n",
    "***\n"
   ]
  },
  {
   "cell_type": "markdown",
   "metadata": {},
   "source": [
    "$$\n",
    "    \\theta\n",
    "$$"
   ]
  },
  {
   "cell_type": "markdown",
   "metadata": {},
   "source": [
    "# <span style=\"color:#0b486b\">Deep Neural Networks</span>\n",
    "### Due: <span style=\"color:red\">11:59pm Sunday, 18 September 2022</span>  (Sunday)\n",
    "\n",
    "#### <span style=\"color:red\">Important note:</span> This is an **individual** assignment. It contributes **20%** to your final mark. Read the assignment instruction carefully."
   ]
  },
  {
   "cell_type": "markdown",
   "metadata": {},
   "source": [
    "## <span style=\"color:#0b486b\">Instruction</span>\n",
    "\n",
    "This notebook has been prepared for your to complete Assignment 1. The theme of this assignment is about practical machine learning knowledge and skills in deep neural networks, including feedforward and convolutional neural networks. Some sections have been partially completed to help you get\n",
    "started. **The total marks for this notebook is 100**.\n",
    "\n",
    "* Before you start, read the entire notebook carefully once to understand what you need to do. <br/>\n",
    "\n",
    "* For each cell marked with **#YOU ARE REQUIRED TO INSERT YOUR CODES IN THIS CELL**, there will be places where you **must** supply your own codes when instructed. <br>\n",
    "\n",
    "This assignment contains **three** parts:\n",
    "\n",
    "* Part 1: Questions on theory and knowledge on machine learning and deep learning **[30 points], 30%**\n",
    "* Part 2: Coding assessment on TensorFlow for Deep Neural Networks (DNN) **[30 points], 30%**\n",
    "* Part 3: Coding assessment on TensorFlow for Convolution Neural Networks (CNN) **[40 points], 40%**\n",
    "\n",
    "**Hint**: This assignment was essentially designed based on the lectures and tutorials sessions covered from Week 1 to Week 6. You are strongly recommended to go through these contents thoroughly which might help you to complete this assignment."
   ]
  },
  {
   "cell_type": "markdown",
   "metadata": {},
   "source": [
    "## <span style=\"color:#0b486b\">What to submit</span>\n",
    "\n",
    "This assignment is to be completed individually and submitted to Moodle unit site. **By the due date, you are required to submit one  <span style=\"color:red; font-weight:bold\">single zip file, named xxx_assignment01_solution.zip</span> where `xxx` is your student ID, to the corresponding Assignment (Dropbox) in Moodle**. "
   ]
  },
  {
   "cell_type": "markdown",
   "metadata": {},
   "source": [
    "***For example, if your student ID is <span style=\"color:red; font-weight:bold\">12356</span>, then gather all of your assignment solution to folder, create a zip file named <span style=\"color:red; font-weight:bold\">123456_assignment01_solution.zip</span> and submit this file.***"
   ]
  },
  {
   "cell_type": "markdown",
   "metadata": {},
   "source": [
    "Within this zip folder, you **must** submit the following files:\n",
    "1.\t**Assignment01_solution.ipynb**:  this is your Python notebook solution source file.\n",
    "1.\t**Assignment01_output.html**: this is the output of your Python notebook solution *exported* in html format.\n",
    "1.\tAny **extra files or folder** needed to complete your assignment (e.g., images used in your answers)."
   ]
  },
  {
   "cell_type": "markdown",
   "metadata": {},
   "source": [
    "Since the notebook is quite big to load and work together, one recommended option is to split solution into three parts and work on them seperately. In that case, replace **Assignment01_solution.ipynb** by three notebooks: **Assignment01_Part1_solution.ipynb**, **Assignment01_Part2_solution.ipynb** and **Assignment01_Part3_solution.ipynb**"
   ]
  },
  {
   "cell_type": "markdown",
   "metadata": {},
   "source": [
    "**You can run your codes on Google Colab. In this case, you need to capture the screenshots of your Google Colab model training and put in corresponding places in your Jupyter notebook. You also need to store your trained models to folder <span style=\"color:red; font-weight:bold\">*./models*</span> with recognizable file names (e.g., Part3_Sec3_2_model.h5).** "
   ]
  },
  {
   "cell_type": "markdown",
   "metadata": {},
   "source": [
    "### LIBRARY IMPORTS & CONSTANTS\n"
   ]
  },
  {
   "cell_type": "code",
   "execution_count": 68,
   "metadata": {},
   "outputs": [],
   "source": [
    "import numpy as np\n",
    "import pandas as pd\n",
    "\n",
    "import tensorflow as tf\n",
    "from tensorflow import keras\n",
    "from tensorflow.keras import datasets, models, layers\n",
    "from tensorflow.keras.callbacks import ModelCheckpoint\n",
    "\n",
    "import matplotlib.pyplot as plt\n",
    "import math\n",
    "%matplotlib inline\n",
    "\n",
    "# MY_SEED = 1234\n"
   ]
  },
  {
   "cell_type": "markdown",
   "metadata": {},
   "source": [
    "## <span style=\"color:#0b486b\">Part 1: Theory and Knowledge Questions</span>\n",
    "<div style=\"text-align: right\"><span style=\"color:red; font-weight:bold\">[Total marks for this part: 30 points]<span></div>"
   ]
  },
  {
   "cell_type": "markdown",
   "metadata": {},
   "source": [
    "The first part of this assignment is for you to demonstrate your knowledge in deep learning that you have acquired from the lectures and tutorials materials. Most of the contents in this assignment are drawn from **the lectures and tutorials from weeks 1 to 3**. Going through these materials before attempting this part is highly recommended."
   ]
  },
  {
   "cell_type": "markdown",
   "metadata": {},
   "source": [
    "####  <span style=\"color:red\">**Question 1.1**</span> **Activation function plays an important role in modern Deep NNs. For each of the activation function below, state its output range, find its derivative (show your steps), and plot the activation fuction and its derivative**\n",
    "\n",
    "<span style=\"color:red\">**(a)**</span> Leaky ReLU: \n",
    "$\n",
    "\\text{LeakyReLU}\\left( x \\right)=\n",
    "\\begin{cases}\n",
    "    0.01x & \\text{if}\\,x<0\\\\\n",
    "    x & \\text{otherwise}\n",
    "\\end{cases}\\\n",
    "$ \n",
    "<div style=\"text-align: right\"><span style=\"color:red\">[1.5 points]</span></div> \n",
    "\n",
    "<span style=\"color:red\">**(b)**</span> Softplus: $\\text{Softplus}\\left(x\\right)=\\text{ln}\\left(1+e^{x}\\right)$\n",
    "<div style=\"text-align: right\"><span style=\"color:red\">[1.5 points]</span></div> "
   ]
  },
  {
   "cell_type": "markdown",
   "metadata": {},
   "source": [
    "---\n",
    "#### NOTE: i understand that gradient tape can be used here, but i didnt want to increase the complexity of an easy problem.\n",
    "\n",
    "##### leaky ReLu:\n",
    "- output range: $ - \\infty \\leq x \\leq + \\infty$\n",
    "- derivative:\n",
    "just have to derive for both separate ranges $ x < 0 $ and $ x \\geq 0 $\n",
    "$$\n",
    "x = \\begin{cases}\n",
    "   0.01 &\\text{if } x < 0 \\\\\n",
    "   1 &\\text{otherwise } x \\geq 0\n",
    "\\end{cases}\n",
    "$$\n",
    "\n",
    "##### Softplus: \n",
    "- output range: $ 0 \\leq x \\leq + \\infty $\n",
    "- derivative:\n",
    "\n",
    "$$\n",
    "\\begin{align*}\n",
    "softplus'(x) & = \\dfrac {1}{1 + e^x} (\\dfrac {\\partial}{\\partial x} (1 + e^x)) \\\\\n",
    "& = \\dfrac {e^x}{1 + e^x} \n",
    "\\end{align*}\n",
    "$$\n"
   ]
  },
  {
   "cell_type": "markdown",
   "metadata": {},
   "source": [
    "### Plots for LeakyReLU and Softplus\n"
   ]
  },
  {
   "cell_type": "code",
   "execution_count": 69,
   "metadata": {},
   "outputs": [
    {
     "data": {
      "image/png": "[encoded data removed]",
      "text/plain": [
       "<Figure size 432x288 with 1 Axes>"
      ]
     },
     "metadata": {
      "needs_background": "light"
     },
     "output_type": "display_data"
    }
   ],
   "source": [
    "def leakyrelu(x):\n",
    "    if x < 0:\n",
    "        return 0.01*x\n",
    "    else:\n",
    "        return x\n",
    "\n",
    "\n",
    "x = np.linspace(-5, 5, 200)\n",
    "\n",
    "y = []\n",
    "for i in range(len(x)):\n",
    "    y.append(leakyrelu(x[i]))\n",
    "\n",
    "plt.plot(x, y, \"b-\", linewidth=2)\n",
    "plt.plot([-5, 5], [0, 0], 'k--')\n",
    "plt.plot([-5, 5], [1, 1], 'k--')\n",
    "plt.plot([0, 0], [-5, 5], 'k-')\n",
    "plt.grid(True)\n",
    "plt.title(r\"leakyrelu\", fontsize=14)\n",
    "plt.axis([-5, 5, -0.1, 1.1])\n",
    "plt.show()\n"
   ]
  },
  {
   "cell_type": "code",
   "execution_count": 70,
   "metadata": {},
   "outputs": [
    {
     "data": {
      "image/png": "[encoded data removed]",
      "text/plain": [
       "<Figure size 432x288 with 1 Axes>"
      ]
     },
     "metadata": {
      "needs_background": "light"
     },
     "output_type": "display_data"
    }
   ],
   "source": [
    "def leakyrelu_deriv(x):\n",
    "    return 0.01 if x < 0 else 1\n",
    "\n",
    "x = np.linspace(-5, 5, 200)\n",
    "\n",
    "y = []\n",
    "for i in range(len(x)):\n",
    "    y.append(leakyrelu_deriv(x[i]))\n",
    "\n",
    "plt.plot(x, y, \"b-\", linewidth=2)\n",
    "plt.plot([-5, 5], [0, 0], 'k--')\n",
    "plt.plot([-5, 5], [1, 1], 'k--')\n",
    "plt.plot([0, 0], [-5, 5], 'k-')\n",
    "plt.grid(True)\n",
    "plt.title(r\"leakyrelu_deriv\", fontsize=14)\n",
    "plt.axis([-5, 5, -0.1, 1.1])\n",
    "plt.show()"
   ]
  },
  {
   "cell_type": "code",
   "execution_count": 71,
   "metadata": {},
   "outputs": [
    {
     "data": {
      "image/png": "[encoded data removed]",
      "text/plain": [
       "<Figure size 432x288 with 1 Axes>"
      ]
     },
     "metadata": {
      "needs_background": "light"
     },
     "output_type": "display_data"
    }
   ],
   "source": [
    "def softplus(x):\n",
    "    # ln(1 + e^x)\n",
    "    return math.log(1 + math.e ** x)\n",
    "\n",
    "x = np.linspace(-5, 5, 200)\n",
    "\n",
    "y = []\n",
    "for i in range(len(x)):\n",
    "    y.append(softplus(x[i]))\n",
    "\n",
    "plt.plot(x, y, \"b-\", linewidth=2)\n",
    "plt.plot([-5, 5], [0, 0], 'k--')\n",
    "plt.plot([-5, 5], [1, 1], 'k--')\n",
    "plt.plot([0, 0], [-5, 5], 'k-')\n",
    "plt.grid(True)\n",
    "plt.title(r\"softplus\", fontsize=14)\n",
    "plt.axis([-5, 5, -0.1, 1.1])\n",
    "plt.show()"
   ]
  },
  {
   "cell_type": "markdown",
   "metadata": {},
   "source": [
    "<span style=\"color:#0b486b\"> **Numpy is possibly being used in the following questions. You need to import numpy here.** </span>"
   ]
  },
  {
   "cell_type": "code",
   "execution_count": 72,
   "metadata": {},
   "outputs": [
    {
     "data": {
      "image/png": "[encoded data removed]",
      "text/plain": [
       "<Figure size 432x288 with 1 Axes>"
      ]
     },
     "metadata": {
      "needs_background": "light"
     },
     "output_type": "display_data"
    }
   ],
   "source": [
    "def softplus_deriv(x):\n",
    "    # e^x / (1 + e^x)\n",
    "    return (math.e ** x) / ( 1 + math.e ** x)\n",
    "\n",
    "\n",
    "x = np.linspace(-5, 5, 200)\n",
    "\n",
    "\n",
    "y = []\n",
    "for i in range(len(x)):\n",
    "    y.append(softplus_deriv(x[i]))\n",
    "\n",
    "\n",
    "\n",
    "plt.plot(x, y, \"b-\", linewidth=2)\n",
    "plt.plot([-5, 5], [0, 0], 'k--')\n",
    "plt.plot([-5, 5], [1, 1], 'k--')\n",
    "plt.plot([0, 0], [-5, 5], 'k-')\n",
    "plt.grid(True)\n",
    "plt.title(r\"softplus_deriv\", fontsize=14)\n",
    "plt.axis([-5, 5, -0.1, 1.1])\n",
    "plt.show()"
   ]
  },
  {
   "cell_type": "markdown",
   "metadata": {},
   "source": [
    "####  <span style=\"color:red\">**Question 1.2**</span> **Assume that we feed a data point $x$ with a ground-truth label $y=2$ to the feed-forward neural network with the ReLU activation function as shown in the following figure**|\n",
    "<img src=\"Figures/Q2_P1.png\" width=\"500\" align=\"center\"/>\n",
    "\n",
    "\n",
    "**You need to show both formulas and numerical results for earning full mark. Although it is optional, it is great if you show your numpy code for your computation.**"
   ]
  },
  {
   "cell_type": "code",
   "execution_count": 73,
   "metadata": {},
   "outputs": [],
   "source": [
    "def relu(x): return max(0,x)\n",
    "\n",
    "def softmax(lst): \n",
    "     return np.exp(lst)/sum(np.exp(lst))\n",
    "     \n",
    "\n",
    "x = [1,\n",
    "     -1,\n",
    "     1]"
   ]
  },
  {
   "cell_type": "markdown",
   "metadata": {},
   "source": [
    "<span style=\"color:red\">**(a)**</span>  What is the numerical value of the latent presentation $h^1(x)$?\n",
    "<div style=\"text-align: right\"><span style=\"color:red\">[1 point]</span></div> "
   ]
  },
  {
   "cell_type": "code",
   "execution_count": 74,
   "metadata": {},
   "outputs": [
    {
     "name": "stdout",
     "output_type": "stream",
     "text": [
      "\n",
      "(4,)\n",
      "[3 1 5 2]\n",
      "(4,)\n",
      "(4,)\n",
      "[4 1 6 2]\n",
      "[4 1 6 2]\n"
     ]
    }
   ],
   "source": [
    "\n",
    "\"\"\"\n",
    "1. (h1)' = w1 * x + b1     [this is the first layer, but this includes all neurons at the first layer]\n",
    "    - have to multiply\n",
    "    - order matters\n",
    "2. h1 = activation_func(h1')\n",
    "\"\"\"\n",
    "\n",
    "\n",
    "w1 = np.array([[1, -1, 1],\n",
    "               [1, -1, -1],\n",
    "               [2, -1, 2],\n",
    "               [-1, -2, 1]])\n",
    "\n",
    "b1 = np.array([1, 0, 1, 0])  # keep in mind that we should treat this as a transposed vector, so 1x4 should be 4x1\n",
    "print()\n",
    "\n",
    "h1_bar = np.matmul(w1, x)\n",
    "print(h1_bar.shape)\n",
    "print(h1_bar)\n",
    "\n",
    "h1_bar = np.add(h1_bar, b1)\n",
    "print(h1_bar.shape)\n",
    "print(b1.shape)\n",
    "\n",
    "f = np.vectorize(relu)\n",
    "h1 = f(h1_bar)\n",
    "\n",
    "print(h1_bar)\n",
    "print(h1)\n"
   ]
  },
  {
   "cell_type": "markdown",
   "metadata": {},
   "source": [
    "\n",
    "<span style=\"color:red\">**(b)**</span>  What is the numerical value of the latent presentation $h^2(x)$?\n",
    "<div style=\"text-align: right\"><span style=\"color:red\">[1 point]</span></div> \n"
   ]
  },
  {
   "cell_type": "code",
   "execution_count": 75,
   "metadata": {},
   "outputs": [
    {
     "name": "stdout",
     "output_type": "stream",
     "text": [
      "[ 2  8 -4]\n",
      "[2 8 0]\n"
     ]
    }
   ],
   "source": [
    "\"\"\"\n",
    "h2_bar = w2 * h1 + b2\n",
    "h2 = activation(h2_bar)\n",
    "\"\"\"\n",
    "w2 = np.array([[1, -1, -1, 2],\n",
    "               [1, -1, 1, -1],\n",
    "               [-1, 2, -1, 2]])\n",
    "b2 = np.array([1, 1, 0])\n",
    "\n",
    "h2_bar = np.matmul(w2, h1)\n",
    "h2_bar = np.add(h2_bar, b2)\n",
    "\n",
    "f = np.vectorize(relu)\n",
    "h2 = f(h2_bar)\n",
    "\n",
    "print(h2_bar)\n",
    "print(h2)\n",
    "\n",
    "\n",
    "\n",
    "\n"
   ]
  },
  {
   "cell_type": "markdown",
   "metadata": {},
   "source": [
    "<span style=\"color:red\">**(c)**</span>  What is the numerical value of the logit $h^3(x)$?\n",
    "<div style=\"text-align: right\"><span style=\"color:red\">[1 point]</span></div> \n"
   ]
  },
  {
   "cell_type": "code",
   "execution_count": 76,
   "metadata": {},
   "outputs": [
    {
     "name": "stdout",
     "output_type": "stream",
     "text": [
      "[-14  18   6]\n"
     ]
    }
   ],
   "source": [
    "\"\"\"\n",
    "h3_bar = w3 * h2 + b3\n",
    "h3 = activation(h3_bar)\n",
    "\"\"\"\n",
    "w3 = np.array([[1, -2, 1],\n",
    "               [1, 2, -1],\n",
    "               [-1, 1, -1]])\n",
    "b3 = np.array([0, 0, 0])\n",
    "\n",
    "h3 = np.matmul(w3, h2)\n",
    "print(h3)\n",
    "\n",
    "\n"
   ]
  },
  {
   "cell_type": "markdown",
   "metadata": {},
   "source": [
    "<span style=\"color:red\">**(d)**</span>  What is the corresonding prediction probabilities $p(x)$?\n",
    "<div style=\"text-align: right\"><span style=\"color:red\">[1 point]</span></div> \n"
   ]
  },
  {
   "cell_type": "code",
   "execution_count": 77,
   "metadata": {},
   "outputs": [
    {
     "name": "stdout",
     "output_type": "stream",
     "text": [
      "tf.Tensor([1.2664087e-14 9.9999380e-01 6.1441742e-06], shape=(3,), dtype=float32)\n",
      "(3,)\n"
     ]
    }
   ],
   "source": [
    "# probabilities, p(x) = softmax(h3(x))\n",
    "h3 = [float(x) for x in h3]\n",
    "h3_tensor = tf.constant(name=\"h3\", value=h3, dtype= tf.float32)\n",
    "\n",
    "probs = tf.nn.softmax(h3_tensor)\n",
    "probs  # correct, cross checked with desmos calc\n",
    "print(probs)\n",
    "print(probs.get_shape())\n"
   ]
  },
  {
   "cell_type": "markdown",
   "metadata": {},
   "source": [
    "<span style=\"color:red\">**(e)**</span>  What is the cross-entropy loss caused by the feed-forward neural network at $(x,y)$? Remind that $y=2$.\n",
    "<div style=\"text-align: right\"><span style=\"color:red\">[1 point]</span></div> \n",
    "\n",
    " \n",
    "In the second version of the formula, the p and q in this case are y labels AND the prediction probabilities respectively.\n",
    "\n",
    "$𝑝_𝑚𝑥=𝑝(𝑦=𝑚|𝑥)$ is the probability to classify 𝑥 to the class 𝑚 for $1 \\leq 𝑚 \\leq 𝑀$.\n",
    "\n",
    "this relies on the fact the the label is a one-hot-vector (either only 0 or 1).\n",
    "\n",
    "\n",
    "\n",
    "when given the ground-truth label y = 2, that would mean that the corresponding grouth truth one-hot-vector for the label is y = [0,1,0].\n",
    "\n",
    "---\n",
    "the formula of CE loss (2 versions but are interchangable):\n",
    "\n",
    "### FIRST\n",
    "$$\n",
    "\\begin{align*}\n",
    "    CE(p,q) & = - \\sum_{m=1}^{M} log p_{y_i}(x_i) \n",
    "\\end{align*}\n",
    "$$\n",
    "----\n",
    "### SECOND: a generalized version of CE loss.\n",
    "\n",
    "$$\n",
    "\\begin{align*}\n",
    "    CE(p,q) & = - \\sum_{m=1}^{M} p_m log(q_m) \\\\\n",
    "    & = - [ 0 * log(p^1x) + 1 * log(p^2x) + 0 * log(p^3x) ]\n",
    "\\end{align*}\n",
    "$$\n",
    "\n",
    "\n",
    "\n",
    "\n"
   ]
  },
  {
   "cell_type": "code",
   "execution_count": 78,
   "metadata": {},
   "outputs": [
    {
     "name": "stdout",
     "output_type": "stream",
     "text": [
      "[-0.00000000e+00 -6.19890216e-06 -0.00000000e+00]\n",
      "6.198902156029362e-06\n"
     ]
    }
   ],
   "source": [
    "labels = [0,1,0]\n",
    "first_part = labels * np.log(probs)\n",
    "print(first_part)\n",
    "ce = -np.sum(labels * np.log(probs))   # sum of the negative logs\n",
    "print(ce)"
   ]
  },
  {
   "cell_type": "markdown",
   "metadata": {},
   "source": [
    "\n",
    "<span style=\"color:red\">**(f)**</span>  Assume that we are applying the label smoothing technique (i.e.,  [link for main paper](https://papers.nips.cc/paper/2019/file/f1748d6b0fd9d439f71450117eba2725-Paper.pdf) from Goeff Hinton) with $\\alpha = 0.1$. What is the relevant loss caused by the feed-forward neural network at $(x,y)$?\n",
    "<div style=\"text-align: right\"><span style=\"color:red\">[1 point]</span></div> "
   ]
  },
  {
   "cell_type": "code",
   "execution_count": 79,
   "metadata": {},
   "outputs": [
    {
     "name": "stdout",
     "output_type": "stream",
     "text": [
      "smoothed_labels: [0.03333333333333333, 0.9333333333333333, 0.03333333333333333]\n",
      "smooth_ce: 1.4666729291458371\n"
     ]
    }
   ],
   "source": [
    "# 1: define label smoothing function\n",
    "\n",
    "def label_smooth(y_k, alpha, K):\n",
    "    \"\"\"\n",
    "    The label smoothing function\n",
    "\n",
    "    Args:\n",
    "        y_k: the original y label\n",
    "        alpha: the label smoothing parameter\n",
    "        K: the number of classes there are\n",
    "    \"\"\"\n",
    "    y_k, K = float(y_k), float(K)\n",
    "    \n",
    "    # based on the formula propseod by the research paper in 1.1 preliminaries\n",
    "    modified = y_k * (1 - alpha) + alpha/K\n",
    "    \n",
    "    return modified \n",
    "\n",
    "# 2: calc the CE loss using smoothed labels\n",
    "smoothed_labels = [label_smooth(y_k=label, alpha=0.1, K=len(labels)) for label in labels]\n",
    "print(f\"smoothed_labels: {smoothed_labels}\")\n",
    "smooth_ce = -np.sum( smoothed_labels * np.log(probs))\n",
    "print(f\"smooth_ce: {smooth_ce}\")\n"
   ]
  },
  {
   "cell_type": "markdown",
   "metadata": {},
   "source": [
    "####  <span style=\"color:red\">**Question 1.3**</span> **Assume that we are constructing a multilayered feed-forward neural network for a classification problem with three classes where the model parameters will be generated randomly using your student ID. The architecture of this network is ($3 (Input)\\rightarrow4(LeakyReLU)\\rightarrow 3(Output)$) as shown in the following figure. Note that the LeakyReLU has the same formula as the one in Q1.1.**\n",
    "\n",
    "\n",
    "<img src=\"Figures/Q3_P1.png\" width=\"500\" align=\"center\"/>\n",
    "\n",
    "We feed a feature vector $x=\\left[\\begin{array}{ccc}\n",
    "1 & -1 & 1.5\\end{array}\\right]^{T}$ with ground-truth label $y=3$ to the above network. \n"
   ]
  },
  {
   "cell_type": "markdown",
   "metadata": {},
   "source": [
    "**You need to show both formulas, numerical results, and your numpy code for your computation for earning full marks.**"
   ]
  },
  {
   "cell_type": "code",
   "execution_count": 80,
   "metadata": {},
   "outputs": [
    {
     "name": "stdout",
     "output_type": "stream",
     "text": [
      "[[0.55743135 0.36949385 0.56827969]\n",
      " [0.82003266 0.85314316 0.51837443]\n",
      " [0.20115403 0.53609295 0.46779608]\n",
      " [0.83119858 0.12899386 0.91942002]]\n",
      "[0.6621174  0.99488478 0.43373089 0.0377466 ]\n",
      "[[0.33346435 0.04532525 0.86090495 0.9573627 ]\n",
      " [0.26253249 0.23428983 0.65721148 0.20425296]\n",
      " [0.13590971 0.5057504  0.9932175  0.96747954]]\n",
      "[0.55020448 0.06553801 0.84051767]\n"
     ]
    }
   ],
   "source": [
    "#Code to generate random matrices and biases for W1, b1, W2, b2\n",
    "import numpy as np\n",
    "# TODO: change\n",
    "STUDENT_ID = 32116314           #insert your student id here for example 1234    \n",
    "\n",
    "np.random.seed(STUDENT_ID)\n",
    "W1 = np.random.rand(4,3)\n",
    "print(W1)\n",
    "b1 = np.random.rand(4,)  # changed from (4,1) to (4,) to make things easier in a vector form \n",
    "print(b1)\n",
    "W2 = np.random.rand(3,4)\n",
    "print(W2)\n",
    "b2 = np.random.rand(3,)\n",
    "print(b2)\n",
    "\n",
    "x = np.array([1, -1, 1.5])"
   ]
  },
  {
   "cell_type": "markdown",
   "metadata": {},
   "source": [
    "**Forward propagation**\n",
    "\n",
    "<span style=\"color:red\">**(a)**</span>  What is the value of $\\bar{h}^{1}(x)$?\n",
    "<div style=\"text-align: right\"><span style=\"color:red\">[1 point]</span></div>\n",
    "\n",
    "$\n",
    "\\bar{h}^{1}(x) = W1 * X + b1\n",
    "$"
   ]
  },
  {
   "cell_type": "code",
   "execution_count": 81,
   "metadata": {},
   "outputs": [
    {
     "name": "stdout",
     "output_type": "stream",
     "text": [
      "[1.04035704 0.74445115 0.3667552  2.08133475]\n",
      "(4,)\n",
      "(4,)\n",
      "[1.70247443 1.73933593 0.80048609 2.11908135]\n"
     ]
    }
   ],
   "source": [
    "h1_bar = np.matmul(W1, x)\n",
    "print(h1_bar)\n",
    "print(h1_bar.shape)\n",
    "print(b1.shape)\n",
    "h1_bar = np.add(h1_bar, b1)\n",
    "print(h1_bar)"
   ]
  },
  {
   "cell_type": "markdown",
   "metadata": {},
   "source": [
    "<span style=\"color:red\">**(b)**</span>  What is the value of $h^{1}(x)$?\n",
    "<div style=\"text-align: right\"><span style=\"color:red\">[1 point]</span></div>\n",
    "\n",
    "$\n",
    "h^1(x)= leakyReLU(\\bar{h}^{1}(x))\n",
    "$"
   ]
  },
  {
   "cell_type": "code",
   "execution_count": 82,
   "metadata": {},
   "outputs": [
    {
     "name": "stdout",
     "output_type": "stream",
     "text": [
      "[1.70247443 1.73933593 0.80048609 2.11908135]\n"
     ]
    }
   ],
   "source": [
    "f = np.vectorize(leakyrelu)\n",
    "\n",
    "h1 = f(h1_bar) # tested with neg values with leakyrelu ; works fine\n",
    "print(h1)"
   ]
  },
  {
   "cell_type": "markdown",
   "metadata": {},
   "source": [
    "<span style=\"color:red\">**(c)**</span>  What is the predicted value $\\hat{y}$?\n",
    "<div style=\"text-align: right\"><span style=\"color:red\">[1 point]</span></div>\n",
    "\n",
    "$\n",
    "logits: \\space h^2(x) = W2 * h^1(x) + b2 \\\\ \\\\\n",
    "$\n",
    "\n",
    "$\n",
    "p(x) = softmax(h^2(x)) \\\\\n",
    "$\n",
    "\n",
    "$\n",
    "\\hat{y} =  argmax(p_m) \\space \\space ; 1 \\leq m \\leq M ; \\text{where M is how many categorical classes there are} \\\\\n",
    "= max(p^1(x), p^2(x), ... \\space, p^m(x)) \\\\\n",
    "$\n"
   ]
  },
  {
   "cell_type": "code",
   "execution_count": 83,
   "metadata": {},
   "outputs": [
    {
     "name": "stdout",
     "output_type": "stream",
     "text": [
      "h2: [3.36442227 1.81338085 3.95627729]\n",
      "h2: [3.91462674 1.87891886 4.79679496]\n",
      "pred_probs: [0.28195059 0.03681937 0.68123005]\n",
      "y_hat: 0.6812300462658298\n"
     ]
    }
   ],
   "source": [
    "\n",
    "h2 = np.matmul(W2, h1)\n",
    "print(f'h2: {h2}')\n",
    "\n",
    "h2 = np.add(h2, b2)\n",
    "print(f'h2: {h2}')\n",
    "\n",
    "# f = np.vectorize(softmax)\n",
    "pred_probs = tf.nn.softmax(h2)\n",
    "print(f'pred_probs: {pred_probs}')\n",
    "\n",
    "# y_hat is the index of the class which corresponds to the LARGEST prob value (after softmax)\n",
    "y_hat = np.amax(pred_probs)\n",
    "print(f'y_hat: {y_hat}')\n",
    "\n"
   ]
  },
  {
   "cell_type": "markdown",
   "metadata": {},
   "source": [
    "<span style=\"color:red\">**(d)**</span>  Suppose that we use the cross-entropy (CE) loss. What is the value of the CE loss $l$?\n",
    "<div style=\"text-align: right\"><span style=\"color:red\">[1 point]</span></div>\n",
    "\n",
    "we know the ground truth label, y = 3 ; so the one hot vector for labels = [0,0,1]\n",
    "\n",
    "$$\n",
    "\\begin{align*}\n",
    "    \\text{CE loss, }l\\text{ : }CE(p,q) & = - \\sum_{m=1}^{M} p_m log(q_m) \\\\\n",
    "    & = 0 * log(p^1x) + 0 * log(p^2x) + 1 * log(p^3x)\n",
    "\\end{align*}\n",
    "$$"
   ]
  },
  {
   "cell_type": "code",
   "execution_count": 84,
   "metadata": {},
   "outputs": [
    {
     "name": "stdout",
     "output_type": "stream",
     "text": [
      "0.3838552233186607\n"
     ]
    }
   ],
   "source": [
    "labels = np.array([0,0,1])\n",
    "ce = -np.sum(labels * np.log(pred_probs))   # sum of the negative logs\n",
    "print(ce)\n",
    "\n"
   ]
  },
  {
   "cell_type": "markdown",
   "metadata": {},
   "source": [
    "**Backward propagation**\n",
    "\n",
    "<span style=\"color:red\">**(e)**</span> What are the derivatives $\\frac{\\partial l}{\\partial h^{2}},\\frac{\\partial l}{\\partial W^{2}}$, and $\\frac{\\partial l}{\\partial b^{2}}$? \n",
    "<div style=\"text-align: right\"><span style=\"color:red\">[6 points]</span></div>\n",
    "\n",
    "#### From the 3rd layer, the output layer:\n",
    "we will know the CE loss, hence we will know:\n",
    "$$\n",
    "\\tag 1\n",
    "g^2 = \\frac {\\partial l} {\\partial h^2} = p^T - 1_y \n",
    "$$ \n",
    "\n",
    "\n",
    "From the above, and knowing that $h^2 = W^2h^1 + b^2$, we can also obtain partial derivatives $\\frac {\\partial l}{\\partial W^2}$ and $\\frac {\\partial l}{\\partial b^2}$ \n",
    "\n",
    "#### NOTE: there are tags attached below to each equation\n",
    "\n",
    "---\n",
    "\n",
    "$$\n",
    "\\tag 2\n",
    "\\frac{\\partial l}{\\partial W^{2}} \n",
    "= \\frac {\\partial l} {\\partial h^2} * \\frac {\\partial h^2} {\\partial W^2} \n",
    "= (g^2)^T(h^1)^T\n",
    "$$\n",
    "\n",
    "---\n",
    "\n",
    "$$\n",
    "\\tag 3\n",
    "\\frac{\\partial l}{\\partial b^{2}} \n",
    "= \\frac {\\partial l}{\\partial h^2} * \\frac {\\partial h^2}{\\partial b^2} \n",
    "= g^2\n",
    "$$\n"
   ]
  },
  {
   "cell_type": "code",
   "execution_count": 85,
   "metadata": {},
   "outputs": [
    {
     "name": "stdout",
     "output_type": "stream",
     "text": [
      "g^2: [[ 0.28195059  0.03681937 -0.31876995]] \n",
      "\n",
      "partial_l_w2 [[ 0.48001367  0.49040679  0.22569752  0.59747623]\n",
      " [ 0.06268403  0.06404125  0.02947339  0.07802323]\n",
      " [-0.5426977  -0.55444803 -0.25517091 -0.67549946]] \n",
      "\n",
      "partial_l_b2 [[ 0.28195059  0.03681937 -0.31876995]] \n",
      "\n"
     ]
    }
   ],
   "source": [
    "\n",
    "# equation 1\n",
    "# print(pred_probs.shape)\n",
    "# print(labels.shape)\n",
    "\n",
    "g2 = np.subtract(pred_probs, labels)  # equation 1\n",
    "g2 =  np.expand_dims(g2, axis=0)\n",
    "# print(g2.shape)\n",
    "print(f'g^2: {g2} \\n')\n",
    "\n",
    "# equation 2\n",
    "h1 =  np.expand_dims(h1, axis=1)\n",
    "# print(f' {g2.shape} {h1.shape}' )  \n",
    "partial_l_w2 = np.matmul(np.transpose(g2), np.transpose(h1))\n",
    "print(f'partial_l_w2 {partial_l_w2} \\n' )  \n",
    "\n",
    "# equation 3\n",
    "partial_l_b2 = g2\n",
    "print(f'partial_l_b2 {partial_l_b2} \\n' )  \n",
    "\n",
    "\n",
    "\n",
    "\n"
   ]
  },
  {
   "cell_type": "markdown",
   "metadata": {},
   "source": [
    "<span style=\"color:red\">**(f)**</span> What are the derivatives $\\frac{\\partial l}{\\partial h^{1}}, \\frac{\\partial l}{\\partial \\bar{h}^{1}},\\frac{\\partial l}{\\partial W^{1}}$, and $\\frac{\\partial l}{\\partial b^{1}}$? \n",
    "<div style=\"text-align: right\"><span style=\"color:red\">[6 points]</span></div>\n",
    "\n",
    "---\n",
    "#### pre-requisite information:\n",
    "\n",
    "\n",
    "$\n",
    "\\frac {\\partial h^1} {\\partial \\bar{h}^1} = diag(\\sigma'(\\bar{h}^1))  \\text{ ; } h^1 = \\sigma(\\bar{h}^1)\n",
    "$\n",
    "\n",
    "---\n",
    "\n",
    "\n",
    "\n",
    "---\n",
    "#### we shall use the above information from (e) to obtain the needed derivatives below:\n",
    "\n",
    "$$\n",
    "\\tag 4\n",
    "\\begin{align*}\n",
    "g^1 \n",
    "&= \\frac {\\partial l}{\\partial h^1} \\\\\n",
    "&= \\frac {\\partial l}{\\partial h^2} * \\frac {\\partial h^2}{\\partial h^1} \\\\\n",
    "&= g^2W^2 \\\\\n",
    "\\end{align*}\n",
    "$$\n",
    "\n",
    "---\n",
    "$$\n",
    "\\tag 5\n",
    "\\begin{align*}\n",
    "\\bar{g}^1\n",
    "&= \\frac {\\partial l}{\\partial \\bar{h}^1} \\\\\n",
    "&= \\frac {\\partial l}{\\partial h^1} * \\frac {\\partial h^1}{\\partial \\bar{h}^1} \\\\\n",
    "&= g^1diag(\\sigma'(\\bar{h}^1)) \\text{ ; $\\sigma'$ is the derivative of leaky ReLU}\\\\   \n",
    "\\end{align*}\n",
    "$$\n",
    "\n",
    "---\n",
    "$$\n",
    "\\tag 6\n",
    "\\begin{align*}\n",
    "\\frac{\\partial l}{\\partial W^{1}}\n",
    "&= \\frac {\\partial l}{\\partial \\bar{h}^1} * \\frac {\\partial \\bar{h}^1}{\\partial W^1} \\\\\n",
    "&= (\\bar{g}^1)^T(h^0)^T \\\\\n",
    "\\end{align*}\n",
    "$$\n",
    "\n",
    "---\n",
    "$$\n",
    "\\tag 7\n",
    "\\frac{\\partial l}{\\partial b^{1}} = \\bar{g} ^ 1\n",
    "$$\n",
    "\n",
    "\n"
   ]
  },
  {
   "cell_type": "code",
   "execution_count": 86,
   "metadata": {},
   "outputs": [
    {
     "name": "stdout",
     "output_type": "stream",
     "text": [
      "--------equation 4---------\n",
      "partial_l_h1: [[ 0.06036282 -0.13981215 -0.04967713 -0.03095397]]\n",
      "--------equation 5---------\n",
      "partial_1_hbar1: [[ 0.06036282 -0.13981215 -0.04967713 -0.03095397]]\n",
      "--------equation 6---------\n",
      "partial_l_w1: [[ 0.06036282 -0.06036282  0.09054423]\n",
      " [-0.13981215  0.13981215 -0.20971822]\n",
      " [-0.04967713  0.04967713 -0.07451569]\n",
      " [-0.03095397  0.03095397 -0.04643095]]\n",
      "--------equation 7---------\n",
      "partial_l_b1: [[ 0.06036282 -0.13981215 -0.04967713 -0.03095397]]\n"
     ]
    }
   ],
   "source": [
    "# equation 4\n",
    "print(f'--------equation 4---------')\n",
    "# print(g2.shape)\n",
    "# print(W2.shape)\n",
    "partial_l_h1 = np.matmul(g2, W2)\n",
    "print(f'partial_l_h1: {partial_l_h1}')\n",
    "\n",
    "\n",
    "# equation 5: [1xn1] x [n1xn1] → [1×𝑛1]\n",
    "print(f'--------equation 5---------')\n",
    "# print(h1_bar)\n",
    "# print(partial_l_h1.shape)\n",
    "# print(h1_bar.shape)\n",
    "\n",
    "# the diag matrix of size [n1 x n1]\n",
    "diag = np.array([leakyrelu_deriv(x) for x in h1_bar])\n",
    "diag = np.diag(diag)\n",
    "# print(f'diag shape: {diag.shape}')\n",
    "# print(f'diag: \\n {diag}')\n",
    "\n",
    "partial_1_hbar1 = np.matmul(partial_l_h1, diag)\n",
    "print(f'partial_1_hbar1: {partial_1_hbar1}')\n",
    "\n",
    "# equation 6\n",
    "print(f'--------equation 6---------')\n",
    "expand_x = np.expand_dims(x,axis=1)\n",
    "# print(f'partial_1_hbar1: {partial_1_hbar1} MULT x : {expand_x}')\n",
    "# print(expand_x.shape)\n",
    "partial_l_w1 = np.matmul(np.transpose(partial_1_hbar1), np.transpose(expand_x))\n",
    "print(f\"partial_l_w1: {partial_l_w1}\")\n",
    "\n",
    "# equation 7\n",
    "print(f'--------equation 7---------')\n",
    "partial_l_b1 = partial_1_hbar1\n",
    "print(f\"partial_l_b1: {partial_l_b1}\")\n",
    "\n",
    "\n"
   ]
  },
  {
   "cell_type": "markdown",
   "metadata": {},
   "source": [
    "**SGD update**\n",
    "\n",
    "<span style=\"color:red\">**(g)**</span> Assume that we use SGD with learning rate $\\eta=0.01$ to update the model parameters. What are the values of $W^2, b^2$ and $W^1, b^1$ after updating?\n",
    "<div style=\"text-align: right\"><span style=\"color:red\">[5 points]</span></div>\n",
    "\n"
   ]
  },
  {
   "cell_type": "markdown",
   "metadata": {},
   "source": [
    "1. we have the loss function over the training set, \n",
    "$ \n",
    " J(\\theta_t) = L(D,h) = \\frac{1}{N} \\sum_{i=1}^N CE(1_{y_i}, p(x_i)) = - \\frac{1}{N} \\sum_{i=1}^N log p_{y_i} (x_i) \\\\\n",
    "$\n",
    "D is the data set, h are the linear functions of each layer\n",
    "\n",
    "2. use this loss function, calculate the first order derivative of loss function w.r.t $\\theta$  :  \n",
    "$\n",
    "\\nabla_\\theta J(\\theta_t) = \\frac {\\partial J}{\\partial \\theta} (\\theta_t)\n",
    "$\n",
    "\n",
    "3. finally update the model parameters\n",
    "$\n",
    "\\theta_{t+1} = \\theta_t - \\eta \\nabla_\\theta J(\\theta_t)\n",
    "$\n",
    "- $ \\text{new } W^2 = W^2 - \\eta \\frac{\\partial l}{\\partial W^2}$\n",
    "- $ \\text{new } b^2 = b^2 - \\eta \\frac{\\partial l}{\\partial b^2}$\n",
    "- $ \\text{new } W^1 = W^1 - \\eta \\frac{\\partial l}{\\partial W^1}$\n",
    "- $ \\text{new } b^1 = b^1 - \\eta \\frac{\\partial l}{\\partial b^1}$\n",
    "\n",
    "\n"
   ]
  },
  {
   "cell_type": "code",
   "execution_count": 87,
   "metadata": {},
   "outputs": [
    {
     "name": "stdout",
     "output_type": "stream",
     "text": [
      "old W2: [[0.33346435 0.04532525 0.86090495 0.9573627 ]\n",
      " [0.26253249 0.23428983 0.65721148 0.20425296]\n",
      " [0.13590971 0.5057504  0.9932175  0.96747954]] \n",
      " \n",
      " new W2: [[0.32866422 0.04042119 0.85864797 0.95138794]\n",
      " [0.26190565 0.23364942 0.65691675 0.20347273]\n",
      " [0.14133669 0.51129488 0.99576921 0.97423453]]\n",
      "\n",
      "old b2: [0.55020448 0.06553801 0.84051767] \n",
      " \n",
      "  new b2: [[0.54738497 0.06516982 0.84370537]]\n",
      "\n",
      "old W1: [[0.55743135 0.36949385 0.56827969]\n",
      " [0.82003266 0.85314316 0.51837443]\n",
      " [0.20115403 0.53609295 0.46779608]\n",
      " [0.83119858 0.12899386 0.91942002]] \n",
      " \n",
      " new W1: [[0.55682773 0.37009748 0.56737424]\n",
      " [0.82143078 0.85174504 0.52047161]\n",
      " [0.2016508  0.53559617 0.46854124]\n",
      " [0.83150812 0.12868432 0.91988432]]\n",
      "\n",
      "old b1: [0.6621174  0.99488478 0.43373089 0.0377466 ] \n",
      " \n",
      "  new b1: [[0.66151377 0.9962829  0.43422766 0.03805614]]\n",
      "\n"
     ]
    }
   ],
   "source": [
    "# for one iteration\n",
    "lr = 0.01\n",
    "\n",
    "newW2 = W2 - lr * partial_l_w2\n",
    "newb2 = b2 - lr * partial_l_b2\n",
    "newW1 = W1 - lr * partial_l_w1\n",
    "newb1 = b1 - lr * partial_l_b1\n",
    "\n",
    "print(f'old W2: {W2} \\n \\n new W2: {newW2}\\n')\n",
    "print(f'old b2: {b2} \\n \\n  new b2: {newb2}\\n')\n",
    "print(f'old W1: {W1} \\n \\n new W1: {newW1}\\n')\n",
    "print(f'old b1: {b1} \\n \\n  new b1: {newb1}\\n')\n",
    "\n"
   ]
  }
 ],
 "metadata": {
  "kernelspec": {
   "display_name": "Python 3.9.12 ('tf2_cpu')",
   "language": "python",
   "name": "python3"
  },
  "language_info": {
   "codemirror_mode": {
    "name": "ipython",
    "version": 3
   },
   "file_extension": ".py",
   "mimetype": "text/x-python",
   "name": "python",
   "nbconvert_exporter": "python",
   "pygments_lexer": "ipython3",
   "version": "3.9.12"
  },
  "vscode": {
   "interpreter": {
    "hash": "92c79073133677da89801d1b4bc42714b1a3d83cbc90a7f9c522b094b613b522"
   }
  }
 },
 "nbformat": 4,
 "nbformat_minor": 4
}
