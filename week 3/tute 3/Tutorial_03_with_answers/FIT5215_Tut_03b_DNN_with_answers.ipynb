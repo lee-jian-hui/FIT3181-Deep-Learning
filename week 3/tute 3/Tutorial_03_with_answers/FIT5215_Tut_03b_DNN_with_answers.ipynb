{
 "cells": [
  {
   "cell_type": "markdown",
   "metadata": {},
   "source": [
    "# <span style=\"color:#0b486b\">  FIT5215: Deep Learning (2022)</span>\n",
    "***\n",
    "*CE/Lecturer:*  **Dr Trung Le** | trunglm@monash.edu <br/> <br/>\n",
    "*Tutor:*  **Mr Tuan Nguyen**  \\[tuan.ng@monash.edu \\] |**Mr Anh Bui** \\[tuananh.bui@monash.edu\\] | **Mr Xiaohao Yang** \\[xiaohao.yang@monash.edu \\] | **Mr Md Mohaimenuzzaman** \\[md.mohaimen@monash.edu \\] |**Mr Thanh Nguyen** \\[Thanh.Nguyen4@monash.edu \\] |\n",
    "<br/> <br/>\n",
    "Faculty of Information Technology, Monash University, Australia\n",
    "******"
   ]
  },
  {
   "cell_type": "markdown",
   "metadata": {},
   "source": [
    "# <span style=\"color:#0b486b\">Tutorial 3b: Feed-forward Neural Nets with TensorFlow 2.x</span>\n",
    "**This continues Tutorial 2a and shows you how to implement a feedforward neural network using TF 2.x**:  \n",
    "- ***Inspect how to use keras in TF 2.x to fulfill the task. As you can see later, the implementation is much simpler*.**\n"
   ]
  },
  {
   "cell_type": "markdown",
   "metadata": {},
   "source": [
    "***"
   ]
  },
  {
   "cell_type": "markdown",
   "metadata": {},
   "source": [
    "### <span style=\"color:#0b486b\"> II.1 Feedforward Neural Network </span> <span style=\"color:red\">***** (highly important)</span>\n",
    "#### <span style=\"color:#0b486b\"> Tutorial objective </span>"
   ]
  },
  {
   "cell_type": "markdown",
   "metadata": {},
   "source": [
    "In this tutorial we will consider a fairly realistic deep NNs with *three* layers plus the *output* layer. Its architecture will be specified as: $16 \\rightarrow 10 (ReLU) \\rightarrow 20 (ReLU) \\rightarrow 15 (ReLu) \\rightarrow 26$. This means:\n",
    "- Input size is 16\n",
    "- First layer has 10 hidden units with ReLU activation function\n",
    "- Second layer has 20 hidden units with 20 ReLU activiation function\n",
    "- Third layer has 15 hidden units with 15 ReLU activiation function\n",
    "- And output layer is logit layer with 26 hidden units"
   ]
  },
  {
   "cell_type": "markdown",
   "metadata": {},
   "source": [
    "This network, for example, can take the `letter` dataset input with $16$ features and with $26$ classes (A-Z). **Our objective in this tutorial is to implement this specific network in `TensorFlow 2.x`.**"
   ]
  },
  {
   "cell_type": "markdown",
   "metadata": {},
   "source": [
    "### <span style=\"color:#0b486b\"> II.2 Implementation with TensorFlow 2.x</span> <span style=\"color:red\">***** (highly important)</span>\n",
    "We now shall implement the aforementioned network with the architecture of $16 \\rightarrow 10 (ReLU) \\rightarrow 20 (ReLU) \\rightarrow 15 (ReLu) \\rightarrow 26$ in Tensorflow using the dataset `letter`. "
   ]
  },
  {
   "cell_type": "markdown",
   "metadata": {},
   "source": [
    "This letter dataset can be found at [the LIBSVM website](https://www.csie.ntu.edu.tw/~cjlin/libsvmtools/datasets/multiclass.html#letter). Here is the dataset information:\n",
    "-  *The objective is to identify each of a large number of black-and-white rectangular pixel displays as one of the 26 capital letters in the English alphabet. The character images were based on 20 different fonts and each letter within these 20 fonts was randomly distorted to produce a file of 20,000 unique stimuli. Each stimulus was converted into 16 primitive numerical attributes (statistical moments and edge counts) which were then scaled to fit into a range of integer values from 0 through 15*"
   ]
  },
  {
   "cell_type": "markdown",
   "metadata": {},
   "source": [
    "A typical pipeline process of implementing a deep learning model is as follows:\n",
    "\n",
    "1. **Data processing**: \n",
    "    - Load the dataset and split into train, valid, and test sets.  \n",
    "     \n",
    "2. **Building the model**: \n",
    "    - Build the model using keras layers.\n",
    "     \n",
    "3. **Compiling the model**: \n",
    "    - Compile the model and specify the optimizer, the loss (e.g., cross-entropy loss) you want to optimize, metrics you want to measure. \n",
    "    \n",
    "4. **Training and evalutating**:\n",
    "    - Train the model with specific training set and validation set in a number of epochs.\n",
    "    - Predict on the test set and assess its performance."
   ]
  },
  {
   "cell_type": "markdown",
   "metadata": {},
   "source": [
    "#### <span style=\"color:#0b486b\">1. Data Processing </span>"
   ]
  },
  {
   "cell_type": "markdown",
   "metadata": {},
   "source": [
    "We use `sklearn` to load the dataset."
   ]
  },
  {
   "cell_type": "code",
   "execution_count": 1,
   "metadata": {},
   "outputs": [],
   "source": [
    "import os\n",
    "import numpy as np\n",
    "from sklearn.datasets import load_svmlight_file"
   ]
  },
  {
   "cell_type": "code",
   "execution_count": 2,
   "metadata": {},
   "outputs": [
    {
     "name": "stdout",
     "output_type": "stream",
     "text": [
      "X data shape: (15000, 16)\n",
      "y data shape: (15000, 1)\n",
      "# classes: 26\n",
      "[ 1.  2.  3.  4.  5.  6.  7.  8.  9. 10. 11. 12. 13. 14. 15. 16. 17. 18.\n",
      " 19. 20. 21. 22. 23. 24. 25. 26.]\n"
     ]
    }
   ],
   "source": [
    "data_file_name= \"letter_scale.libsvm\"\n",
    "data_file = os.path.abspath(\"./Data/\" + data_file_name)\n",
    "X_data, y_data = load_svmlight_file(data_file)\n",
    "X_data= X_data.toarray()\n",
    "y_data= y_data.reshape(y_data.shape[0],-1)\n",
    "print(\"X data shape: {}\".format(X_data.shape))\n",
    "print(\"y data shape: {}\".format(y_data.shape))\n",
    "print(\"# classes: {}\".format(len(np.unique(y_data))))\n",
    "print(np.unique(y_data))"
   ]
  },
  {
   "cell_type": "markdown",
   "metadata": {},
   "source": [
    "We use `sklearn` to split the dataset into the train, validation, and test sets. \n"
   ]
  },
  {
   "cell_type": "code",
   "execution_count": 3,
   "metadata": {},
   "outputs": [],
   "source": [
    "from sklearn.model_selection import train_test_split\n",
    "from sklearn import preprocessing\n",
    "\n",
    "def train_valid_test_split(data, target, train_size, test_size):\n",
    "    valid_size = 1 - (train_size + test_size)\n",
    "    X1, X_test, y1, y_test = train_test_split(data, target, test_size = test_size, random_state= 33)\n",
    "    X_train, X_valid, y_train, y_valid = train_test_split(X1, y1, test_size = float(valid_size)/(valid_size+ train_size))\n",
    "    return X_train, X_valid, X_test, y_train, y_valid, y_test"
   ]
  },
  {
   "cell_type": "markdown",
   "metadata": {},
   "source": [
    "Next, we would like to encode the label in the form of numeric vector. For example, we want to turn $y\\_data=[\"cat\", \"dog\", \"cat\", \"lion\", \"dog\"]$ to $y\\_data=[0,1,0,2,1]$."
   ]
  },
  {
   "cell_type": "markdown",
   "metadata": {},
   "source": [
    "To do this, in the following segment of code, we use the object `le` as an instance of the class `preprocessing.LabelEncoder()` which supports us to transform catefgorial labels in `y_data` to numerical vector."
   ]
  },
  {
   "cell_type": "code",
   "execution_count": 4,
   "metadata": {},
   "outputs": [
    {
     "name": "stdout",
     "output_type": "stream",
     "text": [
      "[25 15 18 ...  0 11 21]\n"
     ]
    },
    {
     "name": "stderr",
     "output_type": "stream",
     "text": [
      "c:\\Users\\PC\\anaconda3\\envs\\tf2_cpu\\lib\\site-packages\\sklearn\\preprocessing\\_label.py:133: DataConversionWarning: A column-vector y was passed when a 1d array was expected. Please change the shape of y to (n_samples, ), for example using ravel().\n",
      "  y = column_or_1d(y, warn=True)\n"
     ]
    }
   ],
   "source": [
    "le = preprocessing.LabelEncoder()\n",
    "le.fit(y_data.ravel())\n",
    "y_data= le.transform(y_data)\n",
    "y_data = y_data.ravel()\n",
    "print(y_data[:])"
   ]
  },
  {
   "cell_type": "markdown",
   "metadata": {},
   "source": [
    "We now use the function defined above to prepare our data for training, validating and testing."
   ]
  },
  {
   "cell_type": "code",
   "execution_count": 5,
   "metadata": {},
   "outputs": [
    {
     "name": "stdout",
     "output_type": "stream",
     "text": [
      "(12000, 16) (1500, 16) (1500, 16)\n",
      "(12000,) (1500,) (1500,)\n",
      "lables: [ 0  1  2  3  4  5  6  7  8  9 10 11 12 13 14 15 16 17 18 19 20 21 22 23\n",
      " 24 25]\n"
     ]
    }
   ],
   "source": [
    "X_train, X_valid, X_test, y_train, y_valid, y_test = train_valid_test_split(X_data, y_data, \n",
    "                                                                            train_size=0.8, \n",
    "                                                                            test_size=0.1)\n",
    "y_train= y_train.reshape(-1)\n",
    "y_test= y_test.reshape(-1)\n",
    "y_valid= y_valid.reshape(-1)\n",
    "print(X_train.shape, X_valid.shape, X_test.shape)\n",
    "print(y_train.shape, y_valid.shape, y_test.shape)\n",
    "print(\"lables: {}\".format(np.unique(y_train)))"
   ]
  },
  {
   "cell_type": "code",
   "execution_count": 6,
   "metadata": {},
   "outputs": [],
   "source": [
    "train_size= int(X_train.shape[0])\n",
    "n_features= int(X_train.shape[1])\n",
    "n_classes= len(np.unique(y_train))"
   ]
  },
  {
   "cell_type": "markdown",
   "metadata": {},
   "source": [
    "#### <span style=\"color:#0b486b\">2. Build up the model </span>"
   ]
  },
  {
   "cell_type": "markdown",
   "metadata": {},
   "source": [
    "We build up a feedforward neural network with the architecture: $16 \\rightarrow 10 (ReLU) \\rightarrow 20 (ReLU) \\rightarrow 15 (ReLu) \\rightarrow 26$ in TensorFlow 2.x."
   ]
  },
  {
   "cell_type": "code",
   "execution_count": 7,
   "metadata": {},
   "outputs": [],
   "source": [
    "import tensorflow as tf\n",
    "from tensorflow.keras.layers import Dense, Flatten\n",
    "from tensorflow.keras.models import Sequential"
   ]
  },
  {
   "cell_type": "code",
   "execution_count": 8,
   "metadata": {},
   "outputs": [
    {
     "name": "stdout",
     "output_type": "stream",
     "text": [
      "2.6.0\n"
     ]
    }
   ],
   "source": [
    "print(tf.__version__)"
   ]
  },
  {
   "cell_type": "code",
   "execution_count": 9,
   "metadata": {},
   "outputs": [],
   "source": [
    "tf.random.set_seed(1234)"
   ]
  },
  {
   "cell_type": "code",
   "execution_count": 10,
   "metadata": {},
   "outputs": [],
   "source": [
    "dnn_model = Sequential()\n",
    "dnn_model.add(Dense(units=10,  input_shape=(16,), activation='relu'))\n",
    "dnn_model.add(Dense(units=20, activation='relu'))\n",
    "dnn_model.add(Dense(units=15, activation='relu'))\n",
    "dnn_model.add(Dense(units=n_classes, activation='softmax'))"
   ]
  },
  {
   "cell_type": "code",
   "execution_count": 11,
   "metadata": {},
   "outputs": [
    {
     "name": "stdout",
     "output_type": "stream",
     "text": [
      "Model: \"sequential\"\n",
      "_________________________________________________________________\n",
      "Layer (type)                 Output Shape              Param #   \n",
      "=================================================================\n",
      "dense (Dense)                (None, 10)                170       \n",
      "_________________________________________________________________\n",
      "dense_1 (Dense)              (None, 20)                220       \n",
      "_________________________________________________________________\n",
      "dense_2 (Dense)              (None, 15)                315       \n",
      "_________________________________________________________________\n",
      "dense_3 (Dense)              (None, 26)                416       \n",
      "=================================================================\n",
      "Total params: 1,121\n",
      "Trainable params: 1,121\n",
      "Non-trainable params: 0\n",
      "_________________________________________________________________\n"
     ]
    }
   ],
   "source": [
    "dnn_model.build()\n",
    "dnn_model.summary()"
   ]
  },
  {
   "cell_type": "code",
   "execution_count": 12,
   "metadata": {},
   "outputs": [
    {
     "data": {
      "text/plain": [
       "[<keras.layers.core.Dense at 0x2b97995c400>,\n",
       " <keras.layers.core.Dense at 0x2b97995c460>,\n",
       " <keras.layers.core.Dense at 0x2b97a9fda30>,\n",
       " <keras.layers.core.Dense at 0x2b97a9fd610>]"
      ]
     },
     "execution_count": 12,
     "metadata": {},
     "output_type": "execute_result"
    }
   ],
   "source": [
    "dnn_model.layers"
   ]
  },
  {
   "cell_type": "code",
   "execution_count": 13,
   "metadata": {},
   "outputs": [
    {
     "name": "stdout",
     "output_type": "stream",
     "text": [
      "dense\n"
     ]
    }
   ],
   "source": [
    "hidden1 = dnn_model.layers[0]\n",
    "hidden1\n",
    "print(hidden1.name)"
   ]
  },
  {
   "cell_type": "code",
   "execution_count": 14,
   "metadata": {},
   "outputs": [],
   "source": [
    "weights, biases = hidden1.get_weights()"
   ]
  },
  {
   "cell_type": "code",
   "execution_count": 15,
   "metadata": {},
   "outputs": [
    {
     "data": {
      "text/plain": [
       "(16, 10)"
      ]
     },
     "execution_count": 15,
     "metadata": {},
     "output_type": "execute_result"
    }
   ],
   "source": [
    "weights.shape"
   ]
  },
  {
   "cell_type": "code",
   "execution_count": 16,
   "metadata": {},
   "outputs": [
    {
     "data": {
      "text/plain": [
       "(10,)"
      ]
     },
     "execution_count": 16,
     "metadata": {},
     "output_type": "execute_result"
    }
   ],
   "source": [
    "biases.shape"
   ]
  },
  {
   "cell_type": "markdown",
   "metadata": {},
   "source": [
    "#### <span style=\"color:#0b486b\">3. Compiling Model </span>"
   ]
  },
  {
   "cell_type": "code",
   "execution_count": 17,
   "metadata": {},
   "outputs": [],
   "source": [
    "dnn_model.compile(optimizer='adam', \n",
    "                  loss='sparse_categorical_crossentropy', \n",
    "                  metrics=['accuracy'])"
   ]
  },
  {
   "cell_type": "markdown",
   "metadata": {},
   "source": [
    "#### <span style=\"color:#0b486b\">4. Training and Evaluating </span>"
   ]
  },
  {
   "cell_type": "markdown",
   "metadata": {},
   "source": [
    "##### <span style=\"color:#0b486b\"> Visualizing Training Progress </span>\n",
    "In this example, we demonstrate two approaches to visualize training progress, using a History object and using TensorBoard.\n",
    "\n",
    "**Using History object** \n",
    "The history object is the output of `fit()` method, which contains the training parameters (history.params), the list of epochs it went through (history.epoch), and most importantly a dictionary (history.history) containing the loss and extra metrics it measured at the end of each epoch on the training set and on the validation set (if any). The training need to be finished before we can visualize using the history output. \n",
    "\n",
    "**Using TensorBoard**\n",
    "To visualize with TensorBoard we first need to create a `tensorboard callback` method with specific log directory. We then pass the callback method to `model.fit()` method. Unlike the previous method, the callback method writes log data to the log file on-the-fly. Therefore, by opening Tensorboard on a separate browser, we can train a model and parallelly visualize the training progress."
   ]
  },
  {
   "cell_type": "code",
   "execution_count": 18,
   "metadata": {},
   "outputs": [
    {
     "name": "stdout",
     "output_type": "stream",
     "text": [
      "Epoch 1/20\n",
      "375/375 [==============================] - 1s 1ms/step - loss: 2.9438 - accuracy: 0.1428 - val_loss: 2.2506 - val_accuracy: 0.3500\n",
      "Epoch 2/20\n",
      "375/375 [==============================] - 0s 754us/step - loss: 1.8586 - accuracy: 0.4593 - val_loss: 1.5824 - val_accuracy: 0.5440\n",
      "Epoch 3/20\n",
      "375/375 [==============================] - 0s 808us/step - loss: 1.5105 - accuracy: 0.5630 - val_loss: 1.4070 - val_accuracy: 0.6053\n",
      "Epoch 4/20\n",
      "375/375 [==============================] - 0s 752us/step - loss: 1.3651 - accuracy: 0.6117 - val_loss: 1.3151 - val_accuracy: 0.6360\n",
      "Epoch 5/20\n",
      "375/375 [==============================] - 0s 749us/step - loss: 1.2723 - accuracy: 0.6427 - val_loss: 1.2409 - val_accuracy: 0.6660\n",
      "Epoch 6/20\n",
      "375/375 [==============================] - 0s 810us/step - loss: 1.2080 - accuracy: 0.6599 - val_loss: 1.1918 - val_accuracy: 0.6787\n",
      "Epoch 7/20\n",
      "375/375 [==============================] - 0s 896us/step - loss: 1.1577 - accuracy: 0.6755 - val_loss: 1.1663 - val_accuracy: 0.6727\n",
      "Epoch 8/20\n",
      "375/375 [==============================] - 0s 957us/step - loss: 1.1179 - accuracy: 0.6897 - val_loss: 1.1211 - val_accuracy: 0.6927\n",
      "Epoch 9/20\n",
      "375/375 [==============================] - 0s 1ms/step - loss: 1.0835 - accuracy: 0.6935 - val_loss: 1.0998 - val_accuracy: 0.6973\n",
      "Epoch 10/20\n",
      "375/375 [==============================] - 0s 957us/step - loss: 1.0543 - accuracy: 0.7027 - val_loss: 1.0791 - val_accuracy: 0.6880\n",
      "Epoch 11/20\n",
      "375/375 [==============================] - 0s 915us/step - loss: 1.0301 - accuracy: 0.7097 - val_loss: 1.0580 - val_accuracy: 0.7073\n",
      "Epoch 12/20\n",
      "375/375 [==============================] - 0s 760us/step - loss: 1.0073 - accuracy: 0.7144 - val_loss: 1.0328 - val_accuracy: 0.7067\n",
      "Epoch 13/20\n",
      "375/375 [==============================] - 0s 743us/step - loss: 0.9882 - accuracy: 0.7178 - val_loss: 1.0226 - val_accuracy: 0.7080\n",
      "Epoch 14/20\n",
      "375/375 [==============================] - 0s 722us/step - loss: 0.9712 - accuracy: 0.7237 - val_loss: 0.9951 - val_accuracy: 0.7133\n",
      "Epoch 15/20\n",
      "375/375 [==============================] - 0s 757us/step - loss: 0.9547 - accuracy: 0.7292 - val_loss: 0.9890 - val_accuracy: 0.7180\n",
      "Epoch 16/20\n",
      "375/375 [==============================] - 0s 778us/step - loss: 0.9419 - accuracy: 0.7309 - val_loss: 0.9675 - val_accuracy: 0.7173\n",
      "Epoch 17/20\n",
      "375/375 [==============================] - 0s 719us/step - loss: 0.9267 - accuracy: 0.7337 - val_loss: 0.9630 - val_accuracy: 0.7207\n",
      "Epoch 18/20\n",
      "375/375 [==============================] - 0s 743us/step - loss: 0.9154 - accuracy: 0.7377 - val_loss: 0.9435 - val_accuracy: 0.7240\n",
      "Epoch 19/20\n",
      "375/375 [==============================] - 0s 730us/step - loss: 0.9035 - accuracy: 0.7374 - val_loss: 0.9341 - val_accuracy: 0.7273\n",
      "Epoch 20/20\n",
      "375/375 [==============================] - 0s 744us/step - loss: 0.8933 - accuracy: 0.7415 - val_loss: 0.9197 - val_accuracy: 0.7240\n"
     ]
    }
   ],
   "source": [
    "from tensorflow import keras\n",
    "logdir = \"tf_logs/\"\n",
    "\n",
    "# Init a tensorboard_callback \n",
    "tensorboard_callback = keras.callbacks.TensorBoard(log_dir=logdir)\n",
    "\n",
    "# Call the fit method, passing the tensorboard_callback \n",
    "history = dnn_model.fit(x=X_train, y=y_train, batch_size=32, \n",
    "                        epochs=20, \n",
    "                        validation_data=(X_valid, y_valid), \n",
    "                       callbacks=[tensorboard_callback])"
   ]
  },
  {
   "cell_type": "markdown",
   "metadata": {},
   "source": [
    "We now can evaluate the trained model on the testing set or any subset."
   ]
  },
  {
   "cell_type": "code",
   "execution_count": 19,
   "metadata": {},
   "outputs": [
    {
     "name": "stdout",
     "output_type": "stream",
     "text": [
      "47/47 [==============================] - 0s 544us/step - loss: 0.9371 - accuracy: 0.7260\n"
     ]
    },
    {
     "data": {
      "text/plain": [
       "[0.9370524287223816, 0.7260000109672546]"
      ]
     },
     "execution_count": 19,
     "metadata": {},
     "output_type": "execute_result"
    }
   ],
   "source": [
    "dnn_model.evaluate(X_test, y_test)  #return loss and accuracy"
   ]
  },
  {
   "cell_type": "code",
   "execution_count": 20,
   "metadata": {},
   "outputs": [
    {
     "data": {
      "text/plain": [
       "array([[0.  , 0.  , 0.  , 0.  , 0.  , 0.  , 0.  , 0.  , 0.  , 0.  , 0.  ,\n",
       "        0.  , 0.98, 0.  , 0.  , 0.  , 0.  , 0.  , 0.  , 0.  , 0.01, 0.  ,\n",
       "        0.  , 0.  , 0.  , 0.  ]], dtype=float32)"
      ]
     },
     "execution_count": 20,
     "metadata": {},
     "output_type": "execute_result"
    }
   ],
   "source": [
    "X_new = np.reshape(X_test[10, :], (1,-1))\n",
    "y_prob = dnn_model.predict(X_new)\n",
    "y_prob.round(2)"
   ]
  },
  {
   "cell_type": "code",
   "execution_count": 21,
   "metadata": {},
   "outputs": [
    {
     "name": "stdout",
     "output_type": "stream",
     "text": [
      "Incorrect prediction !\n"
     ]
    }
   ],
   "source": [
    "y_pred = np.argmax(dnn_model.predict(X_new), axis=-1)\n",
    "if y_pred[0]==y_test[0]:\n",
    "    print(\"Correct predeiction !\")\n",
    "else:\n",
    "    print(\"Incorrect prediction !\")"
   ]
  },
  {
   "cell_type": "markdown",
   "metadata": {},
   "source": [
    "#### <span style=\"color:#0b486b\">5. Visualizing the Performance and Loss Objective Function </span>\n",
    "\n",
    "The `fit()` method returns a History object containing the training parameters (history.params), the list of epochs it went through (history.epoch), and most importantly a dictionary (history.history) containing the loss (`sparse_categorical_crossentropy`) and extra metrics (`accuracy`) as setted when compiling model.\n",
    "There are four keys in the history dictionary: `loss` and `val_loss` measure the loss on the training set and the validation set, respectively, while `accuracy` and `val_accuracy` measure the accuracy on the training set and the validation set.  \n",
    "The following figure visualize all four metrics with two y-axes, losses (blue lines, in descending) and accuracies (red lines, in asending) "
   ]
  },
  {
   "cell_type": "code",
   "execution_count": 22,
   "metadata": {},
   "outputs": [
    {
     "data": {
      "image/png": "[encoded data removed]",
      "text/plain": [
       "<Figure size 576x360 with 2 Axes>"
      ]
     },
     "metadata": {
      "needs_background": "light"
     },
     "output_type": "display_data"
    }
   ],
   "source": [
    "import pandas as pd\n",
    "import matplotlib.pyplot as plt\n",
    "\n",
    "\n",
    "his = history.history \n",
    "fig = plt.figure(figsize=(8, 5))\n",
    "ax = fig.add_subplot(111)\n",
    "ln1 = ax.plot(his['loss'], 'b--',label='loss')\n",
    "ln2 = ax.plot(his['val_loss'], 'b-',label='val_loss')\n",
    "ax.set_ylabel('loss', color='blue')\n",
    "ax.tick_params(axis='y', colors=\"blue\")\n",
    "\n",
    "ax2 = ax.twinx()\n",
    "ln3 = ax2.plot(his['accuracy'], 'r--',label='accuracy')\n",
    "ln4 = ax2.plot(his['val_accuracy'], 'r-',label='val_accuracy')\n",
    "ax2.set_ylabel('accuracy', color='red')\n",
    "ax2.tick_params(axis='y', colors=\"red\")\n",
    "\n",
    "\n",
    "lns = ln1 + ln2 + ln3 + ln4 \n",
    "labels = [l.get_label() for l in lns]\n",
    "ax.legend(lns, labels)\n",
    "plt.grid(True)\n",
    "plt.show()"
   ]
  },
  {
   "cell_type": "markdown",
   "metadata": {},
   "source": [
    "To visualize using Tensorboard on the same jupyter notebook, we first need to load the TensorBoard extension. Then just calling the tensorboard with log file directory. "
   ]
  },
  {
   "cell_type": "code",
   "execution_count": 23,
   "metadata": {},
   "outputs": [
    {
     "data": {
      "text/plain": [
       "Launching TensorBoard..."
      ]
     },
     "metadata": {},
     "output_type": "display_data"
    },
    {
     "ename": "KeyboardInterrupt",
     "evalue": "",
     "output_type": "error",
     "traceback": [
      "\u001b[1;31m---------------------------------------------------------------------------\u001b[0m",
      "\u001b[1;31mKeyboardInterrupt\u001b[0m                         Traceback (most recent call last)",
      "\u001b[1;32md:\\monash stuff\\education stuff\\3rd yr\\FIT3181 Deep Learning\\week 3\\tute 3\\Tutorial_03_with_answers\\FIT5215_Tut_03b_DNN_with_answers.ipynb Cell 46\u001b[0m in \u001b[0;36m<cell line: 3>\u001b[1;34m()\u001b[0m\n\u001b[0;32m      <a href='vscode-notebook-cell:/d%3A/monash%20stuff/education%20stuff/3rd%20yr/FIT3181%20Deep%20Learning/week%203/tute%203/Tutorial_03_with_answers/FIT5215_Tut_03b_DNN_with_answers.ipynb#X63sZmlsZQ%3D%3D?line=0'>1</a>\u001b[0m \u001b[39m# Load the TensorBoard notebook extension.\u001b[39;00m\n\u001b[0;32m      <a href='vscode-notebook-cell:/d%3A/monash%20stuff/education%20stuff/3rd%20yr/FIT3181%20Deep%20Learning/week%203/tute%203/Tutorial_03_with_answers/FIT5215_Tut_03b_DNN_with_answers.ipynb#X63sZmlsZQ%3D%3D?line=1'>2</a>\u001b[0m get_ipython()\u001b[39m.\u001b[39mrun_line_magic(\u001b[39m'\u001b[39m\u001b[39mload_ext\u001b[39m\u001b[39m'\u001b[39m, \u001b[39m'\u001b[39m\u001b[39mtensorboard\u001b[39m\u001b[39m'\u001b[39m)\n\u001b[1;32m----> <a href='vscode-notebook-cell:/d%3A/monash%20stuff/education%20stuff/3rd%20yr/FIT3181%20Deep%20Learning/week%203/tute%203/Tutorial_03_with_answers/FIT5215_Tut_03b_DNN_with_answers.ipynb#X63sZmlsZQ%3D%3D?line=2'>3</a>\u001b[0m get_ipython()\u001b[39m.\u001b[39;49mrun_line_magic(\u001b[39m'\u001b[39;49m\u001b[39mtensorboard\u001b[39;49m\u001b[39m'\u001b[39;49m, \u001b[39m'\u001b[39;49m\u001b[39m--logdir tf_logs/\u001b[39;49m\u001b[39m'\u001b[39;49m)\n",
      "File \u001b[1;32mc:\\Users\\PC\\anaconda3\\envs\\tf2_cpu\\lib\\site-packages\\IPython\\core\\interactiveshell.py:2305\u001b[0m, in \u001b[0;36mInteractiveShell.run_line_magic\u001b[1;34m(self, magic_name, line, _stack_depth)\u001b[0m\n\u001b[0;32m   2303\u001b[0m     kwargs[\u001b[39m'\u001b[39m\u001b[39mlocal_ns\u001b[39m\u001b[39m'\u001b[39m] \u001b[39m=\u001b[39m \u001b[39mself\u001b[39m\u001b[39m.\u001b[39mget_local_scope(stack_depth)\n\u001b[0;32m   2304\u001b[0m \u001b[39mwith\u001b[39;00m \u001b[39mself\u001b[39m\u001b[39m.\u001b[39mbuiltin_trap:\n\u001b[1;32m-> 2305\u001b[0m     result \u001b[39m=\u001b[39m fn(\u001b[39m*\u001b[39margs, \u001b[39m*\u001b[39m\u001b[39m*\u001b[39mkwargs)\n\u001b[0;32m   2306\u001b[0m \u001b[39mreturn\u001b[39;00m result\n",
      "File \u001b[1;32mc:\\Users\\PC\\anaconda3\\envs\\tf2_cpu\\lib\\site-packages\\tensorboard\\notebook.py:117\u001b[0m, in \u001b[0;36m_start_magic\u001b[1;34m(line)\u001b[0m\n\u001b[0;32m    115\u001b[0m \u001b[39mdef\u001b[39;00m \u001b[39m_start_magic\u001b[39m(line):\n\u001b[0;32m    116\u001b[0m     \u001b[39m\"\"\"Implementation of the `%tensorboard` line magic.\"\"\"\u001b[39;00m\n\u001b[1;32m--> 117\u001b[0m     \u001b[39mreturn\u001b[39;00m start(line)\n",
      "File \u001b[1;32mc:\\Users\\PC\\anaconda3\\envs\\tf2_cpu\\lib\\site-packages\\tensorboard\\notebook.py:152\u001b[0m, in \u001b[0;36mstart\u001b[1;34m(args_string)\u001b[0m\n\u001b[0;32m    149\u001b[0m         handle\u001b[39m.\u001b[39mupdate(IPython\u001b[39m.\u001b[39mdisplay\u001b[39m.\u001b[39mPretty(message))\n\u001b[0;32m    151\u001b[0m parsed_args \u001b[39m=\u001b[39m shlex\u001b[39m.\u001b[39msplit(args_string, comments\u001b[39m=\u001b[39m\u001b[39mTrue\u001b[39;00m, posix\u001b[39m=\u001b[39m\u001b[39mTrue\u001b[39;00m)\n\u001b[1;32m--> 152\u001b[0m start_result \u001b[39m=\u001b[39m manager\u001b[39m.\u001b[39;49mstart(parsed_args)\n\u001b[0;32m    154\u001b[0m \u001b[39mif\u001b[39;00m \u001b[39misinstance\u001b[39m(start_result, manager\u001b[39m.\u001b[39mStartLaunched):\n\u001b[0;32m    155\u001b[0m     _display(\n\u001b[0;32m    156\u001b[0m         port\u001b[39m=\u001b[39mstart_result\u001b[39m.\u001b[39minfo\u001b[39m.\u001b[39mport,\n\u001b[0;32m    157\u001b[0m         print_message\u001b[39m=\u001b[39m\u001b[39mFalse\u001b[39;00m,\n\u001b[0;32m    158\u001b[0m         display_handle\u001b[39m=\u001b[39mhandle,\n\u001b[0;32m    159\u001b[0m     )\n",
      "File \u001b[1;32mc:\\Users\\PC\\anaconda3\\envs\\tf2_cpu\\lib\\site-packages\\tensorboard\\manager.py:428\u001b[0m, in \u001b[0;36mstart\u001b[1;34m(arguments, timeout)\u001b[0m\n\u001b[0;32m    426\u001b[0m end_time_seconds \u001b[39m=\u001b[39m start_time_seconds \u001b[39m+\u001b[39m timeout\u001b[39m.\u001b[39mtotal_seconds()\n\u001b[0;32m    427\u001b[0m \u001b[39mwhile\u001b[39;00m time\u001b[39m.\u001b[39mtime() \u001b[39m<\u001b[39m end_time_seconds:\n\u001b[1;32m--> 428\u001b[0m     time\u001b[39m.\u001b[39;49msleep(poll_interval_seconds)\n\u001b[0;32m    429\u001b[0m     subprocess_result \u001b[39m=\u001b[39m p\u001b[39m.\u001b[39mpoll()\n\u001b[0;32m    430\u001b[0m     \u001b[39mif\u001b[39;00m subprocess_result \u001b[39mis\u001b[39;00m \u001b[39mnot\u001b[39;00m \u001b[39mNone\u001b[39;00m:\n",
      "\u001b[1;31mKeyboardInterrupt\u001b[0m: "
     ]
    }
   ],
   "source": [
    "# Load the TensorBoard notebook extension.\n",
    "%load_ext tensorboard\n",
    "%tensorboard --logdir tf_logs/"
   ]
  },
  {
   "cell_type": "markdown",
   "metadata": {},
   "source": [
    "#### <span style=\"color:#0b486b\">6. Playing around with different optimizers</span>\n",
    "In the following code we will try different optimizers to find which has the best performance (evaluate on the validation set). \n",
    "It can be done easily by passing an specific optimizer when compiling model. \n"
   ]
  },
  {
   "cell_type": "code",
   "execution_count": null,
   "metadata": {},
   "outputs": [
    {
     "name": "stdout",
     "output_type": "stream",
     "text": [
      "*Evaluating with Nadam\n",
      "\n",
      "1500/1500 [==============================] - 0s 20us/sample - loss: 0.7491 - accuracy: 0.7680\n",
      "The valid accuracy is 0.7680000066757202\n",
      "\n",
      "*Evaluating with Adam\n",
      "\n",
      "1500/1500 [==============================] - 0s 19us/sample - loss: 0.6767 - accuracy: 0.7920\n",
      "The valid accuracy is 0.7919999957084656\n",
      "\n",
      "*Evaluating with Adadelta\n",
      "\n",
      "1500/1500 [==============================] - 0s 20us/sample - loss: 0.6694 - accuracy: 0.7953\n",
      "The valid accuracy is 0.7953333258628845\n",
      "\n",
      "*Evaluating with Adagrad\n",
      "\n",
      "1500/1500 [==============================] - 0s 18us/sample - loss: 0.6641 - accuracy: 0.8007\n",
      "The valid accuracy is 0.8006666898727417\n",
      "\n",
      "*Evaluating with RMSprop\n",
      "\n",
      "1500/1500 [==============================] - 0s 17us/sample - loss: 0.6345 - accuracy: 0.7953\n",
      "The valid accuracy is 0.7953333258628845\n",
      "\n",
      "*Evaluating with SGD\n",
      "\n",
      "1500/1500 [==============================] - 0s 17us/sample - loss: 0.6213 - accuracy: 0.8040\n",
      "The valid accuracy is 0.8040000200271606\n",
      "\n",
      "The best valid accuracy is 0.8040000200271606 with SGD\n"
     ]
    }
   ],
   "source": [
    "optimizer_names = [\"Nadam\", \"Adam\", \"Adadelta\", \"Adagrad\", \"RMSprop\", \"SGD\"]\n",
    "optimizer_list = [keras.optimizers.Nadam(learning_rate=0.001), keras.optimizers.Adam(learning_rate=0.001), keras.optimizers.Adadelta(learning_rate=0.001), \n",
    "                  keras.optimizers.Adagrad(learning_rate=0.001), keras.optimizers.RMSprop(learning_rate=0.001), keras.optimizers.SGD(learning_rate=0.001)]\n",
    "best_acc = 0\n",
    "best_i = -1\n",
    "for i in range(len(optimizer_list)):\n",
    "    print(\"*Evaluating with {}\\n\".format(str(optimizer_names[i])))\n",
    "    dnn_model.compile(optimizer=optimizer_list[i], loss='sparse_categorical_crossentropy', metrics=['accuracy'])\n",
    "    dnn_model.fit(x=X_train, y=y_train, batch_size=32, epochs=30, validation_data=(X_valid, y_valid), verbose=0)\n",
    "    acc = dnn_model.evaluate(X_valid, y_valid)[1]\n",
    "    print(\"The valid accuracy is {}\\n\".format(acc))\n",
    "    if acc > best_acc:\n",
    "        best_acc = acc\n",
    "        best_i = i\n",
    "print(\"The best valid accuracy is {} with {}\".format(best_acc, optimizer_names[best_i]))\n",
    "        "
   ]
  },
  {
   "cell_type": "markdown",
   "metadata": {},
   "source": [
    "#### <span style=\"color:#0b486b\">7. Fine-tuning the learning rate</span>\n",
    "Learning rate plays an important role when training a deep learning model. In the following code, we will try a simple greedy search to find a good learning rate. "
   ]
  },
  {
   "cell_type": "code",
   "execution_count": null,
   "metadata": {},
   "outputs": [
    {
     "name": "stdout",
     "output_type": "stream",
     "text": [
      "*Evaluating with learning rate = 0.01\n",
      "\n"
     ]
    },
    {
     "ename": "NameError",
     "evalue": "name 'dnn_model' is not defined",
     "output_type": "error",
     "traceback": [
      "\u001b[1;31m---------------------------------------------------------------------------\u001b[0m",
      "\u001b[1;31mNameError\u001b[0m                                 Traceback (most recent call last)",
      "\u001b[1;32md:\\monash stuff\\education stuff\\3rd yr\\FIT3181 Deep Learning\\week 3\\tute 3\\Tutorial_03_with_answers\\FIT5215_Tut_03b_DNN_with_answers.ipynb Cell 50\u001b[0m in \u001b[0;36m<cell line: 5>\u001b[1;34m()\u001b[0m\n\u001b[0;32m      <a href='vscode-notebook-cell:/d%3A/monash%20stuff/education%20stuff/3rd%20yr/FIT3181%20Deep%20Learning/week%203/tute%203/Tutorial_03_with_answers/FIT5215_Tut_03b_DNN_with_answers.ipynb#Y100sZmlsZQ%3D%3D?line=4'>5</a>\u001b[0m \u001b[39mfor\u001b[39;00m i \u001b[39min\u001b[39;00m \u001b[39mrange\u001b[39m(\u001b[39mlen\u001b[39m(lr)):\n\u001b[0;32m      <a href='vscode-notebook-cell:/d%3A/monash%20stuff/education%20stuff/3rd%20yr/FIT3181%20Deep%20Learning/week%203/tute%203/Tutorial_03_with_answers/FIT5215_Tut_03b_DNN_with_answers.ipynb#Y100sZmlsZQ%3D%3D?line=5'>6</a>\u001b[0m     \u001b[39mprint\u001b[39m(\u001b[39m\"\u001b[39m\u001b[39m*Evaluating with learning rate = \u001b[39m\u001b[39m{}\u001b[39;00m\u001b[39m\\n\u001b[39;00m\u001b[39m\"\u001b[39m\u001b[39m.\u001b[39mformat(\u001b[39mstr\u001b[39m(lr[i])))\n\u001b[1;32m----> <a href='vscode-notebook-cell:/d%3A/monash%20stuff/education%20stuff/3rd%20yr/FIT3181%20Deep%20Learning/week%203/tute%203/Tutorial_03_with_answers/FIT5215_Tut_03b_DNN_with_answers.ipynb#Y100sZmlsZQ%3D%3D?line=6'>7</a>\u001b[0m     dnn_model\u001b[39m.\u001b[39mcompile(optimizer\u001b[39m=\u001b[39mkeras\u001b[39m.\u001b[39moptimizers\u001b[39m.\u001b[39mAdam(learning_rate\u001b[39m=\u001b[39mlr[i]), loss\u001b[39m=\u001b[39m\u001b[39m'\u001b[39m\u001b[39msparse_categorical_crossentropy\u001b[39m\u001b[39m'\u001b[39m, metrics\u001b[39m=\u001b[39m[\u001b[39m'\u001b[39m\u001b[39maccuracy\u001b[39m\u001b[39m'\u001b[39m])\n\u001b[0;32m      <a href='vscode-notebook-cell:/d%3A/monash%20stuff/education%20stuff/3rd%20yr/FIT3181%20Deep%20Learning/week%203/tute%203/Tutorial_03_with_answers/FIT5215_Tut_03b_DNN_with_answers.ipynb#Y100sZmlsZQ%3D%3D?line=7'>8</a>\u001b[0m     dnn_model\u001b[39m.\u001b[39mfit(x\u001b[39m=\u001b[39mX_train, y\u001b[39m=\u001b[39my_train, batch_size\u001b[39m=\u001b[39m\u001b[39m32\u001b[39m, epochs\u001b[39m=\u001b[39m\u001b[39m30\u001b[39m, validation_data\u001b[39m=\u001b[39m(X_valid, y_valid), verbose\u001b[39m=\u001b[39m\u001b[39m0\u001b[39m)\n\u001b[0;32m      <a href='vscode-notebook-cell:/d%3A/monash%20stuff/education%20stuff/3rd%20yr/FIT3181%20Deep%20Learning/week%203/tute%203/Tutorial_03_with_answers/FIT5215_Tut_03b_DNN_with_answers.ipynb#Y100sZmlsZQ%3D%3D?line=8'>9</a>\u001b[0m     acc \u001b[39m=\u001b[39m dnn_model\u001b[39m.\u001b[39mevaluate(X_valid, y_valid)[\u001b[39m1\u001b[39m]\n",
      "\u001b[1;31mNameError\u001b[0m: name 'dnn_model' is not defined"
     ]
    }
   ],
   "source": [
    "lr = [1e-2, 5e-3, 1e-3, 1e-4, 1e-5]    # a list of candidate learning rates\n",
    "\n",
    "best_acc = 0\n",
    "best_i = -1\n",
    "for i in range(len(lr)):\n",
    "    print(\"*Evaluating with learning rate = {}\\n\".format(str(lr[i])))\n",
    "    dnn_model.compile(optimizer=keras.optimizers.Adam(learning_rate=lr[i]), loss='sparse_categorical_crossentropy', metrics=['accuracy'])\n",
    "    dnn_model.fit(x=X_train, y=y_train, batch_size=32, epochs=30, validation_data=(X_valid, y_valid), verbose=0)\n",
    "    acc = dnn_model.evaluate(X_valid, y_valid)[1]\n",
    "    print(\"The valid accuracy is {}\\n\".format(acc))\n",
    "    if acc > best_acc:\n",
    "        best_acc = acc\n",
    "        best_i = i\n",
    "print(\"The best valid accuracy is {} with learning rate {}\".format(best_acc, lr[best_i]))"
   ]
  },
  {
   "cell_type": "markdown",
   "metadata": {},
   "source": [
    "#### <span style=\"color:#0b486b\">8. Save and Load Models</span>\n",
    "\n",
    "There are different ways to save TensorFlow models depending on the API you're using. As we used the Keras model in this tutorial, saving and loading it quite simple. It can be done by calling `model.save()` and `load_model()` methods. \n",
    "When calling `model.save()`, the entire model will be saved including: \n",
    "- The architecture, or configuration, which specifies what layers the model contain, and how they're connected.\n",
    "- A set of weights values (the \"state of the model\").\n",
    "- An optimizer (defined by compiling the model).\n",
    "- A set of losses and metrics (defined by compiling the model or calling add_loss() or add_metric())."
   ]
  },
  {
   "cell_type": "code",
   "execution_count": null,
   "metadata": {},
   "outputs": [
    {
     "name": "stdout",
     "output_type": "stream",
     "text": [
      "WARNING:tensorflow:From C:\\Users\\trung\\Anaconda3\\envs\\tf2x_cpu\\lib\\site-packages\\tensorflow_core\\python\\ops\\resource_variable_ops.py:1786: calling BaseResourceVariable.__init__ (from tensorflow.python.ops.resource_variable_ops) with constraint is deprecated and will be removed in a future version.\n",
      "Instructions for updating:\n",
      "If using Keras pass *_constraint arguments to layers.\n",
      "INFO:tensorflow:Assets written to: models/assets\n",
      "[[ True  True  True  True  True  True  True  True  True  True  True  True\n",
      "   True  True  True  True  True  True  True  True  True  True  True  True\n",
      "   True  True]]\n"
     ]
    }
   ],
   "source": [
    "# Saving the entire model to a directory\n",
    "dnn_model.save('models/')\n",
    "\n",
    "# Loading the model back \n",
    "from tensorflow import keras\n",
    "loaded_model = keras.models.load_model('models/')\n",
    "\n",
    "# Checking the loaded model \n",
    "print(dnn_model.predict(X_new) == loaded_model.predict(X_new))"
   ]
  },
  {
   "cell_type": "markdown",
   "metadata": {},
   "source": [
    "#### <span style=\"color:#0b486b\">Save model during training</span>\n",
    "\n",
    "One major disadvantage of the above saving method is that we cannot save the model during training but only when the training is finished. Therefore, it can be the case when the training was stopped/interrupted and we have to retrain again. To save model during training process, we can use the `ModelCheckpoint` callback allows you to continually save the model both during and at the end of training. \n",
    "Some important arguments of the `ModelCheckpoint` callback: \n",
    "- `filepath`: checkpoin directory \n",
    "- `save_weights_only`: if True, then only the model's weights will be saved (i.e., equal with model.save_weights(filepath)), else the full model is saved (i.e., equal with model.save(filepath) which saves: model' weight, model architecture, optimizer, etc.)\n",
    "- `save_best_only`: if True, it only saves when the model is considered the \"best\" and the latest best model according to the quantity monitored will not be overwritten. The \"best\" model is evaluated based on \"mode\" and \"monitor\". For example, if `monitor=val_accuracy` it means that validation accuracy is used to monitor the best checkpoint, and `mode` should be set to `max`. If `monitor=val_loss` it means that validation loss is used instead, and `mode` in this case should be `min`. \n",
    "\n",
    "More detail can be found in the link: \n",
    "https://www.tensorflow.org/tutorials/keras/save_and_load"
   ]
  },
  {
   "cell_type": "code",
   "execution_count": null,
   "metadata": {
    "scrolled": true,
    "tags": []
   },
   "outputs": [
    {
     "name": "stdout",
     "output_type": "stream",
     "text": [
      "Train on 12000 samples, validate on 1500 samples\n",
      "Epoch 1/20\n",
      "11616/12000 [============================>.] - ETA: 0s - loss: 0.2964 - accuracy: 0.9074\n",
      "Epoch 00001: saving model to models/cp.ckpt\n",
      "12000/12000 [==============================] - 1s 70us/sample - loss: 0.2986 - accuracy: 0.9066 - val_loss: 0.3897 - val_accuracy: 0.8727\n",
      "Epoch 2/20\n",
      "11648/12000 [============================>.] - ETA: 0s - loss: 0.3001 - accuracy: 0.9065\n",
      "Epoch 00002: saving model to models/cp.ckpt\n",
      "12000/12000 [==============================] - 1s 59us/sample - loss: 0.2986 - accuracy: 0.9068 - val_loss: 0.3897 - val_accuracy: 0.8727\n",
      "Epoch 3/20\n",
      "10912/12000 [==========================>...] - ETA: 0s - loss: 0.2958 - accuracy: 0.9082\n",
      "Epoch 00003: saving model to models/cp.ckpt\n",
      "12000/12000 [==============================] - 1s 57us/sample - loss: 0.2986 - accuracy: 0.9068 - val_loss: 0.3896 - val_accuracy: 0.8727\n",
      "Epoch 4/20\n",
      "11552/12000 [===========================>..] - ETA: 0s - loss: 0.2997 - accuracy: 0.9064\n",
      "Epoch 00004: saving model to models/cp.ckpt\n",
      "12000/12000 [==============================] - 1s 55us/sample - loss: 0.2986 - accuracy: 0.9066 - val_loss: 0.3897 - val_accuracy: 0.8727\n",
      "Epoch 5/20\n",
      "11456/12000 [===========================>..] - ETA: 0s - loss: 0.2994 - accuracy: 0.9066 ETA: 0s - loss: 0.2992 - accuracy: 0.90\n",
      "Epoch 00005: saving model to models/cp.ckpt\n",
      "12000/12000 [==============================] - 1s 53us/sample - loss: 0.2986 - accuracy: 0.9069 - val_loss: 0.3897 - val_accuracy: 0.8727\n",
      "Epoch 6/20\n",
      "11424/12000 [===========================>..] - ETA: 0s - loss: 0.2992 - accuracy: 0.9059\n",
      "Epoch 00006: saving model to models/cp.ckpt\n",
      "12000/12000 [==============================] - 1s 53us/sample - loss: 0.2986 - accuracy: 0.9064 - val_loss: 0.3898 - val_accuracy: 0.8727\n",
      "Epoch 7/20\n",
      "11584/12000 [===========================>..] - ETA: 0s - loss: 0.2980 - accuracy: 0.9068\n",
      "Epoch 00007: saving model to models/cp.ckpt\n",
      "12000/12000 [==============================] - 1s 54us/sample - loss: 0.2986 - accuracy: 0.9062 - val_loss: 0.3898 - val_accuracy: 0.8727\n",
      "Epoch 8/20\n",
      "10880/12000 [==========================>...] - ETA: 0s - loss: 0.3012 - accuracy: 0.9066\n",
      "Epoch 00008: saving model to models/cp.ckpt\n",
      "12000/12000 [==============================] - 1s 85us/sample - loss: 0.2986 - accuracy: 0.9065 - val_loss: 0.3896 - val_accuracy: 0.8727\n",
      "Epoch 9/20\n",
      "11104/12000 [==========================>...] - ETA: 0s - loss: 0.2986 - accuracy: 0.9060\n",
      "Epoch 00009: saving model to models/cp.ckpt\n",
      "12000/12000 [==============================] - 1s 53us/sample - loss: 0.2986 - accuracy: 0.9066 - val_loss: 0.3897 - val_accuracy: 0.8727\n",
      "Epoch 10/20\n",
      "11264/12000 [===========================>..] - ETA: 0s - loss: 0.2968 - accuracy: 0.9078\n",
      "Epoch 00010: saving model to models/cp.ckpt\n",
      "12000/12000 [==============================] - 1s 56us/sample - loss: 0.2986 - accuracy: 0.9065 - val_loss: 0.3897 - val_accuracy: 0.8727\n",
      "Epoch 11/20\n",
      "11648/12000 [============================>.] - ETA: 0s - loss: 0.2989 - accuracy: 0.9067\n",
      "Epoch 00011: saving model to models/cp.ckpt\n",
      "12000/12000 [==============================] - 1s 53us/sample - loss: 0.2986 - accuracy: 0.9065 - val_loss: 0.3897 - val_accuracy: 0.8727\n",
      "Epoch 12/20\n",
      "11488/12000 [===========================>..] - ETA: 0s - loss: 0.2981 - accuracy: 0.9065\n",
      "Epoch 00012: saving model to models/cp.ckpt\n",
      "12000/12000 [==============================] - 1s 54us/sample - loss: 0.2986 - accuracy: 0.9064 - val_loss: 0.3898 - val_accuracy: 0.8727\n",
      "Epoch 13/20\n",
      "11296/12000 [===========================>..] - ETA: 0s - loss: 0.2990 - accuracy: 0.9066\n",
      "Epoch 00013: saving model to models/cp.ckpt\n",
      "12000/12000 [==============================] - 1s 57us/sample - loss: 0.2986 - accuracy: 0.9068 - val_loss: 0.3899 - val_accuracy: 0.8727\n",
      "Epoch 14/20\n",
      "11104/12000 [==========================>...] - ETA: 0s - loss: 0.3004 - accuracy: 0.9054\n",
      "Epoch 00014: saving model to models/cp.ckpt\n",
      "12000/12000 [==============================] - 1s 54us/sample - loss: 0.2986 - accuracy: 0.9066 - val_loss: 0.3899 - val_accuracy: 0.8727\n",
      "Epoch 15/20\n",
      "10592/12000 [=========================>....] - ETA: 0s - loss: 0.2956 - accuracy: 0.9074\n",
      "Epoch 00015: saving model to models/cp.ckpt\n",
      "12000/12000 [==============================] - 1s 70us/sample - loss: 0.2986 - accuracy: 0.9067 - val_loss: 0.3897 - val_accuracy: 0.8727\n",
      "Epoch 16/20\n",
      "11424/12000 [===========================>..] - ETA: 0s - loss: 0.2962 - accuracy: 0.9070\n",
      "Epoch 00016: saving model to models/cp.ckpt\n",
      "12000/12000 [==============================] - 1s 51us/sample - loss: 0.2986 - accuracy: 0.9067 - val_loss: 0.3898 - val_accuracy: 0.8727\n",
      "Epoch 17/20\n",
      "11456/12000 [===========================>..] - ETA: 0s - loss: 0.2990 - accuracy: 0.9069\n",
      "Epoch 00017: saving model to models/cp.ckpt\n",
      "12000/12000 [==============================] - 1s 55us/sample - loss: 0.2986 - accuracy: 0.9068 - val_loss: 0.3897 - val_accuracy: 0.8727\n",
      "Epoch 18/20\n",
      "11200/12000 [===========================>..] - ETA: 0s - loss: 0.3010 - accuracy: 0.9053\n",
      "Epoch 00018: saving model to models/cp.ckpt\n",
      "12000/12000 [==============================] - 1s 56us/sample - loss: 0.2986 - accuracy: 0.9067 - val_loss: 0.3899 - val_accuracy: 0.8727\n",
      "Epoch 19/20\n",
      "10784/12000 [=========================>....] - ETA: 0s - loss: 0.2985 - accuracy: 0.9068\n",
      "Epoch 00019: saving model to models/cp.ckpt\n",
      "12000/12000 [==============================] - 1s 57us/sample - loss: 0.2986 - accuracy: 0.9066 - val_loss: 0.3897 - val_accuracy: 0.8727\n",
      "Epoch 20/20\n",
      "11584/12000 [===========================>..] - ETA: 0s - loss: 0.3012 - accuracy: 0.9059\n",
      "Epoch 00020: saving model to models/cp.ckpt\n",
      "12000/12000 [==============================] - 1s 54us/sample - loss: 0.2986 - accuracy: 0.9065 - val_loss: 0.3897 - val_accuracy: 0.8727\n"
     ]
    },
    {
     "data": {
      "text/plain": [
       "<tensorflow.python.keras.callbacks.History at 0x2ac40d193c8>"
      ]
     },
     "execution_count": 27,
     "metadata": {},
     "output_type": "execute_result"
    }
   ],
   "source": [
    "# Create a tf.keras.callbacks.ModelCheckpoint callback that saves weights only during training\n",
    "checkpoint_path = \"models/cp.ckpt\"\n",
    "\n",
    "# Create a callback that saves the model's weights\n",
    "cp_callback = tf.keras.callbacks.ModelCheckpoint(filepath=checkpoint_path,\n",
    "                                                 save_weights_only=True,\n",
    "                                                 verbose=1)\n",
    "\n",
    "# Train the model with the new callback\n",
    "dnn_model.fit(x=X_train, y=y_train, batch_size=32, \n",
    "                        epochs=20, \n",
    "                        validation_data=(X_valid, y_valid), \n",
    "                       callbacks=[tensorboard_callback, # Callback for writing log \n",
    "                                 cp_callback]) # Callback for saving model \n"
   ]
  },
  {
   "cell_type": "markdown",
   "metadata": {},
   "source": [
    "#### <span style=\"color:#0b486b\">Save model during training</span>\n",
    "If we only saved the model's weight, we need to recreate a same architecture before loading the model weight. "
   ]
  },
  {
   "cell_type": "code",
   "execution_count": null,
   "metadata": {},
   "outputs": [
    {
     "data": {
      "text/plain": [
       "<tensorflow.python.training.tracking.util.CheckpointLoadStatus at 0x2ac40d6f588>"
      ]
     },
     "execution_count": 28,
     "metadata": {},
     "output_type": "execute_result"
    }
   ],
   "source": [
    "# Because we alreary created a model, therefore, we just need to load the weight \n",
    "# dnn_model = create_model() # skip this step\n",
    "dnn_model.load_weights(checkpoint_path)"
   ]
  },
  {
   "cell_type": "markdown",
   "metadata": {},
   "source": [
    "If we saved the entire model (by set `save_weights_only=False`), then the pretrained model can be reloaded by `load_model` method"
   ]
  },
  {
   "cell_type": "markdown",
   "metadata": {},
   "source": [
    "### <span style=\"color:#0b486b\"> II.3 Two Approaches to Build Up Models with TensorFlow 2.x</span> <span style=\"color:red\">*** (relatively important)</span>"
   ]
  },
  {
   "cell_type": "markdown",
   "metadata": {},
   "source": [
    "There are two approaches to build up a model with tensorflow 2.x, a simple method using **Sequential API** and a more flexible method using **Functional API**.  "
   ]
  },
  {
   "cell_type": "markdown",
   "metadata": {},
   "source": [
    "#### <span style=\"color:#0b486b\"> Approach 1: Using `Sequential API`</span>"
   ]
  },
  {
   "cell_type": "code",
   "execution_count": null,
   "metadata": {},
   "outputs": [],
   "source": [
    "dnn_model = Sequential()\n",
    "dnn_model.add(Dense(units=10,  input_shape=(16,), activation='relu'))\n",
    "dnn_model.add(Dense(units=20, activation='relu'))\n",
    "dnn_model.add(Dense(units=15, activation='relu'))\n",
    "dnn_model.add(Dense(units=26, activation='softmax'))\n",
    "dnn_model.compile(optimizer='adam', loss='sparse_categorical_crossentropy', metrics=['accuracy'])"
   ]
  },
  {
   "cell_type": "markdown",
   "metadata": {},
   "source": [
    "#### <span style=\"color:#0b486b\"> Approach 2: Using `Functional API`</span>"
   ]
  },
  {
   "cell_type": "code",
   "execution_count": null,
   "metadata": {},
   "outputs": [],
   "source": [
    "X = tf.keras.layers.Input(shape=(16,)) #declare input layer\n",
    "h = Dense(units=10, activation= 'relu')(X)\n",
    "h = Dense(units=20, activation= 'relu')(h)\n",
    "h = Dense(units=15, activation= 'relu')(h)\n",
    "h = Dense(units=26, activation= 'softmax')(h)\n",
    "dnn_model = tf.keras.Model(inputs= X, outputs=h)\n",
    "dnn_model.compile(optimizer='adam', loss='sparse_categorical_crossentropy', metrics=['accuracy'])"
   ]
  },
  {
   "cell_type": "markdown",
   "metadata": {},
   "source": [
    "We can also declare a class inherited from `tf.keras.Model`"
   ]
  },
  {
   "cell_type": "code",
   "execution_count": null,
   "metadata": {},
   "outputs": [],
   "source": [
    "class MyDNN(tf.keras.Model):\n",
    "    def __init__(self, n_classes= 26):\n",
    "        super(MyDNN, self).__init__()\n",
    "        self.n_classes = n_classes\n",
    "        self.dense1 = tf.keras.layers.Dense(units=10, activation= 'relu')\n",
    "        self.dense2 = tf.keras.layers.Dense(units=20, activation= 'relu')\n",
    "        self.dense3 = tf.keras.layers.Dense(units=15, activation= 'relu')\n",
    "        self.dense4 = tf.keras.layers.Dense(units=self.n_classes, activation= 'softmax')\n",
    "    \n",
    "    def call(self,X): #X is the input, method call specifies how to compute the output from the input X\n",
    "        h = self.dense1(X)\n",
    "        h = self.dense2(h)\n",
    "        h = self.dense3(h)\n",
    "        h = self.dense4(h)\n",
    "        return h\n",
    "dnn_model = MyDNN(n_classes= 26)\n",
    "dnn_model.compile(optimizer='adam', loss='sparse_categorical_crossentropy', metrics=['accuracy'])"
   ]
  },
  {
   "cell_type": "markdown",
   "metadata": {},
   "source": [
    "### <span style=\"color:#0b486b\"> II.4 Other approaches to Train a Model with TensorFlow 2.x</span> <span style=\"color:red\">*** (relatively important)</span>"
   ]
  },
  {
   "cell_type": "markdown",
   "metadata": {},
   "source": [
    "There are two main approaches to training a model with Tensorflow 2.x. The simplest method is the `fit` method as we did before. This method automatically helps us to process data when training (e.g., split an entire dataset into multiple mini-batches), applies callback methods such as saving model or writing TensorBoard and monitors validation performance. \n",
    "\n",
    "However, some projects require more handly on training process (for example, doing data augmentation in self-supervised learning or training a generative model that we will learn later in this unit). In this case, we need an ability/understanding to train a model manually. In Tensorflow 2.X, we can do that with `train_on_batch` method. Basically, we will need to *(1) manually split entire dataset into mini-batches and applied data augmentaion (if any)* and *(2) feed training data to `train_on_batch` method*. It returns a training loss (which is pre-defined when compiling model) and an updated model. \n",
    "\n",
    "The following code is a simple example (without any data-augmentation). "
   ]
  },
  {
   "cell_type": "code",
   "execution_count": null,
   "metadata": {},
   "outputs": [
    {
     "name": "stdout",
     "output_type": "stream",
     "text": [
      "Epoch 1: train acc=0.1510, train loss=2.8678 | valid acc=0.1573, valid loss= 2.8721\n",
      "Epoch 2: train acc=0.3644, train loss=2.0786 | valid acc=0.3533, valid loss= 2.0877\n",
      "Epoch 3: train acc=0.5075, train loss=1.6448 | valid acc=0.4947, valid loss= 1.6496\n",
      "Epoch 4: train acc=0.5758, train loss=1.4298 | valid acc=0.5633, valid loss= 1.4345\n",
      "Epoch 5: train acc=0.6065, train loss=1.3327 | valid acc=0.5880, valid loss= 1.3390\n",
      "Epoch 6: train acc=0.6285, train loss=1.2727 | valid acc=0.6080, valid loss= 1.2805\n",
      "Epoch 7: train acc=0.6465, train loss=1.2245 | valid acc=0.6293, valid loss= 1.2329\n",
      "Epoch 8: train acc=0.6597, train loss=1.1807 | valid acc=0.6387, valid loss= 1.1892\n",
      "Epoch 9: train acc=0.6717, train loss=1.1417 | valid acc=0.6580, valid loss= 1.1502\n",
      "Epoch 10: train acc=0.6824, train loss=1.1079 | valid acc=0.6667, valid loss= 1.1171\n",
      "Epoch 11: train acc=0.6892, train loss=1.0780 | valid acc=0.6820, valid loss= 1.0883\n",
      "Epoch 12: train acc=0.6977, train loss=1.0516 | valid acc=0.6893, valid loss= 1.0622\n",
      "Epoch 13: train acc=0.7035, train loss=1.0282 | valid acc=0.6927, valid loss= 1.0394\n",
      "Epoch 14: train acc=0.7093, train loss=1.0080 | valid acc=0.6980, valid loss= 1.0197\n",
      "Epoch 15: train acc=0.7138, train loss=0.9897 | valid acc=0.7027, valid loss= 1.0017\n",
      "Epoch 16: train acc=0.7193, train loss=0.9732 | valid acc=0.7093, valid loss= 0.9852\n",
      "Epoch 17: train acc=0.7221, train loss=0.9582 | valid acc=0.7120, valid loss= 0.9700\n",
      "Epoch 18: train acc=0.7256, train loss=0.9448 | valid acc=0.7140, valid loss= 0.9563\n",
      "Epoch 19: train acc=0.7286, train loss=0.9320 | valid acc=0.7207, valid loss= 0.9436\n",
      "Epoch 20: train acc=0.7314, train loss=0.9204 | valid acc=0.7233, valid loss= 0.9325\n"
     ]
    }
   ],
   "source": [
    "n_epochs =20\n",
    "batch_size = 64\n",
    "for epoch in range(n_epochs):\n",
    "    for idx_start in range(0, X_train.shape[0], batch_size):\n",
    "        idx_end = min(X_train.shape[0], idx_start + batch_size)\n",
    "        X_batch, y_batch = X_train[idx_start:idx_end], y_train[idx_start:idx_end]\n",
    "        train_loss_batch = dnn_model.train_on_batch(X_batch, y_batch)  #return the batch loss\n",
    "        \n",
    "    train_loss, train_acc = dnn_model.evaluate(x= X_train, y= y_train, batch_size= 64, verbose= 0)\n",
    "    valid_loss, valid_acc = dnn_model.evaluate(x= X_valid, y= y_valid, batch_size= 64, verbose= 0)\n",
    "    print('Epoch {}: train acc={:.4f}, train loss={:.4f} | valid acc={:.4f}, valid loss= {:.4f}'.format(epoch +1, \n",
    "                                                                                                        train_acc, \n",
    "                                                                                                        train_loss, \n",
    "                                                                                                        valid_acc, \n",
    "                                                                                                        valid_loss))"
   ]
  },
  {
   "cell_type": "markdown",
   "metadata": {},
   "source": [
    "### <span style=\"color:#0b486b\"> Additional Exercises </span> "
   ]
  },
  {
   "cell_type": "markdown",
   "metadata": {},
   "source": [
    "1. Write your own code to save a trained model to the hard disk and restore this model, then use the restored model to output the prediction result on the test set."
   ]
  },
  {
   "cell_type": "markdown",
   "metadata": {},
   "source": [
    "2. Insert new code to the above code to enable outputting to TensorBoard the values of `training loss`, `training accuracy`, `valid loss`, and `valid accuracy` at the end of epochs. You can refer to the code [here](https://www.tensorflow.org/tensorboard/get_started)."
   ]
  },
  {
   "cell_type": "markdown",
   "metadata": {},
   "source": [
    "3. Write code to do regression on the dataset `cadata` which can be downloaded [here](https://www.csie.ntu.edu.tw/~cjlin/libsvmtools/datasets/regression.html). Note that for a regression problem, you need to use the `L2` loss instead of the `cross-entropy` loss as in a classification problem. "
   ]
  },
  {
   "cell_type": "markdown",
   "metadata": {},
   "source": [
    "4. Using the problem in this tutorial, however, using a much deeper network (i.e., $16 \\rightarrow 100 (ReLU) \\rightarrow 200 (ReLU) \\rightarrow 200 (ReLU) \\rightarrow 100 (ReLu) \\rightarrow 26$). Applying callback methods to save the model on training and writing a TensorBoard. Visualize `training loss`, `training accuracy`, `valid loss`, and `valid accuracy`. Provide observation and explanation of any issue if happen (hint, overfitting issue). "
   ]
  },
  {
   "cell_type": "markdown",
   "metadata": {},
   "source": [
    "5. Build up a more complex feedforward neural network with `Functional API` method  as shown in figure below. The network splits into two branches and then merges in the last layer. The concatenate operation is in the last dimenstion (for example, two arrays [10,15], [10,15] will be concatenated to an array [10,30]."
   ]
  },
  {
   "cell_type": "markdown",
   "metadata": {},
   "source": [
    "<img src=\"./images/feed-forward-2branches.PNG\" width=\"1000\">"
   ]
  },
  {
   "cell_type": "markdown",
   "metadata": {},
   "source": [
    "---\n",
    "### <span style=\"color:#0b486b\"> <div  style=\"text-align:center\">**THE END**</div> </span>"
   ]
  },
  {
   "cell_type": "markdown",
   "metadata": {},
   "source": [
    "### <span style=\"color:#FFA500\"> Solution for exercise 1"
   ]
  },
  {
   "cell_type": "markdown",
   "metadata": {},
   "source": [
    "A Keras model can be saved and restored via two functions `save()` and `load_model()`."
   ]
  },
  {
   "cell_type": "code",
   "execution_count": null,
   "metadata": {},
   "outputs": [
    {
     "name": "stdout",
     "output_type": "stream",
     "text": [
      "INFO:tensorflow:Assets written to: ckpt/tf2\\assets\n",
      "Model is saved to: ckpt/tf2\n"
     ]
    }
   ],
   "source": [
    "from tensorflow.keras import models \n",
    "checkpoint_path = \"ckpt/tf2\"\n",
    "\n",
    "dnn_model.save(checkpoint_path)\n",
    "reconstructed_model = models.load_model(checkpoint_path)\n",
    "\n",
    "print(\"Model is saved to: {}\".format(checkpoint_path))"
   ]
  },
  {
   "cell_type": "markdown",
   "metadata": {},
   "source": [
    "We now can evaluate the reconstructed model on the test sett."
   ]
  },
  {
   "cell_type": "code",
   "execution_count": null,
   "metadata": {},
   "outputs": [
    {
     "name": "stdout",
     "output_type": "stream",
     "text": [
      "47/47 [==============================] - 0s 689us/step - loss: 0.9864 - accuracy: 0.7200\n"
     ]
    },
    {
     "data": {
      "text/plain": [
       "[0.9864100813865662, 0.7200000286102295]"
      ]
     },
     "execution_count": 30,
     "metadata": {},
     "output_type": "execute_result"
    }
   ],
   "source": [
    "reconstructed_model.evaluate(X_test, y_test)"
   ]
  },
  {
   "cell_type": "markdown",
   "metadata": {},
   "source": [
    "### <span style=\"color:#FFA500\"> Solution for exercise 2"
   ]
  },
  {
   "cell_type": "markdown",
   "metadata": {},
   "source": [
    "Firstly, we define a deep learning model. "
   ]
  },
  {
   "cell_type": "code",
   "execution_count": null,
   "metadata": {},
   "outputs": [],
   "source": [
    "import tensorflow as tf\n",
    "from tensorflow.keras.layers import Dense\n",
    "X = tf.keras.layers.Input(shape=(16,)) # declare input layer\n",
    "h = Dense(units=10, activation= 'relu')(X)\n",
    "h = Dense(units=20, activation= 'relu')(h)\n",
    "h = Dense(units=15, activation= 'relu')(h)\n",
    "h = Dense(units=26, activation= 'softmax')(h)\n",
    "dnn_model = tf.keras.Model(inputs= X, outputs=h)"
   ]
  },
  {
   "cell_type": "markdown",
   "metadata": {},
   "source": [
    "Next, let us combine the defined model with an optimizer, loss, and metrics.\n",
    "Adding a `tf.keras.callbacks.TensorBoard` callback will enable outputting the values of `training loss`, `training accuracy`, `valid loss`, and `valid accuracy` at the end of epochs."
   ]
  },
  {
   "cell_type": "code",
   "execution_count": null,
   "metadata": {},
   "outputs": [
    {
     "name": "stdout",
     "output_type": "stream",
     "text": [
      "Epoch 1/100\n",
      "375/375 [==============================] - 1s 3ms/step - loss: 2.9862 - accuracy: 0.1168 - val_loss: 2.3230 - val_accuracy: 0.2913\n",
      "Epoch 2/100\n",
      "375/375 [==============================] - 0s 691us/step - loss: 1.8472 - accuracy: 0.4440 - val_loss: 1.5941 - val_accuracy: 0.5400\n",
      "Epoch 3/100\n",
      "375/375 [==============================] - 0s 686us/step - loss: 1.4707 - accuracy: 0.5722 - val_loss: 1.3960 - val_accuracy: 0.5980\n",
      "Epoch 4/100\n",
      "375/375 [==============================] - 0s 671us/step - loss: 1.3151 - accuracy: 0.6125 - val_loss: 1.2630 - val_accuracy: 0.6373\n",
      "Epoch 5/100\n",
      "375/375 [==============================] - 0s 688us/step - loss: 1.2262 - accuracy: 0.6387 - val_loss: 1.1913 - val_accuracy: 0.6573\n",
      "Epoch 6/100\n",
      "375/375 [==============================] - 0s 683us/step - loss: 1.1632 - accuracy: 0.6650 - val_loss: 1.1486 - val_accuracy: 0.6793\n",
      "Epoch 7/100\n",
      "375/375 [==============================] - 0s 683us/step - loss: 1.1128 - accuracy: 0.6813 - val_loss: 1.1014 - val_accuracy: 0.6940\n",
      "Epoch 8/100\n",
      "375/375 [==============================] - 0s 677us/step - loss: 1.0722 - accuracy: 0.6920 - val_loss: 1.0595 - val_accuracy: 0.7053\n",
      "Epoch 9/100\n",
      "375/375 [==============================] - 0s 675us/step - loss: 1.0378 - accuracy: 0.6995 - val_loss: 1.0357 - val_accuracy: 0.7073\n",
      "Epoch 10/100\n",
      "375/375 [==============================] - 0s 680us/step - loss: 1.0065 - accuracy: 0.7080 - val_loss: 0.9987 - val_accuracy: 0.7233\n",
      "Epoch 11/100\n",
      "375/375 [==============================] - 0s 693us/step - loss: 0.9778 - accuracy: 0.7151 - val_loss: 0.9872 - val_accuracy: 0.7200\n",
      "Epoch 12/100\n",
      "375/375 [==============================] - 0s 681us/step - loss: 0.9541 - accuracy: 0.7213 - val_loss: 0.9559 - val_accuracy: 0.7247\n",
      "Epoch 13/100\n",
      "375/375 [==============================] - 0s 673us/step - loss: 0.9333 - accuracy: 0.7285 - val_loss: 0.9471 - val_accuracy: 0.7180\n",
      "Epoch 14/100\n",
      "375/375 [==============================] - 0s 690us/step - loss: 0.9160 - accuracy: 0.7297 - val_loss: 0.9425 - val_accuracy: 0.7287\n",
      "Epoch 15/100\n",
      "375/375 [==============================] - 0s 677us/step - loss: 0.8987 - accuracy: 0.7333 - val_loss: 0.9012 - val_accuracy: 0.7433\n",
      "Epoch 16/100\n",
      "375/375 [==============================] - 0s 696us/step - loss: 0.8816 - accuracy: 0.7389 - val_loss: 0.8976 - val_accuracy: 0.7373\n",
      "Epoch 17/100\n",
      "375/375 [==============================] - 0s 693us/step - loss: 0.8680 - accuracy: 0.7413 - val_loss: 0.8829 - val_accuracy: 0.7460\n",
      "Epoch 18/100\n",
      "375/375 [==============================] - 0s 688us/step - loss: 0.8533 - accuracy: 0.7473 - val_loss: 0.8714 - val_accuracy: 0.7480\n",
      "Epoch 19/100\n",
      "375/375 [==============================] - 0s 680us/step - loss: 0.8423 - accuracy: 0.7497 - val_loss: 0.8495 - val_accuracy: 0.7540\n",
      "Epoch 20/100\n",
      "375/375 [==============================] - 0s 680us/step - loss: 0.8285 - accuracy: 0.7536 - val_loss: 0.8412 - val_accuracy: 0.7573\n",
      "Epoch 21/100\n",
      "375/375 [==============================] - 0s 685us/step - loss: 0.8176 - accuracy: 0.7574 - val_loss: 0.8358 - val_accuracy: 0.7567\n",
      "Epoch 22/100\n",
      "375/375 [==============================] - 0s 675us/step - loss: 0.8067 - accuracy: 0.7607 - val_loss: 0.8290 - val_accuracy: 0.7587\n",
      "Epoch 23/100\n",
      "375/375 [==============================] - 0s 683us/step - loss: 0.7952 - accuracy: 0.7601 - val_loss: 0.8160 - val_accuracy: 0.7647\n",
      "Epoch 24/100\n",
      "375/375 [==============================] - 0s 680us/step - loss: 0.7854 - accuracy: 0.7663 - val_loss: 0.8111 - val_accuracy: 0.7620\n",
      "Epoch 25/100\n",
      "375/375 [==============================] - 0s 696us/step - loss: 0.7781 - accuracy: 0.7680 - val_loss: 0.7913 - val_accuracy: 0.7673\n",
      "Epoch 26/100\n",
      "375/375 [==============================] - 0s 685us/step - loss: 0.7663 - accuracy: 0.7687 - val_loss: 0.7873 - val_accuracy: 0.7707\n",
      "Epoch 27/100\n",
      "375/375 [==============================] - 0s 691us/step - loss: 0.7587 - accuracy: 0.7692 - val_loss: 0.7776 - val_accuracy: 0.7727\n",
      "Epoch 28/100\n",
      "375/375 [==============================] - 0s 683us/step - loss: 0.7507 - accuracy: 0.7701 - val_loss: 0.7816 - val_accuracy: 0.7667\n",
      "Epoch 29/100\n",
      "375/375 [==============================] - 0s 685us/step - loss: 0.7419 - accuracy: 0.7734 - val_loss: 0.7643 - val_accuracy: 0.7767\n",
      "Epoch 30/100\n",
      "375/375 [==============================] - 0s 685us/step - loss: 0.7368 - accuracy: 0.7766 - val_loss: 0.7555 - val_accuracy: 0.7760\n",
      "Epoch 31/100\n",
      "375/375 [==============================] - 0s 699us/step - loss: 0.7273 - accuracy: 0.7763 - val_loss: 0.7481 - val_accuracy: 0.7793\n",
      "Epoch 32/100\n",
      "375/375 [==============================] - 0s 680us/step - loss: 0.7203 - accuracy: 0.7816 - val_loss: 0.7457 - val_accuracy: 0.7800\n",
      "Epoch 33/100\n",
      "375/375 [==============================] - 0s 691us/step - loss: 0.7142 - accuracy: 0.7828 - val_loss: 0.7494 - val_accuracy: 0.7740\n",
      "Epoch 34/100\n",
      "375/375 [==============================] - 0s 693us/step - loss: 0.7087 - accuracy: 0.7828 - val_loss: 0.7335 - val_accuracy: 0.7767\n",
      "Epoch 35/100\n",
      "375/375 [==============================] - 0s 691us/step - loss: 0.7005 - accuracy: 0.7862 - val_loss: 0.7268 - val_accuracy: 0.7813\n",
      "Epoch 36/100\n",
      "375/375 [==============================] - 0s 725us/step - loss: 0.6954 - accuracy: 0.7883 - val_loss: 0.7184 - val_accuracy: 0.7887\n",
      "Epoch 37/100\n",
      "375/375 [==============================] - 0s 685us/step - loss: 0.6917 - accuracy: 0.7874 - val_loss: 0.7315 - val_accuracy: 0.7867\n",
      "Epoch 38/100\n",
      "375/375 [==============================] - 0s 696us/step - loss: 0.6850 - accuracy: 0.7884 - val_loss: 0.7187 - val_accuracy: 0.7853\n",
      "Epoch 39/100\n",
      "375/375 [==============================] - 0s 683us/step - loss: 0.6801 - accuracy: 0.7897 - val_loss: 0.7219 - val_accuracy: 0.7800\n",
      "Epoch 40/100\n",
      "375/375 [==============================] - 0s 683us/step - loss: 0.6747 - accuracy: 0.7895 - val_loss: 0.7091 - val_accuracy: 0.7887\n",
      "Epoch 41/100\n",
      "375/375 [==============================] - 0s 693us/step - loss: 0.6692 - accuracy: 0.7943 - val_loss: 0.7146 - val_accuracy: 0.7940\n",
      "Epoch 42/100\n",
      "375/375 [==============================] - 0s 699us/step - loss: 0.6651 - accuracy: 0.7962 - val_loss: 0.6943 - val_accuracy: 0.7967\n",
      "Epoch 43/100\n",
      "375/375 [==============================] - 0s 712us/step - loss: 0.6607 - accuracy: 0.7954 - val_loss: 0.6905 - val_accuracy: 0.8027\n",
      "Epoch 44/100\n",
      "375/375 [==============================] - 0s 680us/step - loss: 0.6556 - accuracy: 0.8001 - val_loss: 0.6813 - val_accuracy: 0.8013\n",
      "Epoch 45/100\n",
      "375/375 [==============================] - 0s 693us/step - loss: 0.6523 - accuracy: 0.8000 - val_loss: 0.6876 - val_accuracy: 0.7960\n",
      "Epoch 46/100\n",
      "375/375 [==============================] - 0s 688us/step - loss: 0.6466 - accuracy: 0.8006 - val_loss: 0.6964 - val_accuracy: 0.7973\n",
      "Epoch 47/100\n",
      "375/375 [==============================] - 0s 683us/step - loss: 0.6407 - accuracy: 0.8027 - val_loss: 0.6712 - val_accuracy: 0.7973\n",
      "Epoch 48/100\n",
      "375/375 [==============================] - 0s 680us/step - loss: 0.6379 - accuracy: 0.8040 - val_loss: 0.6760 - val_accuracy: 0.8007\n",
      "Epoch 49/100\n",
      "375/375 [==============================] - 0s 693us/step - loss: 0.6343 - accuracy: 0.8043 - val_loss: 0.6740 - val_accuracy: 0.8027\n",
      "Epoch 50/100\n",
      "375/375 [==============================] - 0s 685us/step - loss: 0.6305 - accuracy: 0.8043 - val_loss: 0.6616 - val_accuracy: 0.8080\n",
      "Epoch 51/100\n",
      "375/375 [==============================] - 0s 683us/step - loss: 0.6261 - accuracy: 0.8072 - val_loss: 0.6632 - val_accuracy: 0.8020\n",
      "Epoch 52/100\n",
      "375/375 [==============================] - 0s 688us/step - loss: 0.6225 - accuracy: 0.8082 - val_loss: 0.6616 - val_accuracy: 0.8067\n",
      "Epoch 53/100\n",
      "375/375 [==============================] - 0s 688us/step - loss: 0.6210 - accuracy: 0.8088 - val_loss: 0.6595 - val_accuracy: 0.8087\n",
      "Epoch 54/100\n",
      "375/375 [==============================] - 0s 725us/step - loss: 0.6165 - accuracy: 0.8091 - val_loss: 0.6534 - val_accuracy: 0.8007\n",
      "Epoch 55/100\n",
      "375/375 [==============================] - 0s 691us/step - loss: 0.6116 - accuracy: 0.8096 - val_loss: 0.6436 - val_accuracy: 0.8120\n",
      "Epoch 56/100\n",
      "375/375 [==============================] - 0s 683us/step - loss: 0.6088 - accuracy: 0.8102 - val_loss: 0.6449 - val_accuracy: 0.8053\n",
      "Epoch 57/100\n",
      "375/375 [==============================] - 0s 683us/step - loss: 0.6061 - accuracy: 0.8092 - val_loss: 0.6459 - val_accuracy: 0.8100\n",
      "Epoch 58/100\n",
      "375/375 [==============================] - 0s 667us/step - loss: 0.6002 - accuracy: 0.8127 - val_loss: 0.6400 - val_accuracy: 0.8113\n",
      "Epoch 59/100\n",
      "375/375 [==============================] - 0s 677us/step - loss: 0.5976 - accuracy: 0.8137 - val_loss: 0.6414 - val_accuracy: 0.8040\n",
      "Epoch 60/100\n",
      "375/375 [==============================] - 0s 680us/step - loss: 0.5982 - accuracy: 0.8142 - val_loss: 0.6414 - val_accuracy: 0.8087\n",
      "Epoch 61/100\n",
      "375/375 [==============================] - 0s 680us/step - loss: 0.5917 - accuracy: 0.8163 - val_loss: 0.6308 - val_accuracy: 0.8107\n",
      "Epoch 62/100\n",
      "375/375 [==============================] - 0s 701us/step - loss: 0.5908 - accuracy: 0.8153 - val_loss: 0.6336 - val_accuracy: 0.8080\n",
      "Epoch 63/100\n",
      "375/375 [==============================] - 0s 704us/step - loss: 0.5873 - accuracy: 0.8191 - val_loss: 0.6261 - val_accuracy: 0.8127\n",
      "Epoch 64/100\n",
      "375/375 [==============================] - 0s 659us/step - loss: 0.5836 - accuracy: 0.8157 - val_loss: 0.6195 - val_accuracy: 0.8133\n",
      "Epoch 65/100\n",
      "375/375 [==============================] - 0s 683us/step - loss: 0.5801 - accuracy: 0.8188 - val_loss: 0.6297 - val_accuracy: 0.8073\n",
      "Epoch 66/100\n",
      "375/375 [==============================] - 0s 715us/step - loss: 0.5763 - accuracy: 0.8223 - val_loss: 0.6216 - val_accuracy: 0.8093\n",
      "Epoch 67/100\n",
      "375/375 [==============================] - 0s 691us/step - loss: 0.5740 - accuracy: 0.8227 - val_loss: 0.6233 - val_accuracy: 0.8080\n",
      "Epoch 68/100\n",
      "375/375 [==============================] - 0s 616us/step - loss: 0.5713 - accuracy: 0.8222 - val_loss: 0.6178 - val_accuracy: 0.8207\n",
      "Epoch 69/100\n",
      "375/375 [==============================] - 0s 704us/step - loss: 0.5720 - accuracy: 0.8227 - val_loss: 0.6186 - val_accuracy: 0.8180\n",
      "Epoch 70/100\n",
      "375/375 [==============================] - 0s 696us/step - loss: 0.5661 - accuracy: 0.8232 - val_loss: 0.6105 - val_accuracy: 0.8200\n",
      "Epoch 71/100\n",
      "375/375 [==============================] - 0s 688us/step - loss: 0.5649 - accuracy: 0.8229 - val_loss: 0.6068 - val_accuracy: 0.8120\n",
      "Epoch 72/100\n",
      "375/375 [==============================] - 0s 685us/step - loss: 0.5609 - accuracy: 0.8248 - val_loss: 0.6070 - val_accuracy: 0.8173\n",
      "Epoch 73/100\n",
      "375/375 [==============================] - 0s 693us/step - loss: 0.5602 - accuracy: 0.8259 - val_loss: 0.6138 - val_accuracy: 0.8113\n",
      "Epoch 74/100\n",
      "375/375 [==============================] - 0s 683us/step - loss: 0.5570 - accuracy: 0.8268 - val_loss: 0.6159 - val_accuracy: 0.8087\n",
      "Epoch 75/100\n",
      "375/375 [==============================] - 0s 691us/step - loss: 0.5543 - accuracy: 0.8273 - val_loss: 0.6117 - val_accuracy: 0.8187\n",
      "Epoch 76/100\n",
      "375/375 [==============================] - 0s 685us/step - loss: 0.5532 - accuracy: 0.8283 - val_loss: 0.6087 - val_accuracy: 0.8200\n",
      "Epoch 77/100\n",
      "375/375 [==============================] - 0s 685us/step - loss: 0.5531 - accuracy: 0.8299 - val_loss: 0.5976 - val_accuracy: 0.8200\n",
      "Epoch 78/100\n",
      "375/375 [==============================] - 0s 685us/step - loss: 0.5479 - accuracy: 0.8282 - val_loss: 0.6000 - val_accuracy: 0.8180\n",
      "Epoch 79/100\n",
      "375/375 [==============================] - 0s 699us/step - loss: 0.5469 - accuracy: 0.8287 - val_loss: 0.6035 - val_accuracy: 0.8133\n",
      "Epoch 80/100\n",
      "375/375 [==============================] - 0s 688us/step - loss: 0.5458 - accuracy: 0.8327 - val_loss: 0.6065 - val_accuracy: 0.8120\n",
      "Epoch 81/100\n",
      "375/375 [==============================] - 0s 704us/step - loss: 0.5451 - accuracy: 0.8294 - val_loss: 0.6005 - val_accuracy: 0.8220\n",
      "Epoch 82/100\n",
      "375/375 [==============================] - 0s 715us/step - loss: 0.5418 - accuracy: 0.8320 - val_loss: 0.6043 - val_accuracy: 0.8207\n",
      "Epoch 83/100\n",
      "375/375 [==============================] - 0s 691us/step - loss: 0.5392 - accuracy: 0.8317 - val_loss: 0.6140 - val_accuracy: 0.8093\n",
      "Epoch 84/100\n",
      "375/375 [==============================] - 0s 713us/step - loss: 0.5398 - accuracy: 0.8316 - val_loss: 0.5950 - val_accuracy: 0.8207\n",
      "Epoch 85/100\n",
      "375/375 [==============================] - 0s 700us/step - loss: 0.5385 - accuracy: 0.8294 - val_loss: 0.5947 - val_accuracy: 0.8233\n",
      "Epoch 86/100\n",
      "375/375 [==============================] - 0s 743us/step - loss: 0.5332 - accuracy: 0.8327 - val_loss: 0.5981 - val_accuracy: 0.8200\n",
      "Epoch 87/100\n",
      "375/375 [==============================] - 0s 693us/step - loss: 0.5339 - accuracy: 0.8351 - val_loss: 0.6049 - val_accuracy: 0.8187\n",
      "Epoch 88/100\n",
      "375/375 [==============================] - 0s 692us/step - loss: 0.5302 - accuracy: 0.8331 - val_loss: 0.5930 - val_accuracy: 0.8213\n",
      "Epoch 89/100\n",
      "375/375 [==============================] - 0s 686us/step - loss: 0.5269 - accuracy: 0.8354 - val_loss: 0.5790 - val_accuracy: 0.8273\n",
      "Epoch 90/100\n",
      "375/375 [==============================] - 0s 688us/step - loss: 0.5294 - accuracy: 0.8339 - val_loss: 0.5855 - val_accuracy: 0.8233\n",
      "Epoch 91/100\n",
      "375/375 [==============================] - 0s 738us/step - loss: 0.5255 - accuracy: 0.8361 - val_loss: 0.5878 - val_accuracy: 0.8233\n",
      "Epoch 92/100\n",
      "375/375 [==============================] - 0s 683us/step - loss: 0.5274 - accuracy: 0.8350 - val_loss: 0.5839 - val_accuracy: 0.8180\n",
      "Epoch 93/100\n",
      "375/375 [==============================] - 0s 688us/step - loss: 0.5225 - accuracy: 0.8365 - val_loss: 0.6119 - val_accuracy: 0.8127\n",
      "Epoch 94/100\n",
      "375/375 [==============================] - 0s 691us/step - loss: 0.5229 - accuracy: 0.8367 - val_loss: 0.5874 - val_accuracy: 0.8233\n",
      "Epoch 95/100\n",
      "375/375 [==============================] - 0s 691us/step - loss: 0.5203 - accuracy: 0.8361 - val_loss: 0.5763 - val_accuracy: 0.8273\n",
      "Epoch 96/100\n",
      "375/375 [==============================] - 0s 695us/step - loss: 0.5195 - accuracy: 0.8358 - val_loss: 0.5741 - val_accuracy: 0.8267\n",
      "Epoch 97/100\n",
      "375/375 [==============================] - 0s 693us/step - loss: 0.5167 - accuracy: 0.8411 - val_loss: 0.5663 - val_accuracy: 0.8273\n",
      "Epoch 98/100\n",
      "375/375 [==============================] - 0s 676us/step - loss: 0.5153 - accuracy: 0.8401 - val_loss: 0.5783 - val_accuracy: 0.8213\n",
      "Epoch 99/100\n",
      "375/375 [==============================] - 0s 680us/step - loss: 0.5131 - accuracy: 0.8403 - val_loss: 0.5752 - val_accuracy: 0.8273\n",
      "Epoch 100/100\n",
      "375/375 [==============================] - 0s 689us/step - loss: 0.5137 - accuracy: 0.8391 - val_loss: 0.5734 - val_accuracy: 0.8227\n"
     ]
    },
    {
     "data": {
      "text/plain": [
       "<tensorflow.python.keras.callbacks.History at 0x24b27a1feb0>"
      ]
     },
     "execution_count": 33,
     "metadata": {},
     "output_type": "execute_result"
    }
   ],
   "source": [
    "import datetime\n",
    "dnn_model.compile(optimizer='adam', loss='sparse_categorical_crossentropy', metrics=['accuracy'])\n",
    "log_dir = \"logs/tf2/\" + datetime.datetime.now().strftime(\"%Y%m%d-%H%M%S\")  # declare the directory to save logs.\n",
    "tensorboard_callback = tf.keras.callbacks.TensorBoard(log_dir=log_dir, histogram_freq=1)\n",
    "dnn_model.fit(x=X_train, y=y_train, batch_size=32, epochs=100, validation_data=(X_valid, y_valid), callbacks=[tensorboard_callback])"
   ]
  },
  {
   "cell_type": "markdown",
   "metadata": {},
   "source": [
    "- Open command line, nevigate to the folder of this tute and run **> tensorboard --logdir \"logs/tf2\"**"
   ]
  },
  {
   "cell_type": "markdown",
   "metadata": {},
   "source": [
    "### <span style=\"color:#FFA500\"> Solution for exercise 3"
   ]
  },
  {
   "cell_type": "code",
   "execution_count": null,
   "metadata": {},
   "outputs": [
    {
     "name": "stdout",
     "output_type": "stream",
     "text": [
      "X data shape: (20640, 8)\n",
      "y data shape: (20640, 1)\n",
      "x-min=-124.35, x-max=39320.0\n",
      "We need to scale the features of this data into [-1,1]\n"
     ]
    }
   ],
   "source": [
    "# We load and process the dataset\n",
    "data_file_name= \"cadata.libsvm\"\n",
    "data_file = os.path.abspath(\"./data/\" + data_file_name)\n",
    "X_data, y_data = load_svmlight_file(data_file)\n",
    "X_data= X_data.toarray()\n",
    "y_data= y_data.reshape(y_data.shape[0],-1)\n",
    "print(\"X data shape: {}\".format(X_data.shape))\n",
    "print(\"y data shape: {}\".format(y_data.shape))\n",
    "print(\"x-min={}, x-max={}\".format(np.min(X_data), np.max(X_data)))\n",
    "print(\"We need to scale the features of this data into [-1,1]\")"
   ]
  },
  {
   "cell_type": "code",
   "execution_count": null,
   "metadata": {},
   "outputs": [
    {
     "name": "stdout",
     "output_type": "stream",
     "text": [
      "x-min=-1.0, x-max=1.0\n"
     ]
    }
   ],
   "source": [
    "# We scale the features of this data into [-1,1]\n",
    "from sklearn.preprocessing import MinMaxScaler\n",
    "X_data= MinMaxScaler(feature_range= (-1,1)).fit_transform(X_data)\n",
    "print(\"x-min={}, x-max={}\".format(np.min(X_data), np.max(X_data)))"
   ]
  },
  {
   "cell_type": "code",
   "execution_count": null,
   "metadata": {},
   "outputs": [
    {
     "name": "stdout",
     "output_type": "stream",
     "text": [
      "Before scaling: y-min =14999.0, y-max =500001.0\n",
      "After scaling: y-min =-0.9999999999999999, y-max =1.0\n",
      "Next step is to split the dataset into train (80%), valid (10%), and test (10%)\n"
     ]
    }
   ],
   "source": [
    "print(\"Before scaling: y-min ={}, y-max ={}\".format(np.min(y_data), np.max(y_data)))\n",
    "y_data= MinMaxScaler(feature_range= (-1,1)).fit_transform(y_data)\n",
    "print(\"After scaling: y-min ={}, y-max ={}\".format(np.min(y_data), np.max(y_data)))\n",
    "print(\"Next step is to split the dataset into train (80%), valid (10%), and test (10%)\")"
   ]
  },
  {
   "cell_type": "code",
   "execution_count": null,
   "metadata": {},
   "outputs": [
    {
     "name": "stdout",
     "output_type": "stream",
     "text": [
      "(16512, 8) (2064, 8) (2064, 8)\n",
      "(16512,) (2064,) (2064,)\n",
      "Three sets are ready! Next step is to build up a deep neural network.\n"
     ]
    }
   ],
   "source": [
    "# We split train, valid and test data\n",
    "X_train, X_valid, X_test, y_train, y_valid, y_test = train_valid_test_split(X_data, y_data, train_size=0.8, test_size=0.1)\n",
    "y_train= y_train.reshape(-1)\n",
    "y_test= y_test.reshape(-1)\n",
    "y_valid= y_valid.reshape(-1)\n",
    "print(X_train.shape, X_valid.shape, X_test.shape)\n",
    "print(y_train.shape, y_valid.shape, y_test.shape)\n",
    "print(\"Three sets are ready! Next step is to build up a deep neural network.\")"
   ]
  },
  {
   "cell_type": "code",
   "execution_count": null,
   "metadata": {},
   "outputs": [],
   "source": [
    "regression_model = Sequential()\n",
    "regression_model.add(Dense(units=1)) # output has only one neuron\n",
    "regression_model.compile(optimizer=tf.optimizers.Adam(learning_rate=0.0001), loss='mean_squared_error')"
   ]
  },
  {
   "cell_type": "code",
   "execution_count": null,
   "metadata": {},
   "outputs": [
    {
     "name": "stdout",
     "output_type": "stream",
     "text": [
      "Epoch 1/50\n",
      "516/516 [==============================] - 0s 503us/step - loss: 1.1897 - val_loss: 0.9961\n",
      "Epoch 2/50\n",
      "516/516 [==============================] - 0s 399us/step - loss: 0.8215 - val_loss: 0.7060\n",
      "Epoch 3/50\n",
      "516/516 [==============================] - 0s 391us/step - loss: 0.5978 - val_loss: 0.5356\n",
      "Epoch 4/50\n",
      "516/516 [==============================] - 0s 392us/step - loss: 0.4707 - val_loss: 0.4409\n",
      "Epoch 5/50\n",
      "516/516 [==============================] - 0s 395us/step - loss: 0.4016 - val_loss: 0.3885\n",
      "Epoch 6/50\n",
      "516/516 [==============================] - 0s 392us/step - loss: 0.3617 - val_loss: 0.3550\n",
      "Epoch 7/50\n",
      "516/516 [==============================] - 0s 395us/step - loss: 0.3342 - val_loss: 0.3292\n",
      "Epoch 8/50\n",
      "516/516 [==============================] - 0s 383us/step - loss: 0.3118 - val_loss: 0.3070\n",
      "Epoch 9/50\n",
      "516/516 [==============================] - 0s 383us/step - loss: 0.2923 - val_loss: 0.2875\n",
      "Epoch 10/50\n",
      "516/516 [==============================] - 0s 386us/step - loss: 0.2753 - val_loss: 0.2705\n",
      "Epoch 11/50\n",
      "516/516 [==============================] - 0s 407us/step - loss: 0.2602 - val_loss: 0.2556\n",
      "Epoch 12/50\n",
      "516/516 [==============================] - 0s 382us/step - loss: 0.2470 - val_loss: 0.2423\n",
      "Epoch 13/50\n",
      "516/516 [==============================] - 0s 399us/step - loss: 0.2352 - val_loss: 0.2304\n",
      "Epoch 14/50\n",
      "516/516 [==============================] - 0s 395us/step - loss: 0.2245 - val_loss: 0.2197\n",
      "Epoch 15/50\n",
      "516/516 [==============================] - 0s 391us/step - loss: 0.2147 - val_loss: 0.2099\n",
      "Epoch 16/50\n",
      "516/516 [==============================] - 0s 381us/step - loss: 0.2056 - val_loss: 0.2009\n",
      "Epoch 17/50\n",
      "516/516 [==============================] - 0s 386us/step - loss: 0.1971 - val_loss: 0.1923\n",
      "Epoch 18/50\n",
      "516/516 [==============================] - 0s 392us/step - loss: 0.1891 - val_loss: 0.1843\n",
      "Epoch 19/50\n",
      "516/516 [==============================] - 0s 396us/step - loss: 0.1815 - val_loss: 0.1768\n",
      "Epoch 20/50\n",
      "516/516 [==============================] - 0s 381us/step - loss: 0.1744 - val_loss: 0.1698\n",
      "Epoch 21/50\n",
      "516/516 [==============================] - 0s 388us/step - loss: 0.1677 - val_loss: 0.1631\n",
      "Epoch 22/50\n",
      "516/516 [==============================] - 0s 386us/step - loss: 0.1613 - val_loss: 0.1570\n",
      "Epoch 23/50\n",
      "516/516 [==============================] - 0s 406us/step - loss: 0.1553 - val_loss: 0.1510\n",
      "Epoch 24/50\n",
      "516/516 [==============================] - 0s 386us/step - loss: 0.1497 - val_loss: 0.1456\n",
      "Epoch 25/50\n",
      "516/516 [==============================] - 0s 390us/step - loss: 0.1444 - val_loss: 0.1404\n",
      "Epoch 26/50\n",
      "516/516 [==============================] - 0s 420us/step - loss: 0.1394 - val_loss: 0.1355\n",
      "Epoch 27/50\n",
      "516/516 [==============================] - 0s 412us/step - loss: 0.1347 - val_loss: 0.1311\n",
      "Epoch 28/50\n",
      "516/516 [==============================] - 0s 402us/step - loss: 0.1304 - val_loss: 0.1269\n",
      "Epoch 29/50\n",
      "516/516 [==============================] - 0s 396us/step - loss: 0.1263 - val_loss: 0.1231\n",
      "Epoch 30/50\n",
      "516/516 [==============================] - 0s 395us/step - loss: 0.1226 - val_loss: 0.1196\n",
      "Epoch 31/50\n",
      "516/516 [==============================] - 0s 393us/step - loss: 0.1191 - val_loss: 0.1163\n",
      "Epoch 32/50\n",
      "516/516 [==============================] - 0s 378us/step - loss: 0.1160 - val_loss: 0.1134\n",
      "Epoch 33/50\n",
      "516/516 [==============================] - 0s 400us/step - loss: 0.1131 - val_loss: 0.1107\n",
      "Epoch 34/50\n",
      "516/516 [==============================] - 0s 404us/step - loss: 0.1104 - val_loss: 0.1084\n",
      "Epoch 35/50\n",
      "516/516 [==============================] - 0s 385us/step - loss: 0.1081 - val_loss: 0.1062\n",
      "Epoch 36/50\n",
      "516/516 [==============================] - 0s 389us/step - loss: 0.1059 - val_loss: 0.1043\n",
      "Epoch 37/50\n",
      "516/516 [==============================] - 0s 394us/step - loss: 0.1040 - val_loss: 0.1027\n",
      "Epoch 38/50\n",
      "516/516 [==============================] - 0s 383us/step - loss: 0.1023 - val_loss: 0.1012\n",
      "Epoch 39/50\n",
      "516/516 [==============================] - 0s 380us/step - loss: 0.1009 - val_loss: 0.1000\n",
      "Epoch 40/50\n",
      "516/516 [==============================] - 0s 387us/step - loss: 0.0996 - val_loss: 0.0990\n",
      "Epoch 41/50\n",
      "516/516 [==============================] - 0s 388us/step - loss: 0.0984 - val_loss: 0.0980\n",
      "Epoch 42/50\n",
      "516/516 [==============================] - 0s 389us/step - loss: 0.0974 - val_loss: 0.0972\n",
      "Epoch 43/50\n",
      "516/516 [==============================] - 0s 376us/step - loss: 0.0966 - val_loss: 0.0965\n",
      "Epoch 44/50\n",
      "516/516 [==============================] - 0s 381us/step - loss: 0.0958 - val_loss: 0.0959\n",
      "Epoch 45/50\n",
      "516/516 [==============================] - 0s 408us/step - loss: 0.0952 - val_loss: 0.0955\n",
      "Epoch 46/50\n",
      "516/516 [==============================] - 0s 389us/step - loss: 0.0946 - val_loss: 0.0951\n",
      "Epoch 47/50\n",
      "516/516 [==============================] - 0s 393us/step - loss: 0.0942 - val_loss: 0.0948\n",
      "Epoch 48/50\n",
      "516/516 [==============================] - 0s 401us/step - loss: 0.0938 - val_loss: 0.0945\n",
      "Epoch 49/50\n",
      "516/516 [==============================] - 0s 403us/step - loss: 0.0935 - val_loss: 0.0943\n",
      "Epoch 50/50\n",
      "516/516 [==============================] - 0s 390us/step - loss: 0.0932 - val_loss: 0.0941\n"
     ]
    }
   ],
   "source": [
    "history = regression_model.fit(x= X_train, y= y_train, batch_size= 32, epochs= 50, validation_data = (X_valid, y_valid))"
   ]
  },
  {
   "cell_type": "code",
   "execution_count": null,
   "metadata": {},
   "outputs": [
    {
     "data": {
      "image/png": "[encoded data removed]",
      "text/plain": [
       "<Figure size 432x288 with 1 Axes>"
      ]
     },
     "metadata": {
      "needs_background": "light"
     },
     "output_type": "display_data"
    }
   ],
   "source": [
    "# plot losses during training\n",
    "from matplotlib import pyplot\n",
    "pyplot.plot(history.history['loss'], label='train')\n",
    "pyplot.plot(history.history['val_loss'], label='validation')\n",
    "pyplot.legend()\n",
    "pyplot.show()"
   ]
  },
  {
   "cell_type": "markdown",
   "metadata": {},
   "source": [
    "We now can evaluate our regression model on the test set."
   ]
  },
  {
   "cell_type": "code",
   "execution_count": null,
   "metadata": {
    "scrolled": true
   },
   "outputs": [
    {
     "name": "stdout",
     "output_type": "stream",
     "text": [
      "65/65 [==============================] - 0s 372us/step - loss: 0.0942\n"
     ]
    },
    {
     "data": {
      "text/plain": [
       "0.0941537469625473"
      ]
     },
     "execution_count": 41,
     "metadata": {},
     "output_type": "execute_result"
    }
   ],
   "source": [
    "regression_model.evaluate(X_test, y_test) "
   ]
  },
  {
   "cell_type": "markdown",
   "metadata": {},
   "source": [
    "### <span style=\"color:#FFA500\"> Solution for exercise 4"
   ]
  },
  {
   "cell_type": "markdown",
   "metadata": {},
   "source": [
    "4. Using the problem in this tutorial, however, using a much deeper network (i.e., $16 \\rightarrow 100 (ReLU) \\rightarrow 200 (ReLU) \\rightarrow 200 (ReLU) \\rightarrow 100 (ReLu) \\rightarrow 26$). Applying callback methods to save the model on training and writing a TensorBoard. Visualize `training loss`, `training accuracy`, `valid loss`, and `valid accuracy`. Provide observation and explanation of any issue if happen (hint, overfitting issue). "
   ]
  },
  {
   "cell_type": "code",
   "execution_count": null,
   "metadata": {},
   "outputs": [],
   "source": [
    "# Build a new model with much more parameters \n",
    "X = tf.keras.layers.Input(shape=(16,)) #declare input layer\n",
    "h = Dense(units=1000, activation= 'relu')(X)\n",
    "h = Dense(units=2000, activation= 'relu')(h)\n",
    "h = Dense(units=2000, activation= 'relu')(h)\n",
    "h = Dense(units=1000, activation= 'relu')(h)\n",
    "h = Dense(units=26, activation= 'softmax')(h)\n",
    "dnn_model = tf.keras.Model(inputs= X, outputs=h)\n",
    "dnn_model.compile(optimizer='adam', loss='sparse_categorical_crossentropy', metrics=['accuracy'])"
   ]
  },
  {
   "cell_type": "code",
   "execution_count": null,
   "metadata": {},
   "outputs": [],
   "source": [
    "from tensorflow import keras\n",
    "# Declare a callback for writing a TensorBoard \n",
    "logdir = \"tf_logs/\"\n",
    "\n",
    "# Init a tensorboard_callback \n",
    "tensorboard_callback = keras.callbacks.TensorBoard(log_dir=logdir)"
   ]
  },
  {
   "cell_type": "code",
   "execution_count": null,
   "metadata": {},
   "outputs": [
    {
     "name": "stdout",
     "output_type": "stream",
     "text": [
      "Epoch 1/20\n",
      "375/375 [==============================] - ETA: 0s - loss: 1.0179 - accuracy: 0.6851\n",
      "Epoch 00001: saving model to models/cp_deeper.ckpt\n",
      "375/375 [==============================] - 19s 50ms/step - loss: 1.0179 - accuracy: 0.6851 - val_loss: 0.5464 - val_accuracy: 0.8280\n",
      "Epoch 2/20\n",
      "375/375 [==============================] - ETA: 0s - loss: 0.4501 - accuracy: 0.8552\n",
      "Epoch 00002: saving model to models/cp_deeper.ckpt\n",
      "375/375 [==============================] - 18s 48ms/step - loss: 0.4501 - accuracy: 0.8552 - val_loss: 0.3642 - val_accuracy: 0.8793\n",
      "Epoch 3/20\n",
      "374/375 [============================>.] - ETA: 0s - loss: 0.2937 - accuracy: 0.9042\n",
      "Epoch 00003: saving model to models/cp_deeper.ckpt\n",
      "375/375 [==============================] - 19s 51ms/step - loss: 0.2933 - accuracy: 0.9043 - val_loss: 0.3454 - val_accuracy: 0.8827\n",
      "Epoch 4/20\n",
      "375/375 [==============================] - ETA: 0s - loss: 0.2291 - accuracy: 0.9247\n",
      "Epoch 00004: saving model to models/cp_deeper.ckpt\n",
      "375/375 [==============================] - 19s 50ms/step - loss: 0.2291 - accuracy: 0.9247 - val_loss: 0.2873 - val_accuracy: 0.9113\n",
      "Epoch 5/20\n",
      "375/375 [==============================] - ETA: 0s - loss: 0.1791 - accuracy: 0.9403\n",
      "Epoch 00005: saving model to models/cp_deeper.ckpt\n",
      "375/375 [==============================] - 18s 49ms/step - loss: 0.1791 - accuracy: 0.9403 - val_loss: 0.2567 - val_accuracy: 0.9240\n",
      "Epoch 6/20\n",
      "375/375 [==============================] - ETA: 0s - loss: 0.1601 - accuracy: 0.9457\n",
      "Epoch 00006: saving model to models/cp_deeper.ckpt\n",
      "375/375 [==============================] - 19s 51ms/step - loss: 0.1601 - accuracy: 0.9457 - val_loss: 0.2174 - val_accuracy: 0.9387\n",
      "Epoch 7/20\n",
      "375/375 [==============================] - ETA: 0s - loss: 0.1553 - accuracy: 0.9503\n",
      "Epoch 00007: saving model to models/cp_deeper.ckpt\n",
      "375/375 [==============================] - 19s 51ms/step - loss: 0.1553 - accuracy: 0.9503 - val_loss: 0.2020 - val_accuracy: 0.9340\n",
      "Epoch 8/20\n",
      "374/375 [============================>.] - ETA: 0s - loss: 0.1265 - accuracy: 0.9554\n",
      "Epoch 00008: saving model to models/cp_deeper.ckpt\n",
      "375/375 [==============================] - 19s 52ms/step - loss: 0.1263 - accuracy: 0.9555 - val_loss: 0.2200 - val_accuracy: 0.9327\n",
      "Epoch 9/20\n",
      "375/375 [==============================] - ETA: 0s - loss: 0.0974 - accuracy: 0.9675\n",
      "Epoch 00009: saving model to models/cp_deeper.ckpt\n",
      "375/375 [==============================] - 19s 52ms/step - loss: 0.0974 - accuracy: 0.9675 - val_loss: 0.3147 - val_accuracy: 0.9233\n",
      "Epoch 10/20\n",
      "375/375 [==============================] - ETA: 0s - loss: 0.1041 - accuracy: 0.9679\n",
      "Epoch 00010: saving model to models/cp_deeper.ckpt\n",
      "375/375 [==============================] - 20s 54ms/step - loss: 0.1041 - accuracy: 0.9679 - val_loss: 0.2195 - val_accuracy: 0.9373\n",
      "Epoch 11/20\n",
      "375/375 [==============================] - ETA: 0s - loss: 0.0940 - accuracy: 0.9709\n",
      "Epoch 00011: saving model to models/cp_deeper.ckpt\n",
      "375/375 [==============================] - 19s 51ms/step - loss: 0.0940 - accuracy: 0.9709 - val_loss: 0.2214 - val_accuracy: 0.9360\n",
      "Epoch 12/20\n",
      "375/375 [==============================] - ETA: 0s - loss: 0.1010 - accuracy: 0.9699\n",
      "Epoch 00012: saving model to models/cp_deeper.ckpt\n",
      "375/375 [==============================] - 19s 52ms/step - loss: 0.1010 - accuracy: 0.9699 - val_loss: 0.1966 - val_accuracy: 0.9480\n",
      "Epoch 13/20\n",
      "375/375 [==============================] - ETA: 0s - loss: 0.0946 - accuracy: 0.9694\n",
      "Epoch 00013: saving model to models/cp_deeper.ckpt\n",
      "375/375 [==============================] - 19s 50ms/step - loss: 0.0946 - accuracy: 0.9694 - val_loss: 0.2626 - val_accuracy: 0.9413\n",
      "Epoch 14/20\n",
      "375/375 [==============================] - ETA: 0s - loss: 0.1050 - accuracy: 0.9688\n",
      "Epoch 00014: saving model to models/cp_deeper.ckpt\n",
      "375/375 [==============================] - 20s 53ms/step - loss: 0.1050 - accuracy: 0.9688 - val_loss: 0.1882 - val_accuracy: 0.9460\n",
      "Epoch 15/20\n",
      "375/375 [==============================] - ETA: 0s - loss: 0.0657 - accuracy: 0.9788\n",
      "Epoch 00015: saving model to models/cp_deeper.ckpt\n",
      "375/375 [==============================] - 20s 53ms/step - loss: 0.0657 - accuracy: 0.9788 - val_loss: 0.1962 - val_accuracy: 0.9473\n",
      "Epoch 16/20\n",
      "374/375 [============================>.] - ETA: 0s - loss: 0.0647 - accuracy: 0.9807\n",
      "Epoch 00016: saving model to models/cp_deeper.ckpt\n",
      "375/375 [==============================] - 19s 50ms/step - loss: 0.0647 - accuracy: 0.9806 - val_loss: 0.1920 - val_accuracy: 0.9520\n",
      "Epoch 17/20\n",
      "374/375 [============================>.] - ETA: 0s - loss: 0.0806 - accuracy: 0.9742\n",
      "Epoch 00017: saving model to models/cp_deeper.ckpt\n",
      "375/375 [==============================] - 19s 50ms/step - loss: 0.0805 - accuracy: 0.9743 - val_loss: 0.2810 - val_accuracy: 0.9267\n",
      "Epoch 18/20\n",
      "375/375 [==============================] - ETA: 0s - loss: 0.0753 - accuracy: 0.9782\n",
      "Epoch 00018: saving model to models/cp_deeper.ckpt\n",
      "375/375 [==============================] - 19s 51ms/step - loss: 0.0753 - accuracy: 0.9782 - val_loss: 0.1868 - val_accuracy: 0.9513\n",
      "Epoch 19/20\n",
      "374/375 [============================>.] - ETA: 0s - loss: 0.0547 - accuracy: 0.9831\n",
      "Epoch 00019: saving model to models/cp_deeper.ckpt\n",
      "375/375 [==============================] - 19s 50ms/step - loss: 0.0546 - accuracy: 0.9832 - val_loss: 0.2388 - val_accuracy: 0.9500\n",
      "Epoch 20/20\n",
      "375/375 [==============================] - ETA: 0s - loss: 0.0785 - accuracy: 0.9772\n",
      "Epoch 00020: saving model to models/cp_deeper.ckpt\n",
      "375/375 [==============================] - 19s 50ms/step - loss: 0.0785 - accuracy: 0.9772 - val_loss: 0.2159 - val_accuracy: 0.9480\n"
     ]
    }
   ],
   "source": [
    "# Create a tf.keras.callbacks.ModelCheckpoint callback that saves weights only during training\n",
    "checkpoint_path = \"models/cp_deeper.ckpt\"\n",
    "\n",
    "# Create a callback that saves the model's weights\n",
    "cp_callback = tf.keras.callbacks.ModelCheckpoint(filepath=checkpoint_path,\n",
    "                                                 save_weights_only=True,\n",
    "                                                 verbose=1)\n",
    "\n",
    "# Train the model with the new callback\n",
    "history = dnn_model.fit(x=X_train, y=y_train, batch_size=32, \n",
    "                        epochs=20, \n",
    "                        validation_data=(X_valid, y_valid), \n",
    "                       callbacks=[tensorboard_callback, # Callback for writing log \n",
    "                                 cp_callback]) # Callback for saving model "
   ]
  },
  {
   "cell_type": "markdown",
   "metadata": {},
   "source": [
    "We now can evaluate the trained model on the testing set or any subset."
   ]
  },
  {
   "cell_type": "code",
   "execution_count": null,
   "metadata": {},
   "outputs": [
    {
     "name": "stdout",
     "output_type": "stream",
     "text": [
      "47/47 [==============================] - 0s 8ms/step - loss: 0.2093 - accuracy: 0.9507\n"
     ]
    },
    {
     "data": {
      "text/plain": [
       "[0.20930108428001404, 0.9506666660308838]"
      ]
     },
     "execution_count": 33,
     "metadata": {},
     "output_type": "execute_result"
    }
   ],
   "source": [
    "dnn_model.evaluate(X_test, y_test)  #return loss and accuracy"
   ]
  },
  {
   "cell_type": "code",
   "execution_count": null,
   "metadata": {},
   "outputs": [],
   "source": [
    "# # Load the TensorBoard notebook extension.\n",
    "# %load_ext tensorboard\n",
    "# %tensorboard --logdir tf_logs/"
   ]
  },
  {
   "cell_type": "code",
   "execution_count": null,
   "metadata": {},
   "outputs": [
    {
     "data": {
      "image/png": "[encoded data removed]",
      "text/plain": [
       "<Figure size 576x360 with 2 Axes>"
      ]
     },
     "metadata": {
      "needs_background": "light"
     },
     "output_type": "display_data"
    }
   ],
   "source": [
    "import pandas as pd\n",
    "import matplotlib.pyplot as plt\n",
    "\n",
    "\n",
    "his = history.history \n",
    "fig = plt.figure(figsize=(8, 5))\n",
    "ax = fig.add_subplot(111)\n",
    "ln1 = ax.plot(his['loss'], 'b--',label='loss')\n",
    "ln2 = ax.plot(his['val_loss'], 'b-',label='val_loss')\n",
    "ax.set_ylabel('loss', color='blue')\n",
    "ax.tick_params(axis='y', colors=\"blue\")\n",
    "\n",
    "ax2 = ax.twinx()\n",
    "ln3 = ax2.plot(his['accuracy'], 'r--',label='accuracy')\n",
    "ln4 = ax2.plot(his['val_accuracy'], 'r-',label='val_accuracy')\n",
    "ax2.set_ylabel('accuracy', color='red')\n",
    "ax2.tick_params(axis='y', colors=\"red\")\n",
    "\n",
    "\n",
    "lns = ln1 + ln2 + ln3 + ln4 \n",
    "labels = [l.get_label() for l in lns]\n",
    "ax.legend(lns, labels)\n",
    "plt.grid(True)\n",
    "plt.show()"
   ]
  },
  {
   "cell_type": "markdown",
   "metadata": {},
   "source": [
    "Some observations: \n",
    "\n",
    "(1) The training loss has decreased over time while the validation loss seems saturated after epoch 7th. In fact, the validation loss even increases a bit in epoch 8th. \n",
    "\n",
    "(2) Analogously, while the training accuracy is increased over time, the validation accuracy is saturated after epoch 7 and a drop in epochs 8th and 16th. "
   ]
  },
  {
   "cell_type": "markdown",
   "metadata": {},
   "source": [
    "### <span style=\"color:#FFA500\"> Solution for exercise 5"
   ]
  },
  {
   "cell_type": "markdown",
   "metadata": {},
   "source": [
    "<img src=\"./images/feed-forward-2branches.PNG\" width=\"1000\">"
   ]
  },
  {
   "cell_type": "code",
   "execution_count": null,
   "metadata": {},
   "outputs": [],
   "source": [
    "# Recall the model architecture as figure above \n",
    "# Implement using Functional API \n",
    "X = tf.keras.layers.Input(shape=(16,)) #declare input layer\n",
    "h = Dense(units=10, activation= 'relu')(X)\n",
    "\n",
    "# First branch \n",
    "h1 = Dense(units=20, activation= 'relu')(h)\n",
    "h1 = Dense(units=15, activation= 'relu')(h1)\n",
    "\n",
    "# Second branch \n",
    "h2 = Dense(units=20, activation= 'relu')(h)\n",
    "h2 = Dense(units=15, activation= 'relu')(h2)\n",
    "\n",
    "# Concatenate in the last dimention \n",
    "h = tf.concat([h1,h2], axis=-1)\n",
    "\n",
    "# Last layer \n",
    "h = Dense(units=26, activation= 'softmax')(h)\n",
    "dnn_model = tf.keras.Model(inputs= X, outputs=h)\n",
    "dnn_model.compile(optimizer='adam', loss='sparse_categorical_crossentropy', metrics=['accuracy'])"
   ]
  },
  {
   "cell_type": "code",
   "execution_count": null,
   "metadata": {},
   "outputs": [
    {
     "name": "stdout",
     "output_type": "stream",
     "text": [
      "Model: \"model\"\n",
      "__________________________________________________________________________________________________\n",
      "Layer (type)                    Output Shape         Param #     Connected to                     \n",
      "==================================================================================================\n",
      "input_2 (InputLayer)            [(None, 16)]         0                                            \n",
      "__________________________________________________________________________________________________\n",
      "dense_9 (Dense)                 (None, 10)           170         input_2[0][0]                    \n",
      "__________________________________________________________________________________________________\n",
      "dense_10 (Dense)                (None, 20)           220         dense_9[0][0]                    \n",
      "__________________________________________________________________________________________________\n",
      "dense_12 (Dense)                (None, 20)           220         dense_9[0][0]                    \n",
      "__________________________________________________________________________________________________\n",
      "dense_11 (Dense)                (None, 15)           315         dense_10[0][0]                   \n",
      "__________________________________________________________________________________________________\n",
      "dense_13 (Dense)                (None, 15)           315         dense_12[0][0]                   \n",
      "__________________________________________________________________________________________________\n",
      "tf_op_layer_concat (TensorFlowO [(None, 30)]         0           dense_11[0][0]                   \n",
      "                                                                 dense_13[0][0]                   \n",
      "__________________________________________________________________________________________________\n",
      "dense_14 (Dense)                (None, 26)           806         tf_op_layer_concat[0][0]         \n",
      "==================================================================================================\n",
      "Total params: 2,046\n",
      "Trainable params: 2,046\n",
      "Non-trainable params: 0\n",
      "__________________________________________________________________________________________________\n"
     ]
    }
   ],
   "source": [
    "dnn_model.summary()"
   ]
  },
  {
   "cell_type": "code",
   "execution_count": null,
   "metadata": {},
   "outputs": [],
   "source": []
  }
 ],
 "metadata": {
  "kernelspec": {
   "display_name": "Python 3.9.12 ('tf2_cpu')",
   "language": "python",
   "name": "python3"
  },
  "language_info": {
   "codemirror_mode": {
    "name": "ipython",
    "version": 3
   },
   "file_extension": ".py",
   "mimetype": "text/x-python",
   "name": "python",
   "nbconvert_exporter": "python",
   "pygments_lexer": "ipython3",
   "version": "3.9.12"
  },
  "vscode": {
   "interpreter": {
    "hash": "92c79073133677da89801d1b4bc42714b1a3d83cbc90a7f9c522b094b613b522"
   }
  }
 },
 "nbformat": 4,
 "nbformat_minor": 4
}
