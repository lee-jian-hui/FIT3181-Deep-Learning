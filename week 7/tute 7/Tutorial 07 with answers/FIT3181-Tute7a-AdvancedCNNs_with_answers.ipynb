{
 "cells": [
  {
   "cell_type": "markdown",
   "metadata": {},
   "source": [
    "# <span style=\"color:#0b486b\">  FIT3181: Deep Learning (2021)</span>\n",
    "***\n",
    "*CE/Lecturer:*  **Dr Trung Le** | trunglm@monash.edu <br/>\n",
    "*Head TA:*  **Mr Thanh Nguyen** | thanh.nguyen4@monash.edu <br/>\n",
    "*Tutor:* **Dr Van Nguyen**  \\[van.nguyen1@monash.edu \\] | **Mr James Tong** \\[james.tong1@monash.edu\\] | **Dr Mahmoud Mohammad** \\[mahmoud.hossam@monash.edu\\]\n",
    "<br/> <br/>\n",
    "Faculty of Information Technology, Monash University, Australia\n",
    "***\n"
   ]
  },
  {
   "cell_type": "markdown",
   "metadata": {},
   "source": [
    "## <span style=\"color:#0b486b\">Tutorial 7a: Advanced Convolutional Neural Networks</span> ##"
   ]
  },
  {
   "cell_type": "markdown",
   "metadata": {},
   "source": [
    "**The purpose of this tutorial is to show you how to implement ResNet, the most popular CNN model. This ResNet implementation follows the original paper of ResNet.**\n",
    "\n",
    "\n",
    "**Acknowledgement:** *This tutorial is developed based on the material in chapter 7 of the book Dive Into Deep Learning*.\n",
    "\n",
    "**References and additional reading and resources**\n",
    "- Chapter 7 of Dive Into Deep Learning ([link](https://d2l.ai/chapter_convolutional-modern/index.html)).\n",
    "\n",
    "**Hint**: The implementations of ResNet in this tutorial would facilitate you in doing Part 3 of assignment 1. \n"
   ]
  },
  {
   "cell_type": "markdown",
   "metadata": {},
   "source": [
    "## <span style=\"color:#0b486b\">I. Implementation of Residual Network (ResNet)</span> <span style=\"color:red\">****</span> ##\n",
    "This is a **highly recommend-to-learn** knowledge because ResNet is the most widely popular architecture used in computer vision tasks. Moreover, we can apply what is learned here to assignment 1.  "
   ]
  },
  {
   "cell_type": "markdown",
   "metadata": {},
   "source": [
    "### <span style=\"color:#0b486b\">I.1. Residual Block</span> ###"
   ]
  },
  {
   "cell_type": "markdown",
   "metadata": {},
   "source": [
    "The building block of ResNet is the **residual block** which has the following architecture: *[CONV2D, BatchNorm, RELU, CONV2D, BatchNorm]* together with the skip connection. For the skip connection, we have two options: `use 1x1 CONV1D` or `not use 1x1 CONV1D`. The following figure shows the architecture of the residual block for two options.\n",
    "\n",
    "#### Skip connection aims to solve gradient vanishing and gradient exploding: \n",
    "https://stats.stackexchange.com/questions/339894/how-does-resnet-or-cnn-with-skip-connections-solve-the-gradient-exploding-proble\n",
    "\n",
    "---"
   ]
  },
  {
   "cell_type": "markdown",
   "metadata": {},
   "source": [
    "<img src=\"./imgs/ResidualBlock.png\" align=\"center\" width=600/>"
   ]
  },
  {
   "cell_type": "markdown",
   "metadata": {},
   "source": [
    "In what follows, we are going to implement the class `Residual`."
   ]
  },
  {
   "cell_type": "code",
   "execution_count": 16,
   "metadata": {},
   "outputs": [],
   "source": [
    "import tensorflow as tf"
   ]
  },
  {
   "cell_type": "markdown",
   "metadata": {},
   "source": [
    "we need to use 1x1 conv sometimes because sizees of X != Y \n",
    "\n",
    "<img src=\"./md_images/md1.png\" align=\"center\" width=600/>"
   ]
  },
  {
   "cell_type": "code",
   "execution_count": 17,
   "metadata": {},
   "outputs": [
    {
     "name": "stdout",
     "output_type": "stream",
     "text": [
      "(10, 32, 32, 3)\n"
     ]
    }
   ],
   "source": [
    "class Residual(tf.keras.Model):\n",
    "    def __init__(self, num_channels, use_1x1conv=False, strides=1):\n",
    "        super().__init__()\n",
    "        \n",
    "        # conv layers\n",
    "        self.conv1 = tf.keras.layers.Conv2D(num_channels, padding='same', kernel_size=3, strides=strides)\n",
    "        self.conv2 = tf.keras.layers.Conv2D(num_channels, kernel_size=3, padding='same')    \n",
    "        # add 1x1 conv layer or not    \n",
    "        if use_1x1conv:\n",
    "            self.conv3 = tf.keras.layers.Conv2D(num_channels, kernel_size=1, strides=strides)\n",
    "        else:\n",
    "            self.conv3 = None\n",
    "        # batch normalization layers\n",
    "        self.bn1 = tf.keras.layers.BatchNormalization()\n",
    "        self.bn2 = tf.keras.layers.BatchNormalization()\n",
    "\n",
    "    def call(self, X):\n",
    "        # 1: X -> conv -> BN -> activation -> Y\n",
    "        Y = tf.keras.activations.relu(self.bn1(self.conv1(X)))\n",
    "        \n",
    "        # 2: Y -> conv -> BN -> Y\n",
    "        Y = self.bn2(self.conv2(Y))\n",
    "        \n",
    "        # 3: see if X needs to do 1x1 conv ; 1x1 conv skip connection\n",
    "        if self.conv3 is not None:\n",
    "            X = self.conv3(X)\n",
    "            \n",
    "        # 3: skip connection , doing addition of matrices ; Y = Y + X\n",
    "        Y += X\n",
    "        \n",
    "        # 4: Y -> act -> Y\n",
    "        return tf.keras.activations.relu(Y)\n",
    "\n",
    "blk = Residual(num_channels=3, use_1x1conv=True, strides=1)\n",
    "X = tf.random.uniform((10, 32, 32, 3))\n",
    "Y = blk(X)\n",
    "print(Y.shape)"
   ]
  },
  {
   "cell_type": "markdown",
   "metadata": {},
   "source": [
    "Consider the case when we do not apply 1x1 Conv1D, hence it requires the `num_channels` is equal to the `input_depth` (equal to 3 in the following example)."
   ]
  },
  {
   "cell_type": "code",
   "execution_count": 18,
   "metadata": {},
   "outputs": [
    {
     "data": {
      "text/plain": [
       "TensorShape([4, 6, 6, 3])"
      ]
     },
     "execution_count": 18,
     "metadata": {},
     "output_type": "execute_result"
    }
   ],
   "source": [
    "blk = Residual(3)\n",
    "X = tf.random.uniform((4, 6, 6, 3))\n",
    "Y = blk(X)\n",
    "Y.shape"
   ]
  },
  {
   "cell_type": "markdown",
   "metadata": {},
   "source": [
    "If we apply 1x1 Conv1D, the output shape of the residual block can be different from the input shape."
   ]
  },
  {
   "cell_type": "code",
   "execution_count": 19,
   "metadata": {},
   "outputs": [
    {
     "data": {
      "text/plain": [
       "TensorShape([4, 3, 3, 6])"
      ]
     },
     "execution_count": 19,
     "metadata": {},
     "output_type": "execute_result"
    }
   ],
   "source": [
    "blk = Residual(6, use_1x1conv=True, strides=2)\n",
    "blk(X).shape"
   ]
  },
  {
   "cell_type": "markdown",
   "metadata": {},
   "source": [
    "### <span style=\"color:#0b486b\">I.2. ResNet Block</span> ###"
   ]
  },
  {
   "cell_type": "markdown",
   "metadata": {},
   "source": [
    "We now implement **ResNet block**. A ResNet block consists of several residual blocks and we need to declare the number of residual blocks as `num_residuals` and the common number of channels of residual blocks in a ResNet block as `num_channels`."
   ]
  },
  {
   "cell_type": "code",
   "execution_count": 20,
   "metadata": {},
   "outputs": [],
   "source": [
    "class ResnetBlock(tf.keras.layers.Layer):\n",
    "    def __init__(self, num_channels, num_residuals, first_block=False, **kwargs):\n",
    "        super(ResnetBlock, self).__init__(**kwargs)\n",
    "        self.residual_layers = []\n",
    "        for i in range(num_residuals):\n",
    "            if i == 0 and not first_block:\n",
    "                self.residual_layers.append(\n",
    "                    Residual(num_channels, use_1x1conv=True, strides=2))\n",
    "            else:\n",
    "                self.residual_layers.append(Residual(num_channels))\n",
    "\n",
    "    def call(self, X):\n",
    "        for layer in self.residual_layers.layers:  # tf.keras.Model.layers\n",
    "            X = layer(X)\n",
    "        return X"
   ]
  },
  {
   "cell_type": "markdown",
   "metadata": {},
   "source": [
    "Note that from the second ResNet block, we apply `1x1 Conv1D` over the skip connection of every first residual block."
   ]
  },
  {
   "cell_type": "markdown",
   "metadata": {},
   "source": [
    "### <span style=\"color:#0b486b\">I.3. Residual Network</span> ###"
   ]
  },
  {
   "cell_type": "markdown",
   "metadata": {},
   "source": [
    "We now declare our ResNet. Note that we set `input_shape = [28,28,1]` because we will train our ResNet on Fashion MNIST dataset."
   ]
  },
  {
   "cell_type": "code",
   "execution_count": 21,
   "metadata": {},
   "outputs": [],
   "source": [
    "def create_ResNet():\n",
    "    return tf.keras.Sequential([\n",
    "        tf.keras.layers.Conv2D(64, kernel_size=7, strides=2, padding='same', input_shape = [28,28,1]),\n",
    "        tf.keras.layers.BatchNormalization(),\n",
    "        tf.keras.layers.Activation('relu'),\n",
    "        tf.keras.layers.MaxPool2D(pool_size=3, strides=2, padding='same'),\n",
    "        ResnetBlock(64, 2, first_block=True),\n",
    "        ResnetBlock(128, 2),\n",
    "        ResnetBlock(256, 2),\n",
    "        tf.keras.layers.GlobalAvgPool2D(),\n",
    "        tf.keras.layers.Dense(units=10, activation= 'softmax')])"
   ]
  },
  {
   "cell_type": "markdown",
   "metadata": {},
   "source": [
    "We feed a batch $X$ with batch size $1$ to our ResNet and print out the output shapes. Your task is to explain the results."
   ]
  },
  {
   "cell_type": "code",
   "execution_count": 22,
   "metadata": {},
   "outputs": [
    {
     "name": "stdout",
     "output_type": "stream",
     "text": [
      "Conv2D output shape:\t (1, 14, 14, 64)\n",
      "BatchNormalization output shape:\t (1, 14, 14, 64)\n",
      "Activation output shape:\t (1, 14, 14, 64)\n",
      "MaxPooling2D output shape:\t (1, 7, 7, 64)\n",
      "ResnetBlock output shape:\t (1, 7, 7, 64)\n",
      "ResnetBlock output shape:\t (1, 4, 4, 128)\n",
      "ResnetBlock output shape:\t (1, 2, 2, 256)\n",
      "GlobalAveragePooling2D output shape:\t (1, 256)\n",
      "Dense output shape:\t (1, 10)\n"
     ]
    }
   ],
   "source": [
    "X = tf.random.uniform(shape=(1, 28, 28, 1))\n",
    "for layer in create_ResNet().layers:\n",
    "    X = layer(X)\n",
    "    print(layer.__class__.__name__,'output shape:\\t', X.shape)"
   ]
  },
  {
   "cell_type": "markdown",
   "metadata": {},
   "source": [
    "### <span style=\"color:#0b486b\">I.4. Test our ResNet</span> ###"
   ]
  },
  {
   "cell_type": "code",
   "execution_count": 23,
   "metadata": {},
   "outputs": [],
   "source": [
    "import numpy as np"
   ]
  },
  {
   "cell_type": "code",
   "execution_count": 24,
   "metadata": {},
   "outputs": [
    {
     "name": "stdout",
     "output_type": "stream",
     "text": [
      "(60000, 28, 28, 1) (60000,)\n",
      "(50000, 28, 28, 1) (50000,)\n",
      "(10000, 28, 28, 1) (10000,)\n",
      "(10000, 28, 28, 1) (10000,)\n"
     ]
    }
   ],
   "source": [
    "(X_train_full, y_train_full) , (X_test, y_test) = tf.keras.datasets.fashion_mnist.load_data()\n",
    "X_train_full, X_test = X_train_full/255.0, X_test/255.0\n",
    "X_train_full = np.expand_dims(X_train_full, axis=-1)   #expand one more dimension at the end and obtain [60000, 28, 28,1]\n",
    "X_test = np.expand_dims(X_test, axis=-1)   #expand one more dimension at the end and obtain [10000, 28, 28,1]\n",
    "X_train, X_valid = X_train_full[:50000,:], X_train_full[50000:,:]\n",
    "y_train, y_valid = y_train_full[:50000], y_train_full[50000:]\n",
    "print(X_train_full.shape, y_train_full.shape)\n",
    "print(X_train.shape, y_train.shape)\n",
    "print(X_valid.shape, y_valid.shape)\n",
    "print(X_test.shape, y_test.shape)"
   ]
  },
  {
   "cell_type": "code",
   "execution_count": 25,
   "metadata": {},
   "outputs": [
    {
     "name": "stdout",
     "output_type": "stream",
     "text": [
      "Epoch 1/5\n",
      "782/782 [==============================] - 70s 88ms/step - loss: 0.4228 - accuracy: 0.8457 - val_loss: 0.3862 - val_accuracy: 0.8656\n",
      "Epoch 2/5\n",
      "782/782 [==============================] - 64s 81ms/step - loss: 0.2979 - accuracy: 0.8894 - val_loss: 0.3727 - val_accuracy: 0.8683\n",
      "Epoch 3/5\n",
      "782/782 [==============================] - 64s 82ms/step - loss: 0.2599 - accuracy: 0.9052 - val_loss: 0.2775 - val_accuracy: 0.8972\n",
      "Epoch 4/5\n",
      "782/782 [==============================] - 60s 77ms/step - loss: 0.2308 - accuracy: 0.9143 - val_loss: 0.3016 - val_accuracy: 0.8902\n",
      "Epoch 5/5\n",
      "782/782 [==============================] - 57s 73ms/step - loss: 0.2110 - accuracy: 0.9213 - val_loss: 0.2874 - val_accuracy: 0.8972\n"
     ]
    },
    {
     "data": {
      "text/plain": [
       "<keras.callbacks.History at 0x22798fce4c0>"
      ]
     },
     "execution_count": 25,
     "metadata": {},
     "output_type": "execute_result"
    }
   ],
   "source": [
    "my_resnet = create_ResNet()\n",
    "my_resnet.compile(optimizer=tf.keras.optimizers.Adam(0.001), loss='sparse_categorical_crossentropy', metrics=['accuracy'])\n",
    "my_resnet.fit(X_train, y_train, batch_size=64, epochs=5, validation_data=(X_valid, y_valid))"
   ]
  },
  {
   "cell_type": "markdown",
   "metadata": {},
   "source": [
    "**<span style=\"color:red\">Exercise 1</span>**: Implement VGG network and test on Fashion MNIST dataset. Note that you can refer to the code [here](https://d2l.ai/chapter_convolutional-modern/vgg.html)."
   ]
  },
  {
   "cell_type": "code",
   "execution_count": 26,
   "metadata": {},
   "outputs": [],
   "source": [
    "def vgg_block(num_convs, num_channels):\n",
    "    blk = tf.keras.models.Sequential()\n",
    "    for _ in range(num_convs):\n",
    "        blk.add(tf.keras.layers.Conv2D(num_channels,kernel_size=3, padding='same',activation='relu'))\n",
    "    blk.add(tf.keras.layers.MaxPool2D(pool_size=2, strides=2))\n",
    "    return blk"
   ]
  },
  {
   "cell_type": "code",
   "execution_count": 27,
   "metadata": {},
   "outputs": [],
   "source": [
    "def vgg(conv_arch):\n",
    "    net = tf.keras.models.Sequential()\n",
    "    # The convolutional part\n",
    "    for (num_convs, num_channels) in conv_arch:\n",
    "        net.add(vgg_block(num_convs, num_channels))\n",
    "    # The fully-connected part\n",
    "    net.add(tf.keras.models.Sequential([\n",
    "        tf.keras.layers.Flatten(),\n",
    "        tf.keras.layers.Dense(4096, activation='relu'),\n",
    "        tf.keras.layers.Dropout(0.5),\n",
    "        tf.keras.layers.Dense(4096, activation='relu'),\n",
    "        tf.keras.layers.Dropout(0.5),\n",
    "        tf.keras.layers.Dense(10, activation= 'softmax')]))\n",
    "    return net\n",
    "\n",
    "conv_arch = ((1, 16), (2, 32))\n",
    "vgg_net = vgg(conv_arch)"
   ]
  },
  {
   "cell_type": "code",
   "execution_count": 28,
   "metadata": {},
   "outputs": [
    {
     "name": "stdout",
     "output_type": "stream",
     "text": [
      "Sequential output shape:\t (1, 14, 14, 16)\n",
      "Sequential output shape:\t (1, 7, 7, 32)\n",
      "Sequential output shape:\t (1, 10)\n"
     ]
    }
   ],
   "source": [
    "X = tf.random.uniform((1, 28, 28, 1))\n",
    "for blk in vgg_net.layers:\n",
    "    X = blk(X)\n",
    "    print(blk.__class__.__name__,'output shape:\\t', X.shape)"
   ]
  },
  {
   "cell_type": "code",
   "execution_count": 29,
   "metadata": {},
   "outputs": [],
   "source": [
    "vgg_net.compile(optimizer=tf.keras.optimizers.Adam(0.0001), loss='sparse_categorical_crossentropy', metrics=['accuracy'])"
   ]
  },
  {
   "cell_type": "code",
   "execution_count": 30,
   "metadata": {},
   "outputs": [
    {
     "name": "stdout",
     "output_type": "stream",
     "text": [
      "Epoch 1/5\n",
      "782/782 [==============================] - 68s 86ms/step - loss: 0.6051 - accuracy: 0.7784 - val_loss: 0.3973 - val_accuracy: 0.8539\n",
      "Epoch 2/5\n",
      "782/782 [==============================] - 66s 85ms/step - loss: 0.3784 - accuracy: 0.8632 - val_loss: 0.3498 - val_accuracy: 0.8710\n",
      "Epoch 3/5\n",
      "782/782 [==============================] - 66s 85ms/step - loss: 0.3216 - accuracy: 0.8838 - val_loss: 0.3049 - val_accuracy: 0.8885\n",
      "Epoch 4/5\n",
      "782/782 [==============================] - 67s 86ms/step - loss: 0.2896 - accuracy: 0.8940 - val_loss: 0.2860 - val_accuracy: 0.8927\n",
      "Epoch 5/5\n",
      "782/782 [==============================] - 67s 85ms/step - loss: 0.2629 - accuracy: 0.9042 - val_loss: 0.2822 - val_accuracy: 0.8959\n"
     ]
    },
    {
     "data": {
      "text/plain": [
       "<keras.callbacks.History at 0x2279927e6d0>"
      ]
     },
     "execution_count": 30,
     "metadata": {},
     "output_type": "execute_result"
    }
   ],
   "source": [
    "vgg_net.fit(X_train, y_train, batch_size=64, epochs=5, validation_data=(X_valid, y_valid))"
   ]
  },
  {
   "cell_type": "markdown",
   "metadata": {},
   "source": []
  },
  {
   "cell_type": "markdown",
   "metadata": {},
   "source": [
    "## <span style=\"color:#0b486b\">II. Additional Reading: New Version of ResNet</span> <span style=\"color:red\">**</span> ## \n",
    "This is a **good-to-learn part** and helps you to speculate more recently updated architecture of ResNet."
   ]
  },
  {
   "cell_type": "markdown",
   "metadata": {},
   "source": [
    "As additional reading, we are going to implement ResNet which is the state-of-the-art convolutional network for image classification and other tasks which took first place in all three ILSVRC 2015 challenges (classification, detection, and localization). \n",
    "\n",
    "ResNet uses **residual blocks** to train Convolutional Neural Networks to depths previously thought impossible. For example, in 2014, the VGG16 and VGG19 architectures were considered very deep. However, with ResNet, we have successfully trained networks with over 100 layers on the challenging ImageNet dataset and over 1,000 layers on CIFAR-10.\n",
    "\n",
    "What we are going to implement is  the **bottleneck residual block** (proposed by He et al. in their 2016 publication, *Identity Mappings in Deep Residual Networks*) used to train deeper networks which is an extension of the **original residual block** proposed in his publication in 2015.\n"
   ]
  },
  {
   "cell_type": "markdown",
   "metadata": {},
   "source": [
    "### <span style=\"color:#0b486b\">II.1. The differences between original and bottleneck residual blocks</span> "
   ]
  },
  {
   "cell_type": "markdown",
   "metadata": {},
   "source": [
    "The following figure shows differences between the original residual block and the bottleneck residual block.\n",
    "\n",
    "<img src='imgs/BottleneckResidualBlock.png' align='center' width=500/>"
   ]
  },
  {
   "cell_type": "markdown",
   "metadata": {},
   "source": [
    "For the bottleneck one, each block includes:\n",
    "- ReLU, BATCH-NORM, CONV [filters = K/4, kernel_size = 1x1]\n",
    "- ReLU, BATCH-NORM, CONV [filters = K/4, kernel_size = 3x3]\n",
    "- ReLU, BATCH-NORM, CONV [filters = K, kernel_size = 1x1]\n",
    "- Add inputs and ouputs (residual operation to add shortcut (skip connection) to outputs). This addition is optional for each residual block. In our implementation, when declaring the code for the residual block, we use the parameter `skip_connection` to govern this boolean quantity."
   ]
  },
  {
   "cell_type": "markdown",
   "metadata": {},
   "source": [
    "### <span style=\"color:#0b486b\">II.2. Architecture of ResNet </span>"
   ]
  },
  {
   "cell_type": "markdown",
   "metadata": {},
   "source": [
    "ResNet consists of many consecutive ResNet blocks in which each block has several residual blocks. There are many variants of ResNet architecture, which depends on computer vision tasks. The architecture below is an example that solves image classification on Fashion MNIST dataset. The input data are passed through the following layers:\n",
    "- Inputs => BATCH-NORM => CONV.\n",
    "- **ResNet block 1**\n",
    "  - ***Residual block 1***\n",
    "    - ReLU, BATCH-NORM, CONV [filters = $K_1/4$, kernel_size = (1,1), strides = (1,1)]\n",
    "    - ReLU, BATCH-NORM, CONV [filters = $K_1/4$, kernel_size = (3,3), strides = (1,1)]\n",
    "    - ReLU, BATCH-NORM, CONV [filters = $K_1$, kernel_size = (1,1), strides = (1,1)]\n",
    "    - Skip connection \n",
    "  - ***Residual block 2***\n",
    "    - ReLU, BATCH-NORM, CONV [filters = $K_1/4$, kernel_size = (1,1), strides = (1,1)]\n",
    "    - ReLU, BATCH-NORM, CONV [filters = $K_1/4$, kernel_size = (3,3), strides = (1,1)]\n",
    "    - ReLU, BATCH-NORM, CONV [filters = $K_1$, kernel_size = (1,1), strides = (1,1)]\n",
    "    - No skip connection \n",
    "  - .........\n",
    "  - ***Residual block $N_1$***\n",
    "    - ReLU, BATCH-NORM, CONV [filters = $K_1/4$, kernel_size = (1,1), strides = (1,1)]\n",
    "    - ReLU, BATCH-NORM, CONV [filters = $K_1/4$, kernel_size = (3,3), strides = (1,1)]\n",
    "    - ReLU, BATCH-NORM, CONV [filters = $K_1$, kernel_size = (1,1), strides = (1,1)]\n",
    "    - No skip connection \n",
    "- **ResNet block 2**\n",
    "  - ***Residual block 1***\n",
    "    - ReLU, BATCH-NORM, CONV [filters = $K_2/4$, kernel_size = (1,1), strides = (1,1)]\n",
    "    - ReLU, BATCH-NORM, CONV [filters = $K_2/4$, kernel_size = (3,3), strides = (2,2)]  (**downsampling image size by $2$**).\n",
    "    - ReLU, BATCH-NORM, CONV [filters = $K_2$, kernel_size = (1,1), strides = (1,1)]\n",
    "    - Skip connection \n",
    "  - ***Residual block 2***\n",
    "    - ReLU, BATCH-NORM, CONV [filters = $K_2/4$, kernel_size = (1,1), strides = (1,1)]\n",
    "    - ReLU, BATCH-NORM, CONV [filters = $K_2/4$, kernel_size = (3,3), strides = (1,1)]\n",
    "    - ReLU, BATCH-NORM, CONV [filters = $K_2$, kernel_size = (1,1), strides = (1,1)]\n",
    "    - No skip connection \n",
    "  - .........\n",
    "  - ***Residual block $N_2$***\n",
    "    - ReLU, BATCH-NORM, CONV [filters = $K_2/4$, kernel_size = (1,1), strides = (1,1)]\n",
    "    - ReLU, BATCH-NORM, CONV [filters = $K_2/4$, kernel_size = (3,3), strides = (1,1)]\n",
    "    - ReLU, BATCH-NORM, CONV [filters = $K_2$, kernel_size = (1,1), strides = (1,1)]\n",
    "    - No skip connection \n",
    "-  ......................\n",
    "- **ResNet block M**\n",
    "  - ***Residual block 1***\n",
    "    - ReLU, BATCH-NORM, CONV [filters = $K_M/4$, kernel_size = (1,1), strides = (1,1)]\n",
    "    - ReLU, BATCH-NORM, CONV [filters = $K_M/4$, kernel_size = (3,3), strides = (2,2)]  (**downsampling image size by $2$**).\n",
    "    - ReLU, BATCH-NORM, CONV [filters = $K_M$, kernel_size = (1,1), strides = (1,1)]\n",
    "    - Skip connection \n",
    "  - ***Residual block 2***\n",
    "    - ReLU, BATCH-NORM, CONV [filters = $K_M/4$, kernel_size = (1,1), strides = (1,1)]\n",
    "    - ReLU, BATCH-NORM, CONV [filters = $K_M/4$, kernel_size = (3,3), strides = (1,1)]\n",
    "    - ReLU, BATCH-NORM, CONV [filters = $K_M$, kernel_size = (1,1), strides = (1,1)]\n",
    "    - No skip connection \n",
    "  - .........\n",
    "  - ***Residual block $N_M$***\n",
    "    - ReLU, BATCH-NORM, CONV [filters = $K_M/4$, kernel_size = (1,1), strides = (1,1)]\n",
    "    - ReLU, BATCH-NORM, CONV [filters = $K_M/4$, kernel_size = (3,3), strides = (1,1)]\n",
    "    - ReLU, BATCH-NORM, CONV [filters = $K_M$, kernel_size = (1,1), strides = (1,1)]\n",
    "    - No skip connection "
   ]
  },
  {
   "cell_type": "markdown",
   "metadata": {},
   "source": [
    "### <span style=\"color:#0b486b\">II.3. Implementation of ResNet </span>"
   ]
  },
  {
   "cell_type": "code",
   "execution_count": 31,
   "metadata": {},
   "outputs": [],
   "source": [
    "import tensorflow as tf\n",
    "from tensorflow import keras\n",
    "from tensorflow.keras import datasets, models, layers, regularizers\n",
    "import pandas as pd\n",
    "import numpy as np\n",
    "import matplotlib.pyplot as plt\n",
    "%matplotlib inline"
   ]
  },
  {
   "cell_type": "code",
   "execution_count": 32,
   "metadata": {},
   "outputs": [],
   "source": [
    "from functools import partial\n",
    "bn_momentum= 0.9\n",
    "bn_eps= 2E-5\n",
    "reg= 0.001\n",
    "DefaultBatchNorm = partial(keras.layers.BatchNormalization, momentum=bn_momentum, epsilon=bn_eps)\n",
    "DefaultConv2D = partial(keras.layers.Conv2D, kernel_regularizer=regularizers.l2(reg), use_bias=False, padding='same')"
   ]
  },
  {
   "cell_type": "code",
   "execution_count": 33,
   "metadata": {},
   "outputs": [],
   "source": [
    "class ResNet:\n",
    "    def __init__(self, num_classes=10, batch_size=32, num_epochs=20, optimizer='adam', learning_rate=0.001,\n",
    "                 verbose=True, random_state=42):\n",
    "        super(ResNet, self).__init__()\n",
    "        self.num_classes = num_classes\n",
    "        self.batch_size = batch_size\n",
    "        self.num_epochs = num_epochs\n",
    "        self.optimizer = keras.optimizers.get(optimizer)\n",
    "        self.optimizer.learning_rate = learning_rate\n",
    "        self.random_state = random_state\n",
    "        self.verbose = verbose\n",
    "        keras.backend.clear_session()\n",
    "        np.random.seed(self.random_state)\n",
    "        tf.random.set_seed(self.random_state)\n",
    "        self.model = None\n",
    "    \n",
    "    @staticmethod\n",
    "    def ResidualBlock(inputs, K=64, strides= (1,1), skip_connection= False):\n",
    "        main_layers = [DefaultBatchNorm(), layers.Activation(activation='relu'), DefaultConv2D(filters=int(K/4), kernel_size=1, strides=(1,1)),\n",
    "                       DefaultBatchNorm(), layers.Activation(activation='relu'), DefaultConv2D(filters=int(K/4), kernel_size=3, strides=strides),\n",
    "                       DefaultBatchNorm(), layers.Activation(activation='relu'), DefaultConv2D(filters=K, kernel_size=1, strides=(1,1))]\n",
    "        skip_layers = []\n",
    "        if skip_connection:\n",
    "            skip_layers = [DefaultBatchNorm(), layers.Activation(activation='relu'), DefaultConv2D(filters=K, kernel_size=1, strides=strides)]\n",
    "        \n",
    "        h = inputs\n",
    "        for layer in main_layers:\n",
    "            h = layer(h)\n",
    "        \n",
    "        if skip_connection:\n",
    "            short_cut = inputs\n",
    "            for layer in skip_layers:\n",
    "                short_cut = layer(short_cut)\n",
    "            return (h + short_cut)\n",
    "        else:\n",
    "            return h\n",
    "    \n",
    "    def build(self, blocks=[3,4], filters=[16,16,16]):\n",
    "        self.model = models.Model()\n",
    "        inputs = layers.Input(shape=(28, 28, 1))\n",
    "        h = inputs\n",
    "        h = DefaultBatchNorm()(h)\n",
    "        h = DefaultConv2D(filters=filters[0], kernel_size=3)(h)\n",
    "        \n",
    "        for i in range(len(blocks)):\n",
    "            strides = (1,1) if i==0 else (2,2) # We downsample at every beginning residual block except the first ResNet block\n",
    "            h = ResNet.ResidualBlock(h, filters[i], strides, True)  # apply the skip connection on the first residual block\n",
    "            \n",
    "            for j in range(1, blocks[i]-1, 1): # Add more blocks[i]-1 residual models\n",
    "                h  =  ResNet.ResidualBlock(h, filters[i], (1,1), False)  # no skip connection for these residual blocks\n",
    "        \n",
    "        h = DefaultBatchNorm()(h)\n",
    "        h = layers.Activation(activation='relu')(h)\n",
    "        h = layers.AveragePooling2D(pool_size=(8,8))(h)\n",
    "        h = layers.Flatten()(h)\n",
    "        h = layers.Dense(units=self.num_classes, activation=\"softmax\")(h)\n",
    "        self.model = models.Model(inputs=inputs, outputs= h, name=\"ResNet\") # We now have a ResNet model\n",
    "        self.model.compile(optimizer=self.optimizer, loss='sparse_categorical_crossentropy', metrics=['accuracy'])\n",
    "    \n",
    "    def fit(self, X_train, y_train, X_valid=None, y_valid=None, batch_size=None, num_epochs=None, verbose=None):\n",
    "        batch_size = batch_size if batch_size is not None else self.batch_size\n",
    "        num_epochs = num_epochs if num_epochs is not None else self.num_epochs\n",
    "        verbose = verbose if verbose is not None else self.num_epochs\n",
    "        self.history = self.model.fit(X_train, y_train, validation_data=(X_valid, y_valid), batch_size=batch_size, epochs=num_epochs, verbose=1 if verbose else 0)\n",
    "    \n",
    "    def evaluate(self, X_test, y_test):\n",
    "        loss, acc = self.model.evaluate(X_test, y_test)\n",
    "        return acc\n",
    "    \n",
    "    def plot_progress(self):\n",
    "        pd.DataFrame(self.history.history).plot(figsize=(8, 5))\n",
    "        plt.grid(True)\n",
    "        plt.gca().set_ylim(0, np.max(self.history.history['loss']))  # Set the vertical range to [0-max(train loss)]\n",
    "        plt.show()\n",
    "    \n",
    "    def summary(self):\n",
    "        print(self.model.summary())\n",
    "    "
   ]
  },
  {
   "cell_type": "code",
   "execution_count": 34,
   "metadata": {},
   "outputs": [],
   "source": [
    "res_net = ResNet()"
   ]
  },
  {
   "cell_type": "code",
   "execution_count": 35,
   "metadata": {},
   "outputs": [],
   "source": [
    "res_net.build()"
   ]
  },
  {
   "cell_type": "code",
   "execution_count": 36,
   "metadata": {},
   "outputs": [
    {
     "name": "stdout",
     "output_type": "stream",
     "text": [
      "Model: \"ResNet\"\n",
      "__________________________________________________________________________________________________\n",
      "Layer (type)                    Output Shape         Param #     Connected to                     \n",
      "==================================================================================================\n",
      "input_1 (InputLayer)            [(None, 28, 28, 1)]  0                                            \n",
      "__________________________________________________________________________________________________\n",
      "batch_normalization (BatchNorma (None, 28, 28, 1)    4           input_1[0][0]                    \n",
      "__________________________________________________________________________________________________\n",
      "conv2d (Conv2D)                 (None, 28, 28, 16)   144         batch_normalization[0][0]        \n",
      "__________________________________________________________________________________________________\n",
      "batch_normalization_1 (BatchNor (None, 28, 28, 16)   64          conv2d[0][0]                     \n",
      "__________________________________________________________________________________________________\n",
      "activation (Activation)         (None, 28, 28, 16)   0           batch_normalization_1[0][0]      \n",
      "__________________________________________________________________________________________________\n",
      "conv2d_1 (Conv2D)               (None, 28, 28, 4)    64          activation[0][0]                 \n",
      "__________________________________________________________________________________________________\n",
      "batch_normalization_2 (BatchNor (None, 28, 28, 4)    16          conv2d_1[0][0]                   \n",
      "__________________________________________________________________________________________________\n",
      "activation_1 (Activation)       (None, 28, 28, 4)    0           batch_normalization_2[0][0]      \n",
      "__________________________________________________________________________________________________\n",
      "conv2d_2 (Conv2D)               (None, 28, 28, 4)    144         activation_1[0][0]               \n",
      "__________________________________________________________________________________________________\n",
      "batch_normalization_3 (BatchNor (None, 28, 28, 4)    16          conv2d_2[0][0]                   \n",
      "__________________________________________________________________________________________________\n",
      "batch_normalization_4 (BatchNor (None, 28, 28, 16)   64          conv2d[0][0]                     \n",
      "__________________________________________________________________________________________________\n",
      "activation_2 (Activation)       (None, 28, 28, 4)    0           batch_normalization_3[0][0]      \n",
      "__________________________________________________________________________________________________\n",
      "activation_3 (Activation)       (None, 28, 28, 16)   0           batch_normalization_4[0][0]      \n",
      "__________________________________________________________________________________________________\n",
      "conv2d_3 (Conv2D)               (None, 28, 28, 16)   64          activation_2[0][0]               \n",
      "__________________________________________________________________________________________________\n",
      "conv2d_4 (Conv2D)               (None, 28, 28, 16)   256         activation_3[0][0]               \n",
      "__________________________________________________________________________________________________\n",
      "tf.__operators__.add (TFOpLambd (None, 28, 28, 16)   0           conv2d_3[0][0]                   \n",
      "                                                                 conv2d_4[0][0]                   \n",
      "__________________________________________________________________________________________________\n",
      "batch_normalization_5 (BatchNor (None, 28, 28, 16)   64          tf.__operators__.add[0][0]       \n",
      "__________________________________________________________________________________________________\n",
      "activation_4 (Activation)       (None, 28, 28, 16)   0           batch_normalization_5[0][0]      \n",
      "__________________________________________________________________________________________________\n",
      "conv2d_5 (Conv2D)               (None, 28, 28, 4)    64          activation_4[0][0]               \n",
      "__________________________________________________________________________________________________\n",
      "batch_normalization_6 (BatchNor (None, 28, 28, 4)    16          conv2d_5[0][0]                   \n",
      "__________________________________________________________________________________________________\n",
      "activation_5 (Activation)       (None, 28, 28, 4)    0           batch_normalization_6[0][0]      \n",
      "__________________________________________________________________________________________________\n",
      "conv2d_6 (Conv2D)               (None, 28, 28, 4)    144         activation_5[0][0]               \n",
      "__________________________________________________________________________________________________\n",
      "batch_normalization_7 (BatchNor (None, 28, 28, 4)    16          conv2d_6[0][0]                   \n",
      "__________________________________________________________________________________________________\n",
      "activation_6 (Activation)       (None, 28, 28, 4)    0           batch_normalization_7[0][0]      \n",
      "__________________________________________________________________________________________________\n",
      "conv2d_7 (Conv2D)               (None, 28, 28, 16)   64          activation_6[0][0]               \n",
      "__________________________________________________________________________________________________\n",
      "batch_normalization_8 (BatchNor (None, 28, 28, 16)   64          conv2d_7[0][0]                   \n",
      "__________________________________________________________________________________________________\n",
      "activation_7 (Activation)       (None, 28, 28, 16)   0           batch_normalization_8[0][0]      \n",
      "__________________________________________________________________________________________________\n",
      "conv2d_8 (Conv2D)               (None, 28, 28, 4)    64          activation_7[0][0]               \n",
      "__________________________________________________________________________________________________\n",
      "batch_normalization_9 (BatchNor (None, 28, 28, 4)    16          conv2d_8[0][0]                   \n",
      "__________________________________________________________________________________________________\n",
      "activation_8 (Activation)       (None, 28, 28, 4)    0           batch_normalization_9[0][0]      \n",
      "__________________________________________________________________________________________________\n",
      "conv2d_9 (Conv2D)               (None, 14, 14, 4)    144         activation_8[0][0]               \n",
      "__________________________________________________________________________________________________\n",
      "batch_normalization_10 (BatchNo (None, 14, 14, 4)    16          conv2d_9[0][0]                   \n",
      "__________________________________________________________________________________________________\n",
      "batch_normalization_11 (BatchNo (None, 28, 28, 16)   64          conv2d_7[0][0]                   \n",
      "__________________________________________________________________________________________________\n",
      "activation_9 (Activation)       (None, 14, 14, 4)    0           batch_normalization_10[0][0]     \n",
      "__________________________________________________________________________________________________\n",
      "activation_10 (Activation)      (None, 28, 28, 16)   0           batch_normalization_11[0][0]     \n",
      "__________________________________________________________________________________________________\n",
      "conv2d_10 (Conv2D)              (None, 14, 14, 16)   64          activation_9[0][0]               \n",
      "__________________________________________________________________________________________________\n",
      "conv2d_11 (Conv2D)              (None, 14, 14, 16)   256         activation_10[0][0]              \n",
      "__________________________________________________________________________________________________\n",
      "tf.__operators__.add_1 (TFOpLam (None, 14, 14, 16)   0           conv2d_10[0][0]                  \n",
      "                                                                 conv2d_11[0][0]                  \n",
      "__________________________________________________________________________________________________\n",
      "batch_normalization_12 (BatchNo (None, 14, 14, 16)   64          tf.__operators__.add_1[0][0]     \n",
      "__________________________________________________________________________________________________\n",
      "activation_11 (Activation)      (None, 14, 14, 16)   0           batch_normalization_12[0][0]     \n",
      "__________________________________________________________________________________________________\n",
      "conv2d_12 (Conv2D)              (None, 14, 14, 4)    64          activation_11[0][0]              \n",
      "__________________________________________________________________________________________________\n",
      "batch_normalization_13 (BatchNo (None, 14, 14, 4)    16          conv2d_12[0][0]                  \n",
      "__________________________________________________________________________________________________\n",
      "activation_12 (Activation)      (None, 14, 14, 4)    0           batch_normalization_13[0][0]     \n",
      "__________________________________________________________________________________________________\n",
      "conv2d_13 (Conv2D)              (None, 14, 14, 4)    144         activation_12[0][0]              \n",
      "__________________________________________________________________________________________________\n",
      "batch_normalization_14 (BatchNo (None, 14, 14, 4)    16          conv2d_13[0][0]                  \n",
      "__________________________________________________________________________________________________\n",
      "activation_13 (Activation)      (None, 14, 14, 4)    0           batch_normalization_14[0][0]     \n",
      "__________________________________________________________________________________________________\n",
      "conv2d_14 (Conv2D)              (None, 14, 14, 16)   64          activation_13[0][0]              \n",
      "__________________________________________________________________________________________________\n",
      "batch_normalization_15 (BatchNo (None, 14, 14, 16)   64          conv2d_14[0][0]                  \n",
      "__________________________________________________________________________________________________\n",
      "activation_14 (Activation)      (None, 14, 14, 16)   0           batch_normalization_15[0][0]     \n",
      "__________________________________________________________________________________________________\n",
      "conv2d_15 (Conv2D)              (None, 14, 14, 4)    64          activation_14[0][0]              \n",
      "__________________________________________________________________________________________________\n",
      "batch_normalization_16 (BatchNo (None, 14, 14, 4)    16          conv2d_15[0][0]                  \n",
      "__________________________________________________________________________________________________\n",
      "activation_15 (Activation)      (None, 14, 14, 4)    0           batch_normalization_16[0][0]     \n",
      "__________________________________________________________________________________________________\n",
      "conv2d_16 (Conv2D)              (None, 14, 14, 4)    144         activation_15[0][0]              \n",
      "__________________________________________________________________________________________________\n",
      "batch_normalization_17 (BatchNo (None, 14, 14, 4)    16          conv2d_16[0][0]                  \n",
      "__________________________________________________________________________________________________\n",
      "activation_16 (Activation)      (None, 14, 14, 4)    0           batch_normalization_17[0][0]     \n",
      "__________________________________________________________________________________________________\n",
      "conv2d_17 (Conv2D)              (None, 14, 14, 16)   64          activation_16[0][0]              \n",
      "__________________________________________________________________________________________________\n",
      "batch_normalization_18 (BatchNo (None, 14, 14, 16)   64          conv2d_17[0][0]                  \n",
      "__________________________________________________________________________________________________\n",
      "activation_17 (Activation)      (None, 14, 14, 16)   0           batch_normalization_18[0][0]     \n",
      "__________________________________________________________________________________________________\n",
      "average_pooling2d (AveragePooli (None, 1, 1, 16)     0           activation_17[0][0]              \n",
      "__________________________________________________________________________________________________\n",
      "flatten (Flatten)               (None, 16)           0           average_pooling2d[0][0]          \n",
      "__________________________________________________________________________________________________\n",
      "dense (Dense)                   (None, 10)           170         flatten[0][0]                    \n",
      "==================================================================================================\n",
      "Total params: 2,862\n",
      "Trainable params: 2,524\n",
      "Non-trainable params: 338\n",
      "__________________________________________________________________________________________________\n",
      "None\n"
     ]
    }
   ],
   "source": [
    "res_net.summary()"
   ]
  },
  {
   "cell_type": "code",
   "execution_count": 37,
   "metadata": {},
   "outputs": [
    {
     "name": "stdout",
     "output_type": "stream",
     "text": [
      "Epoch 1/5\n",
      "391/391 [==============================] - 198s 503ms/step - loss: 1.7148 - accuracy: 0.4080 - val_loss: 1.1903 - val_accuracy: 0.6648\n",
      "Epoch 2/5\n",
      "391/391 [==============================] - 211s 538ms/step - loss: 1.0181 - accuracy: 0.6989 - val_loss: 0.9228 - val_accuracy: 0.7202\n",
      "Epoch 3/5\n",
      "391/391 [==============================] - 203s 520ms/step - loss: 0.8487 - accuracy: 0.7397 - val_loss: 0.7995 - val_accuracy: 0.7495\n",
      "Epoch 4/5\n",
      "391/391 [==============================] - 201s 515ms/step - loss: 0.7666 - accuracy: 0.7639 - val_loss: 0.7572 - val_accuracy: 0.7605\n",
      "Epoch 5/5\n",
      "391/391 [==============================] - 191s 490ms/step - loss: 0.7113 - accuracy: 0.7830 - val_loss: 0.8195 - val_accuracy: 0.7491\n"
     ]
    }
   ],
   "source": [
    "res_net.fit(X_train, y_train, X_valid, y_valid, batch_size=128, num_epochs=5)"
   ]
  },
  {
   "cell_type": "code",
   "execution_count": 38,
   "metadata": {},
   "outputs": [
    {
     "name": "stdout",
     "output_type": "stream",
     "text": [
      "313/313 [==============================] - 1s 3ms/step - loss: 0.8237 - accuracy: 0.7525\n"
     ]
    },
    {
     "data": {
      "text/plain": [
       "0.7524999976158142"
      ]
     },
     "execution_count": 38,
     "metadata": {},
     "output_type": "execute_result"
    }
   ],
   "source": [
    "res_net.evaluate(X_test, y_test)"
   ]
  },
  {
   "cell_type": "code",
   "execution_count": 39,
   "metadata": {},
   "outputs": [
    {
     "data": {
      "image/png": "[encoded data removed]",
      "text/plain": [
       "<Figure size 576x360 with 1 Axes>"
      ]
     },
     "metadata": {
      "needs_background": "light"
     },
     "output_type": "display_data"
    }
   ],
   "source": [
    "res_net.plot_progress()"
   ]
  },
  {
   "cell_type": "markdown",
   "metadata": {},
   "source": [
    "---\n",
    "### <span style=\"color:#0b486b\"> <div  style=\"text-align:center\">**THE END**</div> </span>"
   ]
  }
 ],
 "metadata": {
  "kernelspec": {
   "display_name": "Python 3.9.12 ('tf2_cpu')",
   "language": "python",
   "name": "python3"
  },
  "language_info": {
   "codemirror_mode": {
    "name": "ipython",
    "version": 3
   },
   "file_extension": ".py",
   "mimetype": "text/x-python",
   "name": "python",
   "nbconvert_exporter": "python",
   "pygments_lexer": "ipython3",
   "version": "3.9.12"
  },
  "vscode": {
   "interpreter": {
    "hash": "92c79073133677da89801d1b4bc42714b1a3d83cbc90a7f9c522b094b613b522"
   }
  }
 },
 "nbformat": 4,
 "nbformat_minor": 4
}
